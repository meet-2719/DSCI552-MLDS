{
 "cells": [
  {
   "cell_type": "markdown",
   "metadata": {},
   "source": [
    "## INF552 Homework 7"
   ]
  },
  {
   "cell_type": "markdown",
   "metadata": {},
   "source": [
    "Student Name: Hsin-Yu, Chang (1160173733)"
   ]
  },
  {
   "cell_type": "markdown",
   "metadata": {},
   "source": [
    "### 1. Generative Models for Text > Mimic the writing style of Bertrand Russell"
   ]
  },
  {
   "cell_type": "markdown",
   "metadata": {},
   "source": [
    "#### (b) Download books by Bertrand Russell"
   ]
  },
  {
   "cell_type": "code",
   "execution_count": 36,
   "metadata": {},
   "outputs": [
    {
     "name": "stderr",
     "output_type": "stream",
     "text": [
      "Using TensorFlow backend.\n"
     ]
    }
   ],
   "source": [
    "import tensorflow as tf\n",
    "from tensorflow import keras\n",
    "from tensorflow.keras.models import Sequential\n",
    "from tensorflow.keras.layers import Dense,Dropout,LSTM\n",
    "from tensorflow.keras.callbacks import ModelCheckpoint\n",
    "from keras.utils import np_utils\n",
    "import numpy as np\n",
    "import os"
   ]
  },
  {
   "cell_type": "code",
   "execution_count": 19,
   "metadata": {},
   "outputs": [
    {
     "name": "stderr",
     "output_type": "stream",
     "text": [
      "Using TensorFlow backend.\n"
     ]
    }
   ],
   "source": [
    "directory = '/Users/changhsinyu/Desktop/INF552Homework6/'\n",
    "text = [f for f in os.listdir('/Users/changhsinyu/Desktop/INF552Homework6/') if '.txt' in f]\n",
    "numtext = len(text)\n",
    "\n",
    "def prepareCorpus(path):\n",
    "    with open(path, 'r') as myfile:\n",
    "        corpus = myfile.read()\n",
    "    corpus = corpus.lower()\n",
    "    asc2corpus = [ord(c) for c in corpus]\n",
    "    return corpus, (np.array(asc2corpus).astype(float))/255"
   ]
  },
  {
   "cell_type": "code",
   "execution_count": 20,
   "metadata": {},
   "outputs": [],
   "source": [
    "directory = '/Users/changhsinyu/Desktop/INF552Homework6/'\n",
    "text = [f for f in os.listdir('/Users/changhsinyu/Desktop/INF552Homework6/') if '.txt' in f]\n",
    "numtext = len(text)"
   ]
  },
  {
   "cell_type": "code",
   "execution_count": 21,
   "metadata": {},
   "outputs": [
    {
     "data": {
      "text/plain": [
       "['InquiryMeaningandTruth.txt',\n",
       " 'pg2529.txt',\n",
       " '25447-0.txt',\n",
       " 'HistoryOfWesternPhilosophy.txt',\n",
       " 'AnalysisofMatter.txt',\n",
       " '37090-0.txt',\n",
       " 'pg5827.txt']"
      ]
     },
     "execution_count": 21,
     "metadata": {},
     "output_type": "execute_result"
    }
   ],
   "source": [
    "text"
   ]
  },
  {
   "cell_type": "markdown",
   "metadata": {},
   "source": [
    "__>__ Using 7 books witten by Bertrand Russell to create Corpus."
   ]
  },
  {
   "cell_type": "markdown",
   "metadata": {},
   "source": [
    "#### (c) LSTM: Train an LSTM to mimic Russell’s style and thoughts"
   ]
  },
  {
   "cell_type": "markdown",
   "metadata": {},
   "source": [
    "#### i. Corpus of Russell’s writings"
   ]
  },
  {
   "cell_type": "code",
   "execution_count": 23,
   "metadata": {},
   "outputs": [],
   "source": [
    "def prepareCorpus(path):\n",
    "    with open(path, 'r') as myfile:\n",
    "        corpus = myfile.read()\n",
    "    corpus = corpus.lower()\n",
    "    asc2corpus = [ord(c) for c in corpus]\n",
    "    return corpus, (np.array(asc2corpus).astype(float))/255\n",
    "\n",
    "corpus0, asc2corpus0 = prepareCorpus(directory+text[0])\n",
    "corpus1, asc2corpus1 = prepareCorpus(directory+text[1])\n",
    "corpus2, asc2corpus2 = prepareCorpus(directory+text[2])\n",
    "corpus3, asc2corpus3 = prepareCorpus(directory+text[3])\n",
    "corpus4, asc2corpus4 = prepareCorpus(directory+text[4])\n",
    "corpus5, asc2corpus5 = prepareCorpus(directory+text[5])\n",
    "corpus6, asc2corpus6 = prepareCorpus(directory+text[6])\n",
    "corpusFull = [corpus0, corpus1, corpus2, corpus3, corpus4, corpus5, corpus6]"
   ]
  },
  {
   "cell_type": "code",
   "execution_count": 32,
   "metadata": {
    "scrolled": true
   },
   "outputs": [
    {
     "data": {
      "text/plain": [
       "'this book has developed gradually over a period of years culminating in a series of academic appointments. in 1938 treated part of the subject in a course of lectures on \"language and fact\" at the university of oxford. these lectures formed the basis for seminar courses at the university of chicago in 1938-9 and the university of california at los angeles in 1939-40. the discussions at the two seminars did much to widen my conception of the problems involved and to diminish the emphasis wldch i originajly placed on the linguistic aspects of the subject. i have to express a collective obligation to those both professors and pupils, who, by detailed friendly criticism j > helped (i hope) in the avoidance of errors and fallacies. more especially at chicago, where the seminar was often attended by professors camap and morris, and where some of the graduate students showed great philosophic ability, the discussions were models of fruitful argumentative cooperation. mr. norman dalkey, who at'"
      ]
     },
     "execution_count": 32,
     "metadata": {},
     "output_type": "execute_result"
    }
   ],
   "source": [
    "corpus0[:1000]"
   ]
  },
  {
   "cell_type": "markdown",
   "metadata": {},
   "source": [
    "#### ii. Character-level Representation"
   ]
  },
  {
   "cell_type": "code",
   "execution_count": 33,
   "metadata": {},
   "outputs": [],
   "source": [
    "chars = []\n",
    "for n in corpusFull:\n",
    "    #print(len(list(set(n))))\n",
    "    chars.extend(list(set(set(n))))\n",
    "\n",
    "chars = sorted(list(set(chars)))\n",
    "charDict = dict((c, i) for i, c in enumerate(chars))\n",
    "intDict = dict((i, c) for i, c in enumerate(chars))"
   ]
  },
  {
   "cell_type": "markdown",
   "metadata": {},
   "source": [
    "#### iii./iv. Prepare input and output for LSTM with window size = 100"
   ]
  },
  {
   "cell_type": "code",
   "execution_count": 34,
   "metadata": {},
   "outputs": [],
   "source": [
    "#iv.\n",
    "def windowCorpus(corpus, windowsize):\n",
    "    inPut = []\n",
    "    outPut = []\n",
    "    for w in range(0, len(corpus)-windowsize+1, 1):\n",
    "        seqIn = corpus[w:w+windowsize-1]\n",
    "        #print(seqIn)\n",
    "        seqOut = corpus[w+windowsize-1]\n",
    "        #print(seqOut)\n",
    "        inPut.append([charDict[c] for c in seqIn])\n",
    "        outPut.append(charDict[seqOut])\n",
    "\n",
    "    return inPut, outPut"
   ]
  },
  {
   "cell_type": "code",
   "execution_count": 35,
   "metadata": {},
   "outputs": [],
   "source": [
    "for n in corpusFull:\n",
    "    windowsize = 100\n",
    "    inPut = []\n",
    "    outPut = []\n",
    "    inPuttemp, outPuttemp = windowCorpus(n, windowsize)\n",
    "    inPut.extend(inPuttemp)\n",
    "    outPut.extend(outPuttemp)"
   ]
  },
  {
   "cell_type": "code",
   "execution_count": 40,
   "metadata": {},
   "outputs": [
    {
     "name": "stdout",
     "output_type": "stream",
     "text": [
      "(245653, 99, 1)\n"
     ]
    }
   ],
   "source": [
    "inPutt = np.reshape(inPut, (len(inPut), windowsize-1, 1))\n",
    "print(inPutt.shape)\n",
    "\n",
    "# normalize\n",
    "inPutt = inPutt / float(len(chars))\n",
    "#inPutt[0]\n",
    "#outPutt[0]"
   ]
  },
  {
   "cell_type": "markdown",
   "metadata": {},
   "source": [
    "#### v. One-hot encoding for output"
   ]
  },
  {
   "cell_type": "code",
   "execution_count": null,
   "metadata": {},
   "outputs": [],
   "source": [
    "# one hot spot\n",
    "outPutt = np_utils.to_categorical(outPut)"
   ]
  },
  {
   "cell_type": "markdown",
   "metadata": {},
   "source": [
    "#### vi./vii./viii./ix./x. LSTM Model Contruction with epochs=60 and batch_size=64"
   ]
  },
  {
   "cell_type": "code",
   "execution_count": 41,
   "metadata": {
    "scrolled": true
   },
   "outputs": [
    {
     "name": "stdout",
     "output_type": "stream",
     "text": [
      "_________________________________________________________________\n",
      "Layer (type)                 Output Shape              Param #   \n",
      "=================================================================\n",
      "lstm (LSTM)                  (None, 256)               264192    \n",
      "_________________________________________________________________\n",
      "dropout (Dropout)            (None, 256)               0         \n",
      "_________________________________________________________________\n",
      "dense (Dense)                (None, 89)                22873     \n",
      "=================================================================\n",
      "Total params: 287,065\n",
      "Trainable params: 287,065\n",
      "Non-trainable params: 0\n",
      "_________________________________________________________________\n",
      "None\n"
     ]
    }
   ],
   "source": [
    "# define the LSTM model\n",
    "LSTMmodel = Sequential()\n",
    "LSTMmodel.add(LSTM(256, input_shape=(inPutt.shape[1], inPutt.shape[2])))\n",
    "LSTMmodel.add(Dropout(0.2))\n",
    "LSTMmodel.add(Dense(outPutt.shape[1], activation='softmax'))\n",
    "print(LSTMmodel.summary())\n",
    "\n",
    "LSTMmodel.compile(loss='categorical_crossentropy', optimizer='adam')\n",
    "\n",
    "filepath=\"/Users/changhsinyu/Desktop/INF552Homework6/LSTMweights/weights-improvement-{epoch:02d}-{loss:.4f}-bigger.hdf5\"\n",
    "checkpoint = ModelCheckpoint(filepath, monitor='loss', verbose=1, save_best_only=True, mode='min')\n",
    "callbacks_list = [checkpoint]"
   ]
  },
  {
   "cell_type": "markdown",
   "metadata": {},
   "source": [
    "##### Doing first 30 epochs"
   ]
  },
  {
   "cell_type": "code",
   "execution_count": 46,
   "metadata": {},
   "outputs": [
    {
     "name": "stdout",
     "output_type": "stream",
     "text": [
      "Epoch 1/30\n",
      "245653/245653 [==============================] - 2167s 9ms/step - loss: 2.7356\n",
      "\n",
      "Epoch 00001: loss improved from 2.89577 to 2.73563, saving model to /Users/changhsinyu/Desktop/INF552Homework6/LSTMweights/weights-improvement-01-2.7356-bigger.hdf5\n",
      "Epoch 2/30\n",
      "245653/245653 [==============================] - 2067s 8ms/step - loss: 2.6546\n",
      "\n",
      "Epoch 00002: loss improved from 2.73563 to 2.65459, saving model to /Users/changhsinyu/Desktop/INF552Homework6/LSTMweights/weights-improvement-02-2.6546-bigger.hdf5\n",
      "Epoch 3/30\n",
      "245653/245653 [==============================] - 2001s 8ms/step - loss: 2.5783\n",
      "\n",
      "Epoch 00003: loss improved from 2.65459 to 2.57834, saving model to /Users/changhsinyu/Desktop/INF552Homework6/LSTMweights/weights-improvement-03-2.5783-bigger.hdf5\n",
      "Epoch 4/30\n",
      "245653/245653 [==============================] - 2002s 8ms/step - loss: 2.5021\n",
      "\n",
      "Epoch 00004: loss improved from 2.57834 to 2.50208, saving model to /Users/changhsinyu/Desktop/INF552Homework6/LSTMweights/weights-improvement-04-2.5021-bigger.hdf5\n",
      "Epoch 5/30\n",
      "245653/245653 [==============================] - 1999s 8ms/step - loss: 2.4301\n",
      "\n",
      "Epoch 00005: loss improved from 2.50208 to 2.43007, saving model to /Users/changhsinyu/Desktop/INF552Homework6/LSTMweights/weights-improvement-05-2.4301-bigger.hdf5\n",
      "Epoch 6/30\n",
      "245653/245653 [==============================] - 1991s 8ms/step - loss: 2.3678\n",
      "\n",
      "Epoch 00006: loss improved from 2.43007 to 2.36775, saving model to /Users/changhsinyu/Desktop/INF552Homework6/LSTMweights/weights-improvement-06-2.3678-bigger.hdf5\n",
      "Epoch 7/30\n",
      "245653/245653 [==============================] - 1993s 8ms/step - loss: 2.3141\n",
      "\n",
      "Epoch 00007: loss improved from 2.36775 to 2.31405, saving model to /Users/changhsinyu/Desktop/INF552Homework6/LSTMweights/weights-improvement-07-2.3141-bigger.hdf5\n",
      "Epoch 8/30\n",
      "245653/245653 [==============================] - 1987s 8ms/step - loss: 2.2642\n",
      "\n",
      "Epoch 00008: loss improved from 2.31405 to 2.26422, saving model to /Users/changhsinyu/Desktop/INF552Homework6/LSTMweights/weights-improvement-08-2.2642-bigger.hdf5\n",
      "Epoch 9/30\n",
      "245653/245653 [==============================] - 2005s 8ms/step - loss: 2.2232\n",
      "\n",
      "Epoch 00009: loss improved from 2.26422 to 2.22319, saving model to /Users/changhsinyu/Desktop/INF552Homework6/LSTMweights/weights-improvement-09-2.2232-bigger.hdf5\n",
      "Epoch 10/30\n",
      "245653/245653 [==============================] - 1990s 8ms/step - loss: 2.1828\n",
      "\n",
      "Epoch 00010: loss improved from 2.22319 to 2.18281, saving model to /Users/changhsinyu/Desktop/INF552Homework6/LSTMweights/weights-improvement-10-2.1828-bigger.hdf5\n",
      "Epoch 11/30\n",
      "245653/245653 [==============================] - 1991s 8ms/step - loss: 2.1504\n",
      "\n",
      "Epoch 00011: loss improved from 2.18281 to 2.15043, saving model to /Users/changhsinyu/Desktop/INF552Homework6/LSTMweights/weights-improvement-11-2.1504-bigger.hdf5\n",
      "Epoch 12/30\n",
      "245653/245653 [==============================] - 2008s 8ms/step - loss: 2.1193\n",
      "\n",
      "Epoch 00012: loss improved from 2.15043 to 2.11927, saving model to /Users/changhsinyu/Desktop/INF552Homework6/LSTMweights/weights-improvement-12-2.1193-bigger.hdf5\n",
      "Epoch 13/30\n",
      "245653/245653 [==============================] - 1988s 8ms/step - loss: 2.0923\n",
      "\n",
      "Epoch 00013: loss improved from 2.11927 to 2.09227, saving model to /Users/changhsinyu/Desktop/INF552Homework6/LSTMweights/weights-improvement-13-2.0923-bigger.hdf5\n",
      "Epoch 14/30\n",
      "245653/245653 [==============================] - 1999s 8ms/step - loss: 2.0666\n",
      "\n",
      "Epoch 00014: loss improved from 2.09227 to 2.06657, saving model to /Users/changhsinyu/Desktop/INF552Homework6/LSTMweights/weights-improvement-14-2.0666-bigger.hdf5\n",
      "Epoch 15/30\n",
      "245653/245653 [==============================] - 2012s 8ms/step - loss: 2.0438\n",
      "\n",
      "Epoch 00015: loss improved from 2.06657 to 2.04376, saving model to /Users/changhsinyu/Desktop/INF552Homework6/LSTMweights/weights-improvement-15-2.0438-bigger.hdf5\n",
      "Epoch 16/30\n",
      "245653/245653 [==============================] - 2004s 8ms/step - loss: 2.0248\n",
      "\n",
      "Epoch 00016: loss improved from 2.04376 to 2.02478, saving model to /Users/changhsinyu/Desktop/INF552Homework6/LSTMweights/weights-improvement-16-2.0248-bigger.hdf5\n",
      "Epoch 17/30\n",
      "245653/245653 [==============================] - 2122s 9ms/step - loss: 2.0027\n",
      "\n",
      "Epoch 00017: loss improved from 2.02478 to 2.00274, saving model to /Users/changhsinyu/Desktop/INF552Homework6/LSTMweights/weights-improvement-17-2.0027-bigger.hdf5\n",
      "Epoch 18/30\n",
      "245653/245653 [==============================] - 2060s 8ms/step - loss: 1.9857\n",
      "\n",
      "Epoch 00018: loss improved from 2.00274 to 1.98575, saving model to /Users/changhsinyu/Desktop/INF552Homework6/LSTMweights/weights-improvement-18-1.9857-bigger.hdf5\n",
      "Epoch 19/30\n",
      "245653/245653 [==============================] - 2139s 9ms/step - loss: 1.9704\n",
      "\n",
      "Epoch 00019: loss improved from 1.98575 to 1.97036, saving model to /Users/changhsinyu/Desktop/INF552Homework6/LSTMweights/weights-improvement-19-1.9704-bigger.hdf5\n",
      "Epoch 20/30\n",
      "245653/245653 [==============================] - 2140s 9ms/step - loss: 1.9546\n",
      "\n",
      "Epoch 00020: loss improved from 1.97036 to 1.95465, saving model to /Users/changhsinyu/Desktop/INF552Homework6/LSTMweights/weights-improvement-20-1.9546-bigger.hdf5\n",
      "Epoch 21/30\n",
      "245653/245653 [==============================] - 2058s 8ms/step - loss: 1.9379\n",
      "\n",
      "Epoch 00021: loss improved from 1.95465 to 1.93795, saving model to /Users/changhsinyu/Desktop/INF552Homework6/LSTMweights/weights-improvement-21-1.9379-bigger.hdf5\n",
      "Epoch 22/30\n",
      "245653/245653 [==============================] - 2490s 10ms/step - loss: 1.9249\n",
      "\n",
      "Epoch 00022: loss improved from 1.93795 to 1.92485, saving model to /Users/changhsinyu/Desktop/INF552Homework6/LSTMweights/weights-improvement-22-1.9249-bigger.hdf5\n",
      "Epoch 23/30\n",
      "245653/245653 [==============================] - 3355s 14ms/step - loss: 1.9140\n",
      "\n",
      "Epoch 00023: loss improved from 1.92485 to 1.91404, saving model to /Users/changhsinyu/Desktop/INF552Homework6/LSTMweights/weights-improvement-23-1.9140-bigger.hdf5\n",
      "Epoch 24/30\n",
      "245653/245653 [==============================] - 2222s 9ms/step - loss: 1.8994\n",
      "\n",
      "Epoch 00024: loss improved from 1.91404 to 1.89943, saving model to /Users/changhsinyu/Desktop/INF552Homework6/LSTMweights/weights-improvement-24-1.8994-bigger.hdf5\n",
      "Epoch 25/30\n",
      "245653/245653 [==============================] - 2245s 9ms/step - loss: 1.8870\n",
      "\n",
      "Epoch 00025: loss improved from 1.89943 to 1.88704, saving model to /Users/changhsinyu/Desktop/INF552Homework6/LSTMweights/weights-improvement-25-1.8870-bigger.hdf5\n",
      "Epoch 26/30\n",
      "245653/245653 [==============================] - 2158s 9ms/step - loss: 1.8758\n",
      "\n",
      "Epoch 00026: loss improved from 1.88704 to 1.87584, saving model to /Users/changhsinyu/Desktop/INF552Homework6/LSTMweights/weights-improvement-26-1.8758-bigger.hdf5\n",
      "Epoch 27/30\n",
      "245653/245653 [==============================] - 2693s 11ms/step - loss: 1.8678\n",
      "\n",
      "Epoch 00027: loss improved from 1.87584 to 1.86779, saving model to /Users/changhsinyu/Desktop/INF552Homework6/LSTMweights/weights-improvement-27-1.8678-bigger.hdf5\n",
      "Epoch 28/30\n",
      "245653/245653 [==============================] - 2402s 10ms/step - loss: 1.8556\n",
      "\n",
      "Epoch 00028: loss improved from 1.86779 to 1.85560, saving model to /Users/changhsinyu/Desktop/INF552Homework6/LSTMweights/weights-improvement-28-1.8556-bigger.hdf5\n",
      "Epoch 29/30\n",
      "245653/245653 [==============================] - 2340s 10ms/step - loss: 1.8468\n",
      "\n",
      "Epoch 00029: loss improved from 1.85560 to 1.84684, saving model to /Users/changhsinyu/Desktop/INF552Homework6/LSTMweights/weights-improvement-29-1.8468-bigger.hdf5\n",
      "Epoch 30/30\n",
      "245653/245653 [==============================] - 2664s 11ms/step - loss: 1.8374\n",
      "\n",
      "Epoch 00030: loss improved from 1.84684 to 1.83737, saving model to /Users/changhsinyu/Desktop/INF552Homework6/LSTMweights/weights-improvement-30-1.8374-bigger.hdf5\n"
     ]
    },
    {
     "data": {
      "text/plain": [
       "<tensorflow.python.keras.callbacks.History at 0x1aa8fbda90>"
      ]
     },
     "execution_count": 46,
     "metadata": {},
     "output_type": "execute_result"
    }
   ],
   "source": [
    "LSTMmodel.fit(inPutt, outPutt, epochs=30, batch_size=64, callbacks=callbacks_list)"
   ]
  },
  {
   "cell_type": "markdown",
   "metadata": {},
   "source": [
    "#### xi. Text generation by LSTM"
   ]
  },
  {
   "cell_type": "code",
   "execution_count": 47,
   "metadata": {},
   "outputs": [
    {
     "name": "stdout",
     "output_type": "stream",
     "text": [
      "There are those who take mental phenomena naively, just as they would physical phenomena. This school of psychologists tends not to emphasize the object. the sane aspomeatio siises of the sense-data which we can oever keoe in the sane poreibnios of the sane pejects of the sense-data which we can oever keoe in the sane poreibnios of the sane sense dnd to to ae pnoeibdd by a cercai to the renst- and that ie te sea the same os cessarn the sane semse- and that ie te see the sane tere an th the taale whll be ioren to the panticular things and then in the sane semetion th the rane pejects of the sane sense dnd tote of the sane semse- and thit pespic an a persicular toil as th the taale whll be soue that is is toue, in thi sans tian the sable is toue of the sane semse- and thit pespin ane toee th the rane pejects of the sane sense dnd tote of the sane semse- and thit pespic an a persicular toil as th the taale whll be soue that is is toue, in thi sans tian the sable is toue of the sane semse- and thit pespin ane toee th the rane pejects of the sane sense dnd tote of the sane semse- and thit pespic an a persicular toil as th the taale whll be \n"
     ]
    }
   ],
   "source": [
    "init = 'There are those who take mental phenomena naively, just as they would physical phenomena. This school of psychologists tends not to emphasize the object.'\n",
    "\n",
    "pattern = [charDict[c] for c in init[-99:].lower()]\n",
    "\n",
    "for i in range(1000):\n",
    "    seq = np.reshape(pattern, (1, len(pattern), 1))\n",
    "    seq = seq / float(len(chars))\n",
    "    charpredict = LSTMmodel.predict(seq, verbose=0)\n",
    "    ind = np.argmax(charpredict)\n",
    "    init+=intDict[ind]\n",
    "    pattern.append(ind)\n",
    "    pattern = pattern[1:len(pattern)]\n",
    "\n",
    "print(init)\n"
   ]
  },
  {
   "cell_type": "markdown",
   "metadata": {},
   "source": [
    "##### Doing more epochs"
   ]
  },
  {
   "cell_type": "code",
   "execution_count": 52,
   "metadata": {},
   "outputs": [],
   "source": [
    "LSTMmodel1 = Sequential()\n",
    "LSTMmodel1.add(LSTM(256, input_shape=(inPutt.shape[1], inPutt.shape[2])))\n",
    "LSTMmodel1.add(Dropout(0.2))\n",
    "LSTMmodel1.add(Dense(outPutt.shape[1], activation='softmax'))\n",
    "\n",
    "filename = '/Users/changhsinyu/Desktop/INF552Homework6/LSTMweights/weights-improvement-30-1.8374-bigger.hdf5'\n",
    "LSTMmodel1.load_weights(filename)"
   ]
  },
  {
   "cell_type": "code",
   "execution_count": 53,
   "metadata": {},
   "outputs": [],
   "source": [
    "LSTMmodel1.compile(loss='categorical_crossentropy', optimizer='adam')\n",
    "\n",
    "filepath=\"/Users/changhsinyu/Desktop/INF552Homework6/LSTMweights/weights-improvement1-{epoch:02d}-{loss:.4f}-bigger.hdf5\"\n",
    "checkpoint = ModelCheckpoint(filepath, monitor='loss', verbose=1, save_best_only=True, mode='min')\n",
    "callbacks_list = [checkpoint]"
   ]
  },
  {
   "cell_type": "code",
   "execution_count": 54,
   "metadata": {},
   "outputs": [
    {
     "name": "stdout",
     "output_type": "stream",
     "text": [
      "Epoch 1/30\n",
      "245653/245653 [==============================] - 2188s 9ms/step - loss: 1.8287\n",
      "\n",
      "Epoch 00001: loss improved from inf to 1.82872, saving model to /Users/changhsinyu/Desktop/INF552Homework6/LSTMweights/weights-improvement1-01-1.8287-bigger.hdf5\n",
      "Epoch 2/30\n",
      "245653/245653 [==============================] - 2140s 9ms/step - loss: 1.8204\n",
      "\n",
      "Epoch 00002: loss improved from 1.82872 to 1.82042, saving model to /Users/changhsinyu/Desktop/INF552Homework6/LSTMweights/weights-improvement1-02-1.8204-bigger.hdf5\n",
      "Epoch 3/30\n",
      "245653/245653 [==============================] - 2075s 8ms/step - loss: 1.8150\n",
      "\n",
      "Epoch 00003: loss improved from 1.82042 to 1.81503, saving model to /Users/changhsinyu/Desktop/INF552Homework6/LSTMweights/weights-improvement1-03-1.8150-bigger.hdf5\n",
      "Epoch 4/30\n",
      "245653/245653 [==============================] - 2194s 9ms/step - loss: 1.8043\n",
      "\n",
      "Epoch 00004: loss improved from 1.81503 to 1.80435, saving model to /Users/changhsinyu/Desktop/INF552Homework6/LSTMweights/weights-improvement1-04-1.8043-bigger.hdf5\n",
      "Epoch 5/30\n",
      "245653/245653 [==============================] - 2496s 10ms/step - loss: 1.7974\n",
      "\n",
      "Epoch 00005: loss improved from 1.80435 to 1.79739, saving model to /Users/changhsinyu/Desktop/INF552Homework6/LSTMweights/weights-improvement1-05-1.7974-bigger.hdf5\n",
      "Epoch 6/30\n",
      "245653/245653 [==============================] - 2320s 9ms/step - loss: 1.7940\n",
      "\n",
      "Epoch 00006: loss improved from 1.79739 to 1.79398, saving model to /Users/changhsinyu/Desktop/INF552Homework6/LSTMweights/weights-improvement1-06-1.7940-bigger.hdf5\n",
      "Epoch 7/30\n",
      "245653/245653 [==============================] - 2092s 9ms/step - loss: 1.7875\n",
      "\n",
      "Epoch 00007: loss improved from 1.79398 to 1.78754, saving model to /Users/changhsinyu/Desktop/INF552Homework6/LSTMweights/weights-improvement1-07-1.7875-bigger.hdf5\n",
      "Epoch 8/30\n",
      "245653/245653 [==============================] - 4834s 20ms/step - loss: 1.7787\n",
      "\n",
      "Epoch 00008: loss improved from 1.78754 to 1.77872, saving model to /Users/changhsinyu/Desktop/INF552Homework6/LSTMweights/weights-improvement1-08-1.7787-bigger.hdf5\n",
      "Epoch 9/30\n",
      "245653/245653 [==============================] - 2046s 8ms/step - loss: 1.7734\n",
      "\n",
      "Epoch 00009: loss improved from 1.77872 to 1.77341, saving model to /Users/changhsinyu/Desktop/INF552Homework6/LSTMweights/weights-improvement1-09-1.7734-bigger.hdf5\n",
      "Epoch 10/30\n",
      "245653/245653 [==============================] - 2084s 8ms/step - loss: 1.7666\n",
      "\n",
      "Epoch 00010: loss improved from 1.77341 to 1.76663, saving model to /Users/changhsinyu/Desktop/INF552Homework6/LSTMweights/weights-improvement1-10-1.7666-bigger.hdf5\n",
      "Epoch 11/30\n",
      "245653/245653 [==============================] - 21699s 88ms/step - loss: 1.7581\n",
      "\n",
      "Epoch 00011: loss improved from 1.76663 to 1.75814, saving model to /Users/changhsinyu/Desktop/INF552Homework6/LSTMweights/weights-improvement1-11-1.7581-bigger.hdf5\n",
      "Epoch 12/30\n",
      "245653/245653 [==============================] - 2014s 8ms/step - loss: 1.7557\n",
      "\n",
      "Epoch 00012: loss improved from 1.75814 to 1.75574, saving model to /Users/changhsinyu/Desktop/INF552Homework6/LSTMweights/weights-improvement1-12-1.7557-bigger.hdf5\n",
      "Epoch 13/30\n",
      "245653/245653 [==============================] - 3326s 14ms/step - loss: 1.7502\n",
      "\n",
      "Epoch 00013: loss improved from 1.75574 to 1.75019, saving model to /Users/changhsinyu/Desktop/INF552Homework6/LSTMweights/weights-improvement1-13-1.7502-bigger.hdf5\n",
      "Epoch 14/30\n",
      "245653/245653 [==============================] - 2012s 8ms/step - loss: 1.7435\n",
      "\n",
      "Epoch 00014: loss improved from 1.75019 to 1.74347, saving model to /Users/changhsinyu/Desktop/INF552Homework6/LSTMweights/weights-improvement1-14-1.7435-bigger.hdf5\n",
      "Epoch 15/30\n",
      "245653/245653 [==============================] - 5108s 21ms/step - loss: 1.7385\n",
      "\n",
      "Epoch 00015: loss improved from 1.74347 to 1.73848, saving model to /Users/changhsinyu/Desktop/INF552Homework6/LSTMweights/weights-improvement1-15-1.7385-bigger.hdf5\n",
      "Epoch 16/30\n",
      "245653/245653 [==============================] - 2290s 9ms/step - loss: 1.7351\n",
      "\n",
      "Epoch 00016: loss improved from 1.73848 to 1.73510, saving model to /Users/changhsinyu/Desktop/INF552Homework6/LSTMweights/weights-improvement1-16-1.7351-bigger.hdf5\n",
      "Epoch 17/30\n",
      "245653/245653 [==============================] - 2288s 9ms/step - loss: 1.7306\n",
      "\n",
      "Epoch 00017: loss improved from 1.73510 to 1.73062, saving model to /Users/changhsinyu/Desktop/INF552Homework6/LSTMweights/weights-improvement1-17-1.7306-bigger.hdf5\n",
      "Epoch 18/30\n",
      "245653/245653 [==============================] - 2130s 9ms/step - loss: 1.7260\n",
      "\n",
      "Epoch 00018: loss improved from 1.73062 to 1.72601, saving model to /Users/changhsinyu/Desktop/INF552Homework6/LSTMweights/weights-improvement1-18-1.7260-bigger.hdf5\n",
      "Epoch 19/30\n",
      "245653/245653 [==============================] - 2158s 9ms/step - loss: 1.7191\n",
      "\n",
      "Epoch 00019: loss improved from 1.72601 to 1.71908, saving model to /Users/changhsinyu/Desktop/INF552Homework6/LSTMweights/weights-improvement1-19-1.7191-bigger.hdf5\n",
      "Epoch 20/30\n",
      "245653/245653 [==============================] - 2069s 8ms/step - loss: 1.7156\n",
      "\n",
      "Epoch 00020: loss improved from 1.71908 to 1.71560, saving model to /Users/changhsinyu/Desktop/INF552Homework6/LSTMweights/weights-improvement1-20-1.7156-bigger.hdf5\n",
      "Epoch 21/30\n",
      "245653/245653 [==============================] - 2078s 8ms/step - loss: 1.7107\n",
      "\n",
      "Epoch 00021: loss improved from 1.71560 to 1.71069, saving model to /Users/changhsinyu/Desktop/INF552Homework6/LSTMweights/weights-improvement1-21-1.7107-bigger.hdf5\n",
      "Epoch 22/30\n",
      "245653/245653 [==============================] - 2040s 8ms/step - loss: 1.7083\n",
      "\n",
      "Epoch 00022: loss improved from 1.71069 to 1.70826, saving model to /Users/changhsinyu/Desktop/INF552Homework6/LSTMweights/weights-improvement1-22-1.7083-bigger.hdf5\n",
      "Epoch 23/30\n",
      "245653/245653 [==============================] - 2117s 9ms/step - loss: 1.7032\n",
      "\n",
      "Epoch 00023: loss improved from 1.70826 to 1.70323, saving model to /Users/changhsinyu/Desktop/INF552Homework6/LSTMweights/weights-improvement1-23-1.7032-bigger.hdf5\n",
      "Epoch 24/30\n",
      "245653/245653 [==============================] - 2134s 9ms/step - loss: 1.6993\n",
      "\n",
      "Epoch 00024: loss improved from 1.70323 to 1.69933, saving model to /Users/changhsinyu/Desktop/INF552Homework6/LSTMweights/weights-improvement1-24-1.6993-bigger.hdf5\n",
      "Epoch 25/30\n",
      "245653/245653 [==============================] - 2181s 9ms/step - loss: 1.6948\n",
      "\n",
      "Epoch 00025: loss improved from 1.69933 to 1.69480, saving model to /Users/changhsinyu/Desktop/INF552Homework6/LSTMweights/weights-improvement1-25-1.6948-bigger.hdf5\n",
      "Epoch 26/30\n",
      "245653/245653 [==============================] - 2338s 10ms/step - loss: 1.6907\n",
      "\n",
      "Epoch 00026: loss improved from 1.69480 to 1.69071, saving model to /Users/changhsinyu/Desktop/INF552Homework6/LSTMweights/weights-improvement1-26-1.6907-bigger.hdf5\n",
      "Epoch 27/30\n",
      "245653/245653 [==============================] - 2387s 10ms/step - loss: 1.6859\n",
      "\n",
      "Epoch 00027: loss improved from 1.69071 to 1.68595, saving model to /Users/changhsinyu/Desktop/INF552Homework6/LSTMweights/weights-improvement1-27-1.6859-bigger.hdf5\n",
      "Epoch 28/30\n",
      "245653/245653 [==============================] - 3064s 12ms/step - loss: 1.6861\n",
      "\n",
      "Epoch 00028: loss did not improve from 1.68595\n",
      "Epoch 29/30\n",
      "245653/245653 [==============================] - 2640s 11ms/step - loss: 1.6780\n",
      "\n",
      "Epoch 00029: loss improved from 1.68595 to 1.67801, saving model to /Users/changhsinyu/Desktop/INF552Homework6/LSTMweights/weights-improvement1-29-1.6780-bigger.hdf5\n",
      "Epoch 30/30\n",
      "245653/245653 [==============================] - 2963s 12ms/step - loss: 1.6760\n",
      "\n",
      "Epoch 00030: loss improved from 1.67801 to 1.67596, saving model to /Users/changhsinyu/Desktop/INF552Homework6/LSTMweights/weights-improvement1-30-1.6760-bigger.hdf5\n"
     ]
    },
    {
     "data": {
      "text/plain": [
       "<tensorflow.python.keras.callbacks.History at 0x1839a2c88>"
      ]
     },
     "execution_count": 54,
     "metadata": {},
     "output_type": "execute_result"
    }
   ],
   "source": [
    "LSTMmodel1.fit(inPutt, outPutt, epochs=30, batch_size=64, callbacks=callbacks_list)"
   ]
  },
  {
   "cell_type": "markdown",
   "metadata": {},
   "source": [
    "#### xi. Text generation by LSTM"
   ]
  },
  {
   "cell_type": "code",
   "execution_count": 55,
   "metadata": {},
   "outputs": [
    {
     "name": "stdout",
     "output_type": "stream",
     "text": [
      "There are those who take mental phenomena naively, just as they would physical phenomena. This school of psychologists tends not to emphasize the object. wh can see that the sense-data are teene and thet aanue the sense-data which we caliot aelieve that the sense-data which we caliot aelieve that the sense-data which we caliot aelieve that the sense-data which we caliot aelieve that the sense-data which we caliot aelieve that the sense-data which we caliot aelieve that the sense-data which we caliot aelieve that the sense-data which we caliot aelieve that the sense-data which we caliot aelieve that the sense-data which we caliot aelieve that the sense-data which we caliot aelieve that the sense-data which we caliot aelieve that the sense-data which we caliot aelieve that the sense-data which we caliot aelieve that the sense-data which we caliot aelieve that the sense-data which we caliot aelieve that the sense-data which we caliot aelieve that the sense-data which we caliot aelieve that the sense-data which we caliot aelieve that the sense-data which we caliot aelieve that the sense-data which we caliot aelieve that the sense-data whic\n"
     ]
    }
   ],
   "source": [
    "init = 'There are those who take mental phenomena naively, just as they would physical phenomena. This school of psychologists tends not to emphasize the object.'\n",
    "\n",
    "pattern = [charDict[c] for c in init[-99:].lower()]\n",
    "\n",
    "for i in range(1000):\n",
    "\tseq = np.reshape(pattern, (1, len(pattern), 1))\n",
    "\tseq = seq / float(len(chars))\n",
    "\tcharpredict = LSTMmodel1.predict(seq, verbose=0)\n",
    "\tind = np.argmax(charpredict)\n",
    "\tinit+=intDict[ind]\n",
    "\tpattern.append(ind)\n",
    "\tpattern = pattern[1:len(pattern)]\n",
    "\n",
    "print(init)"
   ]
  },
  {
   "cell_type": "markdown",
   "metadata": {},
   "source": [
    "### 2. (Deep) CNNs for Image Colorization"
   ]
  },
  {
   "cell_type": "markdown",
   "metadata": {},
   "source": [
    "#### (a) Downolad the CIFAR-10 dataset"
   ]
  },
  {
   "cell_type": "code",
   "execution_count": 1,
   "metadata": {},
   "outputs": [],
   "source": [
    "import pandas\n",
    "import numpy as np\n",
    "import os\n",
    "\n",
    "\n",
    "def unpickle(file):\n",
    "    import pickle\n",
    "    with open(file, 'rb') as fo:\n",
    "        dict = pickle.load(fo, encoding='bytes')\n",
    "    return dict"
   ]
  },
  {
   "cell_type": "markdown",
   "metadata": {},
   "source": [
    "#### (b) Extracting 'Bird' class"
   ]
  },
  {
   "cell_type": "code",
   "execution_count": 2,
   "metadata": {},
   "outputs": [
    {
     "data": {
      "text/plain": [
       "(6000, 3072)"
      ]
     },
     "execution_count": 2,
     "metadata": {},
     "output_type": "execute_result"
    }
   ],
   "source": [
    "file = '/Users/changhsinyu/Desktop/INF552Homework6/cifar-10-batches-py/'\n",
    "trainbatch = ['data_batch_'+str(i) for i in range(1, 6)]\n",
    "testbatch = 'test_batch'\n",
    "\n",
    "#train\n",
    "ttrainlabel = []\n",
    "ttraindata = []\n",
    "\n",
    "for fp in trainbatch:\n",
    "    batch = unpickle(file+fp)\n",
    "    ttrainlabel.extend(batch[b'labels'])\n",
    "    ttraindata.extend(batch[b'data'])\n",
    "\n",
    "ttraindata = np.array(ttraindata)\n",
    "birdindextr, = np.where(np.array(ttrainlabel)==2)\n",
    "birdtrain = ttraindata[birdindextr]\n",
    "birdtrain.shape\n",
    "\n",
    "#test\n",
    "tbatch = unpickle(file+testbatch)\n",
    "testlabel = tbatch[b'labels']\n",
    "testdata = batch[b'data']\n",
    "\n",
    "birdindexte, = np.where(np.array(testlabel)==2)\n",
    "birdtest = testdata[birdindexte]\n",
    "birdtest.shape\n",
    "\n",
    "bird = np.concatenate((birdtrain, birdtest))\n",
    "bird.shape"
   ]
  },
  {
   "cell_type": "markdown",
   "metadata": {},
   "source": [
    "#### (c) Choose 80% of the pixels randomly"
   ]
  },
  {
   "cell_type": "code",
   "execution_count": 3,
   "metadata": {},
   "outputs": [],
   "source": [
    "pct = 0.8\n",
    "randomlen = int(32*32*6000*pct)\n",
    "randomindex = np.random.choice(6000*32*32, randomlen)\n",
    "randomM = [(ind//1024, [ind%1024, ind%1024+1024, ind%1024+2048]) for ind in randomindex]\n",
    "randompixel = np.array([bird[i[0]][i[1]] for i in randomM])"
   ]
  },
  {
   "cell_type": "markdown",
   "metadata": {},
   "source": [
    "#### (d) K-means on randomly chosen 80% of the pixels"
   ]
  },
  {
   "cell_type": "code",
   "execution_count": 39,
   "metadata": {},
   "outputs": [
    {
     "data": {
      "text/plain": [
       "array([[108, 107,  83],\n",
       "       [156, 155, 137],\n",
       "       [ 48,  48,  38],\n",
       "       [208, 213, 212]], dtype=uint8)"
      ]
     },
     "execution_count": 39,
     "metadata": {},
     "output_type": "execute_result"
    }
   ],
   "source": [
    "cluscenter"
   ]
  },
  {
   "cell_type": "code",
   "execution_count": 4,
   "metadata": {},
   "outputs": [],
   "source": [
    "from sklearn.cluster import KMeans\n",
    "kmeansclusterer = KMeans(n_clusters=4, random_state=0).fit(randompixel) \n",
    "cluscenter = kmeansclusterer.cluster_centers_.astype(np.uint8())"
   ]
  },
  {
   "cell_type": "code",
   "execution_count": 7,
   "metadata": {},
   "outputs": [],
   "source": [
    "def color2four(clusterer, originalimage): #originalimage = (1,3072)\n",
    "    cluscenter = clusterer.cluster_centers_.astype(np.uint8())\n",
    "    temp = originalimage.reshape(3,1024).T \n",
    "    colorclus = kmeansclusterer.predict(temp)\n",
    "\n",
    "    if len(set(list(colorclus)))!=4:\n",
    "        missingC = [c for c in range(4) if c not in list(set(list(colorclus)))]\n",
    "        tp = np.append(colorclus, [missingC])\n",
    "        colorclusdm = np.array(pandas.get_dummies(tp)) \n",
    "        colorclusdm = colorclusdm[:-len(missingC)]\n",
    "    else:\n",
    "        colorclusdm = np.array(pandas.get_dummies(colorclus)) \n",
    "    \n",
    "    return [(cluscenter.T@(colorclusdm.T)).flatten().astype(np.uint8()), colorclusdm.flatten()]"
   ]
  },
  {
   "cell_type": "markdown",
   "metadata": {},
   "source": [
    "#### (e) Grayscale Images"
   ]
  },
  {
   "cell_type": "code",
   "execution_count": 5,
   "metadata": {},
   "outputs": [],
   "source": [
    "# The luminosity method\n",
    "def rgb2gray(originalimage):\n",
    "    conversion = np.array([0.2125, 0.7154, 0.0721])\n",
    "    #return np.min((originalimage.reshape(3,32,32).T)@conversion, 255).astype(int)\n",
    "    return ((originalimage.reshape(3,32,32).T)@conversion).flatten().astype(np.uint8())"
   ]
  },
  {
   "cell_type": "code",
   "execution_count": 8,
   "metadata": {},
   "outputs": [
    {
     "data": {
      "image/png": "[encoded data removed]",
      "text/plain": [
       "<Figure size 720x1080 with 30 Axes>"
      ]
     },
     "metadata": {
      "needs_background": "light"
     },
     "output_type": "display_data"
    }
   ],
   "source": [
    "from matplotlib import pyplot\n",
    "pyplot.figure(figsize=(10,15))\n",
    "\n",
    "for i, littlebird in enumerate(bird[:10], start=1) :\n",
    "    #original\n",
    "    pyplot.subplot(3,10,i)\n",
    "    pyplot.imshow(littlebird.reshape(3,32,32).T)\n",
    "    pyplot.axis('off')\n",
    "    \n",
    "    birdptofour = color2four(kmeansclusterer, littlebird)\n",
    "    pyplot.subplot(3,10,10+i)\n",
    "    pyplot.imshow(birdptofour[0].reshape(3,32,32).T)\n",
    "    pyplot.axis('off')\n",
    "    \n",
    "    pyplot.subplot(3,10,20+i)\n",
    "    pyplot.imshow(rgb2gray(littlebird).reshape(32,32), cmap=\"gray\")\n",
    "    pyplot.axis('off')\n",
    "    \n",
    "#pyplot.tight_layout(pad=0.4, w_pad=0.5, h_pad=1.0)\n",
    "pyplot.subplots_adjust(wspace=0, hspace=-0.9)\n",
    "pyplot.show()    "
   ]
  },
  {
   "cell_type": "markdown",
   "metadata": {},
   "source": [
    "Showing the first 10 birds in our dataset. First row shows original images with RGB color, second row draws images by using kmeans center colorization, and the last row is the grayscale of images."
   ]
  },
  {
   "cell_type": "markdown",
   "metadata": {},
   "source": [
    "#### f. Deep Convolutional Neural Network"
   ]
  },
  {
   "cell_type": "code",
   "execution_count": 140,
   "metadata": {},
   "outputs": [],
   "source": [
    "fourcolorbird = []\n",
    "fourcolordums = []\n",
    "\n",
    "for littlebird in bird:\n",
    "    fourcolor = color2four(kmeansclusterer, littlebird)\n",
    "    fourcolorbird.append(fourcolor[0]) \n",
    "    fourcolordums.append(fourcolor[1]) # .reshape(1024,4)\n",
    "\n",
    "fourcolorbird = np.array(fourcolorbird)\n",
    "fourcolordums = np.array(fourcolordums)\n",
    "\n",
    "train4colorbirddums = fourcolordums[:5000][:].reshape(5000,32,32,4)\n",
    "test4colorbirddums = fourcolordums[5000:][:].reshape(1000,32,32,4)"
   ]
  },
  {
   "cell_type": "code",
   "execution_count": 10,
   "metadata": {},
   "outputs": [
    {
     "data": {
      "text/plain": [
       "(5000, 4096)"
      ]
     },
     "execution_count": 10,
     "metadata": {},
     "output_type": "execute_result"
    }
   ],
   "source": [
    "train4colorbirddums.shape"
   ]
  },
  {
   "cell_type": "code",
   "execution_count": 11,
   "metadata": {},
   "outputs": [],
   "source": [
    "graybird = []\n",
    "\n",
    "for littlebird in bird:\n",
    "    graybird.append(rgb2gray(littlebird))\n",
    "\n",
    "graybird = np.array(graybird)\n",
    "\n",
    "traingraybird = graybird[:5000][:].reshape(5000,32,32,1)\n",
    "testgraybird = graybird[5000:][:].reshape(1000,32,32,1)"
   ]
  },
  {
   "cell_type": "code",
   "execution_count": 12,
   "metadata": {},
   "outputs": [
    {
     "data": {
      "text/plain": [
       "(5000, 32, 32, 1)"
      ]
     },
     "execution_count": 12,
     "metadata": {},
     "output_type": "execute_result"
    }
   ],
   "source": [
    "traingraybird.shape"
   ]
  },
  {
   "cell_type": "code",
   "execution_count": 13,
   "metadata": {},
   "outputs": [],
   "source": [
    "#preprocessing data\n",
    "traingraybirdScale = traingraybird.astype('float32')\n",
    "traingraybirdScale /= 255\n",
    "testgraybirdScale = testgraybird.astype('float32')\n",
    "testgraybirdScale /= 255"
   ]
  },
  {
   "cell_type": "code",
   "execution_count": 81,
   "metadata": {},
   "outputs": [],
   "source": [
    "import tensorflow as tf\n",
    "import tensorflow.keras.backend as k\n",
    "from tensorflow.keras.layers import Activation\n",
    "from tensorflow import keras\n",
    "from tensorflow.keras.models import Sequential\n",
    "from tensorflow.keras.layers import Dense,Dropout,Flatten,Conv2D,MaxPooling2D,UpSampling2D,Conv2DTranspose,Reshape,Permute,Conv1D \n",
    "from tensorflow.keras.optimizers import SGD\n",
    "from tensorflow.keras.callbacks import ModelCheckpoint"
   ]
  },
  {
   "cell_type": "code",
   "execution_count": 180,
   "metadata": {},
   "outputs": [],
   "source": [
    "train4colorbirddums1 = fourcolordums[:5000][:]\n",
    "test4colorbirddums1 = fourcolordums[5000:][:]"
   ]
  },
  {
   "cell_type": "code",
   "execution_count": 181,
   "metadata": {},
   "outputs": [],
   "source": [
    "def NNetwork():\n",
    "    NNmodel = Sequential()\n",
    "    \n",
    "    #Convolutional\n",
    "    NNmodel.add(Conv2D(filters=64, kernel_size=(5,5), padding='same', input_shape=(32,32,1), activation='relu'))\n",
    "    NNmodel.add(Conv2D(filters=64, kernel_size=(5,5), padding='same', activation='relu'))\n",
    "    NNmodel.add(MaxPooling2D(pool_size=(2, 2)))\n",
    "    NNmodel.add(Dropout(0.25))\n",
    "    NNmodel.add(Conv2D(filters=64, kernel_size=(5,5), padding='same', activation='relu'))\n",
    "    NNmodel.add(MaxPooling2D(pool_size=(2, 2)))    \n",
    "    NNmodel.add(Dropout(0.25))\n",
    "    #MLP\n",
    "    NNmodel.add(Flatten())\n",
    "    NNmodel.add(Dense(8192, activation='relu'))\n",
    "    NNmodel.add(Dense(4096, activation='relu'))\n",
    "    NNmodel.add(Activation('softmax'))\n",
    "    return NNmodel"
   ]
  },
  {
   "cell_type": "code",
   "execution_count": 184,
   "metadata": {},
   "outputs": [],
   "source": [
    "BirdModel = NNetwork()"
   ]
  },
  {
   "cell_type": "code",
   "execution_count": 185,
   "metadata": {},
   "outputs": [
    {
     "name": "stdout",
     "output_type": "stream",
     "text": [
      "_________________________________________________________________\n",
      "Layer (type)                 Output Shape              Param #   \n",
      "=================================================================\n",
      "conv2d_116 (Conv2D)          (None, 32, 32, 64)        1664      \n",
      "_________________________________________________________________\n",
      "conv2d_117 (Conv2D)          (None, 32, 32, 64)        102464    \n",
      "_________________________________________________________________\n",
      "max_pooling2d_58 (MaxPooling (None, 16, 16, 64)        0         \n",
      "_________________________________________________________________\n",
      "dropout_14 (Dropout)         (None, 16, 16, 64)        0         \n",
      "_________________________________________________________________\n",
      "conv2d_118 (Conv2D)          (None, 16, 16, 64)        102464    \n",
      "_________________________________________________________________\n",
      "max_pooling2d_59 (MaxPooling (None, 8, 8, 64)          0         \n",
      "_________________________________________________________________\n",
      "dropout_15 (Dropout)         (None, 8, 8, 64)          0         \n",
      "_________________________________________________________________\n",
      "flatten_24 (Flatten)         (None, 4096)              0         \n",
      "_________________________________________________________________\n",
      "dense_56 (Dense)             (None, 8192)              33562624  \n",
      "_________________________________________________________________\n",
      "dense_57 (Dense)             (None, 4096)              33558528  \n",
      "_________________________________________________________________\n",
      "activation_23 (Activation)   (None, 4096)              0         \n",
      "=================================================================\n",
      "Total params: 67,327,744\n",
      "Trainable params: 67,327,744\n",
      "Non-trainable params: 0\n",
      "_________________________________________________________________\n",
      "None\n"
     ]
    }
   ],
   "source": [
    "print(BirdModel.summary())"
   ]
  },
  {
   "cell_type": "code",
   "execution_count": 186,
   "metadata": {},
   "outputs": [],
   "source": [
    "filepath=\"/Users/changhsinyu/Desktop/INF552Homework6/LSTMweights/weights-improvement-bird-{epoch:02d}-{loss:.4f}-bigger.hdf5\"\n",
    "checkpoint = ModelCheckpoint(filepath, monitor='loss', verbose=1, save_best_only=True, mode='min')\n",
    "callbacks_list = [checkpoint]"
   ]
  },
  {
   "cell_type": "code",
   "execution_count": 187,
   "metadata": {},
   "outputs": [
    {
     "name": "stdout",
     "output_type": "stream",
     "text": [
      "Train on 4000 samples, validate on 1000 samples\n",
      "Epoch 1/5\n",
      "4000/4000 [==============================] - 131s 33ms/step - loss: 4.0296 - acc: 0.7499 - val_loss: 4.0305 - val_acc: 0.7499\n",
      "\n",
      "Epoch 00001: loss improved from inf to 4.02959, saving model to /Users/changhsinyu/Desktop/INF552Homework6/LSTMweights/weights-improvement-bird-01-4.0296-bigger.hdf5\n",
      "Epoch 2/5\n",
      "4000/4000 [==============================] - 116s 29ms/step - loss: 4.0309 - acc: 0.7499 - val_loss: 4.0305 - val_acc: 0.7499\n",
      "\n",
      "Epoch 00002: loss did not improve from 4.02959\n",
      "Epoch 3/5\n",
      "4000/4000 [==============================] - 114s 29ms/step - loss: 4.0309 - acc: 0.7499 - val_loss: 4.0305 - val_acc: 0.7499\n",
      "\n",
      "Epoch 00003: loss did not improve from 4.02959\n",
      "Epoch 4/5\n",
      "4000/4000 [==============================] - 115s 29ms/step - loss: 4.0309 - acc: 0.7499 - val_loss: 4.0305 - val_acc: 0.7499\n",
      "\n",
      "Epoch 00004: loss did not improve from 4.02959\n",
      "Epoch 5/5\n",
      "4000/4000 [==============================] - 123s 31ms/step - loss: 4.0309 - acc: 0.7499 - val_loss: 4.0305 - val_acc: 0.7499\n",
      "\n",
      "Epoch 00005: loss did not improve from 4.02959\n"
     ]
    }
   ],
   "source": [
    "BirdModel.compile(loss='binary_crossentropy', optimizer='rmsprop',metrics=['accuracy'])\n",
    "\n",
    "BirdTrain = BirdModel.fit(x = traingraybird, \n",
    "                            y = train4colorbirddums1, validation_split=0.2, \n",
    "                            epochs = 5, batch_size=300, verbose=1, callbacks=callbacks_list)"
   ]
  },
  {
   "cell_type": "code",
   "execution_count": 142,
   "metadata": {},
   "outputs": [],
   "source": [
    "def NNetwork():\n",
    "    NNmodel = Sequential()\n",
    "    \n",
    "    #Convolutional\n",
    "    NNmodel.add(Conv2D(filters=32, kernel_size=(5,5), padding='same', input_shape=(32,32,1), activation='relu'))\n",
    "    NNmodel.add(Dropout(0.25))\n",
    "    NNmodel.add(Conv2D(filters=64, kernel_size=(5,5), padding='same', activation='relu'))\n",
    "    NNmodel.add(MaxPooling2D(pool_size=(2, 2)))    \n",
    "    NNmodel.add(Dropout(0.25))\n",
    "    \n",
    "    # #MLP\n",
    "    NNmodel.add(Flatten())\n",
    "    NNmodel.add(Dense(10000, activation='relu'))\n",
    "    NNmodel.add(Dense(6000, activation='relu'))\n",
    "    NNmodel.add(Dense(4096, activation='relu'))\n",
    "    NNmodel.add(Reshape((32,32,4)))\n",
    "    NNmodel.add(Activation('softmax'))\n",
    "\n",
    "    return NNmodel"
   ]
  },
  {
   "cell_type": "code",
   "execution_count": 175,
   "metadata": {},
   "outputs": [],
   "source": [
    "BirdModel = NNetwork()"
   ]
  },
  {
   "cell_type": "code",
   "execution_count": 176,
   "metadata": {},
   "outputs": [
    {
     "name": "stdout",
     "output_type": "stream",
     "text": [
      "_________________________________________________________________\n",
      "Layer (type)                 Output Shape              Param #   \n",
      "=================================================================\n",
      "conv2d_114 (Conv2D)          (None, 32, 32, 32)        832       \n",
      "_________________________________________________________________\n",
      "dropout_12 (Dropout)         (None, 32, 32, 32)        0         \n",
      "_________________________________________________________________\n",
      "conv2d_115 (Conv2D)          (None, 32, 32, 64)        51264     \n",
      "_________________________________________________________________\n",
      "max_pooling2d_57 (MaxPooling (None, 16, 16, 64)        0         \n",
      "_________________________________________________________________\n",
      "dropout_13 (Dropout)         (None, 16, 16, 64)        0         \n",
      "_________________________________________________________________\n",
      "flatten_23 (Flatten)         (None, 16384)             0         \n",
      "_________________________________________________________________\n",
      "dense_53 (Dense)             (None, 10000)             163850000 \n",
      "_________________________________________________________________\n",
      "dense_54 (Dense)             (None, 6000)              60006000  \n",
      "_________________________________________________________________\n",
      "dense_55 (Dense)             (None, 4096)              24580096  \n",
      "_________________________________________________________________\n",
      "reshape_15 (Reshape)         (None, 32, 32, 4)         0         \n",
      "_________________________________________________________________\n",
      "activation_22 (Activation)   (None, 32, 32, 4)         0         \n",
      "=================================================================\n",
      "Total params: 248,488,192\n",
      "Trainable params: 248,488,192\n",
      "Non-trainable params: 0\n",
      "_________________________________________________________________\n",
      "None\n"
     ]
    }
   ],
   "source": [
    "print(BirdModel.summary())"
   ]
  },
  {
   "cell_type": "code",
   "execution_count": 178,
   "metadata": {},
   "outputs": [],
   "source": [
    "filepath=\"/Users/changhsinyu/Desktop/INF552Homework6/LSTMweights/weights-improvement-bird-{epoch:02d}-{loss:.4f}-bigger.hdf5\"\n",
    "checkpoint = ModelCheckpoint(filepath, monitor='loss', verbose=1, save_best_only=True, mode='min')\n",
    "callbacks_list = [checkpoint]"
   ]
  },
  {
   "cell_type": "code",
   "execution_count": 179,
   "metadata": {},
   "outputs": [
    {
     "name": "stdout",
     "output_type": "stream",
     "text": [
      "Train on 4000 samples, validate on 1000 samples\n",
      "Epoch 1/5\n",
      "4000/4000 [==============================] - 242s 60ms/step - loss: 1.3778 - acc: 0.3301 - val_loss: 1.3762 - val_acc: 0.3372\n",
      "\n",
      "Epoch 00001: loss improved from inf to 1.37780, saving model to /Users/changhsinyu/Desktop/INF552Homework6/LSTMweights/weights-improvement-bird-01-1.3778-bigger.hdf5\n",
      "Epoch 2/5\n",
      "4000/4000 [==============================] - 199s 50ms/step - loss: 1.3749 - acc: 0.3334 - val_loss: 1.3741 - val_acc: 0.3394\n",
      "\n",
      "Epoch 00002: loss improved from 1.37780 to 1.37489, saving model to /Users/changhsinyu/Desktop/INF552Homework6/LSTMweights/weights-improvement-bird-02-1.3749-bigger.hdf5\n",
      "Epoch 3/5\n",
      "4000/4000 [==============================] - 192s 48ms/step - loss: 1.3744 - acc: 0.3336 - val_loss: 1.3734 - val_acc: 0.3387\n",
      "\n",
      "Epoch 00003: loss improved from 1.37489 to 1.37437, saving model to /Users/changhsinyu/Desktop/INF552Homework6/LSTMweights/weights-improvement-bird-03-1.3744-bigger.hdf5\n",
      "Epoch 4/5\n",
      "4000/4000 [==============================] - 190s 47ms/step - loss: 1.3742 - acc: 0.3335 - val_loss: 1.3734 - val_acc: 0.3375\n",
      "\n",
      "Epoch 00004: loss improved from 1.37437 to 1.37416, saving model to /Users/changhsinyu/Desktop/INF552Homework6/LSTMweights/weights-improvement-bird-04-1.3742-bigger.hdf5\n",
      "Epoch 5/5\n",
      "4000/4000 [==============================] - 189s 47ms/step - loss: 1.3737 - acc: 0.3331 - val_loss: 1.3733 - val_acc: 0.3383\n",
      "\n",
      "Epoch 00005: loss improved from 1.37416 to 1.37366, saving model to /Users/changhsinyu/Desktop/INF552Homework6/LSTMweights/weights-improvement-bird-05-1.3737-bigger.hdf5\n"
     ]
    },
    {
     "ename": "OSError",
     "evalue": "Can't prepare for writing data (file write failed: time = Wed Nov 28 20:06:02 2018\n, filename = '/Users/changhsinyu/Desktop/INF552Homework6/LSTMweights/weights-improvement-bird-05-1.3737-bigger.hdf5', file descriptor = 72, errno = 28, error message = 'No space left on device', buf = 0x218aaa6000, total write size = 655360000, bytes this sub-write = 655360000, bytes actually written = 18446744073709551615, offset = 994199328)",
     "output_type": "error",
     "traceback": [
      "\u001b[0;31m---------------------------------------------------------------------------\u001b[0m",
      "\u001b[0;31mOSError\u001b[0m                                   Traceback (most recent call last)",
      "\u001b[0;32m<ipython-input-179-e279f5ae5f40>\u001b[0m in \u001b[0;36m<module>\u001b[0;34m\u001b[0m\n\u001b[1;32m      3\u001b[0m BirdTrain = BirdModel.fit(x = traingraybird, \n\u001b[1;32m      4\u001b[0m                           \u001b[0my\u001b[0m \u001b[0;34m=\u001b[0m \u001b[0mtrain4colorbirddums\u001b[0m\u001b[0;34m,\u001b[0m \u001b[0mvalidation_split\u001b[0m\u001b[0;34m=\u001b[0m\u001b[0;36m0.2\u001b[0m\u001b[0;34m,\u001b[0m\u001b[0;34m\u001b[0m\u001b[0m\n\u001b[0;32m----> 5\u001b[0;31m                           epochs = 5, batch_size=300, verbose=1, callbacks=callbacks_list)\n\u001b[0m",
      "\u001b[0;32m/anaconda3/lib/python3.6/site-packages/tensorflow/python/keras/engine/training.py\u001b[0m in \u001b[0;36mfit\u001b[0;34m(self, x, y, batch_size, epochs, verbose, callbacks, validation_split, validation_data, shuffle, class_weight, sample_weight, initial_epoch, steps_per_epoch, validation_steps, **kwargs)\u001b[0m\n\u001b[1;32m   1361\u001b[0m           \u001b[0minitial_epoch\u001b[0m\u001b[0;34m=\u001b[0m\u001b[0minitial_epoch\u001b[0m\u001b[0;34m,\u001b[0m\u001b[0;34m\u001b[0m\u001b[0m\n\u001b[1;32m   1362\u001b[0m           \u001b[0msteps_per_epoch\u001b[0m\u001b[0;34m=\u001b[0m\u001b[0msteps_per_epoch\u001b[0m\u001b[0;34m,\u001b[0m\u001b[0;34m\u001b[0m\u001b[0m\n\u001b[0;32m-> 1363\u001b[0;31m           validation_steps=validation_steps)\n\u001b[0m\u001b[1;32m   1364\u001b[0m \u001b[0;34m\u001b[0m\u001b[0m\n\u001b[1;32m   1365\u001b[0m   def evaluate(self,\n",
      "\u001b[0;32m/anaconda3/lib/python3.6/site-packages/tensorflow/python/keras/engine/training_arrays.py\u001b[0m in \u001b[0;36mfit_loop\u001b[0;34m(model, inputs, targets, sample_weights, batch_size, epochs, verbose, callbacks, val_inputs, val_targets, val_sample_weights, shuffle, callback_metrics, initial_epoch, steps_per_epoch, validation_steps)\u001b[0m\n\u001b[1;32m    286\u001b[0m             \u001b[0;32mfor\u001b[0m \u001b[0ml\u001b[0m\u001b[0;34m,\u001b[0m \u001b[0mo\u001b[0m \u001b[0;32min\u001b[0m \u001b[0mzip\u001b[0m\u001b[0;34m(\u001b[0m\u001b[0mout_labels\u001b[0m\u001b[0;34m,\u001b[0m \u001b[0mval_outs\u001b[0m\u001b[0;34m)\u001b[0m\u001b[0;34m:\u001b[0m\u001b[0;34m\u001b[0m\u001b[0m\n\u001b[1;32m    287\u001b[0m               \u001b[0mepoch_logs\u001b[0m\u001b[0;34m[\u001b[0m\u001b[0;34m'val_'\u001b[0m \u001b[0;34m+\u001b[0m \u001b[0ml\u001b[0m\u001b[0;34m]\u001b[0m \u001b[0;34m=\u001b[0m \u001b[0mo\u001b[0m\u001b[0;34m\u001b[0m\u001b[0m\n\u001b[0;32m--> 288\u001b[0;31m     \u001b[0mcallbacks\u001b[0m\u001b[0;34m.\u001b[0m\u001b[0mon_epoch_end\u001b[0m\u001b[0;34m(\u001b[0m\u001b[0mepoch\u001b[0m\u001b[0;34m,\u001b[0m \u001b[0mepoch_logs\u001b[0m\u001b[0;34m)\u001b[0m\u001b[0;34m\u001b[0m\u001b[0m\n\u001b[0m\u001b[1;32m    289\u001b[0m     \u001b[0;32mif\u001b[0m \u001b[0mcallback_model\u001b[0m\u001b[0;34m.\u001b[0m\u001b[0mstop_training\u001b[0m\u001b[0;34m:\u001b[0m\u001b[0;34m\u001b[0m\u001b[0m\n\u001b[1;32m    290\u001b[0m       \u001b[0;32mbreak\u001b[0m\u001b[0;34m\u001b[0m\u001b[0m\n",
      "\u001b[0;32m/anaconda3/lib/python3.6/site-packages/tensorflow/python/keras/callbacks.py\u001b[0m in \u001b[0;36mon_epoch_end\u001b[0;34m(self, epoch, logs)\u001b[0m\n\u001b[1;32m     94\u001b[0m     \u001b[0mlogs\u001b[0m \u001b[0;34m=\u001b[0m \u001b[0mlogs\u001b[0m \u001b[0;32mor\u001b[0m \u001b[0;34m{\u001b[0m\u001b[0;34m}\u001b[0m\u001b[0;34m\u001b[0m\u001b[0m\n\u001b[1;32m     95\u001b[0m     \u001b[0;32mfor\u001b[0m \u001b[0mcallback\u001b[0m \u001b[0;32min\u001b[0m \u001b[0mself\u001b[0m\u001b[0;34m.\u001b[0m\u001b[0mcallbacks\u001b[0m\u001b[0;34m:\u001b[0m\u001b[0;34m\u001b[0m\u001b[0m\n\u001b[0;32m---> 96\u001b[0;31m       \u001b[0mcallback\u001b[0m\u001b[0;34m.\u001b[0m\u001b[0mon_epoch_end\u001b[0m\u001b[0;34m(\u001b[0m\u001b[0mepoch\u001b[0m\u001b[0;34m,\u001b[0m \u001b[0mlogs\u001b[0m\u001b[0;34m)\u001b[0m\u001b[0;34m\u001b[0m\u001b[0m\n\u001b[0m\u001b[1;32m     97\u001b[0m \u001b[0;34m\u001b[0m\u001b[0m\n\u001b[1;32m     98\u001b[0m   \u001b[0;32mdef\u001b[0m \u001b[0mon_batch_begin\u001b[0m\u001b[0;34m(\u001b[0m\u001b[0mself\u001b[0m\u001b[0;34m,\u001b[0m \u001b[0mbatch\u001b[0m\u001b[0;34m,\u001b[0m \u001b[0mlogs\u001b[0m\u001b[0;34m=\u001b[0m\u001b[0;32mNone\u001b[0m\u001b[0;34m)\u001b[0m\u001b[0;34m:\u001b[0m\u001b[0;34m\u001b[0m\u001b[0m\n",
      "\u001b[0;32m/anaconda3/lib/python3.6/site-packages/tensorflow/python/keras/callbacks.py\u001b[0m in \u001b[0;36mon_epoch_end\u001b[0;34m(self, epoch, logs)\u001b[0m\n\u001b[1;32m    464\u001b[0m               \u001b[0mself\u001b[0m\u001b[0;34m.\u001b[0m\u001b[0mmodel\u001b[0m\u001b[0;34m.\u001b[0m\u001b[0msave_weights\u001b[0m\u001b[0;34m(\u001b[0m\u001b[0mfilepath\u001b[0m\u001b[0;34m,\u001b[0m \u001b[0moverwrite\u001b[0m\u001b[0;34m=\u001b[0m\u001b[0;32mTrue\u001b[0m\u001b[0;34m)\u001b[0m\u001b[0;34m\u001b[0m\u001b[0m\n\u001b[1;32m    465\u001b[0m             \u001b[0;32melse\u001b[0m\u001b[0;34m:\u001b[0m\u001b[0;34m\u001b[0m\u001b[0m\n\u001b[0;32m--> 466\u001b[0;31m               \u001b[0mself\u001b[0m\u001b[0;34m.\u001b[0m\u001b[0mmodel\u001b[0m\u001b[0;34m.\u001b[0m\u001b[0msave\u001b[0m\u001b[0;34m(\u001b[0m\u001b[0mfilepath\u001b[0m\u001b[0;34m,\u001b[0m \u001b[0moverwrite\u001b[0m\u001b[0;34m=\u001b[0m\u001b[0;32mTrue\u001b[0m\u001b[0;34m)\u001b[0m\u001b[0;34m\u001b[0m\u001b[0m\n\u001b[0m\u001b[1;32m    467\u001b[0m           \u001b[0;32melse\u001b[0m\u001b[0;34m:\u001b[0m\u001b[0;34m\u001b[0m\u001b[0m\n\u001b[1;32m    468\u001b[0m             \u001b[0;32mif\u001b[0m \u001b[0mself\u001b[0m\u001b[0;34m.\u001b[0m\u001b[0mverbose\u001b[0m \u001b[0;34m>\u001b[0m \u001b[0;36m0\u001b[0m\u001b[0;34m:\u001b[0m\u001b[0;34m\u001b[0m\u001b[0m\n",
      "\u001b[0;32m/anaconda3/lib/python3.6/site-packages/tensorflow/python/keras/engine/network.py\u001b[0m in \u001b[0;36msave\u001b[0;34m(self, filepath, overwrite, include_optimizer)\u001b[0m\n\u001b[1;32m   1276\u001b[0m \u001b[0;34m\u001b[0m\u001b[0m\n\u001b[1;32m   1277\u001b[0m     \u001b[0;32mfrom\u001b[0m \u001b[0mtensorflow\u001b[0m\u001b[0;34m.\u001b[0m\u001b[0mpython\u001b[0m\u001b[0;34m.\u001b[0m\u001b[0mkeras\u001b[0m\u001b[0;34m.\u001b[0m\u001b[0mmodels\u001b[0m \u001b[0;32mimport\u001b[0m \u001b[0msave_model\u001b[0m  \u001b[0;31m# pylint: disable=g-import-not-at-top\u001b[0m\u001b[0;34m\u001b[0m\u001b[0m\n\u001b[0;32m-> 1278\u001b[0;31m     \u001b[0msave_model\u001b[0m\u001b[0;34m(\u001b[0m\u001b[0mself\u001b[0m\u001b[0;34m,\u001b[0m \u001b[0mfilepath\u001b[0m\u001b[0;34m,\u001b[0m \u001b[0moverwrite\u001b[0m\u001b[0;34m,\u001b[0m \u001b[0minclude_optimizer\u001b[0m\u001b[0;34m)\u001b[0m\u001b[0;34m\u001b[0m\u001b[0m\n\u001b[0m\u001b[1;32m   1279\u001b[0m \u001b[0;34m\u001b[0m\u001b[0m\n\u001b[1;32m   1280\u001b[0m   \u001b[0;32mdef\u001b[0m \u001b[0msave_weights\u001b[0m\u001b[0;34m(\u001b[0m\u001b[0mself\u001b[0m\u001b[0;34m,\u001b[0m \u001b[0mfilepath\u001b[0m\u001b[0;34m,\u001b[0m \u001b[0moverwrite\u001b[0m\u001b[0;34m=\u001b[0m\u001b[0;32mTrue\u001b[0m\u001b[0;34m,\u001b[0m \u001b[0msave_format\u001b[0m\u001b[0;34m=\u001b[0m\u001b[0;32mNone\u001b[0m\u001b[0;34m)\u001b[0m\u001b[0;34m:\u001b[0m\u001b[0;34m\u001b[0m\u001b[0m\n",
      "\u001b[0;32m/anaconda3/lib/python3.6/site-packages/tensorflow/python/keras/engine/saving.py\u001b[0m in \u001b[0;36msave_model\u001b[0;34m(model, filepath, overwrite, include_optimizer)\u001b[0m\n\u001b[1;32m    150\u001b[0m               \u001b[0mparam_dset\u001b[0m\u001b[0;34m[\u001b[0m\u001b[0;34m(\u001b[0m\u001b[0;34m)\u001b[0m\u001b[0;34m]\u001b[0m \u001b[0;34m=\u001b[0m \u001b[0mval\u001b[0m\u001b[0;34m\u001b[0m\u001b[0m\n\u001b[1;32m    151\u001b[0m             \u001b[0;32melse\u001b[0m\u001b[0;34m:\u001b[0m\u001b[0;34m\u001b[0m\u001b[0m\n\u001b[0;32m--> 152\u001b[0;31m               \u001b[0mparam_dset\u001b[0m\u001b[0;34m[\u001b[0m\u001b[0;34m:\u001b[0m\u001b[0;34m]\u001b[0m \u001b[0;34m=\u001b[0m \u001b[0mval\u001b[0m\u001b[0;34m\u001b[0m\u001b[0m\n\u001b[0m\u001b[1;32m    153\u001b[0m     \u001b[0mf\u001b[0m\u001b[0;34m.\u001b[0m\u001b[0mflush\u001b[0m\u001b[0;34m(\u001b[0m\u001b[0;34m)\u001b[0m\u001b[0;34m\u001b[0m\u001b[0m\n\u001b[1;32m    154\u001b[0m   \u001b[0;32mfinally\u001b[0m\u001b[0;34m:\u001b[0m\u001b[0;34m\u001b[0m\u001b[0m\n",
      "\u001b[0;32mh5py/_objects.pyx\u001b[0m in \u001b[0;36mh5py._objects.with_phil.wrapper\u001b[0;34m()\u001b[0m\n",
      "\u001b[0;32mh5py/_objects.pyx\u001b[0m in \u001b[0;36mh5py._objects.with_phil.wrapper\u001b[0;34m()\u001b[0m\n",
      "\u001b[0;32m/anaconda3/lib/python3.6/site-packages/h5py/_hl/dataset.py\u001b[0m in \u001b[0;36m__setitem__\u001b[0;34m(self, args, val)\u001b[0m\n\u001b[1;32m    630\u001b[0m         \u001b[0mmspace\u001b[0m \u001b[0;34m=\u001b[0m \u001b[0mh5s\u001b[0m\u001b[0;34m.\u001b[0m\u001b[0mcreate_simple\u001b[0m\u001b[0;34m(\u001b[0m\u001b[0mmshape_pad\u001b[0m\u001b[0;34m,\u001b[0m \u001b[0;34m(\u001b[0m\u001b[0mh5s\u001b[0m\u001b[0;34m.\u001b[0m\u001b[0mUNLIMITED\u001b[0m\u001b[0;34m,\u001b[0m\u001b[0;34m)\u001b[0m\u001b[0;34m*\u001b[0m\u001b[0mlen\u001b[0m\u001b[0;34m(\u001b[0m\u001b[0mmshape_pad\u001b[0m\u001b[0;34m)\u001b[0m\u001b[0;34m)\u001b[0m\u001b[0;34m\u001b[0m\u001b[0m\n\u001b[1;32m    631\u001b[0m         \u001b[0;32mfor\u001b[0m \u001b[0mfspace\u001b[0m \u001b[0;32min\u001b[0m \u001b[0mselection\u001b[0m\u001b[0;34m.\u001b[0m\u001b[0mbroadcast\u001b[0m\u001b[0;34m(\u001b[0m\u001b[0mmshape\u001b[0m\u001b[0;34m)\u001b[0m\u001b[0;34m:\u001b[0m\u001b[0;34m\u001b[0m\u001b[0m\n\u001b[0;32m--> 632\u001b[0;31m             \u001b[0mself\u001b[0m\u001b[0;34m.\u001b[0m\u001b[0mid\u001b[0m\u001b[0;34m.\u001b[0m\u001b[0mwrite\u001b[0m\u001b[0;34m(\u001b[0m\u001b[0mmspace\u001b[0m\u001b[0;34m,\u001b[0m \u001b[0mfspace\u001b[0m\u001b[0;34m,\u001b[0m \u001b[0mval\u001b[0m\u001b[0;34m,\u001b[0m \u001b[0mmtype\u001b[0m\u001b[0;34m,\u001b[0m \u001b[0mdxpl\u001b[0m\u001b[0;34m=\u001b[0m\u001b[0mself\u001b[0m\u001b[0;34m.\u001b[0m\u001b[0m_dxpl\u001b[0m\u001b[0;34m)\u001b[0m\u001b[0;34m\u001b[0m\u001b[0m\n\u001b[0m\u001b[1;32m    633\u001b[0m \u001b[0;34m\u001b[0m\u001b[0m\n\u001b[1;32m    634\u001b[0m     \u001b[0;32mdef\u001b[0m \u001b[0mread_direct\u001b[0m\u001b[0;34m(\u001b[0m\u001b[0mself\u001b[0m\u001b[0;34m,\u001b[0m \u001b[0mdest\u001b[0m\u001b[0;34m,\u001b[0m \u001b[0msource_sel\u001b[0m\u001b[0;34m=\u001b[0m\u001b[0;32mNone\u001b[0m\u001b[0;34m,\u001b[0m \u001b[0mdest_sel\u001b[0m\u001b[0;34m=\u001b[0m\u001b[0;32mNone\u001b[0m\u001b[0;34m)\u001b[0m\u001b[0;34m:\u001b[0m\u001b[0;34m\u001b[0m\u001b[0m\n",
      "\u001b[0;32mh5py/_objects.pyx\u001b[0m in \u001b[0;36mh5py._objects.with_phil.wrapper\u001b[0;34m()\u001b[0m\n",
      "\u001b[0;32mh5py/_objects.pyx\u001b[0m in \u001b[0;36mh5py._objects.with_phil.wrapper\u001b[0;34m()\u001b[0m\n",
      "\u001b[0;32mh5py/h5d.pyx\u001b[0m in \u001b[0;36mh5py.h5d.DatasetID.write\u001b[0;34m()\u001b[0m\n",
      "\u001b[0;32mh5py/_proxy.pyx\u001b[0m in \u001b[0;36mh5py._proxy.dset_rw\u001b[0;34m()\u001b[0m\n",
      "\u001b[0;32mh5py/_proxy.pyx\u001b[0m in \u001b[0;36mh5py._proxy.H5PY_H5Dwrite\u001b[0;34m()\u001b[0m\n",
      "\u001b[0;31mOSError\u001b[0m: Can't prepare for writing data (file write failed: time = Wed Nov 28 20:06:02 2018\n, filename = '/Users/changhsinyu/Desktop/INF552Homework6/LSTMweights/weights-improvement-bird-05-1.3737-bigger.hdf5', file descriptor = 72, errno = 28, error message = 'No space left on device', buf = 0x218aaa6000, total write size = 655360000, bytes this sub-write = 655360000, bytes actually written = 18446744073709551615, offset = 994199328)"
     ]
    }
   ],
   "source": [
    "BirdModel.compile(loss='categorical_crossentropy', optimizer='rmsprop',metrics=['accuracy'])\n",
    "\n",
    "BirdTrain = BirdModel.fit(x = traingraybird, \n",
    "                          y = train4colorbirddums, validation_split=0.2, \n",
    "                          epochs = 5, batch_size=300, verbose=1, callbacks=callbacks_list)"
   ]
  },
  {
   "cell_type": "code",
   "execution_count": null,
   "metadata": {},
   "outputs": [],
   "source": []
  }
 ],
 "metadata": {
  "kernelspec": {
   "display_name": "Python 3",
   "language": "python",
   "name": "python3"
  },
  "language_info": {
   "codemirror_mode": {
    "name": "ipython",
    "version": 3
   },
   "file_extension": ".py",
   "mimetype": "text/x-python",
   "name": "python",
   "nbconvert_exporter": "python",
   "pygments_lexer": "ipython3",
   "version": "3.6.5"
  }
 },
 "nbformat": 4,
 "nbformat_minor": 2
}
