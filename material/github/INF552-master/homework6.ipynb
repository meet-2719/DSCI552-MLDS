{
 "cells": [
  {
   "cell_type": "markdown",
   "metadata": {},
   "source": [
    "# INF552 Homework6:"
   ]
  },
  {
   "cell_type": "markdown",
   "metadata": {},
   "source": [
    "Student Name : Hsin-Yu, Chang (1160173733)"
   ]
  },
  {
   "cell_type": "code",
   "execution_count": 1,
   "metadata": {},
   "outputs": [
    {
     "data": {
      "text/plain": [
       "'/Users/changhsinyu/Desktop/USC2018Fall/INF552/assignment'"
      ]
     },
     "execution_count": 1,
     "metadata": {},
     "output_type": "execute_result"
    }
   ],
   "source": [
    "import pandas\n",
    "import numpy as np\n",
    "import os\n",
    "os.getcwd()"
   ]
  },
  {
   "cell_type": "code",
   "execution_count": 22,
   "metadata": {},
   "outputs": [],
   "source": [
    "from sklearn.model_selection import StratifiedKFold, GridSearchCV, KFold\n",
    "from sklearn.svm import LinearSVC\n",
    "from sklearn.metrics import f1_score\n",
    "import sys\n",
    "sys.path.append(r'/anaconda3/pkgs/liblinear-2.21/python')\n",
    "import liblinear\n",
    "from liblinearutil import *\n",
    "from scipy.stats import itemfreq\n",
    "from sklearn.metrics import accuracy_score, precision_score, recall_score, f1_score, roc_curve, auc, confusion_matrix\n",
    "from sklearn.metrics import roc_auc_score\n",
    "import warnings"
   ]
  },
  {
   "cell_type": "markdown",
   "metadata": {},
   "source": [
    "##### Function: Normalize training data and transform test (validation) set with the same parameters (mean and standard deviation)"
   ]
  },
  {
   "cell_type": "code",
   "execution_count": 4,
   "metadata": {},
   "outputs": [],
   "source": [
    "from sklearn.preprocessing import Normalizer\n",
    "def Normalize(ttrainX, testX):\n",
    "    normalizer = Normalizer()\n",
    "    ttrainX = normalizer.fit_transform(ttrainX)\n",
    "    testX = normalizer.transform(testX)\n",
    "    return ttrainX, testX"
   ]
  },
  {
   "cell_type": "markdown",
   "metadata": {},
   "source": [
    "##### Function: Train a L1-penalized SVM with choosing the penalty parameter by  K-fold cross validation "
   ]
  },
  {
   "cell_type": "code",
   "execution_count": 6,
   "metadata": {},
   "outputs": [],
   "source": [
    "def L1SVMSearchC(ttrainX, ttrainy, fold):\n",
    "    # fold = 1\n",
    "    foldgridacc = []\n",
    "    paramC = [0.01, 0.1, 1, 10, 100, 1000, 10000]\n",
    "    \n",
    "    #skf = StratifiedKFold(n_splits = fold)\n",
    "    skf = KFold(n_splits = fold)\n",
    "      \n",
    "    for traini, validi in skf.split(ttrainX, ttrainy):\n",
    "        # print('Fold: %d' %fold)\n",
    "        # fold+=1\n",
    "        gidacc = []\n",
    "        tX, vX = ttrainX[traini], ttrainX[validi]\n",
    "        ty, vy = ttrainy[traini], ttrainy[validi]\n",
    "        tX, vX = Normalize(tX, vX)\n",
    "        for c in paramC:\n",
    "            prob = problem(ty, tX)\n",
    "            param = parameter('-s 5 -c '+str(c)+ ' -q')\n",
    "            # print('C = %0.2f' % c)\n",
    "            l1svm = train(prob, param) \n",
    "            vpredy, _, _ = predict(vy, vX, l1svm, '-q')\n",
    "            gidacc.extend([accuracy_score(vy, vpredy)])\n",
    "        \n",
    "        foldgridacc.append(gidacc)\n",
    "        # print('\\n')  \n",
    "    #find best C and train model\n",
    "    foldgridacc = np.array(foldgridacc)\n",
    "    foldgridacc = foldgridacc.mean(axis=0)\n",
    "    bestC = np.array(paramC)[foldgridacc==max(foldgridacc)][0]\n",
    "    \n",
    "    #refit model with best C\n",
    "    normalizer = Normalizer()\n",
    "    ttrainX = normalizer.fit_transform(ttrainX)\n",
    "    prob = problem(ttrainy, ttrainX)\n",
    "    param = parameter('-s 5 -c '+str(bestC)+ ' -q')\n",
    "    l1svm = train(prob, param) \n",
    "\n",
    "    return normalizer, l1svm"
   ]
  },
  {
   "cell_type": "markdown",
   "metadata": {},
   "source": [
    "## 1. Supervised, Semi-Supervised, and Unsupervised Learning"
   ]
  },
  {
   "cell_type": "markdown",
   "metadata": {},
   "source": [
    "### (a) Download Breast Cancer Wisconsin (Diagnostic) Data Set:"
   ]
  },
  {
   "cell_type": "code",
   "execution_count": 40,
   "metadata": {},
   "outputs": [],
   "source": [
    "wimputfile = '/Users/changhsinyu/Desktop/temp/wdbc.data.txt'\n",
    "namefile  = '/Users/changhsinyu/Desktop/temp/wdbc.names.txt'\n",
    "wdbc = pandas.read_csv(wimputfile, header = None)\n",
    "wdbc.columns = ['ID', 'Diagnosis'] + ['fea'+str(i) for i in range(1,31)]\n",
    "wdbcX = wdbc.iloc[:, 2:]\n",
    "\n",
    "Ddict = {'B': 0, 'M': 1}\n",
    "wdbcy = np.array([Ddict[d] for d in wdbc.Diagnosis])\n",
    "#B-0, M-1\n",
    "\n",
    "from sklearn.datasets import dump_svmlight_file\n",
    "from sklearn.datasets import load_svmlight_file\n",
    "dump_svmlight_file(wdbcX, wdbcy, '/Users/changhsinyu/Desktop/temp/wdbc.dat', zero_based=True, multilabel=False)\n",
    "slwdbc = load_svmlight_file('/Users/changhsinyu/Desktop/temp/wdbc.dat')\n",
    "slwdbcX = slwdbc[0]\n",
    "slwdbcy = slwdbc[1]"
   ]
  },
  {
   "cell_type": "code",
   "execution_count": 171,
   "metadata": {},
   "outputs": [
    {
     "data": {
      "text/html": [
       "<div>\n",
       "<style scoped>\n",
       "    .dataframe tbody tr th:only-of-type {\n",
       "        vertical-align: middle;\n",
       "    }\n",
       "\n",
       "    .dataframe tbody tr th {\n",
       "        vertical-align: top;\n",
       "    }\n",
       "\n",
       "    .dataframe thead th {\n",
       "        text-align: right;\n",
       "    }\n",
       "</style>\n",
       "<table border=\"1\" class=\"dataframe\">\n",
       "  <thead>\n",
       "    <tr style=\"text-align: right;\">\n",
       "      <th></th>\n",
       "      <th>ID</th>\n",
       "      <th>Diagnosis</th>\n",
       "      <th>fea1</th>\n",
       "      <th>fea2</th>\n",
       "      <th>fea3</th>\n",
       "      <th>fea4</th>\n",
       "      <th>fea5</th>\n",
       "      <th>fea6</th>\n",
       "      <th>fea7</th>\n",
       "      <th>fea8</th>\n",
       "      <th>...</th>\n",
       "      <th>fea21</th>\n",
       "      <th>fea22</th>\n",
       "      <th>fea23</th>\n",
       "      <th>fea24</th>\n",
       "      <th>fea25</th>\n",
       "      <th>fea26</th>\n",
       "      <th>fea27</th>\n",
       "      <th>fea28</th>\n",
       "      <th>fea29</th>\n",
       "      <th>fea30</th>\n",
       "    </tr>\n",
       "  </thead>\n",
       "  <tbody>\n",
       "    <tr>\n",
       "      <th>0</th>\n",
       "      <td>842302</td>\n",
       "      <td>M</td>\n",
       "      <td>17.99</td>\n",
       "      <td>10.38</td>\n",
       "      <td>122.80</td>\n",
       "      <td>1001.0</td>\n",
       "      <td>0.11840</td>\n",
       "      <td>0.27760</td>\n",
       "      <td>0.3001</td>\n",
       "      <td>0.14710</td>\n",
       "      <td>...</td>\n",
       "      <td>25.38</td>\n",
       "      <td>17.33</td>\n",
       "      <td>184.60</td>\n",
       "      <td>2019.0</td>\n",
       "      <td>0.1622</td>\n",
       "      <td>0.6656</td>\n",
       "      <td>0.7119</td>\n",
       "      <td>0.2654</td>\n",
       "      <td>0.4601</td>\n",
       "      <td>0.11890</td>\n",
       "    </tr>\n",
       "    <tr>\n",
       "      <th>1</th>\n",
       "      <td>842517</td>\n",
       "      <td>M</td>\n",
       "      <td>20.57</td>\n",
       "      <td>17.77</td>\n",
       "      <td>132.90</td>\n",
       "      <td>1326.0</td>\n",
       "      <td>0.08474</td>\n",
       "      <td>0.07864</td>\n",
       "      <td>0.0869</td>\n",
       "      <td>0.07017</td>\n",
       "      <td>...</td>\n",
       "      <td>24.99</td>\n",
       "      <td>23.41</td>\n",
       "      <td>158.80</td>\n",
       "      <td>1956.0</td>\n",
       "      <td>0.1238</td>\n",
       "      <td>0.1866</td>\n",
       "      <td>0.2416</td>\n",
       "      <td>0.1860</td>\n",
       "      <td>0.2750</td>\n",
       "      <td>0.08902</td>\n",
       "    </tr>\n",
       "    <tr>\n",
       "      <th>2</th>\n",
       "      <td>84300903</td>\n",
       "      <td>M</td>\n",
       "      <td>19.69</td>\n",
       "      <td>21.25</td>\n",
       "      <td>130.00</td>\n",
       "      <td>1203.0</td>\n",
       "      <td>0.10960</td>\n",
       "      <td>0.15990</td>\n",
       "      <td>0.1974</td>\n",
       "      <td>0.12790</td>\n",
       "      <td>...</td>\n",
       "      <td>23.57</td>\n",
       "      <td>25.53</td>\n",
       "      <td>152.50</td>\n",
       "      <td>1709.0</td>\n",
       "      <td>0.1444</td>\n",
       "      <td>0.4245</td>\n",
       "      <td>0.4504</td>\n",
       "      <td>0.2430</td>\n",
       "      <td>0.3613</td>\n",
       "      <td>0.08758</td>\n",
       "    </tr>\n",
       "    <tr>\n",
       "      <th>3</th>\n",
       "      <td>84348301</td>\n",
       "      <td>M</td>\n",
       "      <td>11.42</td>\n",
       "      <td>20.38</td>\n",
       "      <td>77.58</td>\n",
       "      <td>386.1</td>\n",
       "      <td>0.14250</td>\n",
       "      <td>0.28390</td>\n",
       "      <td>0.2414</td>\n",
       "      <td>0.10520</td>\n",
       "      <td>...</td>\n",
       "      <td>14.91</td>\n",
       "      <td>26.50</td>\n",
       "      <td>98.87</td>\n",
       "      <td>567.7</td>\n",
       "      <td>0.2098</td>\n",
       "      <td>0.8663</td>\n",
       "      <td>0.6869</td>\n",
       "      <td>0.2575</td>\n",
       "      <td>0.6638</td>\n",
       "      <td>0.17300</td>\n",
       "    </tr>\n",
       "    <tr>\n",
       "      <th>4</th>\n",
       "      <td>84358402</td>\n",
       "      <td>M</td>\n",
       "      <td>20.29</td>\n",
       "      <td>14.34</td>\n",
       "      <td>135.10</td>\n",
       "      <td>1297.0</td>\n",
       "      <td>0.10030</td>\n",
       "      <td>0.13280</td>\n",
       "      <td>0.1980</td>\n",
       "      <td>0.10430</td>\n",
       "      <td>...</td>\n",
       "      <td>22.54</td>\n",
       "      <td>16.67</td>\n",
       "      <td>152.20</td>\n",
       "      <td>1575.0</td>\n",
       "      <td>0.1374</td>\n",
       "      <td>0.2050</td>\n",
       "      <td>0.4000</td>\n",
       "      <td>0.1625</td>\n",
       "      <td>0.2364</td>\n",
       "      <td>0.07678</td>\n",
       "    </tr>\n",
       "  </tbody>\n",
       "</table>\n",
       "<p>5 rows × 32 columns</p>\n",
       "</div>"
      ],
      "text/plain": [
       "         ID Diagnosis   fea1   fea2    fea3    fea4     fea5     fea6    fea7  \\\n",
       "0    842302         M  17.99  10.38  122.80  1001.0  0.11840  0.27760  0.3001   \n",
       "1    842517         M  20.57  17.77  132.90  1326.0  0.08474  0.07864  0.0869   \n",
       "2  84300903         M  19.69  21.25  130.00  1203.0  0.10960  0.15990  0.1974   \n",
       "3  84348301         M  11.42  20.38   77.58   386.1  0.14250  0.28390  0.2414   \n",
       "4  84358402         M  20.29  14.34  135.10  1297.0  0.10030  0.13280  0.1980   \n",
       "\n",
       "      fea8   ...     fea21  fea22   fea23   fea24   fea25   fea26   fea27  \\\n",
       "0  0.14710   ...     25.38  17.33  184.60  2019.0  0.1622  0.6656  0.7119   \n",
       "1  0.07017   ...     24.99  23.41  158.80  1956.0  0.1238  0.1866  0.2416   \n",
       "2  0.12790   ...     23.57  25.53  152.50  1709.0  0.1444  0.4245  0.4504   \n",
       "3  0.10520   ...     14.91  26.50   98.87   567.7  0.2098  0.8663  0.6869   \n",
       "4  0.10430   ...     22.54  16.67  152.20  1575.0  0.1374  0.2050  0.4000   \n",
       "\n",
       "    fea28   fea29    fea30  \n",
       "0  0.2654  0.4601  0.11890  \n",
       "1  0.1860  0.2750  0.08902  \n",
       "2  0.2430  0.3613  0.08758  \n",
       "3  0.2575  0.6638  0.17300  \n",
       "4  0.1625  0.2364  0.07678  \n",
       "\n",
       "[5 rows x 32 columns]"
      ]
     },
     "execution_count": 171,
     "metadata": {},
     "output_type": "execute_result"
    }
   ],
   "source": [
    "wdbc.head()"
   ]
  },
  {
   "cell_type": "markdown",
   "metadata": {},
   "source": [
    "##### Function: Split dataset to training set (80%) and test set (20%) with shuffling"
   ]
  },
  {
   "cell_type": "code",
   "execution_count": 41,
   "metadata": {},
   "outputs": [],
   "source": [
    "from sklearn.utils import shuffle\n",
    "import math\n",
    "def TrainTest20Shuffle(data):\n",
    "    \n",
    "    indexM, = np.where(data[1] == 1)\n",
    "    testlM = math.ceil(len(indexM)*0.2)\n",
    "    tm = np.random.choice(len(indexM), size=testlM, replace=False)\n",
    "    \n",
    "    indexB, = np.where(data[1] == 0)\n",
    "    testlB = math.ceil(len(indexB)*0.2)\n",
    "    tb = np.random.choice(len(indexB), size=testlB, replace=False)\n",
    "    \n",
    "    testi = []\n",
    "    testi.extend(indexM[tm])\n",
    "    testi.extend(indexB[tb])\n",
    "    testX, testy = data[0][testi], data[1][testi]\n",
    "\n",
    "    traini = [ i for i in range(data[1].shape[0]) if i not in testi] \n",
    "    ttrainX, ttrainy = data[0][traini], data[1][traini]\n",
    "\n",
    "    return ttrainX, ttrainy, testX, testy "
   ]
  },
  {
   "cell_type": "markdown",
   "metadata": {},
   "source": [
    "##### __>__ Encode 'Benign' = 0 and 'Malignant' = 1 to train SVM with Liblinear"
   ]
  },
  {
   "cell_type": "code",
   "execution_count": 173,
   "metadata": {},
   "outputs": [
    {
     "data": {
      "text/plain": [
       "array([[  0., 357.],\n",
       "       [  1., 212.]])"
      ]
     },
     "execution_count": 173,
     "metadata": {},
     "output_type": "execute_result"
    }
   ],
   "source": [
    "#orginal data\n",
    "itemfreq(slwdbc[1])"
   ]
  },
  {
   "cell_type": "code",
   "execution_count": 172,
   "metadata": {},
   "outputs": [],
   "source": [
    "ttrainX, ttrainy, testX, testy = TrainTest20Shuffle(slwdbc)"
   ]
  },
  {
   "cell_type": "code",
   "execution_count": 174,
   "metadata": {},
   "outputs": [
    {
     "data": {
      "text/plain": [
       "array([[  0., 285.],\n",
       "       [  1., 169.]])"
      ]
     },
     "execution_count": 174,
     "metadata": {},
     "output_type": "execute_result"
    }
   ],
   "source": [
    "itemfreq(ttrainy)"
   ]
  },
  {
   "cell_type": "code",
   "execution_count": 175,
   "metadata": {},
   "outputs": [
    {
     "data": {
      "text/plain": [
       "array([[ 0., 72.],\n",
       "       [ 1., 43.]])"
      ]
     },
     "execution_count": 175,
     "metadata": {},
     "output_type": "execute_result"
    }
   ],
   "source": [
    "itemfreq(testy)"
   ]
  },
  {
   "cell_type": "markdown",
   "metadata": {},
   "source": [
    "### (b) Monte-Carlo Simulation:"
   ]
  },
  {
   "cell_type": "markdown",
   "metadata": {},
   "source": [
    "##### Function: Model Evaluation (Accuracy, Precision, Recall, F-score and AUC) "
   ]
  },
  {
   "cell_type": "code",
   "execution_count": 42,
   "metadata": {},
   "outputs": [],
   "source": [
    "import warnings\n",
    "from sklearn.metrics import accuracy_score, precision_score, recall_score, f1_score, roc_curve, auc, confusion_matrix\n",
    "from sklearn.metrics import roc_auc_score\n",
    "def report(truey, predicty, proby):\n",
    "    acc = accuracy_score(truey, predicty)\n",
    "    pre = precision_score(truey, predicty, pos_label=1)\n",
    "    recall = recall_score(truey, predicty, pos_label=1)\n",
    "    warnings.filterwarnings(\"ignore\")\n",
    "    f1score = f1_score(truey, predicty, pos_label=1, average='weighted')\n",
    "    auc = roc_auc_score(truey, proby)\n",
    "    \n",
    "    return [acc, pre, recall, f1score, auc]"
   ]
  },
  {
   "cell_type": "markdown",
   "metadata": {},
   "source": [
    "### i. Supervised Learning "
   ]
  },
  {
   "cell_type": "markdown",
   "metadata": {},
   "source": [
    "##### Function: Monte-Carlo Simulation (n=30) with Supervised L1-penalized SVM"
   ]
  },
  {
   "cell_type": "code",
   "execution_count": 187,
   "metadata": {},
   "outputs": [],
   "source": [
    "def MCsupervisedL1SVM(n, data):\n",
    "    MCtrain = []\n",
    "    MCtest = []\n",
    "    \n",
    "    for i in range(n):\n",
    "        ttrainX, ttrainy, testX, testy = TrainTest20Shuffle(data)\n",
    "        #5-fold CV choosing beat C and return L1-penalized SVM with best C and normalizer fitting on training set \n",
    "        normalizer, l1svm = L1SVMSearchC(ttrainX, ttrainy, 5) \n",
    "        \n",
    "        #train\n",
    "        ttrainX = normalizer.transform(ttrainX)\n",
    "        ttpredy, _, ttproby = predict(ttrainy, ttrainX, l1svm, '-q')\n",
    "        MCtrain.append(report(ttrainy, ttpredy, ttproby))\n",
    "        \n",
    "        #test\n",
    "        testX = normalizer.transform(testX)\n",
    "        tpredy, _, tproby= predict(testy, testX, l1svm, '-q')\n",
    "        MCtest.append(report(testy, tpredy, tproby))\n",
    "\n",
    "    print('The %dth Monte-Carlo Simulation\\n' % n)\n",
    "    print('Training Set')\n",
    "    print(confusion_matrix(ttrainy, ttpredy))\n",
    "\n",
    "    fpr, tpr, _ = roc_curve(ttrainy, ttproby)\n",
    "    roc_auc = auc(fpr, tpr)\n",
    "    import matplotlib.pyplot as plt\n",
    "    plt.title('Receiver Operating Characteristic on Training Set')\n",
    "    plt.plot(fpr, tpr, 'b', label = 'AUC = %0.2f' % roc_auc)\n",
    "    plt.legend(loc = 'lower right')\n",
    "    plt.plot([0, 1], [0, 1],'r--')\n",
    "    plt.xlim([0, 1])\n",
    "    plt.ylim([0, 1])\n",
    "    plt.ylabel('True Positive Rate')\n",
    "    plt.xlabel('False Positive Rate')\n",
    "    plt.show()\n",
    "    \n",
    "    \n",
    "    print('Test Set')\n",
    "    print(confusion_matrix(testy, tpredy))\n",
    "    fpr, tpr, _ = roc_curve(testy, tproby)\n",
    "    roc_auc = auc(fpr, tpr)\n",
    "    import matplotlib.pyplot as plt\n",
    "    plt.title('Receiver Operating Characteristic on Test Set')\n",
    "    plt.plot(fpr, tpr, 'b', label = 'AUC = %0.2f' % roc_auc)\n",
    "    plt.legend(loc = 'lower right')\n",
    "    plt.plot([0, 1], [0, 1],'r--')\n",
    "    plt.xlim([0, 1])\n",
    "    plt.ylim([0, 1])\n",
    "    plt.ylabel('True Positive Rate')\n",
    "    plt.xlabel('False Positive Rate')\n",
    "    plt.show()\n",
    "\n",
    "    eva = pandas.DataFrame(columns = ['Accuracy', 'Precision', 'Recall', 'f1-score', 'AUC'])\n",
    "    MCtrain = np.array(MCtrain).mean(axis=0).tolist()\n",
    "    MCtest = np.array(MCtest).mean(axis=0).tolist()   \n",
    "    \n",
    "    eva.loc['Training Set',:] = MCtrain\n",
    "    eva.loc['Test Set',:] = MCtest\n",
    "    \n",
    "    print('\\n')\n",
    "    print('Average Evaluation on Supervised Learning')\n",
    "    print(eva)\n",
    "    \n",
    "    return eva"
   ]
  },
  {
   "cell_type": "code",
   "execution_count": 188,
   "metadata": {},
   "outputs": [
    {
     "name": "stdout",
     "output_type": "stream",
     "text": [
      "The 30th Monte-Carlo Simulation\n",
      "\n",
      "Training Set\n",
      "[[283   2]\n",
      " [  3 166]]\n"
     ]
    },
    {
     "data": {
      "image/png": "[encoded data removed]",
      "text/plain": [
       "<Figure size 432x288 with 1 Axes>"
      ]
     },
     "metadata": {
      "needs_background": "light"
     },
     "output_type": "display_data"
    },
    {
     "name": "stdout",
     "output_type": "stream",
     "text": [
      "Test Set\n",
      "[[71  1]\n",
      " [ 3 40]]\n"
     ]
    },
    {
     "data": {
      "image/png": "[encoded data removed]",
      "text/plain": [
       "<Figure size 432x288 with 1 Axes>"
      ]
     },
     "metadata": {
      "needs_background": "light"
     },
     "output_type": "display_data"
    },
    {
     "name": "stdout",
     "output_type": "stream",
     "text": [
      "\n",
      "\n",
      "Average Evaluation on Supervised Learning\n",
      "              Accuracy Precision    Recall  f1-score       AUC\n",
      "Training Set  0.981938  0.988271  0.962919  0.981886  0.998349\n",
      "Test Set      0.968406  0.965971  0.949612  0.968342  0.994014\n"
     ]
    }
   ],
   "source": [
    "superviseeva = MCsupervisedL1SVM(30, slwdbc)"
   ]
  },
  {
   "cell_type": "markdown",
   "metadata": {},
   "source": [
    "### ii. Semi-Supervised Learning/ Self-training"
   ]
  },
  {
   "cell_type": "markdown",
   "metadata": {},
   "source": [
    "##### Function: Train a L1-penalized SVM with labeling the farthest unlabeled datapoint at a time"
   ]
  },
  {
   "cell_type": "code",
   "execution_count": 53,
   "metadata": {},
   "outputs": [],
   "source": [
    "def SemisupervisedL1SVM(ttrainX, ttrainy):\n",
    "    #split training data into labeled and unlabeled\n",
    "    labeli = []\n",
    "\n",
    "    for c in [0,1]:\n",
    "        ind, = np.where(ttrainy==c)\n",
    "        labell = math.ceil(len(ind)*0.5)\n",
    "        t = np.random.choice(len(ind), size=labell, replace=False)\n",
    "        labeli.extend(ind[t])\n",
    "\n",
    "    unlabeli = [i for i in range(len(ttrainy)) if i not in labeli]\n",
    "\n",
    "    labelX = ttrainX[labeli].toarray().tolist()\n",
    "    labely = ttrainy[labeli].tolist()\n",
    "\n",
    "    unlabelX = ttrainX[unlabeli].toarray()\n",
    "    unlabely = ttrainy[unlabeli]\n",
    "\n",
    "    while unlabelX.shape[0]>0:\n",
    "        normalizer, l1svm = L1SVMSearchC(np.array(labelX), np.array(labely), 5)\n",
    "\n",
    "        weight = np.array(l1svm.get_decfun()[0])\n",
    "        bias = l1svm.get_decfun()[1]\n",
    "        dist2hyper = abs(unlabelX@weight+bias) \n",
    "        get = np.argpartition(dist2hyper, -1)[-1:]\n",
    "\n",
    "        tobelabelX = normalizer.transform(unlabelX[get])\n",
    "        pred, _, tproby= predict(unlabely[get], tobelabelX, l1svm, '-q')\n",
    "\n",
    "        labelX.extend(unlabelX[get].tolist())\n",
    "        labely.extend(pred)\n",
    "        unlabelX = np.delete(unlabelX, get, axis = 0)\n",
    "        unlabely = np.delete(unlabely, get, axis = 0)\n",
    "\n",
    "    #Final SVM after labeling all unlabeled data\n",
    "    normalizer, l1svm = L1SVMSearchC(np.array(labelX), np.array(labely), 5)\n",
    "    return normalizer, l1svm"
   ]
  },
  {
   "cell_type": "markdown",
   "metadata": {},
   "source": [
    "##### Function: Monte-Carlo Simulation (n=30) with Semi-Supervised L1-penalized SVM"
   ]
  },
  {
   "cell_type": "code",
   "execution_count": 60,
   "metadata": {},
   "outputs": [],
   "source": [
    "def MCSemisupervisedL1SVM(n, data):\n",
    "    MCtrain = []\n",
    "    MCtest = []\n",
    "    \n",
    "    for i in range(n):\n",
    "        ttrainX2, ttrainy2, testX2, testy2 = TrainTest20Shuffle(data)\n",
    "        normalizer, l1svm = SemisupervisedL1SVM(ttrainX2, ttrainy2)\n",
    "        \n",
    "        #train\n",
    "        ttrainX2 = normalizer.transform(ttrainX2)\n",
    "        ttpredy, _, ttproby = predict(ttrainy2, ttrainX2, l1svm, '-q')\n",
    "        MCtrain.append(report(ttrainy2, ttpredy, np.array(ttproby)*-1))\n",
    "        \n",
    "        #test\n",
    "        testX2 = normalizer.transform(testX2)\n",
    "        tpredy, _, tproby= predict(testy2, testX2, l1svm, '-q')\n",
    "        MCtest.append(report(testy2, tpredy, np.array(tproby)*-1))\n",
    "\n",
    "    print('The %dth Monte-Carlo Simulation\\n' % n)\n",
    "    print('Training Set')\n",
    "    print(confusion_matrix(ttrainy2, ttpredy))#, rownames=['Actual'], colnames=['Predict'])\n",
    "    fpr, tpr, _ = roc_curve(ttrainy2, np.array(ttproby)*-1)\n",
    "    roc_auc = auc(fpr, tpr)\n",
    "    import matplotlib.pyplot as plt\n",
    "    plt.title('Receiver Operating Characteristic on Training Set')\n",
    "    plt.plot(fpr, tpr, 'b', label = 'AUC = %0.2f' % roc_auc)\n",
    "    plt.legend(loc = 'lower right')\n",
    "    plt.plot([0, 1], [0, 1],'r--')\n",
    "    plt.xlim([0, 1])\n",
    "    plt.ylim([0, 1])\n",
    "    plt.ylabel('True Positive Rate')\n",
    "    plt.xlabel('False Positive Rate')\n",
    "    plt.show()\n",
    "    \n",
    "    print('Test Set')\n",
    "    print(confusion_matrix(testy2, tpredy))\n",
    "    fpr, tpr, _ = roc_curve(testy2, np.array(tproby)*-1)\n",
    "    roc_auc = auc(fpr, tpr)\n",
    "    import matplotlib.pyplot as plt\n",
    "    plt.title('Receiver Operating Characteristic on Test Set')\n",
    "    plt.plot(fpr, tpr, 'b', label = 'AUC = %0.2f' % roc_auc)\n",
    "    plt.legend(loc = 'lower right')\n",
    "    plt.plot([0, 1], [0, 1],'r--')\n",
    "    plt.xlim([0, 1])\n",
    "    plt.ylim([0, 1])\n",
    "    plt.ylabel('True Positive Rate')\n",
    "    plt.xlabel('False Positive Rate')\n",
    "    plt.show()\n",
    "\n",
    "    eva = pandas.DataFrame(columns = ['Accuracy', 'Precision', 'Recall', 'f1-score', 'AUC'])\n",
    "    MCtrain = np.array(MCtrain).mean(axis=0).tolist()\n",
    "    MCtest = np.array(MCtest).mean(axis=0).tolist()   \n",
    "    \n",
    "    eva.loc['Training Set',:] = MCtrain\n",
    "    eva.loc['Test Set',:] = MCtest\n",
    "    \n",
    "    print('\\n')\n",
    "    print('Average Evaluation on Semi-Supervised Learning')\n",
    "    print(eva)\n",
    "    \n",
    "    return eva\n"
   ]
  },
  {
   "cell_type": "code",
   "execution_count": 62,
   "metadata": {},
   "outputs": [
    {
     "name": "stdout",
     "output_type": "stream",
     "text": [
      "The 30th Monte-Carlo Simulation\n",
      "\n",
      "Training Set\n",
      "[[283   2]\n",
      " [  9 160]]\n"
     ]
    },
    {
     "data": {
      "image/png": "[encoded data removed]",
      "text/plain": [
       "<Figure size 432x288 with 1 Axes>"
      ]
     },
     "metadata": {
      "needs_background": "light"
     },
     "output_type": "display_data"
    },
    {
     "name": "stdout",
     "output_type": "stream",
     "text": [
      "Test Set\n",
      "[[71  1]\n",
      " [ 3 40]]\n"
     ]
    },
    {
     "data": {
      "image/png": "[encoded data removed]",
      "text/plain": [
       "<Figure size 432x288 with 1 Axes>"
      ]
     },
     "metadata": {
      "needs_background": "light"
     },
     "output_type": "display_data"
    },
    {
     "name": "stdout",
     "output_type": "stream",
     "text": [
      "/n\n",
      "Average Evaluation on Semi-Supervised Learning\n",
      "              Accuracy Precision    Recall  f1-score       AUC\n",
      "Training Set  0.969824  0.976579  0.941815  0.969709  0.994766\n",
      "Test Set       0.96058   0.96576  0.928682  0.960391  0.992733\n"
     ]
    }
   ],
   "source": [
    "semisuperviseeva = MCSemisupervisedL1SVM(30, slwdbc)"
   ]
  },
  {
   "cell_type": "markdown",
   "metadata": {},
   "source": [
    "### iii. Unsupervised Learning with Kmeans:"
   ]
  },
  {
   "cell_type": "markdown",
   "metadata": {},
   "source": [
    "##### Function: Assigning label of each cluster with majority of the closest 30 datapoints"
   ]
  },
  {
   "cell_type": "code",
   "execution_count": 63,
   "metadata": {},
   "outputs": [],
   "source": [
    "def clustormajority(cluscenter, X, label):\n",
    "    clustermajority = []\n",
    "    for clus in [0, 1]:\n",
    "        center = cluscenter[clus]\n",
    "        dist = np.square(center-X).mean(axis=1)\n",
    "        dist = np.ravel(dist).T\n",
    "        index = np.argpartition(dist, 30)[:30] #get the closet 30 datapoint\n",
    "        ind = label[index].tolist()\n",
    "        clustermajority.append(max(set(ind), key = ind.count))\n",
    "    return pandas.Series(clustermajority)"
   ]
  },
  {
   "cell_type": "code",
   "execution_count": 64,
   "metadata": {},
   "outputs": [],
   "source": [
    "def clusLabel(cluster_labels, clusmaj):\n",
    "    clabel = np.empty(len(cluster_labels), dtype=int)\n",
    "    for clus in [0, 1]:\n",
    "        #nparray index\n",
    "        index, = np.where(cluster_labels == clus)\n",
    "        clabel[index] = clusmaj[clus]\n",
    "    return clabel "
   ]
  },
  {
   "cell_type": "markdown",
   "metadata": {},
   "source": [
    "##### Function: Scoring the classification by distance to each cluster "
   ]
  },
  {
   "cell_type": "markdown",
   "metadata": {},
   "source": [
    "##### __>__ Using distance between datapoint and center of Cluster k to construct the classification score "
   ]
  },
  {
   "cell_type": "markdown",
   "metadata": {},
   "source": [
    "$$\n",
    "\\begin{align}\n",
    "d(X, Cluster_j) = - Euclidean Distance(X, Center(Cluster_j))\n",
    "\\end{align}\n",
    "$$"
   ]
  },
  {
   "cell_type": "markdown",
   "metadata": {},
   "source": [
    "##### __>__ Norming it with Softmax"
   ]
  },
  {
   "cell_type": "markdown",
   "metadata": {},
   "source": [
    "$$\n",
    "ClassificationScore(X, Cluster_j)=\\frac{e^{d(X, Cluster_j)}}{\\sum^K{e^{d(X, Cluster_k)}}}\n",
    "$$"
   ]
  },
  {
   "cell_type": "code",
   "execution_count": 176,
   "metadata": {},
   "outputs": [],
   "source": [
    "def Kmeanssoftmax(cluscenter, X, clus1):\n",
    "    dist2cent = []\n",
    "    for clus in [0, 1]:\n",
    "        center = cluscenter[clus]\n",
    "        dist = np.sqrt(np.square(center-X).mean(axis=1))\n",
    "        dist = np.ravel(dist).T\n",
    "        dist2cent.append(dist.tolist())\n",
    "    dist2cent = np.array(dist2cent)\n",
    "    #dist2cent = 1/np.array(dist2cent)\n",
    "\n",
    "    #softmax\n",
    "    return (np.exp(-dist2cent) / np.sum(np.exp(-dist2cent), axis=0)).astype(np.float64)[clus1]\n",
    "    #reciprocal\n",
    "    #return (dist2cent/ np.sum(dist2cent, axis=0)).astype(np.float64)[clus1]"
   ]
  },
  {
   "cell_type": "markdown",
   "metadata": {},
   "source": [
    "##### Function: Monte-Carlo Simulation (n=30) with Unsupervised Learning (K-means algorithm)"
   ]
  },
  {
   "cell_type": "markdown",
   "metadata": {},
   "source": [
    "__>__ Setting n_init = 10 to make sure not being trapped in the local minimum, which means number of time running with different centroid seeds and output the best result."
   ]
  },
  {
   "cell_type": "code",
   "execution_count": 151,
   "metadata": {},
   "outputs": [],
   "source": [
    "from sklearn.cluster import KMeans\n",
    "def MCUnsupervisedKmeans(n, data):\n",
    "    MCtrain = []\n",
    "    MCtest = []\n",
    "    clus = 2\n",
    "    for i in range(n):\n",
    "        ttrainX3, ttrainy3, testX3, testy3 = TrainTest20Shuffle(data)\n",
    "        clusterer = KMeans(n_clusters=clus, n_init = 10, random_state = i).fit(ttrainX3)\n",
    "        clustormaj = clustormajority(clusterer.cluster_centers_, ttrainX3, ttrainy3)\n",
    "        \n",
    "        Mclus = clustormaj.index[clustormaj.values==1][0]\n",
    "        \n",
    "\n",
    "        cluster_labelstr = clusterer.predict(ttrainX3)  \n",
    "        clabeltr = clusLabel(cluster_labelstr, clustormaj)       \n",
    "        clussoftmaxtr = Kmeanssoftmax(clusterer.cluster_centers_, ttrainX3, Mclus)    \n",
    "        MCtrain.append(report(ttrainy3, clabeltr, clussoftmaxtr))\n",
    "        ##report\n",
    "        #print(confusion_matrix(ttrainy3, clabeltr))\n",
    "\n",
    "        cluster_labelste = clusterer.predict(testX3)\n",
    "        clabelte = clusLabel(cluster_labelste, clustormaj)\n",
    "        clussoftmaxte = Kmeanssoftmax(clusterer.cluster_centers_, testX3, Mclus)\n",
    "        MCtest.append(report(testy3, clabelte, clussoftmaxte))\n",
    "        ##report\n",
    "        #print(confusion_matrix(testy3, clabelte))\n",
    "    \n",
    "    print('The %dth Monte-Carlo Simulation\\n' % n)\n",
    "    print('Training Set')\n",
    "    print(confusion_matrix(ttrainy3, clabeltr))\n",
    "    ##plot\n",
    "    fpr, tpr, _ = roc_curve(ttrainy3, clussoftmaxtr)\n",
    "    roc_auc = auc(fpr, tpr)\n",
    "    #import matplotlib.pyplot as plt\n",
    "    plt.title('Receiver Operating Characteristic on Training Set')\n",
    "    plt.plot(fpr, tpr, 'b', label = 'AUC = %0.2f' % roc_auc)\n",
    "    plt.legend(loc = 'lower right')\n",
    "    plt.plot([0, 1], [0, 1],'r--')\n",
    "    plt.xlim([0, 1])\n",
    "    plt.ylim([0, 1])\n",
    "    plt.ylabel('True Positive Rate')\n",
    "    plt.xlabel('False Positive Rate')\n",
    "    plt.show()\n",
    "\n",
    "    print('Test Set')\n",
    "    print(confusion_matrix(testy3, clabelte))\n",
    "    ##plot\n",
    "    fpr, tpr, _ = roc_curve(testy3, clussoftmaxte)\n",
    "    roc_auc = auc(fpr, tpr)\n",
    "    #import matplotlib.pyplot as plt\n",
    "    plt.title('Receiver Operating Characteristic on Test Set')\n",
    "    plt.plot(fpr, tpr, 'b', label = 'AUC = %0.2f' % roc_auc)\n",
    "    plt.legend(loc = 'lower right')\n",
    "    plt.plot([0, 1], [0, 1],'r--')\n",
    "    plt.xlim([0, 1])\n",
    "    plt.ylim([0, 1])\n",
    "    plt.ylabel('True Positive Rate')\n",
    "    plt.xlabel('False Positive Rate')\n",
    "    plt.show()\n",
    "\n",
    "    eva = pandas.DataFrame(columns = ['Accuracy', 'Precision', 'Recall', 'f1-score', 'AUC'])\n",
    "    MCtrain = np.array(MCtrain).mean(axis=0).tolist()\n",
    "    MCtest = np.array(MCtest).mean(axis=0).tolist()   \n",
    "    \n",
    "    eva.loc['Training Set',:] = MCtrain\n",
    "    eva.loc['Test Set',:] = MCtest\n",
    "    \n",
    "    print('\\n')\n",
    "    print('Average Evaluation on K-means Unsupervising Learning ')\n",
    "    print(eva)\n",
    "    return eva"
   ]
  },
  {
   "cell_type": "code",
   "execution_count": 152,
   "metadata": {},
   "outputs": [
    {
     "name": "stdout",
     "output_type": "stream",
     "text": [
      "The 30th Monte-Carlo Simulation\n",
      "\n",
      "Training Set\n",
      "[[284   1]\n",
      " [ 67 102]]\n"
     ]
    },
    {
     "data": {
      "image/png": "[encoded data removed]",
      "text/plain": [
       "<Figure size 432x288 with 1 Axes>"
      ]
     },
     "metadata": {
      "needs_background": "light"
     },
     "output_type": "display_data"
    },
    {
     "name": "stdout",
     "output_type": "stream",
     "text": [
      "Test Set\n",
      "[[72  0]\n",
      " [17 26]]\n"
     ]
    },
    {
     "data": {
      "image/png": "[encoded data removed]",
      "text/plain": [
       "<Figure size 432x288 with 1 Axes>"
      ]
     },
     "metadata": {
      "needs_background": "light"
     },
     "output_type": "display_data"
    },
    {
     "name": "stdout",
     "output_type": "stream",
     "text": [
      "\n",
      "\n",
      "Average Evaluation on K-means Unsupervising Learning \n",
      "              Accuracy Precision   Recall  f1-score       AUC\n",
      "Training Set  0.852863  0.992619  0.60927  0.842765  0.966974\n",
      "Test Set      0.848986  0.991555  0.60155  0.837894  0.966947\n"
     ]
    }
   ],
   "source": [
    "kmeanseva = MCUnsupervisedKmeans(30, slwdbc)"
   ]
  },
  {
   "cell_type": "markdown",
   "metadata": {},
   "source": [
    "### iv. Unsupervised Learning with Spectral Clustering:"
   ]
  },
  {
   "cell_type": "markdown",
   "metadata": {},
   "source": [
    "##### Function: Cluster datapoints in Test set by calculating the average distance to each cluster, and assign it to the closest one"
   ]
  },
  {
   "cell_type": "code",
   "execution_count": 156,
   "metadata": {},
   "outputs": [],
   "source": [
    "def KmeansAvgDistClus(testX, ttrainX, traincluslabel):\n",
    "    dist2cent = []\n",
    "    for clus in [0, 1]:\n",
    "        XinClus = ttrainX[traincluslabel==clus]\n",
    "        avgDist2clus = [(np.sqrt(np.square(testX[i]-XinClus).mean(axis=1))).mean() for i in range(testX.shape[0])]\n",
    "        dist2cent.append(avgDist2clus)\n",
    "    return np.argmin(dist2cent, axis=0)"
   ]
  },
  {
   "cell_type": "markdown",
   "metadata": {},
   "source": [
    "##### Function: Monte-Carlo Simulation (n=30) with Unsupervised Learning (Spectral Clustering with rbf kernal)"
   ]
  },
  {
   "cell_type": "code",
   "execution_count": 160,
   "metadata": {},
   "outputs": [],
   "source": [
    "from sklearn.cluster import SpectralClustering"
   ]
  },
  {
   "cell_type": "code",
   "execution_count": 162,
   "metadata": {},
   "outputs": [],
   "source": [
    "def MCUnsupervisedSpectral(n, data):\n",
    "    MCtrain = []\n",
    "    MCtest = []\n",
    "    clus = 2\n",
    "    for i in range(n):\n",
    "        ttrainX4, ttrainy4, testX4, testy4 = TrainTest20Shuffle(data)\n",
    "        ttrainX4, testX4 = Normalize(ttrainX4, testX4)\n",
    "        ttrainX4 =  ttrainX4.toarray()\n",
    "        testX4 =  testX4.toarray()\n",
    "        Speccluster = SpectralClustering(n_clusters=2, assign_labels='kmeans', affinity='rbf', eigen_tol = 1e-2, eigen_solver = 'arpack', random_state=0).fit(ttrainX4)\n",
    "        Specclust_label = Speccluster.labels_\n",
    "\n",
    "        speccluscenter = []\n",
    "        for clus in [0,1]:\n",
    "            speccluscenter.append(ttrainX4[Specclust_label==clus].mean(axis = 0).tolist())\n",
    "\n",
    "        clustormaj = clustormajority(np.array(speccluscenter), ttrainX4, ttrainy4)   \n",
    "        Mclus = clustormaj.index[clustormaj.values==1][0]\n",
    "\n",
    "        cluster_labelstr = Specclust_label \n",
    "        clabeltr = clusLabel(cluster_labelstr, clustormaj)       \n",
    "        clussoftmaxtr = Kmeanssoftmax(np.array(speccluscenter), ttrainX4, Mclus)    \n",
    "        MCtrain.append(report(ttrainy4, clabeltr, clussoftmaxtr))\n",
    "        ##report\n",
    "        #print(confusion_matrix(ttrainy3, clabeltr))\n",
    "\n",
    "\n",
    "        cluster_labelste = KmeansAvgDistClus(testX4, ttrainX4, Specclust_label)       \n",
    "        clabelte = clusLabel(cluster_labelste, clustormaj)\n",
    "        clussoftmaxte = Kmeanssoftmax(np.array(speccluscenter), testX4, Mclus)\n",
    "        MCtest.append(report(testy4, clabelte, clussoftmaxte))\n",
    "        ##report\n",
    "        #print(confusion_matrix(testy3, clabelte))\n",
    "    \n",
    "    print('The %dth Monte-Carlo Simulation\\n' % n)\n",
    "    print('Training Set')\n",
    "    print(confusion_matrix(ttrainy4, clabeltr))\n",
    "    ##plot\n",
    "    fpr, tpr, _ = roc_curve(ttrainy4, clussoftmaxtr)\n",
    "    roc_auc = auc(fpr, tpr)\n",
    "    #import matplotlib.pyplot as plt\n",
    "    plt.title('Receiver Operating Characteristic on Training Set')\n",
    "    plt.plot(fpr, tpr, 'b', label = 'AUC = %0.2f' % roc_auc)\n",
    "    plt.legend(loc = 'lower right')\n",
    "    plt.plot([0, 1], [0, 1],'r--')\n",
    "    plt.xlim([0, 1])\n",
    "    plt.ylim([0, 1])\n",
    "    plt.ylabel('True Positive Rate')\n",
    "    plt.xlabel('False Positive Rate')\n",
    "    plt.show()\n",
    "\n",
    "    print('Test Set')\n",
    "    print(confusion_matrix(testy4, clabelte))\n",
    "    ##plot\n",
    "    fpr, tpr, _ = roc_curve(testy4, clussoftmaxte)\n",
    "    roc_auc = auc(fpr, tpr)\n",
    "    #import matplotlib.pyplot as plt\n",
    "    plt.title('Receiver Operating Characteristic on Test Set')\n",
    "    plt.plot(fpr, tpr, 'b', label = 'AUC = %0.2f' % roc_auc)\n",
    "    plt.legend(loc = 'lower right')\n",
    "    plt.plot([0, 1], [0, 1],'r--')\n",
    "    plt.xlim([0, 1])\n",
    "    plt.ylim([0, 1])\n",
    "    plt.ylabel('True Positive Rate')\n",
    "    plt.xlabel('False Positive Rate')\n",
    "    plt.show()\n",
    "\n",
    "    eva = pandas.DataFrame(columns = ['Accuracy', 'Precision', 'Recall', 'f1-score', 'AUC'])\n",
    "    MCtrain = np.array(MCtrain).mean(axis=0).tolist()\n",
    "    MCtest = np.array(MCtest).mean(axis=0).tolist()   \n",
    "    \n",
    "    eva.loc['Training Set',:] = MCtrain\n",
    "    eva.loc['Test Set',:] = MCtest\n",
    "    print('Average Evaluation on Unsupervising Learning with Spectral Clustering ')\n",
    "    print(eva)\n",
    "    return eva"
   ]
  },
  {
   "cell_type": "code",
   "execution_count": 170,
   "metadata": {},
   "outputs": [
    {
     "name": "stdout",
     "output_type": "stream",
     "text": [
      "The 30th Monte-Carlo Simulation\n",
      "\n",
      "Training Set\n",
      "[[279   6]\n",
      " [ 51 118]]\n"
     ]
    },
    {
     "data": {
      "image/png": "[encoded data removed]",
      "text/plain": [
       "<Figure size 432x288 with 1 Axes>"
      ]
     },
     "metadata": {
      "needs_background": "light"
     },
     "output_type": "display_data"
    },
    {
     "name": "stdout",
     "output_type": "stream",
     "text": [
      "Test Set\n",
      "[[72  0]\n",
      " [10 33]]\n"
     ]
    },
    {
     "data": {
      "image/png": "[encoded data removed]",
      "text/plain": [
       "<Figure size 432x288 with 1 Axes>"
      ]
     },
     "metadata": {
      "needs_background": "light"
     },
     "output_type": "display_data"
    },
    {
     "name": "stdout",
     "output_type": "stream",
     "text": [
      "Average Evaluation on Unsupervising Learning with Spectral Clustering \n",
      "              Accuracy Precision    Recall  f1-score       AUC\n",
      "Training Set  0.883113   0.95991  0.715976  0.878684  0.949225\n",
      "Test Set      0.887246  0.961613  0.727907  0.883073  0.951615\n"
     ]
    }
   ],
   "source": [
    "speceva = MCUnsupervisedSpectral(30, slwdbc)"
   ]
  },
  {
   "cell_type": "markdown",
   "metadata": {},
   "source": [
    "### v. Comparsion between Supervised, Semi-Supervised and Unsupervised Learning"
   ]
  },
  {
   "cell_type": "code",
   "execution_count": 207,
   "metadata": {},
   "outputs": [
    {
     "name": "stdout",
     "output_type": "stream",
     "text": [
      "[Average Evaluation on Training Set]\n",
      "                       Accuracy Precision    Recall  f1-score       AUC\n",
      "Supervised             0.981938  0.988271  0.962919  0.981886  0.998349\n",
      "Semi-Supervised        0.969824  0.976579  0.941815  0.969709  0.994766\n",
      "Unsupervised-Kmeans    0.852863  0.992619   0.60927  0.842765  0.966974\n",
      "Unsupervised-Spectral  0.883113   0.95991  0.715976  0.878684  0.949225\n"
     ]
    }
   ],
   "source": [
    "ttrainn = pandas.concat([superviseeva.loc['Training Set',:],semisuperviseeva.loc['Training Set',:],kmeanseva.loc['Training Set',:],speceva.loc['Training Set',:]], axis = 1)\n",
    "ttrainn.columns = ['Supervised', 'Semi-Supervised', 'Unsupervised-Kmeans', 'Unsupervised-Spectral']\n",
    "print('[Average Evaluation on Training Set]')\n",
    "print(ttrainn.T)"
   ]
  },
  {
   "cell_type": "code",
   "execution_count": 208,
   "metadata": {},
   "outputs": [
    {
     "name": "stdout",
     "output_type": "stream",
     "text": [
      "[Average Evaluation on Test Set]\n",
      "                       Accuracy Precision    Recall  f1-score       AUC\n",
      "Supervised             0.968406  0.965971  0.949612  0.968342  0.994014\n",
      "Semi-Supervised         0.96058   0.96576  0.928682  0.960391  0.992733\n",
      "Unsupervised-Kmeans    0.848986  0.991555   0.60155  0.837894  0.966947\n",
      "Unsupervised-Spectral  0.887246  0.961613  0.727907  0.883073  0.951615\n"
     ]
    }
   ],
   "source": [
    "ttest = pandas.concat([superviseeva.loc['Test Set',:],semisuperviseeva.loc['Test Set',:],kmeanseva.loc['Test Set',:],speceva.loc['Test Set',:]], axis = 1)\n",
    "ttest.columns = ['Supervised', 'Semi-Supervised', 'Unsupervised-Kmeans', 'Unsupervised-Spectral']\n",
    "print('[Average Evaluation on Test Set]')\n",
    "print(ttest.T)"
   ]
  },
  {
   "cell_type": "markdown",
   "metadata": {},
   "source": [
    "__>__ When comparing different learning methods, we can see performance of supervised learning is slightly better than semi-supervised learning, because it involves more actual information on the label variable. Comparing with two other learning method, unsupervised learning underperforms because it makes prediction based on the similarity on the predictor variables instead of the label variable. Besides, the performance gap between supervised learning and unsupervised learning is larger than one with semi-supervised leaning, so with our average observation on 30 runs,  we can expect that training with semi-supervised method can have performance close to supervised learning, which means when we do not have enough labeled data, semi-supervised learning would be an apprpriate method to train our model and make prediction.  "
   ]
  },
  {
   "cell_type": "markdown",
   "metadata": {},
   "source": [
    "## 2. Active Learning Using Support Vector Machine"
   ]
  },
  {
   "cell_type": "markdown",
   "metadata": {},
   "source": [
    "### (a) Download the Banknote Authentication Data Set: "
   ]
  },
  {
   "cell_type": "code",
   "execution_count": 2,
   "metadata": {},
   "outputs": [],
   "source": [
    "imputfile = '/Users/changhsinyu/Desktop/temp/data_banknote_authentication.txt'\n",
    "banknote = pandas.read_csv(imputfile, header = None)\n",
    "banknote.columns = ['variance', 'skewness', 'curtosis', 'entropy', 'class']\n",
    "\n",
    "banknotey = banknote['class']  \n",
    "banknoteX = banknote.drop(columns = 'class')\n",
    "\n",
    "from sklearn.datasets import dump_svmlight_file\n",
    "from sklearn.datasets import load_svmlight_file\n",
    "dump_svmlight_file(banknoteX, banknotey, '/Users/changhsinyu/Desktop/temp/banknote.dat', zero_based=True, multilabel=False)\n",
    "slbanknote = load_svmlight_file('/Users/changhsinyu/Desktop/temp/banknote.dat')"
   ]
  },
  {
   "cell_type": "markdown",
   "metadata": {},
   "source": [
    "##### Splitting dataset to training set and test set"
   ]
  },
  {
   "cell_type": "code",
   "execution_count": 177,
   "metadata": {},
   "outputs": [],
   "source": [
    "btestsize = 472\n",
    "btesti = np.random.choice(len(slbanknote[1]), size=btestsize, replace=False)\n",
    "btestX = slbanknote[0][btesti].toarray()\n",
    "btesty = slbanknote[1][btesti]\n",
    "\n",
    "btraini = [i for i in range(len(slbanknote[1])) if i not in btesti]\n",
    "bttrainX = slbanknote[0][btraini].toarray()\n",
    "bttrainy = slbanknote[1][btraini]"
   ]
  },
  {
   "cell_type": "code",
   "execution_count": 179,
   "metadata": {},
   "outputs": [
    {
     "name": "stdout",
     "output_type": "stream",
     "text": [
      "Training Set Size: 900\n"
     ]
    }
   ],
   "source": [
    "print('Training Set Size: %d' %len(bttrainy))"
   ]
  },
  {
   "cell_type": "code",
   "execution_count": 180,
   "metadata": {},
   "outputs": [
    {
     "name": "stdout",
     "output_type": "stream",
     "text": [
      "Test Set Size: 472\n"
     ]
    }
   ],
   "source": [
    "print('Test Set Size: %d' %len(btesty))"
   ]
  },
  {
   "cell_type": "markdown",
   "metadata": {},
   "source": [
    "### (b)"
   ]
  },
  {
   "cell_type": "code",
   "execution_count": 30,
   "metadata": {},
   "outputs": [],
   "source": [
    "n=50"
   ]
  },
  {
   "cell_type": "markdown",
   "metadata": {},
   "source": [
    "### i. Passive Learning"
   ]
  },
  {
   "cell_type": "code",
   "execution_count": 11,
   "metadata": {},
   "outputs": [],
   "source": [
    "from sklearn.metrics import f1_score\n",
    "def PassiveLearning(ttrainX, ttrainy, testX, testy):\n",
    "    poolX = ttrainX\n",
    "    pooly = ttrainy \n",
    "    useX = []\n",
    "    usey = []\n",
    "    f1error = []\n",
    "\n",
    "    while len(pooly)>0:\n",
    "        geti = np.random.choice(len(pooly), size=10, replace=False)\n",
    "        useX.extend(poolX[geti].tolist())\n",
    "        usey.extend(pooly[geti].tolist())\n",
    "#         print(itemfreq(usey))\n",
    "        poolX = np.delete(poolX, geti, axis = 0)\n",
    "        pooly = np.delete(pooly, geti, axis = 0)\n",
    "        normalizer, l1svm = L1SVMSearchC(np.array(useX), np.array(usey), 10)\n",
    "        testX = normalizer.transform(testX)\n",
    "        tpredy, _, tproby= predict(testy, testX, l1svm, '-q')\n",
    "        f1error.extend([f1_score(testy, tpredy, average='weighted')])\n",
    "    return f1error "
   ]
  },
  {
   "cell_type": "code",
   "execution_count": 9,
   "metadata": {},
   "outputs": [],
   "source": [
    "def PassiveLearning50(n, ttrainX, ttrainy, testX, testy):\n",
    "    error = []\n",
    "    for i in range(n):\n",
    "        error.append(PassiveLearning(ttrainX, ttrainy, testX, testy))\n",
    "    return error"
   ]
  },
  {
   "cell_type": "code",
   "execution_count": 31,
   "metadata": {},
   "outputs": [],
   "source": [
    "passive = PassiveLearning50(n, bttrainX, bttrainy, btestX, btesty)"
   ]
  },
  {
   "cell_type": "code",
   "execution_count": 32,
   "metadata": {},
   "outputs": [],
   "source": [
    "avgpassive = np.array(passive).mean(axis=0)"
   ]
  },
  {
   "cell_type": "code",
   "execution_count": 39,
   "metadata": {},
   "outputs": [
    {
     "data": {
      "text/plain": [
       "array([0.81199896, 0.85942441, 0.90475514, 0.91760939, 0.92850146,\n",
       "       0.93373074, 0.93806055, 0.94190929, 0.94371543, 0.94553084,\n",
       "       0.94701978, 0.94800463, 0.95035545, 0.95035332, 0.95124896,\n",
       "       0.95155082, 0.95277276, 0.95389189, 0.95332069, 0.95267011,\n",
       "       0.95310143, 0.95470896, 0.95340538, 0.95457635, 0.95401424,\n",
       "       0.95379248, 0.95391882, 0.95383483, 0.95334791, 0.95361835,\n",
       "       0.95473553, 0.95434802, 0.95455908, 0.95581401, 0.95546838,\n",
       "       0.95581869, 0.95469813, 0.95469163, 0.95581677, 0.95633376,\n",
       "       0.95642305, 0.95521051, 0.9571555 , 0.95763208, 0.95763656,\n",
       "       0.95737721, 0.95754752, 0.95797974, 0.95741959, 0.95763263,\n",
       "       0.95836451, 0.95745665, 0.95750275, 0.95659487, 0.95733034,\n",
       "       0.95694009, 0.9573303 , 0.95728488, 0.95720017, 0.95693904,\n",
       "       0.95874953, 0.95875248, 0.95732715, 0.95754446, 0.95806307,\n",
       "       0.95866568, 0.95853644, 0.95896844, 0.95754445, 0.9581898 ,\n",
       "       0.95896582, 0.95918243, 0.9597867 , 0.95935526, 0.96030392,\n",
       "       0.96013047, 0.95995701, 0.96090747, 0.96034708, 0.96004425,\n",
       "       0.95974191, 0.95995932, 0.96056132, 0.95956858, 0.95961219,\n",
       "       0.95974179, 0.9593534 , 0.96017156, 0.96047353, 0.95952703])"
      ]
     },
     "execution_count": 39,
     "metadata": {},
     "output_type": "execute_result"
    }
   ],
   "source": [
    "avgpassive"
   ]
  },
  {
   "cell_type": "markdown",
   "metadata": {},
   "source": [
    "### ii. Active Learning"
   ]
  },
  {
   "cell_type": "code",
   "execution_count": 23,
   "metadata": {},
   "outputs": [],
   "source": [
    "def ActiveLearning(ttrainX, ttrainy, testX, testy):\n",
    "    poolX = ttrainX\n",
    "    pooly = ttrainy \n",
    "    useX = []\n",
    "    usey = []\n",
    "    f1error = []\n",
    "\n",
    "    #first time with random\n",
    "    geti = np.random.choice(len(pooly), size=10, replace=False)\n",
    "    #print(geti)\n",
    "    useX.extend(poolX[geti].tolist())\n",
    "    usey.extend(pooly[geti].tolist())\n",
    "    # print(itemfreq(usey))\n",
    "    poolX = np.delete(poolX, geti, axis = 0)\n",
    "    pooly = np.delete(pooly, geti, axis = 0)\n",
    "    normalizer, l1svm = L1SVMSearchC(np.array(useX), np.array(usey), 10)\n",
    "    testX = normalizer.transform(testX)\n",
    "    tpredy, _, tproby= predict(testy, testX, l1svm, '-q')\n",
    "    f1error.extend([f1_score(testy, tpredy, average='weighted')])\n",
    "    # f1error.extend([accuracy_score(testy, tpredy)])\n",
    "\n",
    "    while len(pooly)>10:\n",
    "\n",
    "        clos10 = []\n",
    "        warnings.filterwarnings(\"ignore\")\n",
    "        randnum = (itemfreq(pooly)[:, 1]/sum(itemfreq(pooly)[:, 1])*10).round()\n",
    "        \n",
    "        weight = np.array(l1svm.get_decfun()[0])\n",
    "        bias = l1svm.get_decfun()[1]\n",
    "        dist2hyper = abs(poolX@weight+bias) \n",
    "\n",
    "        for c in [0,1]:\n",
    "            ind, = np.where(pooly == c)\n",
    "            temp = np.argpartition(dist2hyper[ind], int(randnum[c]))[:int(randnum[c])]\n",
    "            clos10.extend(ind[temp].tolist())\n",
    "  \n",
    "        useX.extend(poolX[clos10].tolist())\n",
    "        usey.extend(pooly[clos10].tolist())\n",
    "        # print(itemfreq(usey))\n",
    "        poolX = np.delete(poolX, clos10, axis = 0)\n",
    "        pooly = np.delete(pooly, clos10, axis = 0)\n",
    "\n",
    "        normalizer, l1svm = L1SVMSearchC(np.array(useX), np.array(usey), 10)\n",
    "        testX = normalizer.transform(testX)\n",
    "        tpredy, _, tproby= predict(testy, testX, l1svm, '-q')\n",
    "        f1error.extend([f1_score(testy, tpredy, average='weighted')])\n",
    "        # f1error.extend([accuracy_score(testy, tpredy)])\n",
    "    \n",
    "    #last time\n",
    "    useX.extend(poolX.tolist())\n",
    "    usey.extend(pooly.tolist())\n",
    "    #poolX = np.delete(poolX, clos10, axis = 0)\n",
    "    #pooly = np.delete(pooly, clos10, axis = 0)\n",
    "\n",
    "    normalizer, l1svm = L1SVMSearchC(np.array(useX), np.array(usey), 10)\n",
    "    testX = normalizer.transform(testX)\n",
    "    tpredy, _, tproby= predict(testy, testX, l1svm, '-q')\n",
    "    f1error.extend([f1_score(testy, tpredy, average='weighted')]) \n",
    "    # f1error.extend([accuracy_score(testy, tpredy)])\n",
    "      \n",
    "    return f1error"
   ]
  },
  {
   "cell_type": "code",
   "execution_count": 25,
   "metadata": {},
   "outputs": [],
   "source": [
    "def ActiveLearning50(n, ttrainX, ttrainy, testX, testy):\n",
    "    error = []\n",
    "    for i in range(n):\n",
    "        error.append(ActiveLearning(ttrainX, ttrainy, testX, testy))\n",
    "    return error"
   ]
  },
  {
   "cell_type": "code",
   "execution_count": 34,
   "metadata": {},
   "outputs": [],
   "source": [
    "active = ActiveLearning50(n, bttrainX, bttrainy, btestX, btesty)"
   ]
  },
  {
   "cell_type": "code",
   "execution_count": 35,
   "metadata": {},
   "outputs": [],
   "source": [
    "avgactive = np.array(active).mean(axis=0)"
   ]
  },
  {
   "cell_type": "code",
   "execution_count": 38,
   "metadata": {},
   "outputs": [
    {
     "data": {
      "text/plain": [
       "array([0.79766439, 0.8945031 , 0.91197213, 0.91546504, 0.92196646,\n",
       "       0.92617149, 0.92898445, 0.93234111, 0.93675097, 0.9413336 ,\n",
       "       0.94457451, 0.94351967, 0.94251493, 0.9461502 , 0.94418645,\n",
       "       0.94070504, 0.94238818, 0.94514559, 0.94454829, 0.94706581,\n",
       "       0.9475015 , 0.94676257, 0.94541052, 0.94182645, 0.94109431,\n",
       "       0.94097382, 0.94511378, 0.94420215, 0.94889701, 0.9489377 ,\n",
       "       0.95097698, 0.95136539, 0.95153956, 0.9509733 , 0.95205897,\n",
       "       0.95179796, 0.95132016, 0.95361632, 0.95426296, 0.95434538,\n",
       "       0.9550386 , 0.95573172, 0.95590564, 0.95620708, 0.95664021,\n",
       "       0.95616183, 0.95654798, 0.95767175, 0.95788683, 0.959441  ,\n",
       "       0.95991505, 0.95913668, 0.95883464, 0.95969943, 0.95801625,\n",
       "       0.95685065, 0.95749849, 0.95775923, 0.9568967 , 0.95681182,\n",
       "       0.95676861, 0.95607876, 0.95620845, 0.95543141, 0.95512955,\n",
       "       0.95461101, 0.95409247, 0.95366061, 0.95322792, 0.95288356,\n",
       "       0.95314248, 0.95327237, 0.95348772, 0.95318626, 0.9534015 ,\n",
       "       0.95378939, 0.95404795, 0.95417747, 0.95404795, 0.9542635 ,\n",
       "       0.95452226, 0.9555581 , 0.95573116, 0.9563779 , 0.95745697,\n",
       "       0.95814622, 0.95767272, 0.95987036, 0.96129296, 0.96211135])"
      ]
     },
     "execution_count": 38,
     "metadata": {},
     "output_type": "execute_result"
    }
   ],
   "source": [
    "avgactive"
   ]
  },
  {
   "cell_type": "markdown",
   "metadata": {},
   "source": [
    "### (c) Monte Carlo Simulation with plotting Test Error versus Number of Training Instances"
   ]
  },
  {
   "cell_type": "code",
   "execution_count": 36,
   "metadata": {},
   "outputs": [
    {
     "data": {
      "image/png": "[encoded data removed]",
      "text/plain": [
       "<Figure size 432x288 with 1 Axes>"
      ]
     },
     "metadata": {
      "needs_background": "light"
     },
     "output_type": "display_data"
    }
   ],
   "source": [
    "import matplotlib.pyplot as plt\n",
    "datapoint = np.array([10*i for i in range(1,91)])\n",
    "plt.plot(datapoint, avgpassive, '--', color=\"#111111\",  label=\"Passive Learning\")\n",
    "plt.plot(datapoint, avgactive, color=\"#111111\", label=\"Active Learning\")\n",
    "plt.title(\"Learning Curve\")\n",
    "plt.xlabel(\"Training Set Size\"), plt.ylabel(\"F1-score\"), plt.legend(loc=\"best\")\n",
    "plt.tight_layout()\n",
    "plt.show()"
   ]
  },
  {
   "cell_type": "code",
   "execution_count": null,
   "metadata": {},
   "outputs": [],
   "source": []
  }
 ],
 "metadata": {
  "kernelspec": {
   "display_name": "Python 3",
   "language": "python",
   "name": "python3"
  },
  "language_info": {
   "codemirror_mode": {
    "name": "ipython",
    "version": 3
   },
   "file_extension": ".py",
   "mimetype": "text/x-python",
   "name": "python",
   "nbconvert_exporter": "python",
   "pygments_lexer": "ipython3",
   "version": "3.6.5"
  }
 },
 "nbformat": 4,
 "nbformat_minor": 2
}
