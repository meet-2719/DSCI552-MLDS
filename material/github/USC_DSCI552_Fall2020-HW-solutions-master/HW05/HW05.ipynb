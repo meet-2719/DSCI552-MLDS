{
 "cells": [
  {
   "cell_type": "markdown",
   "metadata": {},
   "source": [
    "# Yun Cheng\n",
    "## HW 05 Problem 1\n",
    "### USC ID: 5013232478"
   ]
  },
  {
   "cell_type": "markdown",
   "metadata": {},
   "source": [
    "Download the Anuran Calls (MFCCs) Data Set from:\n",
    "https://archive.ics.\n",
    "uci.edu/ml/datasets/Anuran+Calls+%28MFCCs%29\n",
    ". Choose 70% of the data\n",
    "randomly as the training set"
   ]
  },
  {
   "cell_type": "code",
   "execution_count": 1,
   "metadata": {},
   "outputs": [],
   "source": [
    "import warnings\n",
    "warnings.filterwarnings('ignore')\n",
    "import pandas as pd\n",
    "data=pd.read_csv('./Anuran Calls (MFCCs)/Frogs_MFCCs.csv')"
   ]
  },
  {
   "cell_type": "code",
   "execution_count": 2,
   "metadata": {},
   "outputs": [],
   "source": [
    "from sklearn.model_selection import train_test_split\n",
    "train_data,test_data=train_test_split(data,test_size=0.3, random_state=1)"
   ]
  },
  {
   "cell_type": "code",
   "execution_count": 3,
   "metadata": {},
   "outputs": [
    {
     "data": {
      "text/html": [
       "<div>\n",
       "<style scoped>\n",
       "    .dataframe tbody tr th:only-of-type {\n",
       "        vertical-align: middle;\n",
       "    }\n",
       "\n",
       "    .dataframe tbody tr th {\n",
       "        vertical-align: top;\n",
       "    }\n",
       "\n",
       "    .dataframe thead th {\n",
       "        text-align: right;\n",
       "    }\n",
       "</style>\n",
       "<table border=\"1\" class=\"dataframe\">\n",
       "  <thead>\n",
       "    <tr style=\"text-align: right;\">\n",
       "      <th></th>\n",
       "      <th>MFCCs_ 1</th>\n",
       "      <th>MFCCs_ 2</th>\n",
       "      <th>MFCCs_ 3</th>\n",
       "      <th>MFCCs_ 4</th>\n",
       "      <th>MFCCs_ 5</th>\n",
       "      <th>MFCCs_ 6</th>\n",
       "      <th>MFCCs_ 7</th>\n",
       "      <th>MFCCs_ 8</th>\n",
       "      <th>MFCCs_ 9</th>\n",
       "      <th>MFCCs_10</th>\n",
       "      <th>...</th>\n",
       "      <th>MFCCs_17</th>\n",
       "      <th>MFCCs_18</th>\n",
       "      <th>MFCCs_19</th>\n",
       "      <th>MFCCs_20</th>\n",
       "      <th>MFCCs_21</th>\n",
       "      <th>MFCCs_22</th>\n",
       "      <th>Family</th>\n",
       "      <th>Genus</th>\n",
       "      <th>Species</th>\n",
       "      <th>RecordID</th>\n",
       "    </tr>\n",
       "  </thead>\n",
       "  <tbody>\n",
       "    <tr>\n",
       "      <th>1437</th>\n",
       "      <td>1.0</td>\n",
       "      <td>0.234912</td>\n",
       "      <td>0.163505</td>\n",
       "      <td>0.568169</td>\n",
       "      <td>0.182173</td>\n",
       "      <td>0.043768</td>\n",
       "      <td>-0.110761</td>\n",
       "      <td>0.032616</td>\n",
       "      <td>0.298854</td>\n",
       "      <td>0.047681</td>\n",
       "      <td>...</td>\n",
       "      <td>0.218638</td>\n",
       "      <td>0.012970</td>\n",
       "      <td>-0.116182</td>\n",
       "      <td>-0.137483</td>\n",
       "      <td>0.068987</td>\n",
       "      <td>0.271355</td>\n",
       "      <td>Leptodactylidae</td>\n",
       "      <td>Adenomera</td>\n",
       "      <td>AdenomeraHylaedactylus</td>\n",
       "      <td>15</td>\n",
       "    </tr>\n",
       "    <tr>\n",
       "      <th>4629</th>\n",
       "      <td>1.0</td>\n",
       "      <td>0.076958</td>\n",
       "      <td>0.157283</td>\n",
       "      <td>0.553840</td>\n",
       "      <td>0.229431</td>\n",
       "      <td>0.068892</td>\n",
       "      <td>-0.111031</td>\n",
       "      <td>-0.003126</td>\n",
       "      <td>0.188751</td>\n",
       "      <td>0.034005</td>\n",
       "      <td>...</td>\n",
       "      <td>0.248375</td>\n",
       "      <td>-0.104654</td>\n",
       "      <td>-0.205719</td>\n",
       "      <td>-0.114807</td>\n",
       "      <td>0.149836</td>\n",
       "      <td>0.193878</td>\n",
       "      <td>Leptodactylidae</td>\n",
       "      <td>Adenomera</td>\n",
       "      <td>AdenomeraHylaedactylus</td>\n",
       "      <td>24</td>\n",
       "    </tr>\n",
       "    <tr>\n",
       "      <th>348</th>\n",
       "      <td>1.0</td>\n",
       "      <td>0.665272</td>\n",
       "      <td>0.664969</td>\n",
       "      <td>0.565452</td>\n",
       "      <td>-0.198340</td>\n",
       "      <td>-0.037236</td>\n",
       "      <td>0.361707</td>\n",
       "      <td>0.034594</td>\n",
       "      <td>-0.251392</td>\n",
       "      <td>0.164376</td>\n",
       "      <td>...</td>\n",
       "      <td>0.097071</td>\n",
       "      <td>0.181396</td>\n",
       "      <td>-0.142626</td>\n",
       "      <td>0.019861</td>\n",
       "      <td>0.093510</td>\n",
       "      <td>-0.030942</td>\n",
       "      <td>Leptodactylidae</td>\n",
       "      <td>Adenomera</td>\n",
       "      <td>AdenomeraAndre</td>\n",
       "      <td>8</td>\n",
       "    </tr>\n",
       "    <tr>\n",
       "      <th>1566</th>\n",
       "      <td>1.0</td>\n",
       "      <td>0.198517</td>\n",
       "      <td>0.158430</td>\n",
       "      <td>0.513846</td>\n",
       "      <td>0.173431</td>\n",
       "      <td>0.031674</td>\n",
       "      <td>-0.176334</td>\n",
       "      <td>0.005376</td>\n",
       "      <td>0.289579</td>\n",
       "      <td>0.116893</td>\n",
       "      <td>...</td>\n",
       "      <td>0.229870</td>\n",
       "      <td>0.076405</td>\n",
       "      <td>-0.098541</td>\n",
       "      <td>-0.185672</td>\n",
       "      <td>-0.010407</td>\n",
       "      <td>0.194618</td>\n",
       "      <td>Leptodactylidae</td>\n",
       "      <td>Adenomera</td>\n",
       "      <td>AdenomeraHylaedactylus</td>\n",
       "      <td>15</td>\n",
       "    </tr>\n",
       "    <tr>\n",
       "      <th>5469</th>\n",
       "      <td>1.0</td>\n",
       "      <td>0.454285</td>\n",
       "      <td>0.528052</td>\n",
       "      <td>0.347232</td>\n",
       "      <td>-0.025295</td>\n",
       "      <td>0.163605</td>\n",
       "      <td>0.036155</td>\n",
       "      <td>0.199822</td>\n",
       "      <td>0.157373</td>\n",
       "      <td>-0.229557</td>\n",
       "      <td>...</td>\n",
       "      <td>-0.141104</td>\n",
       "      <td>-0.031898</td>\n",
       "      <td>0.068993</td>\n",
       "      <td>0.100330</td>\n",
       "      <td>-0.029206</td>\n",
       "      <td>-0.195860</td>\n",
       "      <td>Hylidae</td>\n",
       "      <td>Hypsiboas</td>\n",
       "      <td>HypsiboasCinerascens</td>\n",
       "      <td>39</td>\n",
       "    </tr>\n",
       "  </tbody>\n",
       "</table>\n",
       "<p>5 rows × 26 columns</p>\n",
       "</div>"
      ],
      "text/plain": [
       "      MFCCs_ 1  MFCCs_ 2  MFCCs_ 3  MFCCs_ 4  MFCCs_ 5  MFCCs_ 6  MFCCs_ 7  \\\n",
       "1437       1.0  0.234912  0.163505  0.568169  0.182173  0.043768 -0.110761   \n",
       "4629       1.0  0.076958  0.157283  0.553840  0.229431  0.068892 -0.111031   \n",
       "348        1.0  0.665272  0.664969  0.565452 -0.198340 -0.037236  0.361707   \n",
       "1566       1.0  0.198517  0.158430  0.513846  0.173431  0.031674 -0.176334   \n",
       "5469       1.0  0.454285  0.528052  0.347232 -0.025295  0.163605  0.036155   \n",
       "\n",
       "      MFCCs_ 8  MFCCs_ 9  MFCCs_10  ...  MFCCs_17  MFCCs_18  MFCCs_19  \\\n",
       "1437  0.032616  0.298854  0.047681  ...  0.218638  0.012970 -0.116182   \n",
       "4629 -0.003126  0.188751  0.034005  ...  0.248375 -0.104654 -0.205719   \n",
       "348   0.034594 -0.251392  0.164376  ...  0.097071  0.181396 -0.142626   \n",
       "1566  0.005376  0.289579  0.116893  ...  0.229870  0.076405 -0.098541   \n",
       "5469  0.199822  0.157373 -0.229557  ... -0.141104 -0.031898  0.068993   \n",
       "\n",
       "      MFCCs_20  MFCCs_21  MFCCs_22           Family      Genus  \\\n",
       "1437 -0.137483  0.068987  0.271355  Leptodactylidae  Adenomera   \n",
       "4629 -0.114807  0.149836  0.193878  Leptodactylidae  Adenomera   \n",
       "348   0.019861  0.093510 -0.030942  Leptodactylidae  Adenomera   \n",
       "1566 -0.185672 -0.010407  0.194618  Leptodactylidae  Adenomera   \n",
       "5469  0.100330 -0.029206 -0.195860          Hylidae  Hypsiboas   \n",
       "\n",
       "                     Species  RecordID  \n",
       "1437  AdenomeraHylaedactylus        15  \n",
       "4629  AdenomeraHylaedactylus        24  \n",
       "348           AdenomeraAndre         8  \n",
       "1566  AdenomeraHylaedactylus        15  \n",
       "5469    HypsiboasCinerascens        39  \n",
       "\n",
       "[5 rows x 26 columns]"
      ]
     },
     "execution_count": 3,
     "metadata": {},
     "output_type": "execute_result"
    }
   ],
   "source": [
    "train_data.head()"
   ]
  },
  {
   "cell_type": "markdown",
   "metadata": {},
   "source": [
    "#### (b)Each instance has three labels: Families, Genus, and Species. Each of the labels has multiple classes. We wish to solve a multi-class and multi-label problem. One of the most important approaches to multi-class classification is to train a classifier for each label. We first try this approach:"
   ]
  },
  {
   "cell_type": "markdown",
   "metadata": {},
   "source": [
    "i.\n",
    "Research exact match and hamming score/ loss methods for evaluating multi-\n",
    "label classification and use them in evaluating the classifiers in this problem."
   ]
  },
  {
   "cell_type": "markdown",
   "metadata": {},
   "source": [
    "* In multiclass classification, the Hamming loss corresponds to the Hamming distance between true values and prediction. It is  the fraction of the wrong labels to the total number of labels. Hamming distance for each label is the fraction of wrong predicted class."
   ]
  },
  {
   "cell_type": "markdown",
   "metadata": {},
   "source": [
    "(ii)Train a SVM for each of the labels, using Gaussian kernels and one versus\n",
    "all classifiers. Determine the weight of the SVM penalty and the width of\n",
    "the Gaussian Kernel using 10 fold cross validation.\n",
    "1\n",
    "You are welcome to try\n",
    "to solve the problem with both standardized\n",
    "2\n",
    "and raw attributes and report\n",
    "the results"
   ]
  },
  {
   "cell_type": "code",
   "execution_count": 4,
   "metadata": {},
   "outputs": [],
   "source": [
    "X_train=train_data.iloc[:,:-4]\n",
    "Y_train=train_data.iloc[:,train_data.shape[1]-4:-1]\n",
    "X_test=test_data.iloc[:,:-4]\n",
    "Y_test=test_data.iloc[:,test_data.shape[1]-4:-1]"
   ]
  },
  {
   "cell_type": "code",
   "execution_count": 6,
   "metadata": {},
   "outputs": [
    {
     "name": "stdout",
     "output_type": "stream",
     "text": [
      "Family Summary is :\n",
      "Best Parameter is  {'C': 35.93813663804626, 'gamma': 4.641588833612772}\n",
      "Accurancy is  0.9911996294580825\n",
      "Hamming loss is  0.008800370541917554\n",
      "Genus Summary is :\n",
      "Best Parameter is  {'C': 5994.842503189421, 'gamma': 0.21544346900318778}\n",
      "Accurancy is  0.9828624363131079\n",
      "Hamming loss is  0.01713756368689208\n",
      "Species Summary is :\n",
      "Best Parameter is  {'C': 2.782559402207126, 'gamma': 4.641588833612772}\n",
      "Accurancy is  0.9870310328855951\n",
      "Hamming loss is  0.012968967114404817\n"
     ]
    }
   ],
   "source": [
    "from sklearn.svm import SVC\n",
    "import numpy as np\n",
    "from sklearn.model_selection import GridSearchCV\n",
    "from sklearn.metrics import accuracy_score, hamming_loss\n",
    "Ylabel=['Family','Genus','Species']\n",
    "#\"gamma\":[0.00000000001,100], \"C\":[0.0001,1000000]\n",
    "\n",
    "svcParam_grid = {\"gamma\":np.logspace(-10, 2, 10), \"C\":np.logspace(-4, 6, 10)}\n",
    "svclassifier = SVC(kernel='rbf')\n",
    "for i in range(Y_train.shape[1]):\n",
    "    Y_train_classifer=Y_train.iloc[:,i]\n",
    "    Y_test_classifer=Y_test.iloc[:,i]\n",
    "    svclassifier.fit(X_train, Y_train_classifer)\n",
    "    GridCV = GridSearchCV(svclassifier, svcParam_grid, cv=10, n_jobs=-1)\n",
    "    GridCV.fit(X_train,Y_train_classifer)\n",
    "    OptimalSVC = GridCV.best_estimator_\n",
    "    Y_predict_classifer = OptimalSVC.predict(X_test)\n",
    "    print(Ylabel[i],'Summary is :')\n",
    "    print('Best Parameter is ',GridCV.best_params_)\n",
    "    print('Accurancy is ',accuracy_score(Y_test_classifer,Y_predict_classifer))\n",
    "    print('Hamming loss is ',hamming_loss(Y_test_classifer,Y_predict_classifer))"
   ]
  },
  {
   "cell_type": "markdown",
   "metadata": {},
   "source": [
    "(iii) Repeat 1(b)ii with\n",
    "L\n",
    "1\n",
    "-penalized SVMs.\n",
    "3\n",
    "Remember to standardize\n",
    "4\n",
    "the at-\n",
    "tributes. Determine the weight of the SVM penalty using 10 fold cross vali-\n",
    "dation."
   ]
  },
  {
   "cell_type": "code",
   "execution_count": 8,
   "metadata": {},
   "outputs": [
    {
     "name": "stdout",
     "output_type": "stream",
     "text": [
      "Family Summary is :\n",
      "Best Parameter is  {'C': 35.93813663804626}\n",
      "Accurancy is  0.9346919870310328\n",
      "Hamming loss is  0.06530801296896711\n",
      "Genus Summary is :\n",
      "Best Parameter is  {'C': 464.1588833612782}\n",
      "Accurancy is  0.9462714219546086\n",
      "Hamming loss is  0.053728578045391384\n",
      "Species Summary is :\n",
      "Best Parameter is  {'C': 464.1588833612782}\n",
      "Accurancy is  0.9573876794812413\n",
      "Hamming loss is  0.042612320518758684\n"
     ]
    }
   ],
   "source": [
    "from sklearn.svm import LinearSVC\n",
    "\n",
    "LinearsvcParam_grid = {\"C\":np.logspace(-4, 6, 10)}\n",
    "Linearsvc = LinearSVC(penalty='l1',dual=False)\n",
    "for i in range(Y_train.shape[1]):\n",
    "    Y_train_classifer=Y_train.iloc[:,i]\n",
    "    Y_test_classifer=Y_test.iloc[:,i]\n",
    "    Linearsvc.fit(X_train, Y_train_classifer)\n",
    "    LinearGridCV = GridSearchCV(Linearsvc, LinearsvcParam_grid, cv=10, n_jobs=-1)\n",
    "    LinearGridCV.fit(X_train,Y_train_classifer)\n",
    "    OptimalLinearSVC = LinearGridCV.best_estimator_\n",
    "    Y_predict_classifer = OptimalLinearSVC.predict(X_test)\n",
    "    print(Ylabel[i],'Summary is :')\n",
    "    print('Best Parameter is ',LinearGridCV.best_params_)\n",
    "    print('Accurancy is ',accuracy_score(Y_test_classifer,Y_predict_classifer))\n",
    "    print('Hamming loss is ',hamming_loss(Y_test_classifer,Y_predict_classifer))"
   ]
  },
  {
   "cell_type": "markdown",
   "metadata": {},
   "source": [
    "(iv)Repeat 1(b)iii by using SMOTE or any other method you know to remedy\n",
    "class imbalance. Report your conclusions about the classifiers you trained."
   ]
  },
  {
   "cell_type": "code",
   "execution_count": 11,
   "metadata": {},
   "outputs": [
    {
     "name": "stdout",
     "output_type": "stream",
     "text": [
      "Family after SMOTE data Summary is :\n",
      "Best Parameter is  {'C': 1000000.0}\n",
      "Accurancy is  0.9032379518072289\n",
      "Hamming loss is  0.09676204819277108\n",
      "Genus after SMOTE data Summary is :\n",
      "Best Parameter is  {'C': 464.1588833612782}\n",
      "Accurancy is  0.9116362192216044\n",
      "Hamming loss is  0.08836378077839555\n",
      "Species after SMOTE data Summary is :\n",
      "Best Parameter is  {'C': 464.1588833612782}\n",
      "Accurancy is  0.9211359404096834\n",
      "Hamming loss is  0.07886405959031657\n"
     ]
    }
   ],
   "source": [
    "from imblearn.over_sampling import SMOTE\n",
    "smote = SMOTE(random_state=1)\n",
    "    \n",
    "LinearsvcParam_grid = {\"C\":np.logspace(-4, 6, 10)}\n",
    "Linearsvc = LinearSVC(penalty='l1',dual=False)\n",
    "for i in range(Y_train.shape[1]):\n",
    "    Y_train_classifer=Y_train.iloc[:,i]\n",
    "    Y_test_classifer=Y_test.iloc[:,i]\n",
    "    smote = SMOTE(random_state=1)\n",
    "    X_train_smote, Y_train_smote = smote.fit_sample(X_train, Y_train_classifer)\n",
    "    X_test_smote, Y_test_smote = smote.fit_sample(X_test, Y_test_classifer)\n",
    "    Linearsvc.fit(X_train_smote, Y_train_smote)\n",
    "    LinearGridCV = GridSearchCV(Linearsvc, LinearsvcParam_grid, cv=10, n_jobs=-1)\n",
    "    LinearGridCV.fit(X_train_smote,Y_train_smote)\n",
    "    OptimalLinearSVC = LinearGridCV.best_estimator_\n",
    "    Y_predict_classifer = OptimalLinearSVC.predict( X_test_smote)\n",
    "    print(Ylabel[i],'after SMOTE data Summary is :')\n",
    "    print('Best Parameter is ',LinearGridCV.best_params_)\n",
    "    print('Accurancy is ',accuracy_score(Y_test_smote,Y_predict_classifer))\n",
    "    print('Hamming loss is ',hamming_loss(Y_test_smote,Y_predict_classifer))"
   ]
  },
  {
   "cell_type": "markdown",
   "metadata": {},
   "source": [
    "# Continue to HW5Part2.ipynb for Problem 2"
   ]
  },
  {
   "cell_type": "code",
   "execution_count": null,
   "metadata": {},
   "outputs": [],
   "source": []
  }
 ],
 "metadata": {
  "kernelspec": {
   "display_name": "Python 3",
   "language": "python",
   "name": "python3"
  },
  "language_info": {
   "codemirror_mode": {
    "name": "ipython",
    "version": 3
   },
   "file_extension": ".py",
   "mimetype": "text/x-python",
   "name": "python",
   "nbconvert_exporter": "python",
   "pygments_lexer": "ipython3",
   "version": "3.7.3"
  }
 },
 "nbformat": 4,
 "nbformat_minor": 2
}
