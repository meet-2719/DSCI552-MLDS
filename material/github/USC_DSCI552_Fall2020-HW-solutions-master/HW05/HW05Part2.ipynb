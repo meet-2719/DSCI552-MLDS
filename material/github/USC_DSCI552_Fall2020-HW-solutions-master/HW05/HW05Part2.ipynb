{
 "cells": [
  {
   "cell_type": "markdown",
   "metadata": {},
   "source": [
    "# Yun Cheng\n",
    "## HW 05 Problem 2a\n",
    "### USC ID: 5013232478"
   ]
  },
  {
   "cell_type": "markdown",
   "metadata": {},
   "source": [
    "(a)\n",
    "Use k-means clustering on the whole Anuran Calls (MFCCs) Data Set (do not split\n",
    "the data into train and test, as we are not performing supervised learning in this\n",
    "exercise). Choose\n",
    "k\n",
    "∈ {\n",
    "1\n",
    ",\n",
    "2\n",
    ", . . . ,\n",
    "50\n",
    "}\n",
    "automatically based on one of the methods\n",
    "provided in the slides (CH or Gap Statistics or scree plots or Silhouettes) or any\n",
    "other method you know"
   ]
  },
  {
   "cell_type": "code",
   "execution_count": 1,
   "metadata": {},
   "outputs": [],
   "source": [
    "import warnings\n",
    "warnings.filterwarnings('ignore')\n",
    "import pandas as pd\n",
    "data=pd.read_csv('./Anuran Calls (MFCCs)/Frogs_MFCCs.csv')\n",
    "from sklearn.cluster import KMeans\n",
    "from sklearn.metrics import silhouette_samples, silhouette_score\n",
    "from sklearn.metrics import accuracy_score, hamming_loss\n",
    "import numpy as np"
   ]
  },
  {
   "cell_type": "code",
   "execution_count": 2,
   "metadata": {},
   "outputs": [],
   "source": [
    "from sklearn.preprocessing import LabelEncoder\n",
    "from scipy.spatial.distance import hamming\n",
    "lbl = LabelEncoder()\n",
    "X=data.iloc[:,:-4]\n",
    "Y=data.iloc[:,data.shape[1]-4:-1]\n",
    "Y_feature_encode=[]\n",
    "for i in range(Y.shape[1]):\n",
    "            Y_feature=Y.iloc[:,i]\n",
    "            Y_feature_encode.append(lbl.fit_transform(Y_feature))"
   ]
  },
  {
   "cell_type": "code",
   "execution_count": 3,
   "metadata": {},
   "outputs": [
    {
     "name": "stdout",
     "output_type": "stream",
     "text": [
      "iteration 0 is done \n",
      "iteration 1 is done \n",
      "iteration 2 is done \n",
      "iteration 3 is done \n",
      "iteration 4 is done \n",
      "iteration 5 is done \n",
      "iteration 6 is done \n",
      "iteration 7 is done \n",
      "iteration 8 is done \n",
      "iteration 9 is done \n",
      "iteration 10 is done \n",
      "iteration 11 is done \n",
      "iteration 12 is done \n",
      "iteration 13 is done \n",
      "iteration 14 is done \n",
      "iteration 15 is done \n",
      "iteration 16 is done \n",
      "iteration 17 is done \n",
      "iteration 18 is done \n",
      "iteration 19 is done \n",
      "iteration 20 is done \n",
      "iteration 21 is done \n",
      "iteration 22 is done \n",
      "iteration 23 is done \n",
      "iteration 24 is done \n",
      "iteration 25 is done \n",
      "iteration 26 is done \n",
      "iteration 27 is done \n",
      "iteration 28 is done \n",
      "iteration 29 is done \n",
      "iteration 30 is done \n",
      "iteration 31 is done \n",
      "iteration 32 is done \n",
      "iteration 33 is done \n",
      "iteration 34 is done \n",
      "iteration 35 is done \n",
      "iteration 36 is done \n",
      "iteration 37 is done \n",
      "iteration 38 is done \n",
      "iteration 39 is done \n",
      "iteration 40 is done \n",
      "iteration 41 is done \n",
      "iteration 42 is done \n",
      "iteration 43 is done \n",
      "iteration 44 is done \n",
      "iteration 45 is done \n",
      "iteration 46 is done \n",
      "iteration 47 is done \n",
      "iteration 48 is done \n",
      "iteration 49 is done \n"
     ]
    }
   ],
   "source": [
    "range_n_clusters = np.arange(2,51)\n",
    "bestk=[]\n",
    "Bestk_hammingDist=[]\n",
    "for j in range(50):\n",
    "    silhouette_avg=[]\n",
    "    hamming_distance_for_each_k=[]\n",
    "    for n_clusters in range_n_clusters:\n",
    "        \n",
    "        hamming_distance_each=[]#hamming distance for each label(Family,Genus,Species)\n",
    "        for i in range(3):\n",
    "            Y_feature=Y_feature_encode[i]\n",
    "            clusterer = KMeans(n_clusters=n_clusters, random_state=j)\n",
    "            cluster_labels = clusterer.fit_predict(X)\n",
    "        hamming_distance_each.append(hamming(Y_feature,cluster_labels))\n",
    "        hamming_distance_for_each_k.append(np.mean(hamming_distance_each))#for each k cluster, append mean Hamming distances\n",
    "        silhouette_avg.append(silhouette_score(X, cluster_labels))\n",
    "    bestk.append(range_n_clusters[silhouette_avg.index(max(silhouette_avg))])\n",
    "    Bestk_hammingDist.append(min(hamming_distance_for_each_k))#for one iteration\n",
    "    print('iteration {} is done '.format(j))"
   ]
  },
  {
   "cell_type": "code",
   "execution_count": 4,
   "metadata": {},
   "outputs": [],
   "source": [
    "#Citation: https://www.geeksforgeeks.org/python-find-most-frequent-element-in-a-list/  \n",
    "def most_frequent(List): \n",
    "    counter = 0\n",
    "    num = List[0] \n",
    "      \n",
    "    for i in List: \n",
    "        frequency = List.count(i) \n",
    "        if(frequency> counter): \n",
    "            counter = frequency \n",
    "            num = i \n",
    "  \n",
    "    return num  "
   ]
  },
  {
   "cell_type": "code",
   "execution_count": 5,
   "metadata": {},
   "outputs": [],
   "source": [
    "def Average(lst): \n",
    "    return sum(lst) / len(lst) "
   ]
  },
  {
   "cell_type": "code",
   "execution_count": 6,
   "metadata": {},
   "outputs": [
    {
     "name": "stdout",
     "output_type": "stream",
     "text": [
      "Standard Deviation of Hamming distance is 0.11097528444394107 \n"
     ]
    }
   ],
   "source": [
    "import statistics\n",
    "print(\"Standard Deviation of Hamming distance is % s \" \n",
    "                % (statistics.stdev(Bestk_hammingDist)))"
   ]
  },
  {
   "cell_type": "code",
   "execution_count": 7,
   "metadata": {},
   "outputs": [
    {
     "name": "stdout",
     "output_type": "stream",
     "text": [
      "The Avg of Hamming Distance is 0.45848783877692834\n"
     ]
    }
   ],
   "source": [
    "print(\"The Avg of Hamming Distance is {}\".format(Average(Bestk_hammingDist)))"
   ]
  },
  {
   "cell_type": "code",
   "execution_count": 8,
   "metadata": {},
   "outputs": [
    {
     "name": "stdout",
     "output_type": "stream",
     "text": [
      "Best K over 50 iterations is 4\n"
     ]
    }
   ],
   "source": [
    "print(\"Best K over 50 iterations is {}\".format(most_frequent(bestk)))"
   ]
  },
  {
   "cell_type": "markdown",
   "metadata": {},
   "source": [
    "# Continue to HW5Part3.ipynb for Problem 2b "
   ]
  },
  {
   "cell_type": "code",
   "execution_count": null,
   "metadata": {},
   "outputs": [],
   "source": []
  }
 ],
 "metadata": {
  "kernelspec": {
   "display_name": "Python 3",
   "language": "python",
   "name": "python3"
  },
  "language_info": {
   "codemirror_mode": {
    "name": "ipython",
    "version": 3
   },
   "file_extension": ".py",
   "mimetype": "text/x-python",
   "name": "python",
   "nbconvert_exporter": "python",
   "pygments_lexer": "ipython3",
   "version": "3.7.3"
  }
 },
 "nbformat": 4,
 "nbformat_minor": 2
}
