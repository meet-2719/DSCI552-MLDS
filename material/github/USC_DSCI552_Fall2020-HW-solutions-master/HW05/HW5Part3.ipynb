{
 "cells": [
  {
   "cell_type": "markdown",
   "metadata": {},
   "source": [
    "# Yun Cheng\n",
    "## HW 05 Problem 2\n",
    "### USC ID: 5013232478"
   ]
  },
  {
   "cell_type": "markdown",
   "metadata": {},
   "source": [
    "(b) In each cluster, determine which family is the majority by reading the true labels. Repeat for genus and species."
   ]
  },
  {
   "cell_type": "code",
   "execution_count": 1,
   "metadata": {},
   "outputs": [],
   "source": [
    "import warnings\n",
    "warnings.filterwarnings('ignore')\n",
    "import pandas as pd\n",
    "data=pd.read_csv('./Anuran Calls (MFCCs)/Frogs_MFCCs.csv')\n",
    "from sklearn.cluster import KMeans\n",
    "from sklearn.metrics import silhouette_samples, silhouette_score\n",
    "from sklearn.metrics import accuracy_score, hamming_loss\n",
    "import numpy as np\n",
    "from sklearn.preprocessing import LabelEncoder\n",
    "from scipy.spatial.distance import hamming\n",
    "lbl = LabelEncoder()\n",
    "\n",
    "X=data.iloc[:,:-4]\n",
    "Y=data.iloc[:,data.shape[1]-4:-1]\n",
    "Label = [\"Family\", \"Genus\", \"Species\"]"
   ]
  },
  {
   "cell_type": "code",
   "execution_count": 2,
   "metadata": {},
   "outputs": [],
   "source": [
    "# Program to find most frequent  \n",
    "# element in a list \n",
    "#Citation: https://www.geeksforgeeks.org/python-find-most-frequent-element-in-a-list/  \n",
    "from collections import Counter   \n",
    "def most_frequent(List): \n",
    "    occurence_count = Counter(List) \n",
    "    return occurence_count.most_common(1)[0][0] "
   ]
  },
  {
   "cell_type": "code",
   "execution_count": 3,
   "metadata": {},
   "outputs": [
    {
     "name": "stdout",
     "output_type": "stream",
     "text": [
      "Iteration 1|Best K is 4|Majority class in each label at each cluster is {'Cluster 1': {'Family': 'Leptodactylidae', 'Genus': 'Adenomera', 'Species': 'AdenomeraHylaedactylus'}, 'Cluster 2': {'Family': 'Leptodactylidae', 'Genus': 'Adenomera', 'Species': 'AdenomeraAndre'}, 'Cluster 3': {'Family': 'Hylidae', 'Genus': 'Osteocephalus', 'Species': 'OsteocephalusOophagus'}, 'Cluster 4': {'Family': 'Dendrobatidae', 'Genus': 'Ameerega', 'Species': 'Ameeregatrivittata'}}; \n",
      "Iteration 2|Best K is 4|Majority class in each label at each cluster is {'Cluster 1': {'Family': 'Leptodactylidae', 'Genus': 'Adenomera', 'Species': 'AdenomeraHylaedactylus'}, 'Cluster 2': {'Family': 'Leptodactylidae', 'Genus': 'Adenomera', 'Species': 'AdenomeraAndre'}, 'Cluster 3': {'Family': 'Hylidae', 'Genus': 'Osteocephalus', 'Species': 'OsteocephalusOophagus'}, 'Cluster 4': {'Family': 'Dendrobatidae', 'Genus': 'Ameerega', 'Species': 'Ameeregatrivittata'}}; \n",
      "Iteration 3|Best K is 4|Majority class in each label at each cluster is {'Cluster 1': {'Family': 'Leptodactylidae', 'Genus': 'Adenomera', 'Species': 'AdenomeraHylaedactylus'}, 'Cluster 2': {'Family': 'Leptodactylidae', 'Genus': 'Adenomera', 'Species': 'AdenomeraAndre'}, 'Cluster 3': {'Family': 'Hylidae', 'Genus': 'Osteocephalus', 'Species': 'OsteocephalusOophagus'}, 'Cluster 4': {'Family': 'Dendrobatidae', 'Genus': 'Ameerega', 'Species': 'Ameeregatrivittata'}}; \n",
      "Iteration 4|Best K is 4|Majority class in each label at each cluster is {'Cluster 1': {'Family': 'Leptodactylidae', 'Genus': 'Adenomera', 'Species': 'AdenomeraHylaedactylus'}, 'Cluster 2': {'Family': 'Leptodactylidae', 'Genus': 'Adenomera', 'Species': 'AdenomeraAndre'}, 'Cluster 3': {'Family': 'Hylidae', 'Genus': 'Osteocephalus', 'Species': 'OsteocephalusOophagus'}, 'Cluster 4': {'Family': 'Dendrobatidae', 'Genus': 'Ameerega', 'Species': 'Ameeregatrivittata'}}; \n",
      "Iteration 5|Best K is 4|Majority class in each label at each cluster is {'Cluster 1': {'Family': 'Leptodactylidae', 'Genus': 'Adenomera', 'Species': 'AdenomeraHylaedactylus'}, 'Cluster 2': {'Family': 'Leptodactylidae', 'Genus': 'Adenomera', 'Species': 'AdenomeraAndre'}, 'Cluster 3': {'Family': 'Hylidae', 'Genus': 'Osteocephalus', 'Species': 'OsteocephalusOophagus'}, 'Cluster 4': {'Family': 'Dendrobatidae', 'Genus': 'Ameerega', 'Species': 'Ameeregatrivittata'}}; \n",
      "Iteration 6|Best K is 4|Majority class in each label at each cluster is {'Cluster 1': {'Family': 'Leptodactylidae', 'Genus': 'Adenomera', 'Species': 'AdenomeraHylaedactylus'}, 'Cluster 2': {'Family': 'Leptodactylidae', 'Genus': 'Adenomera', 'Species': 'AdenomeraAndre'}, 'Cluster 3': {'Family': 'Hylidae', 'Genus': 'Osteocephalus', 'Species': 'OsteocephalusOophagus'}, 'Cluster 4': {'Family': 'Dendrobatidae', 'Genus': 'Ameerega', 'Species': 'Ameeregatrivittata'}}; \n",
      "Iteration 7|Best K is 4|Majority class in each label at each cluster is {'Cluster 1': {'Family': 'Leptodactylidae', 'Genus': 'Adenomera', 'Species': 'AdenomeraHylaedactylus'}, 'Cluster 2': {'Family': 'Leptodactylidae', 'Genus': 'Adenomera', 'Species': 'AdenomeraAndre'}, 'Cluster 3': {'Family': 'Hylidae', 'Genus': 'Osteocephalus', 'Species': 'OsteocephalusOophagus'}, 'Cluster 4': {'Family': 'Dendrobatidae', 'Genus': 'Ameerega', 'Species': 'Ameeregatrivittata'}}; \n",
      "Iteration 8|Best K is 4|Majority class in each label at each cluster is {'Cluster 1': {'Family': 'Leptodactylidae', 'Genus': 'Adenomera', 'Species': 'AdenomeraHylaedactylus'}, 'Cluster 2': {'Family': 'Leptodactylidae', 'Genus': 'Adenomera', 'Species': 'AdenomeraAndre'}, 'Cluster 3': {'Family': 'Hylidae', 'Genus': 'Osteocephalus', 'Species': 'OsteocephalusOophagus'}, 'Cluster 4': {'Family': 'Dendrobatidae', 'Genus': 'Ameerega', 'Species': 'Ameeregatrivittata'}}; \n",
      "Iteration 9|Best K is 4|Majority class in each label at each cluster is {'Cluster 1': {'Family': 'Leptodactylidae', 'Genus': 'Adenomera', 'Species': 'AdenomeraHylaedactylus'}, 'Cluster 2': {'Family': 'Leptodactylidae', 'Genus': 'Adenomera', 'Species': 'AdenomeraAndre'}, 'Cluster 3': {'Family': 'Hylidae', 'Genus': 'Osteocephalus', 'Species': 'OsteocephalusOophagus'}, 'Cluster 4': {'Family': 'Dendrobatidae', 'Genus': 'Ameerega', 'Species': 'Ameeregatrivittata'}}; \n",
      "Iteration 10|Best K is 4|Majority class in each label at each cluster is {'Cluster 1': {'Family': 'Leptodactylidae', 'Genus': 'Adenomera', 'Species': 'AdenomeraHylaedactylus'}, 'Cluster 2': {'Family': 'Leptodactylidae', 'Genus': 'Adenomera', 'Species': 'AdenomeraAndre'}, 'Cluster 3': {'Family': 'Hylidae', 'Genus': 'Osteocephalus', 'Species': 'OsteocephalusOophagus'}, 'Cluster 4': {'Family': 'Dendrobatidae', 'Genus': 'Ameerega', 'Species': 'Ameeregatrivittata'}}; \n",
      "Iteration 11|Best K is 4|Majority class in each label at each cluster is {'Cluster 1': {'Family': 'Leptodactylidae', 'Genus': 'Adenomera', 'Species': 'AdenomeraHylaedactylus'}, 'Cluster 2': {'Family': 'Leptodactylidae', 'Genus': 'Adenomera', 'Species': 'AdenomeraAndre'}, 'Cluster 3': {'Family': 'Hylidae', 'Genus': 'Osteocephalus', 'Species': 'OsteocephalusOophagus'}, 'Cluster 4': {'Family': 'Dendrobatidae', 'Genus': 'Ameerega', 'Species': 'Ameeregatrivittata'}}; \n",
      "Iteration 12|Best K is 4|Majority class in each label at each cluster is {'Cluster 1': {'Family': 'Leptodactylidae', 'Genus': 'Adenomera', 'Species': 'AdenomeraHylaedactylus'}, 'Cluster 2': {'Family': 'Leptodactylidae', 'Genus': 'Adenomera', 'Species': 'AdenomeraAndre'}, 'Cluster 3': {'Family': 'Hylidae', 'Genus': 'Osteocephalus', 'Species': 'OsteocephalusOophagus'}, 'Cluster 4': {'Family': 'Dendrobatidae', 'Genus': 'Ameerega', 'Species': 'Ameeregatrivittata'}}; \n",
      "Iteration 13|Best K is 4|Majority class in each label at each cluster is {'Cluster 1': {'Family': 'Leptodactylidae', 'Genus': 'Adenomera', 'Species': 'AdenomeraHylaedactylus'}, 'Cluster 2': {'Family': 'Leptodactylidae', 'Genus': 'Adenomera', 'Species': 'AdenomeraAndre'}, 'Cluster 3': {'Family': 'Hylidae', 'Genus': 'Osteocephalus', 'Species': 'OsteocephalusOophagus'}, 'Cluster 4': {'Family': 'Dendrobatidae', 'Genus': 'Ameerega', 'Species': 'Ameeregatrivittata'}}; \n",
      "Iteration 14|Best K is 4|Majority class in each label at each cluster is {'Cluster 1': {'Family': 'Leptodactylidae', 'Genus': 'Adenomera', 'Species': 'AdenomeraHylaedactylus'}, 'Cluster 2': {'Family': 'Leptodactylidae', 'Genus': 'Adenomera', 'Species': 'AdenomeraAndre'}, 'Cluster 3': {'Family': 'Hylidae', 'Genus': 'Osteocephalus', 'Species': 'OsteocephalusOophagus'}, 'Cluster 4': {'Family': 'Dendrobatidae', 'Genus': 'Ameerega', 'Species': 'Ameeregatrivittata'}}; \n",
      "Iteration 15|Best K is 4|Majority class in each label at each cluster is {'Cluster 1': {'Family': 'Leptodactylidae', 'Genus': 'Adenomera', 'Species': 'AdenomeraHylaedactylus'}, 'Cluster 2': {'Family': 'Leptodactylidae', 'Genus': 'Adenomera', 'Species': 'AdenomeraAndre'}, 'Cluster 3': {'Family': 'Hylidae', 'Genus': 'Osteocephalus', 'Species': 'OsteocephalusOophagus'}, 'Cluster 4': {'Family': 'Dendrobatidae', 'Genus': 'Ameerega', 'Species': 'Ameeregatrivittata'}}; \n",
      "Iteration 16|Best K is 4|Majority class in each label at each cluster is {'Cluster 1': {'Family': 'Leptodactylidae', 'Genus': 'Adenomera', 'Species': 'AdenomeraHylaedactylus'}, 'Cluster 2': {'Family': 'Leptodactylidae', 'Genus': 'Adenomera', 'Species': 'AdenomeraAndre'}, 'Cluster 3': {'Family': 'Hylidae', 'Genus': 'Osteocephalus', 'Species': 'OsteocephalusOophagus'}, 'Cluster 4': {'Family': 'Dendrobatidae', 'Genus': 'Ameerega', 'Species': 'Ameeregatrivittata'}}; \n",
      "Iteration 17|Best K is 4|Majority class in each label at each cluster is {'Cluster 1': {'Family': 'Leptodactylidae', 'Genus': 'Adenomera', 'Species': 'AdenomeraHylaedactylus'}, 'Cluster 2': {'Family': 'Leptodactylidae', 'Genus': 'Adenomera', 'Species': 'AdenomeraAndre'}, 'Cluster 3': {'Family': 'Hylidae', 'Genus': 'Osteocephalus', 'Species': 'OsteocephalusOophagus'}, 'Cluster 4': {'Family': 'Dendrobatidae', 'Genus': 'Ameerega', 'Species': 'Ameeregatrivittata'}}; \n",
      "Iteration 18|Best K is 4|Majority class in each label at each cluster is {'Cluster 1': {'Family': 'Leptodactylidae', 'Genus': 'Adenomera', 'Species': 'AdenomeraHylaedactylus'}, 'Cluster 2': {'Family': 'Leptodactylidae', 'Genus': 'Adenomera', 'Species': 'AdenomeraAndre'}, 'Cluster 3': {'Family': 'Hylidae', 'Genus': 'Osteocephalus', 'Species': 'OsteocephalusOophagus'}, 'Cluster 4': {'Family': 'Dendrobatidae', 'Genus': 'Ameerega', 'Species': 'Ameeregatrivittata'}}; \n"
     ]
    },
    {
     "name": "stdout",
     "output_type": "stream",
     "text": [
      "Iteration 19|Best K is 4|Majority class in each label at each cluster is {'Cluster 1': {'Family': 'Leptodactylidae', 'Genus': 'Adenomera', 'Species': 'AdenomeraHylaedactylus'}, 'Cluster 2': {'Family': 'Leptodactylidae', 'Genus': 'Adenomera', 'Species': 'AdenomeraAndre'}, 'Cluster 3': {'Family': 'Hylidae', 'Genus': 'Osteocephalus', 'Species': 'OsteocephalusOophagus'}, 'Cluster 4': {'Family': 'Dendrobatidae', 'Genus': 'Ameerega', 'Species': 'Ameeregatrivittata'}}; \n",
      "Iteration 20|Best K is 4|Majority class in each label at each cluster is {'Cluster 1': {'Family': 'Leptodactylidae', 'Genus': 'Adenomera', 'Species': 'AdenomeraHylaedactylus'}, 'Cluster 2': {'Family': 'Leptodactylidae', 'Genus': 'Adenomera', 'Species': 'AdenomeraAndre'}, 'Cluster 3': {'Family': 'Hylidae', 'Genus': 'Osteocephalus', 'Species': 'OsteocephalusOophagus'}, 'Cluster 4': {'Family': 'Dendrobatidae', 'Genus': 'Ameerega', 'Species': 'Ameeregatrivittata'}}; \n",
      "Iteration 21|Best K is 4|Majority class in each label at each cluster is {'Cluster 1': {'Family': 'Leptodactylidae', 'Genus': 'Adenomera', 'Species': 'AdenomeraHylaedactylus'}, 'Cluster 2': {'Family': 'Leptodactylidae', 'Genus': 'Adenomera', 'Species': 'AdenomeraAndre'}, 'Cluster 3': {'Family': 'Hylidae', 'Genus': 'Osteocephalus', 'Species': 'OsteocephalusOophagus'}, 'Cluster 4': {'Family': 'Dendrobatidae', 'Genus': 'Ameerega', 'Species': 'Ameeregatrivittata'}}; \n",
      "Iteration 22|Best K is 4|Majority class in each label at each cluster is {'Cluster 1': {'Family': 'Leptodactylidae', 'Genus': 'Adenomera', 'Species': 'AdenomeraHylaedactylus'}, 'Cluster 2': {'Family': 'Leptodactylidae', 'Genus': 'Adenomera', 'Species': 'AdenomeraAndre'}, 'Cluster 3': {'Family': 'Hylidae', 'Genus': 'Osteocephalus', 'Species': 'OsteocephalusOophagus'}, 'Cluster 4': {'Family': 'Dendrobatidae', 'Genus': 'Ameerega', 'Species': 'Ameeregatrivittata'}}; \n",
      "Iteration 23|Best K is 4|Majority class in each label at each cluster is {'Cluster 1': {'Family': 'Leptodactylidae', 'Genus': 'Adenomera', 'Species': 'AdenomeraHylaedactylus'}, 'Cluster 2': {'Family': 'Leptodactylidae', 'Genus': 'Adenomera', 'Species': 'AdenomeraAndre'}, 'Cluster 3': {'Family': 'Hylidae', 'Genus': 'Osteocephalus', 'Species': 'OsteocephalusOophagus'}, 'Cluster 4': {'Family': 'Dendrobatidae', 'Genus': 'Ameerega', 'Species': 'Ameeregatrivittata'}}; \n",
      "Iteration 24|Best K is 4|Majority class in each label at each cluster is {'Cluster 1': {'Family': 'Leptodactylidae', 'Genus': 'Adenomera', 'Species': 'AdenomeraHylaedactylus'}, 'Cluster 2': {'Family': 'Leptodactylidae', 'Genus': 'Adenomera', 'Species': 'AdenomeraAndre'}, 'Cluster 3': {'Family': 'Hylidae', 'Genus': 'Osteocephalus', 'Species': 'OsteocephalusOophagus'}, 'Cluster 4': {'Family': 'Dendrobatidae', 'Genus': 'Ameerega', 'Species': 'Ameeregatrivittata'}}; \n",
      "Iteration 25|Best K is 4|Majority class in each label at each cluster is {'Cluster 1': {'Family': 'Leptodactylidae', 'Genus': 'Adenomera', 'Species': 'AdenomeraHylaedactylus'}, 'Cluster 2': {'Family': 'Leptodactylidae', 'Genus': 'Adenomera', 'Species': 'AdenomeraAndre'}, 'Cluster 3': {'Family': 'Hylidae', 'Genus': 'Osteocephalus', 'Species': 'OsteocephalusOophagus'}, 'Cluster 4': {'Family': 'Dendrobatidae', 'Genus': 'Ameerega', 'Species': 'Ameeregatrivittata'}}; \n",
      "Iteration 26|Best K is 4|Majority class in each label at each cluster is {'Cluster 1': {'Family': 'Leptodactylidae', 'Genus': 'Adenomera', 'Species': 'AdenomeraHylaedactylus'}, 'Cluster 2': {'Family': 'Leptodactylidae', 'Genus': 'Adenomera', 'Species': 'AdenomeraAndre'}, 'Cluster 3': {'Family': 'Hylidae', 'Genus': 'Osteocephalus', 'Species': 'OsteocephalusOophagus'}, 'Cluster 4': {'Family': 'Dendrobatidae', 'Genus': 'Ameerega', 'Species': 'Ameeregatrivittata'}}; \n",
      "Iteration 27|Best K is 4|Majority class in each label at each cluster is {'Cluster 1': {'Family': 'Leptodactylidae', 'Genus': 'Adenomera', 'Species': 'AdenomeraHylaedactylus'}, 'Cluster 2': {'Family': 'Leptodactylidae', 'Genus': 'Adenomera', 'Species': 'AdenomeraAndre'}, 'Cluster 3': {'Family': 'Hylidae', 'Genus': 'Osteocephalus', 'Species': 'OsteocephalusOophagus'}, 'Cluster 4': {'Family': 'Dendrobatidae', 'Genus': 'Ameerega', 'Species': 'Ameeregatrivittata'}}; \n",
      "Iteration 28|Best K is 4|Majority class in each label at each cluster is {'Cluster 1': {'Family': 'Leptodactylidae', 'Genus': 'Adenomera', 'Species': 'AdenomeraHylaedactylus'}, 'Cluster 2': {'Family': 'Leptodactylidae', 'Genus': 'Adenomera', 'Species': 'AdenomeraAndre'}, 'Cluster 3': {'Family': 'Hylidae', 'Genus': 'Osteocephalus', 'Species': 'OsteocephalusOophagus'}, 'Cluster 4': {'Family': 'Dendrobatidae', 'Genus': 'Ameerega', 'Species': 'Ameeregatrivittata'}}; \n",
      "Iteration 29|Best K is 4|Majority class in each label at each cluster is {'Cluster 1': {'Family': 'Leptodactylidae', 'Genus': 'Adenomera', 'Species': 'AdenomeraHylaedactylus'}, 'Cluster 2': {'Family': 'Leptodactylidae', 'Genus': 'Adenomera', 'Species': 'AdenomeraAndre'}, 'Cluster 3': {'Family': 'Hylidae', 'Genus': 'Osteocephalus', 'Species': 'OsteocephalusOophagus'}, 'Cluster 4': {'Family': 'Dendrobatidae', 'Genus': 'Ameerega', 'Species': 'Ameeregatrivittata'}}; \n",
      "Iteration 30|Best K is 4|Majority class in each label at each cluster is {'Cluster 1': {'Family': 'Leptodactylidae', 'Genus': 'Adenomera', 'Species': 'AdenomeraHylaedactylus'}, 'Cluster 2': {'Family': 'Leptodactylidae', 'Genus': 'Adenomera', 'Species': 'AdenomeraAndre'}, 'Cluster 3': {'Family': 'Hylidae', 'Genus': 'Osteocephalus', 'Species': 'OsteocephalusOophagus'}, 'Cluster 4': {'Family': 'Dendrobatidae', 'Genus': 'Ameerega', 'Species': 'Ameeregatrivittata'}}; \n",
      "Iteration 31|Best K is 4|Majority class in each label at each cluster is {'Cluster 1': {'Family': 'Leptodactylidae', 'Genus': 'Adenomera', 'Species': 'AdenomeraHylaedactylus'}, 'Cluster 2': {'Family': 'Leptodactylidae', 'Genus': 'Adenomera', 'Species': 'AdenomeraAndre'}, 'Cluster 3': {'Family': 'Hylidae', 'Genus': 'Osteocephalus', 'Species': 'OsteocephalusOophagus'}, 'Cluster 4': {'Family': 'Dendrobatidae', 'Genus': 'Ameerega', 'Species': 'Ameeregatrivittata'}}; \n",
      "Iteration 32|Best K is 4|Majority class in each label at each cluster is {'Cluster 1': {'Family': 'Leptodactylidae', 'Genus': 'Adenomera', 'Species': 'AdenomeraHylaedactylus'}, 'Cluster 2': {'Family': 'Leptodactylidae', 'Genus': 'Adenomera', 'Species': 'AdenomeraAndre'}, 'Cluster 3': {'Family': 'Hylidae', 'Genus': 'Osteocephalus', 'Species': 'OsteocephalusOophagus'}, 'Cluster 4': {'Family': 'Dendrobatidae', 'Genus': 'Ameerega', 'Species': 'Ameeregatrivittata'}}; \n",
      "Iteration 33|Best K is 4|Majority class in each label at each cluster is {'Cluster 1': {'Family': 'Leptodactylidae', 'Genus': 'Adenomera', 'Species': 'AdenomeraHylaedactylus'}, 'Cluster 2': {'Family': 'Leptodactylidae', 'Genus': 'Adenomera', 'Species': 'AdenomeraAndre'}, 'Cluster 3': {'Family': 'Hylidae', 'Genus': 'Osteocephalus', 'Species': 'OsteocephalusOophagus'}, 'Cluster 4': {'Family': 'Dendrobatidae', 'Genus': 'Ameerega', 'Species': 'Ameeregatrivittata'}}; \n",
      "Iteration 34|Best K is 4|Majority class in each label at each cluster is {'Cluster 1': {'Family': 'Leptodactylidae', 'Genus': 'Adenomera', 'Species': 'AdenomeraHylaedactylus'}, 'Cluster 2': {'Family': 'Leptodactylidae', 'Genus': 'Adenomera', 'Species': 'AdenomeraAndre'}, 'Cluster 3': {'Family': 'Hylidae', 'Genus': 'Osteocephalus', 'Species': 'OsteocephalusOophagus'}, 'Cluster 4': {'Family': 'Dendrobatidae', 'Genus': 'Ameerega', 'Species': 'Ameeregatrivittata'}}; \n",
      "Iteration 35|Best K is 4|Majority class in each label at each cluster is {'Cluster 1': {'Family': 'Leptodactylidae', 'Genus': 'Adenomera', 'Species': 'AdenomeraHylaedactylus'}, 'Cluster 2': {'Family': 'Leptodactylidae', 'Genus': 'Adenomera', 'Species': 'AdenomeraAndre'}, 'Cluster 3': {'Family': 'Hylidae', 'Genus': 'Osteocephalus', 'Species': 'OsteocephalusOophagus'}, 'Cluster 4': {'Family': 'Dendrobatidae', 'Genus': 'Ameerega', 'Species': 'Ameeregatrivittata'}}; \n",
      "Iteration 36|Best K is 4|Majority class in each label at each cluster is {'Cluster 1': {'Family': 'Leptodactylidae', 'Genus': 'Adenomera', 'Species': 'AdenomeraHylaedactylus'}, 'Cluster 2': {'Family': 'Leptodactylidae', 'Genus': 'Adenomera', 'Species': 'AdenomeraAndre'}, 'Cluster 3': {'Family': 'Hylidae', 'Genus': 'Osteocephalus', 'Species': 'OsteocephalusOophagus'}, 'Cluster 4': {'Family': 'Dendrobatidae', 'Genus': 'Ameerega', 'Species': 'Ameeregatrivittata'}}; \n"
     ]
    },
    {
     "name": "stdout",
     "output_type": "stream",
     "text": [
      "Iteration 37|Best K is 4|Majority class in each label at each cluster is {'Cluster 1': {'Family': 'Leptodactylidae', 'Genus': 'Adenomera', 'Species': 'AdenomeraHylaedactylus'}, 'Cluster 2': {'Family': 'Leptodactylidae', 'Genus': 'Adenomera', 'Species': 'AdenomeraAndre'}, 'Cluster 3': {'Family': 'Hylidae', 'Genus': 'Osteocephalus', 'Species': 'OsteocephalusOophagus'}, 'Cluster 4': {'Family': 'Dendrobatidae', 'Genus': 'Ameerega', 'Species': 'Ameeregatrivittata'}}; \n",
      "Iteration 38|Best K is 4|Majority class in each label at each cluster is {'Cluster 1': {'Family': 'Leptodactylidae', 'Genus': 'Adenomera', 'Species': 'AdenomeraHylaedactylus'}, 'Cluster 2': {'Family': 'Leptodactylidae', 'Genus': 'Adenomera', 'Species': 'AdenomeraAndre'}, 'Cluster 3': {'Family': 'Hylidae', 'Genus': 'Osteocephalus', 'Species': 'OsteocephalusOophagus'}, 'Cluster 4': {'Family': 'Dendrobatidae', 'Genus': 'Ameerega', 'Species': 'Ameeregatrivittata'}}; \n",
      "Iteration 39|Best K is 4|Majority class in each label at each cluster is {'Cluster 1': {'Family': 'Leptodactylidae', 'Genus': 'Adenomera', 'Species': 'AdenomeraHylaedactylus'}, 'Cluster 2': {'Family': 'Leptodactylidae', 'Genus': 'Adenomera', 'Species': 'AdenomeraAndre'}, 'Cluster 3': {'Family': 'Hylidae', 'Genus': 'Osteocephalus', 'Species': 'OsteocephalusOophagus'}, 'Cluster 4': {'Family': 'Dendrobatidae', 'Genus': 'Ameerega', 'Species': 'Ameeregatrivittata'}}; \n",
      "Iteration 40|Best K is 4|Majority class in each label at each cluster is {'Cluster 1': {'Family': 'Leptodactylidae', 'Genus': 'Adenomera', 'Species': 'AdenomeraHylaedactylus'}, 'Cluster 2': {'Family': 'Leptodactylidae', 'Genus': 'Adenomera', 'Species': 'AdenomeraAndre'}, 'Cluster 3': {'Family': 'Hylidae', 'Genus': 'Osteocephalus', 'Species': 'OsteocephalusOophagus'}, 'Cluster 4': {'Family': 'Dendrobatidae', 'Genus': 'Ameerega', 'Species': 'Ameeregatrivittata'}}; \n",
      "Iteration 41|Best K is 4|Majority class in each label at each cluster is {'Cluster 1': {'Family': 'Leptodactylidae', 'Genus': 'Adenomera', 'Species': 'AdenomeraHylaedactylus'}, 'Cluster 2': {'Family': 'Leptodactylidae', 'Genus': 'Adenomera', 'Species': 'AdenomeraAndre'}, 'Cluster 3': {'Family': 'Hylidae', 'Genus': 'Osteocephalus', 'Species': 'OsteocephalusOophagus'}, 'Cluster 4': {'Family': 'Dendrobatidae', 'Genus': 'Ameerega', 'Species': 'Ameeregatrivittata'}}; \n",
      "Iteration 42|Best K is 4|Majority class in each label at each cluster is {'Cluster 1': {'Family': 'Leptodactylidae', 'Genus': 'Adenomera', 'Species': 'AdenomeraHylaedactylus'}, 'Cluster 2': {'Family': 'Leptodactylidae', 'Genus': 'Adenomera', 'Species': 'AdenomeraAndre'}, 'Cluster 3': {'Family': 'Hylidae', 'Genus': 'Osteocephalus', 'Species': 'OsteocephalusOophagus'}, 'Cluster 4': {'Family': 'Dendrobatidae', 'Genus': 'Ameerega', 'Species': 'Ameeregatrivittata'}}; \n",
      "Iteration 43|Best K is 4|Majority class in each label at each cluster is {'Cluster 1': {'Family': 'Leptodactylidae', 'Genus': 'Adenomera', 'Species': 'AdenomeraHylaedactylus'}, 'Cluster 2': {'Family': 'Leptodactylidae', 'Genus': 'Adenomera', 'Species': 'AdenomeraAndre'}, 'Cluster 3': {'Family': 'Hylidae', 'Genus': 'Osteocephalus', 'Species': 'OsteocephalusOophagus'}, 'Cluster 4': {'Family': 'Dendrobatidae', 'Genus': 'Ameerega', 'Species': 'Ameeregatrivittata'}}; \n",
      "Iteration 44|Best K is 4|Majority class in each label at each cluster is {'Cluster 1': {'Family': 'Leptodactylidae', 'Genus': 'Adenomera', 'Species': 'AdenomeraHylaedactylus'}, 'Cluster 2': {'Family': 'Leptodactylidae', 'Genus': 'Adenomera', 'Species': 'AdenomeraAndre'}, 'Cluster 3': {'Family': 'Hylidae', 'Genus': 'Osteocephalus', 'Species': 'OsteocephalusOophagus'}, 'Cluster 4': {'Family': 'Dendrobatidae', 'Genus': 'Ameerega', 'Species': 'Ameeregatrivittata'}}; \n",
      "Iteration 45|Best K is 4|Majority class in each label at each cluster is {'Cluster 1': {'Family': 'Leptodactylidae', 'Genus': 'Adenomera', 'Species': 'AdenomeraHylaedactylus'}, 'Cluster 2': {'Family': 'Leptodactylidae', 'Genus': 'Adenomera', 'Species': 'AdenomeraAndre'}, 'Cluster 3': {'Family': 'Hylidae', 'Genus': 'Osteocephalus', 'Species': 'OsteocephalusOophagus'}, 'Cluster 4': {'Family': 'Dendrobatidae', 'Genus': 'Ameerega', 'Species': 'Ameeregatrivittata'}}; \n",
      "Iteration 46|Best K is 4|Majority class in each label at each cluster is {'Cluster 1': {'Family': 'Leptodactylidae', 'Genus': 'Adenomera', 'Species': 'AdenomeraHylaedactylus'}, 'Cluster 2': {'Family': 'Leptodactylidae', 'Genus': 'Adenomera', 'Species': 'AdenomeraAndre'}, 'Cluster 3': {'Family': 'Hylidae', 'Genus': 'Osteocephalus', 'Species': 'OsteocephalusOophagus'}, 'Cluster 4': {'Family': 'Dendrobatidae', 'Genus': 'Ameerega', 'Species': 'Ameeregatrivittata'}}; \n",
      "Iteration 47|Best K is 4|Majority class in each label at each cluster is {'Cluster 1': {'Family': 'Leptodactylidae', 'Genus': 'Adenomera', 'Species': 'AdenomeraHylaedactylus'}, 'Cluster 2': {'Family': 'Leptodactylidae', 'Genus': 'Adenomera', 'Species': 'AdenomeraAndre'}, 'Cluster 3': {'Family': 'Hylidae', 'Genus': 'Osteocephalus', 'Species': 'OsteocephalusOophagus'}, 'Cluster 4': {'Family': 'Dendrobatidae', 'Genus': 'Ameerega', 'Species': 'Ameeregatrivittata'}}; \n",
      "Iteration 48|Best K is 4|Majority class in each label at each cluster is {'Cluster 1': {'Family': 'Leptodactylidae', 'Genus': 'Adenomera', 'Species': 'AdenomeraHylaedactylus'}, 'Cluster 2': {'Family': 'Leptodactylidae', 'Genus': 'Adenomera', 'Species': 'AdenomeraAndre'}, 'Cluster 3': {'Family': 'Hylidae', 'Genus': 'Osteocephalus', 'Species': 'OsteocephalusOophagus'}, 'Cluster 4': {'Family': 'Dendrobatidae', 'Genus': 'Ameerega', 'Species': 'Ameeregatrivittata'}}; \n",
      "Iteration 49|Best K is 4|Majority class in each label at each cluster is {'Cluster 1': {'Family': 'Leptodactylidae', 'Genus': 'Adenomera', 'Species': 'AdenomeraHylaedactylus'}, 'Cluster 2': {'Family': 'Leptodactylidae', 'Genus': 'Adenomera', 'Species': 'AdenomeraAndre'}, 'Cluster 3': {'Family': 'Hylidae', 'Genus': 'Osteocephalus', 'Species': 'OsteocephalusOophagus'}, 'Cluster 4': {'Family': 'Dendrobatidae', 'Genus': 'Ameerega', 'Species': 'Ameeregatrivittata'}}; \n",
      "Iteration 50|Best K is 4|Majority class in each label at each cluster is {'Cluster 1': {'Family': 'Leptodactylidae', 'Genus': 'Adenomera', 'Species': 'AdenomeraHylaedactylus'}, 'Cluster 2': {'Family': 'Leptodactylidae', 'Genus': 'Adenomera', 'Species': 'AdenomeraAndre'}, 'Cluster 3': {'Family': 'Hylidae', 'Genus': 'Osteocephalus', 'Species': 'OsteocephalusOophagus'}, 'Cluster 4': {'Family': 'Dendrobatidae', 'Genus': 'Ameerega', 'Species': 'Ameeregatrivittata'}}; \n"
     ]
    }
   ],
   "source": [
    "range_n_clusters =np.arange(2,51)\n",
    "silhouette_avg=[]\n",
    "for j in range(50):\n",
    "    for n_clusters in range_n_clusters:\n",
    "            #print('iteration {}|processing calculation when k= {} '.format(j,n_clusters))\n",
    "            predict_label=[]\n",
    "            for i in range(Y.shape[1]):\n",
    "                Y_feature=Y.iloc[:,i]\n",
    "                Y_feature_encode = lbl.fit_transform(Y_feature)\n",
    "                clusterer = KMeans(n_clusters=n_clusters,random_state=i)\n",
    "                cluster_labels = clusterer.fit_predict(X)\n",
    "                predict_label.append(cluster_labels)\n",
    "            silhouette_avg.append(silhouette_score(X, cluster_labels))\n",
    "    bestk_for_each_iter=range_n_clusters[silhouette_avg.index(max(silhouette_avg))]\n",
    "    majority_label = dict()\n",
    "    Predict_label_for_bestk = predict_label[np.argmax(silhouette_avg)]# predict label under bestk\n",
    "    for class_type in range(bestk_for_each_iter):\n",
    "        Correct_label = Y[Predict_label_for_bestk == class_type]# correct prediction\n",
    "        Majority = {}#Majority class for each label in each cluster\n",
    "        for name in Label:\n",
    "                Majority[name] = most_frequent(Correct_label[name])#Mode class in correct prediction\n",
    "        majority_label['Cluster {}'.format(class_type+1)] = Majority      \n",
    "        \n",
    "    print('Iteration {}|Best K is {}|Majority class in each label at each cluster is {}; '.format(j+1,bestk_for_each_iter, majority_label))\n",
    "    "
   ]
  },
  {
   "cell_type": "markdown",
   "metadata": {},
   "source": [
    "(c)Now for each cluster you have a majority label triplet (family, genus, species).\n",
    "Calculate the average Hamming distance, Hamming score, and Hamming loss\n",
    "5\n",
    "between the true labels and the labels assigned by clusters\n"
   ]
  },
  {
   "cell_type": "code",
   "execution_count": 4,
   "metadata": {},
   "outputs": [],
   "source": [
    "def Average(lst): \n",
    "    return sum(lst) / len(lst) "
   ]
  },
  {
   "cell_type": "code",
   "execution_count": 5,
   "metadata": {},
   "outputs": [],
   "source": [
    "def hamming_score(hamming_loss):\n",
    "    score=[]\n",
    "    for i in range(len(hamming_loss)):\n",
    "        score.append(1-hamming_loss[i])\n",
    "    return score"
   ]
  },
  {
   "cell_type": "code",
   "execution_count": 6,
   "metadata": {},
   "outputs": [],
   "source": [
    "def hamming_dist(hamming_loss):\n",
    "    dist=[]\n",
    "    for i in range(len(hamming_loss)):\n",
    "        dist.append(hamming_loss[i]*3)\n",
    "    return dist"
   ]
  },
  {
   "cell_type": "code",
   "execution_count": 8,
   "metadata": {},
   "outputs": [
    {
     "name": "stdout",
     "output_type": "stream",
     "text": [
      "iteration 0 is done\n",
      "iteration 1 is done\n",
      "iteration 2 is done\n",
      "iteration 3 is done\n",
      "iteration 4 is done\n",
      "iteration 5 is done\n",
      "iteration 6 is done\n",
      "iteration 7 is done\n",
      "iteration 8 is done\n",
      "iteration 9 is done\n",
      "iteration 10 is done\n",
      "iteration 11 is done\n",
      "iteration 12 is done\n",
      "iteration 13 is done\n",
      "iteration 14 is done\n",
      "iteration 15 is done\n",
      "iteration 16 is done\n",
      "iteration 17 is done\n",
      "iteration 18 is done\n",
      "iteration 19 is done\n",
      "iteration 20 is done\n",
      "iteration 21 is done\n",
      "iteration 22 is done\n",
      "iteration 23 is done\n",
      "iteration 24 is done\n",
      "iteration 25 is done\n",
      "iteration 26 is done\n",
      "iteration 27 is done\n",
      "iteration 28 is done\n",
      "iteration 29 is done\n",
      "iteration 30 is done\n",
      "iteration 31 is done\n",
      "iteration 32 is done\n",
      "iteration 33 is done\n",
      "iteration 34 is done\n",
      "iteration 35 is done\n",
      "iteration 36 is done\n",
      "iteration 37 is done\n",
      "iteration 38 is done\n",
      "iteration 39 is done\n",
      "iteration 40 is done\n",
      "iteration 41 is done\n",
      "iteration 42 is done\n",
      "iteration 43 is done\n",
      "iteration 44 is done\n",
      "iteration 45 is done\n",
      "iteration 46 is done\n",
      "iteration 47 is done\n",
      "iteration 48 is done\n",
      "iteration 49 is done\n"
     ]
    }
   ],
   "source": [
    "range_n_clusters = np.arange(2,51)\n",
    "Hamming_loss_all=[]\n",
    "Hamming_score=[]\n",
    "Hamming_dist=[]\n",
    "for j in range(50):\n",
    "    silhouette_avg=[]\n",
    "    predict_label=[]\n",
    "    for n_clusters in range_n_clusters:\n",
    "        clusterer = KMeans(n_clusters=n_clusters)\n",
    "        cluster_labels = clusterer.fit_predict(X)\n",
    "        predict_label.append(cluster_labels)\n",
    "        silhouette_avg.append(silhouette_score(X, cluster_labels))\n",
    "    bestk_for_each_iter=range_n_clusters[silhouette_avg.index(max(silhouette_avg))]\n",
    "    majority_label = dict()\n",
    "    Predict_label_for_bestk = predict_label[np.argmax(silhouette_avg)]# predict label under bestk\n",
    "    for class_type in range(bestk_for_each_iter):\n",
    "        Correct_label = Y[Predict_label_for_bestk == class_type]# correct prediction\n",
    "        Majority = {}#Majority class for each label in each cluster\n",
    "        for name in Label:\n",
    "                Majority[name] = most_frequent(Correct_label[name])#Mode class in correct prediction\n",
    "        majority_label['Cluster {}'.format(class_type+1)] = Majority    \n",
    "    \n",
    "    uninvolve=0\n",
    "    Hamming_loss_K=[]#Hamming loss for each clusters\n",
    "    for class_type in range(bestk_for_each_iter):\n",
    "        Correct_label = Y[Predict_label_for_bestk == class_type]# correct prediction\n",
    "        Hamming_dist_label=[]#for each label\n",
    "        for name in Label:\n",
    "            uninvolve+=sum(Correct_label[name] != majority_label['Cluster {}'.format(class_type+1)][name])#Correct predict that not involve majority\n",
    "            Hamming_distance=uninvolve/Y.shape[0]\n",
    "            Hamming_dist_label.append(Hamming_distance)\n",
    "        Hamming_loss=Average(Hamming_dist_label)\n",
    "        Hamming_loss_K.append(Hamming_loss)\n",
    "    Hamming_loss_all.append(Average(Hamming_loss_K))#For each iteration, avg Hamming loss over all cluster\n",
    "    Hamming_score=hamming_score(Hamming_loss_all)#For each iteration, avg Hamming score over all cluster\n",
    "    Hamming_dist=(hamming_dist(Hamming_loss_all))#For each iteration, avg Hamming distance over all cluster\n",
    "    print('iteration {} is done'.format(j))"
   ]
  },
  {
   "cell_type": "code",
   "execution_count": 9,
   "metadata": {},
   "outputs": [
    {
     "name": "stdout",
     "output_type": "stream",
     "text": [
      "Avg of Hamming loss is 0.3233252258512856\n",
      "Avg of Hamming score is 0.6766747741487146\n",
      "Avg of Hamming distance is 0.969975677553857\n"
     ]
    }
   ],
   "source": [
    "print('Avg of Hamming loss is {}'.format(Average(Hamming_loss_all)))\n",
    "\n",
    "print('Avg of Hamming score is {}'.format(Average(Hamming_score)))\n",
    "\n",
    "print('Avg of Hamming distance is {}'.format(Average(Hamming_dist)))"
   ]
  },
  {
   "cell_type": "markdown",
   "metadata": {},
   "source": [
    "# Continue to HW5Part4.ipynb for Problem 3"
   ]
  },
  {
   "cell_type": "code",
   "execution_count": null,
   "metadata": {},
   "outputs": [],
   "source": []
  }
 ],
 "metadata": {
  "kernelspec": {
   "display_name": "Python 3",
   "language": "python",
   "name": "python3"
  },
  "language_info": {
   "codemirror_mode": {
    "name": "ipython",
    "version": 3
   },
   "file_extension": ".py",
   "mimetype": "text/x-python",
   "name": "python",
   "nbconvert_exporter": "python",
   "pygments_lexer": "ipython3",
   "version": "3.7.3"
  }
 },
 "nbformat": 4,
 "nbformat_minor": 2
}
