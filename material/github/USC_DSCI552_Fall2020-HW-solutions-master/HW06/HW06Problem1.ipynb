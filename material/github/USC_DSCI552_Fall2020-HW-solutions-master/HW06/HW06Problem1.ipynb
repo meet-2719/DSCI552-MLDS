{
 "cells": [
  {
   "cell_type": "markdown",
   "metadata": {},
   "source": [
    "# HW06\n",
    "## Problem 1\n",
    "### Yun Cheng\n",
    "#### USC ID: 5013232478"
   ]
  },
  {
   "cell_type": "markdown",
   "metadata": {},
   "source": [
    "1.\n",
    "Supervised, Semi-Supervised, and Unsupervised Learning"
   ]
  },
  {
   "cell_type": "markdown",
   "metadata": {},
   "source": [
    "a)\n",
    "Download the Breast Cancer Wisconsin (Diagnostic) Data Set from:\n",
    "https://archive.ics.uci.edu/ml/datasets/Breast+Cancer+Wisconsin+\n",
    "%28Diagnostic%29\n",
    ". Download the data in\n",
    "https://archive.ics.uci.edu/ml/\n",
    "machine-learning-databases/breast-cancer-wisconsin/wdbc.data\n",
    ", which\n",
    "has IDs, classes (Benign=B, Malignant=M), and 30 attributes. This data has\n",
    "two output classes. Use the first 20% of the positive and negative classes in the\n",
    "file as the test set and the rest as the training set"
   ]
  },
  {
   "cell_type": "code",
   "execution_count": 1,
   "metadata": {},
   "outputs": [],
   "source": [
    "import warnings\n",
    "warnings.filterwarnings(\"ignore\")\n",
    "from sklearn.metrics import accuracy_score\n",
    "from sklearn.metrics import precision_score\n",
    "from sklearn.metrics import recall_score\n",
    "from sklearn.metrics import f1_score\n",
    "from sklearn.metrics import confusion_matrix\n",
    "from sklearn.svm import LinearSVC\n",
    "from sklearn.model_selection import GridSearchCV"
   ]
  },
  {
   "cell_type": "code",
   "execution_count": 2,
   "metadata": {},
   "outputs": [
    {
     "data": {
      "text/html": [
       "<div>\n",
       "<style scoped>\n",
       "    .dataframe tbody tr th:only-of-type {\n",
       "        vertical-align: middle;\n",
       "    }\n",
       "\n",
       "    .dataframe tbody tr th {\n",
       "        vertical-align: top;\n",
       "    }\n",
       "\n",
       "    .dataframe thead th {\n",
       "        text-align: right;\n",
       "    }\n",
       "</style>\n",
       "<table border=\"1\" class=\"dataframe\">\n",
       "  <thead>\n",
       "    <tr style=\"text-align: right;\">\n",
       "      <th></th>\n",
       "      <th>0</th>\n",
       "      <th>class</th>\n",
       "      <th>2</th>\n",
       "      <th>3</th>\n",
       "      <th>4</th>\n",
       "      <th>5</th>\n",
       "      <th>6</th>\n",
       "      <th>7</th>\n",
       "      <th>8</th>\n",
       "      <th>9</th>\n",
       "      <th>...</th>\n",
       "      <th>22</th>\n",
       "      <th>23</th>\n",
       "      <th>24</th>\n",
       "      <th>25</th>\n",
       "      <th>26</th>\n",
       "      <th>27</th>\n",
       "      <th>28</th>\n",
       "      <th>29</th>\n",
       "      <th>30</th>\n",
       "      <th>31</th>\n",
       "    </tr>\n",
       "  </thead>\n",
       "  <tbody>\n",
       "    <tr>\n",
       "      <th>0</th>\n",
       "      <td>842302</td>\n",
       "      <td>M</td>\n",
       "      <td>17.99</td>\n",
       "      <td>10.38</td>\n",
       "      <td>122.80</td>\n",
       "      <td>1001.0</td>\n",
       "      <td>0.11840</td>\n",
       "      <td>0.27760</td>\n",
       "      <td>0.3001</td>\n",
       "      <td>0.14710</td>\n",
       "      <td>...</td>\n",
       "      <td>25.38</td>\n",
       "      <td>17.33</td>\n",
       "      <td>184.60</td>\n",
       "      <td>2019.0</td>\n",
       "      <td>0.1622</td>\n",
       "      <td>0.6656</td>\n",
       "      <td>0.7119</td>\n",
       "      <td>0.2654</td>\n",
       "      <td>0.4601</td>\n",
       "      <td>0.11890</td>\n",
       "    </tr>\n",
       "    <tr>\n",
       "      <th>1</th>\n",
       "      <td>842517</td>\n",
       "      <td>M</td>\n",
       "      <td>20.57</td>\n",
       "      <td>17.77</td>\n",
       "      <td>132.90</td>\n",
       "      <td>1326.0</td>\n",
       "      <td>0.08474</td>\n",
       "      <td>0.07864</td>\n",
       "      <td>0.0869</td>\n",
       "      <td>0.07017</td>\n",
       "      <td>...</td>\n",
       "      <td>24.99</td>\n",
       "      <td>23.41</td>\n",
       "      <td>158.80</td>\n",
       "      <td>1956.0</td>\n",
       "      <td>0.1238</td>\n",
       "      <td>0.1866</td>\n",
       "      <td>0.2416</td>\n",
       "      <td>0.1860</td>\n",
       "      <td>0.2750</td>\n",
       "      <td>0.08902</td>\n",
       "    </tr>\n",
       "    <tr>\n",
       "      <th>2</th>\n",
       "      <td>84300903</td>\n",
       "      <td>M</td>\n",
       "      <td>19.69</td>\n",
       "      <td>21.25</td>\n",
       "      <td>130.00</td>\n",
       "      <td>1203.0</td>\n",
       "      <td>0.10960</td>\n",
       "      <td>0.15990</td>\n",
       "      <td>0.1974</td>\n",
       "      <td>0.12790</td>\n",
       "      <td>...</td>\n",
       "      <td>23.57</td>\n",
       "      <td>25.53</td>\n",
       "      <td>152.50</td>\n",
       "      <td>1709.0</td>\n",
       "      <td>0.1444</td>\n",
       "      <td>0.4245</td>\n",
       "      <td>0.4504</td>\n",
       "      <td>0.2430</td>\n",
       "      <td>0.3613</td>\n",
       "      <td>0.08758</td>\n",
       "    </tr>\n",
       "    <tr>\n",
       "      <th>3</th>\n",
       "      <td>84348301</td>\n",
       "      <td>M</td>\n",
       "      <td>11.42</td>\n",
       "      <td>20.38</td>\n",
       "      <td>77.58</td>\n",
       "      <td>386.1</td>\n",
       "      <td>0.14250</td>\n",
       "      <td>0.28390</td>\n",
       "      <td>0.2414</td>\n",
       "      <td>0.10520</td>\n",
       "      <td>...</td>\n",
       "      <td>14.91</td>\n",
       "      <td>26.50</td>\n",
       "      <td>98.87</td>\n",
       "      <td>567.7</td>\n",
       "      <td>0.2098</td>\n",
       "      <td>0.8663</td>\n",
       "      <td>0.6869</td>\n",
       "      <td>0.2575</td>\n",
       "      <td>0.6638</td>\n",
       "      <td>0.17300</td>\n",
       "    </tr>\n",
       "    <tr>\n",
       "      <th>4</th>\n",
       "      <td>84358402</td>\n",
       "      <td>M</td>\n",
       "      <td>20.29</td>\n",
       "      <td>14.34</td>\n",
       "      <td>135.10</td>\n",
       "      <td>1297.0</td>\n",
       "      <td>0.10030</td>\n",
       "      <td>0.13280</td>\n",
       "      <td>0.1980</td>\n",
       "      <td>0.10430</td>\n",
       "      <td>...</td>\n",
       "      <td>22.54</td>\n",
       "      <td>16.67</td>\n",
       "      <td>152.20</td>\n",
       "      <td>1575.0</td>\n",
       "      <td>0.1374</td>\n",
       "      <td>0.2050</td>\n",
       "      <td>0.4000</td>\n",
       "      <td>0.1625</td>\n",
       "      <td>0.2364</td>\n",
       "      <td>0.07678</td>\n",
       "    </tr>\n",
       "  </tbody>\n",
       "</table>\n",
       "<p>5 rows × 32 columns</p>\n",
       "</div>"
      ],
      "text/plain": [
       "          0 class      2      3       4       5        6        7       8  \\\n",
       "0    842302     M  17.99  10.38  122.80  1001.0  0.11840  0.27760  0.3001   \n",
       "1    842517     M  20.57  17.77  132.90  1326.0  0.08474  0.07864  0.0869   \n",
       "2  84300903     M  19.69  21.25  130.00  1203.0  0.10960  0.15990  0.1974   \n",
       "3  84348301     M  11.42  20.38   77.58   386.1  0.14250  0.28390  0.2414   \n",
       "4  84358402     M  20.29  14.34  135.10  1297.0  0.10030  0.13280  0.1980   \n",
       "\n",
       "         9  ...     22     23      24      25      26      27      28      29  \\\n",
       "0  0.14710  ...  25.38  17.33  184.60  2019.0  0.1622  0.6656  0.7119  0.2654   \n",
       "1  0.07017  ...  24.99  23.41  158.80  1956.0  0.1238  0.1866  0.2416  0.1860   \n",
       "2  0.12790  ...  23.57  25.53  152.50  1709.0  0.1444  0.4245  0.4504  0.2430   \n",
       "3  0.10520  ...  14.91  26.50   98.87   567.7  0.2098  0.8663  0.6869  0.2575   \n",
       "4  0.10430  ...  22.54  16.67  152.20  1575.0  0.1374  0.2050  0.4000  0.1625   \n",
       "\n",
       "       30       31  \n",
       "0  0.4601  0.11890  \n",
       "1  0.2750  0.08902  \n",
       "2  0.3613  0.08758  \n",
       "3  0.6638  0.17300  \n",
       "4  0.2364  0.07678  \n",
       "\n",
       "[5 rows x 32 columns]"
      ]
     },
     "execution_count": 2,
     "metadata": {},
     "output_type": "execute_result"
    }
   ],
   "source": [
    "from sklearn.model_selection import train_test_split\n",
    "import pandas as pd\n",
    "import numpy as np\n",
    "data=pd.read_csv('./wdbc.data',header=None)\n",
    "data.rename(columns={1: 'class'}, inplace=True)\n",
    "data.head()"
   ]
  },
  {
   "cell_type": "code",
   "execution_count": 3,
   "metadata": {},
   "outputs": [],
   "source": [
    "def SplitData(data,size_test,j):\n",
    "    \n",
    "    ClassM=data.loc[data['class'] == 'M']\n",
    "    ClassB=data.loc[data['class'] == 'B']\n",
    "\n",
    "    X_M = ClassM.iloc[:, 2:-1]\n",
    "    Y_M = ClassM.iloc[:, 1]\n",
    "    X_B = ClassB.iloc[:, 2:-1]\n",
    "    Y_B = ClassB.iloc[:, 1]\n",
    "#Select 20% data from each class\n",
    "    X_train_M, X_test_M, y_train_M, y_test_M = train_test_split(X_M, Y_M, test_size=size_test,random_state=j)\n",
    "    X_train_B, X_test_B, y_train_B, y_test_B = train_test_split(X_B, Y_B, test_size=size_test,random_state=j)\n",
    "#concate selected data\n",
    "    X_test = np.concatenate((X_test_M,X_test_B), axis=0)\n",
    "    X_train= np.concatenate((X_train_M,X_train_B), axis=0)\n",
    "    y_test = np.concatenate((y_test_M,y_test_B), axis=0)\n",
    "    y_train = np.concatenate((y_train_M,y_train_B), axis=0)\n",
    "    return X_test,X_train,y_test,y_train"
   ]
  },
  {
   "cell_type": "markdown",
   "metadata": {},
   "source": [
    "b)\n",
    "Monte-Carlo Simulation\n",
    ": Repeat the following procedures for supervised, un-\n",
    "supervised, and semi-supervised learning\n",
    "M\n",
    "= 30 times, and use randomly se-\n",
    "lected train and test data (make sure you use 20% of both the positve and nega-\n",
    "tive classes as the test set). Then compare the\n",
    "average\n",
    "scores (accuracy, precision,\n",
    "recall,\n",
    "F\n",
    "1\n",
    "-score, and AUC) that you obtain from each algorithm"
   ]
  },
  {
   "cell_type": "markdown",
   "metadata": {},
   "source": [
    "i. Supervised Learning:\n",
    "Train an\n",
    "L\n",
    "1\n",
    "-penalized SVM to classify the data.\n",
    "Use 5 fold cross validation to choose the penalty parameter. Use normalized\n",
    "data. Report the average accuracy, precision, recall,\n",
    "F\n",
    "1\n",
    "-score, and AUC, for\n",
    "both training and test sets over your\n",
    "M\n",
    "runs. Plot the ROC and report the\n",
    "confusion matrix for training and testing in one of the runs"
   ]
  },
  {
   "cell_type": "code",
   "execution_count": 4,
   "metadata": {},
   "outputs": [],
   "source": [
    "#Normalized data\n",
    "from sklearn.preprocessing import MinMaxScaler\n",
    "import matplotlib.pyplot as plt\n",
    "from sklearn.metrics import roc_curve, auc\n",
    "def normalize(data):\n",
    "    data = MinMaxScaler().fit(data).transform(data)\n",
    "    return data\n",
    "#labek encoder\n",
    "from sklearn.preprocessing import LabelEncoder\n",
    "def labelencoder(data):\n",
    "    lbl = LabelEncoder().fit(data)\n",
    "    result=lbl.transform(data)\n",
    "    return result\n",
    "#ROC-AUC function\n",
    "def auc_roc(y_true, y_score, datatype):\n",
    "    FP, TP, thresholds = roc_curve(y_true, y_score)\n",
    "    area = auc(FP, TP)\n",
    "    plt.plot(FP, TP, color='red', label='AUC = ' + str(area))\n",
    "    plt.plot([0, 1], [0, 1], linestyle='dotted')\n",
    "    plt.xlabel('False Positive Rate')\n",
    "    plt.ylabel('True Positive Rate')\n",
    "    plt.title('ROC for {}'.format(datatype))\n",
    "    plt.legend()\n",
    "    plt.show()"
   ]
  },
  {
   "cell_type": "code",
   "execution_count": 5,
   "metadata": {},
   "outputs": [
    {
     "name": "stdout",
     "output_type": "stream",
     "text": [
      "0  iteration is done\n",
      "1  iteration is done\n",
      "2  iteration is done\n",
      "3  iteration is done\n",
      "4  iteration is done\n",
      "5  iteration is done\n",
      "6  iteration is done\n",
      "7  iteration is done\n",
      "8  iteration is done\n",
      "9  iteration is done\n",
      "10  iteration is done\n",
      "11  iteration is done\n",
      "12  iteration is done\n",
      "13  iteration is done\n",
      "14  iteration is done\n",
      "15  iteration is done\n",
      "16  iteration is done\n",
      "17  iteration is done\n",
      "18  iteration is done\n",
      "19  iteration is done\n",
      "20  iteration is done\n",
      "21  iteration is done\n",
      "22  iteration is done\n",
      "23  iteration is done\n",
      "24  iteration is done\n",
      "25  iteration is done\n",
      "26  iteration is done\n",
      "27  iteration is done\n",
      "28  iteration is done\n",
      "29  iteration is done\n"
     ]
    }
   ],
   "source": [
    "param_grid = {'C': np.linspace(-1,10,5)}\n",
    "accu_score_train=[]\n",
    "precision_train=[]\n",
    "recall_train=[]\n",
    "F1_train=[]\n",
    "accu_score_test=[]\n",
    "precision_test=[]\n",
    "recall_test=[]\n",
    "F1_test=[]\n",
    "for j in range(30):\n",
    "    X_test,X_train,y_test,y_train=SplitData(data,0.2,j)\n",
    "    X_test_normal=normalize(X_test)\n",
    "    X_train_normal=normalize(X_train)\n",
    "    y_test_encode=labelencoder(y_test)\n",
    "    y_train_encode=labelencoder(y_train)\n",
    "\n",
    "    clf=LinearSVC(penalty='l1',random_state=None,dual=False,max_iter=2000)\n",
    "    GridCV = GridSearchCV(clf, param_grid, cv=5, n_jobs=-1)\n",
    "    GridCV.fit(X_train_normal, y_train_encode)\n",
    "    Opticlf=GridCV.best_estimator_\n",
    "    y_train_predict = Opticlf.predict(X_train_normal)\n",
    "    y_test_predict = Opticlf.predict(X_test_normal)\n",
    "    #Predict confidence scores for samples.\n",
    "    y_test_dfun=Opticlf.decision_function(X_test_normal)\n",
    "    y_train_dfun=Opticlf.decision_function(X_train_normal)\n",
    "    \n",
    "    \n",
    "    accu_score_train.append(accuracy_score(y_train_encode, y_train_predict))\n",
    "    precision_train.append(precision_score(y_train_encode, y_train_predict))\n",
    "    recall_train.append(recall_score(y_train_encode, y_train_predict,average='binary',pos_label=1))\n",
    "    F1_train.append(f1_score(y_train_encode, y_train_predict))\n",
    "    \n",
    "    accu_score_test.append(accuracy_score(y_test_encode, y_test_predict))\n",
    "    precision_test.append(precision_score(y_test_encode, y_test_predict))\n",
    "    recall_test.append(recall_score(y_test_encode, y_test_predict))\n",
    "    F1_test.append(f1_score(y_test_encode, y_test_predict))\n",
    "    print(j,\" iteration is done\")\n",
    "    "
   ]
  },
  {
   "cell_type": "code",
   "execution_count": 6,
   "metadata": {},
   "outputs": [
    {
     "name": "stdout",
     "output_type": "stream",
     "text": [
      "Average train accurancy is  0.9875183553597651\n",
      "Average test accurancy is  0.9017391304347825\n",
      "Average train precision is  0.9918052865738819\n",
      "Average test precision is  0.8248299745486648\n",
      "Average train recall is  0.9745562130177513\n",
      "Average test recall is  0.9790697674418604\n",
      "Average test F1 is  0.8886403959761484\n",
      "Average train F1 is  0.9830902604333034\n"
     ]
    }
   ],
   "source": [
    "#Report the average accuracy, precision, recall, F 1 -score\n",
    "print('Average train accurancy is ',np.average(accu_score_train))\n",
    "print('Average test accurancy is ',np.average(accu_score_test))\n",
    "print('Average train precision is ',np.average(precision_train))\n",
    "print('Average test precision is ',np.average(precision_test))\n",
    "print('Average train recall is ',np.average(recall_train))\n",
    "print('Average test recall is ',np.average(recall_test))\n",
    "print('Average test F1 is ',np.average(F1_test))\n",
    "print('Average train F1 is ',np.average(F1_train))"
   ]
  },
  {
   "cell_type": "code",
   "execution_count": 7,
   "metadata": {},
   "outputs": [
    {
     "data": {
      "image/png": "[encoded data removed]",
      "text/plain": [
       "<Figure size 432x288 with 1 Axes>"
      ]
     },
     "metadata": {
      "needs_background": "light"
     },
     "output_type": "display_data"
    },
    {
     "data": {
      "text/plain": [
       "array([[284,   1],\n",
       "       [  5, 164]])"
      ]
     },
     "execution_count": 7,
     "metadata": {},
     "output_type": "execute_result"
    }
   ],
   "source": [
    "auc_roc(y_train_encode, y_train_dfun,'train')\n",
    "confusion_matrix(y_train_encode, y_train_predict)"
   ]
  },
  {
   "cell_type": "code",
   "execution_count": 8,
   "metadata": {},
   "outputs": [
    {
     "data": {
      "image/png": "[encoded data removed]",
      "text/plain": [
       "<Figure size 432x288 with 1 Axes>"
      ]
     },
     "metadata": {
      "needs_background": "light"
     },
     "output_type": "display_data"
    },
    {
     "data": {
      "text/plain": [
       "array([[63,  9],\n",
       "       [ 2, 41]])"
      ]
     },
     "execution_count": 8,
     "metadata": {},
     "output_type": "execute_result"
    }
   ],
   "source": [
    "auc_roc(y_test_encode, y_test_dfun,'test')\n",
    "confusion_matrix(y_test_encode, y_test_predict)"
   ]
  },
  {
   "cell_type": "markdown",
   "metadata": {},
   "source": [
    "ii.\n",
    "Semi-Supervised Learning/ Self-training:\n",
    "select 50% of the positive\n",
    "class along with 50% of the negative class in the training set as\n",
    "labeled data\n",
    "and the rest as\n",
    "unlabelled data\n",
    ". You can select them randomly"
   ]
  },
  {
   "cell_type": "markdown",
   "metadata": {},
   "source": [
    "A.\n",
    "Train an\n",
    "L\n",
    "1\n",
    "-penalized SVM to classify the labeled data Use normalized\n",
    "data. Choose the penalty parameter using 5 fold cross validation"
   ]
  },
  {
   "cell_type": "code",
   "execution_count": 9,
   "metadata": {},
   "outputs": [],
   "source": [
    "X_test,X_train,y_test,y_train=SplitData(data,0.2,1)\n",
    "#Split 50% train dataset as unlabel data\n",
    "X_unlabel,X_label,y_true,y_label=train_test_split(X_train, y_train, test_size=0.5,random_state=1)"
   ]
  },
  {
   "cell_type": "code",
   "execution_count": 10,
   "metadata": {},
   "outputs": [
    {
     "name": "stdout",
     "output_type": "stream",
     "text": [
      "Best C is  {'C': 3.8888888888888893}\n"
     ]
    }
   ],
   "source": [
    "param_grid = {'C': np.linspace(-1,10,10)}\n",
    "X_label_normal=normalize(X_label)\n",
    "y_label_encode=labelencoder(y_label)\n",
    "clf=LinearSVC(penalty='l1',random_state=None,dual=False,max_iter=2000)\n",
    "GridCV = GridSearchCV(clf, param_grid, cv=5, n_jobs=-1)\n",
    "GridCV.fit(X_label_normal, y_label_encode)\n",
    "Opticlf=GridCV.best_estimator_\n",
    "print(\"Best C is \",GridCV.best_params_)"
   ]
  },
  {
   "cell_type": "markdown",
   "metadata": {},
   "source": [
    "B.\n",
    "Find the unlabeled data point that is the farthest to the decision boundary\n",
    "of the SVM. Let the SVM label it (ignore its true label), and add it to\n",
    "the labeled data, and retrain the SVM. Continue this process until all\n",
    "unlabeled data are used. "
   ]
  },
  {
   "cell_type": "code",
   "execution_count": 11,
   "metadata": {},
   "outputs": [],
   "source": [
    "def semi_learning(X_train,y_train,X_unlabel,Opticlf):\n",
    "    unlabel_size=X_unlabel.shape[0]\n",
    "    while unlabel_size>0:\n",
    "    # calculate distance for unlabelled data\n",
    "        dist =Opticlf.decision_function(X_unlabel)\n",
    "    # Find  the index of farthest point to the hyperplane\n",
    "        far_index = np.where(np.abs(dist) == np.max(np.abs(dist)))\n",
    "    # Farthest point fit in SVM and get labeled\n",
    "        far_X = X_unlabel[far_index]\n",
    "        label_y = Opticlf.predict(far_X)\n",
    "    # Append the labeled point to train data\n",
    "        X_train = np.append(X_train, far_X, axis=0)\n",
    "        y_train = np.append(y_train, label_y)\n",
    "    # Delete unlabelled data\n",
    "        X_unlabel = np.delete(X_unlabel, far_index, axis=0)\n",
    "        unlabel_size -= 1\n",
    "    # Return such classifier\n",
    "    return Opticlf"
   ]
  },
  {
   "cell_type": "markdown",
   "metadata": {},
   "source": [
    "Test the final SVM on the test data and the\n",
    "average accuracy, precision, recall,\n",
    "F\n",
    "1\n",
    "-score, and AUC, for both training\n",
    "and test sets over your\n",
    "M\n",
    "runs. Plot the ROC and report the confusion\n",
    "matrix for training and testing in one of the runs."
   ]
  },
  {
   "cell_type": "code",
   "execution_count": 12,
   "metadata": {},
   "outputs": [
    {
     "name": "stdout",
     "output_type": "stream",
     "text": [
      "1  iteration is done\n",
      "2  iteration is done\n",
      "3  iteration is done\n",
      "4  iteration is done\n",
      "5  iteration is done\n",
      "6  iteration is done\n",
      "7  iteration is done\n",
      "8  iteration is done\n",
      "9  iteration is done\n",
      "10  iteration is done\n",
      "11  iteration is done\n",
      "12  iteration is done\n",
      "13  iteration is done\n",
      "14  iteration is done\n",
      "15  iteration is done\n",
      "16  iteration is done\n",
      "17  iteration is done\n",
      "18  iteration is done\n",
      "19  iteration is done\n",
      "20  iteration is done\n",
      "21  iteration is done\n",
      "22  iteration is done\n",
      "23  iteration is done\n",
      "24  iteration is done\n",
      "25  iteration is done\n",
      "26  iteration is done\n",
      "27  iteration is done\n",
      "28  iteration is done\n",
      "29  iteration is done\n",
      "30  iteration is done\n"
     ]
    }
   ],
   "source": [
    "semi_accu_score_train=[]\n",
    "semi_precision_train=[]\n",
    "semi_recall_train=[]\n",
    "semi_F1_train=[]\n",
    "semi_accu_score_test=[]\n",
    "semi_precision_test=[]\n",
    "semi_recall_test=[]\n",
    "semi_F1_test=[]\n",
    "semi_y_test_predictlist=[]\n",
    "semi_y_train_predictlist=[]\n",
    "param_grid = {'C': np.linspace(-1,10,10)}\n",
    "for j in range(30):\n",
    "    X_test,X_train,y_test,y_train=SplitData(data,0.2,j)  \n",
    "    #Normalize train and test dataset\n",
    "    X_test_normal=normalize(X_test)\n",
    "    X_train_normal=normalize(X_train)\n",
    "    y_test_encode=labelencoder(y_test)\n",
    "    y_train_encode=labelencoder(y_train)\n",
    "    #Split 50% train dataset as unlabel data\n",
    "    X_unlabel,X_label,y_true,y_label=train_test_split(X_train_normal, y_train_encode, test_size=0.5,random_state=j)\n",
    "    #Normalize labeled data\n",
    "    X_label_normal=normalize(X_label)\n",
    "    y_label_encode=labelencoder(y_label)\n",
    "    X_unlabel_normal=normalize(X_unlabel)\n",
    "    #Get best parameter classifier\n",
    "    clf=LinearSVC(penalty='l1',random_state=None,dual=False,max_iter=2000)\n",
    "    GridCV = GridSearchCV(clf, param_grid, cv=5, n_jobs=-1)\n",
    "    GridCV.fit(X_label_normal, y_label_encode)\n",
    "    Opticlf=GridCV.best_estimator_\n",
    "    \n",
    "    semi_clf=semi_learning(X_train_normal,y_train_encode,X_unlabel_normal,Opticlf)\n",
    "    semi_y_train_predict = semi_clf.predict(X_train_normal)\n",
    "    semi_y_test_predict = semi_clf.predict(X_test_normal)\n",
    "    semi_y_test_predictlist.append(semi_y_test_predict)\n",
    "    semi_y_train_predictlist.append(semi_y_train_predict)\n",
    "    \n",
    "    #Predict confidence scores for samples.\n",
    "    semi_y_test_dfun=semi_clf.decision_function(X_test_normal)\n",
    "    semi_y_train_dfun=semi_clf.decision_function(X_train_normal)\n",
    "    \n",
    "    \n",
    "    semi_accu_score_train.append(accuracy_score(y_train_encode, semi_y_train_predict))\n",
    "    semi_precision_train.append(precision_score(y_train_encode, semi_y_train_predict))\n",
    "    semi_recall_train.append(recall_score(y_train_encode, semi_y_train_predict))\n",
    "    semi_F1_train.append(f1_score(y_train_encode, semi_y_train_predict))\n",
    "    \n",
    "    semi_accu_score_test.append(accuracy_score(y_test_encode, semi_y_test_predict))\n",
    "    semi_precision_test.append(precision_score(y_test_encode, semi_y_test_predict))\n",
    "    semi_recall_test.append(recall_score(y_test_encode, semi_y_test_predict))\n",
    "    semi_F1_test.append(f1_score(y_test_encode, semi_y_test_predict))\n",
    "    print(j+1,\" iteration is done\")\n",
    "    "
   ]
  },
  {
   "cell_type": "code",
   "execution_count": 13,
   "metadata": {},
   "outputs": [
    {
     "name": "stdout",
     "output_type": "stream",
     "text": [
      "Average train accurancy is  0.9620411160058739\n",
      "Average test accurancy is  0.9394202898550723\n",
      "Average train precision is  0.9843444464062957\n",
      "Average test precision is  0.9170197447393574\n",
      "Average train recall is  0.9140039447731755\n",
      "Average test recall is  0.9395348837209302\n",
      "Average test F1 is  0.9229854205860418\n",
      "Average train F1 is  0.946174829272377\n"
     ]
    }
   ],
   "source": [
    "print('Average train accurancy is ',np.average(semi_accu_score_train))\n",
    "print('Average test accurancy is ',np.average(semi_accu_score_test))\n",
    "print('Average train precision is ',np.average(semi_precision_train))\n",
    "print('Average test precision is ',np.average(semi_precision_test))\n",
    "print('Average train recall is ',np.average(semi_recall_train))\n",
    "print('Average test recall is ',np.average(semi_recall_test))\n",
    "print('Average test F1 is ',np.average(semi_F1_test))\n",
    "print('Average train F1 is ',np.average(semi_F1_train))"
   ]
  },
  {
   "cell_type": "code",
   "execution_count": 14,
   "metadata": {},
   "outputs": [
    {
     "data": {
      "image/png": "[encoded data removed]",
      "text/plain": [
       "<Figure size 432x288 with 1 Axes>"
      ]
     },
     "metadata": {
      "needs_background": "light"
     },
     "output_type": "display_data"
    },
    {
     "data": {
      "text/plain": [
       "array([[285,   0],\n",
       "       [ 16, 153]])"
      ]
     },
     "execution_count": 14,
     "metadata": {},
     "output_type": "execute_result"
    }
   ],
   "source": [
    "#report 4th iteration results:\n",
    "auc_roc(y_train_encode, semi_y_train_dfun,'train')\n",
    "confusion_matrix(y_train_encode, semi_y_train_predict)"
   ]
  },
  {
   "cell_type": "code",
   "execution_count": 15,
   "metadata": {},
   "outputs": [
    {
     "data": {
      "image/png": "[encoded data removed]",
      "text/plain": [
       "<Figure size 432x288 with 1 Axes>"
      ]
     },
     "metadata": {
      "needs_background": "light"
     },
     "output_type": "display_data"
    },
    {
     "data": {
      "text/plain": [
       "array([[70,  2],\n",
       "       [ 2, 41]])"
      ]
     },
     "execution_count": 15,
     "metadata": {},
     "output_type": "execute_result"
    }
   ],
   "source": [
    "auc_roc(y_test_encode, semi_y_test_dfun,'test')\n",
    "confusion_matrix(y_test_encode, semi_y_test_predict)"
   ]
  },
  {
   "cell_type": "markdown",
   "metadata": {},
   "source": [
    "ii.\n",
    "Unsupervised Learning:\n",
    "Run k-means algorithm on the whole training\n",
    "set. Ignore the labels of the data, and assume\n",
    "k\n",
    "= 2"
   ]
  },
  {
   "cell_type": "markdown",
   "metadata": {},
   "source": [
    "A.Run the k-means algorithm multiple times. Make sure that you initialize\n",
    "the algoritm randomly. How do you make sure that the algorithm was\n",
    "not trapped in a local minimum?"
   ]
  },
  {
   "cell_type": "code",
   "execution_count": 46,
   "metadata": {},
   "outputs": [],
   "source": [
    "from scipy.spatial.distance import cdist\n",
    "from sklearn.cluster import KMeans\n",
    "from scipy.special import softmax\n",
    "k_accu_score_train=[]\n",
    "k_precision_train=[]\n",
    "k_recall_train=[]\n",
    "k_F1_train=[]\n",
    "k_accu_score_test=[]\n",
    "k_precision_test=[]\n",
    "k_recall_test=[]\n",
    "k_F1_test=[]\n",
    "k_y_test_predictlist=[]\n",
    "k_y_train_predictlist=[]\n",
    "y_train_encodelist=[]\n",
    "y_test_encodelist=[]\n",
    "for j in range(30):\n",
    "    \n",
    "    X_test,X_train,y_test,y_train=SplitData(data,0.2,j)\n",
    "    X_test_normal=normalize(X_test)\n",
    "    X_train_normal=normalize(X_train)\n",
    "    y_test_encode=labelencoder(y_test)\n",
    "    y_test_encodelist.append(y_test_encode)\n",
    "    y_train_encode=labelencoder(y_train)\n",
    "    y_train_encodelist.append(y_train_encodelist)\n",
    "    \n",
    "    k_clf = KMeans(n_clusters=2, init='random',n_init = 100)\n",
    "    k_y_train_predict = k_clf.fit_predict(X_train_normal)\n",
    "    k_y_train_predictlist.append(k_y_train_predict)\n",
    "    \n",
    "    train_dist=cdist(X_train_normal, k_clf.cluster_centers_,'euclidean')\n",
    "    # use distance from cluster 1 to pass through softmax\n",
    "    k_y_train_dfun=softmax(train_dist[:,1])\n",
    "    \n",
    "    \n",
    "    k_accu_score_train.append(accuracy_score(y_train_encode, k_y_train_predict))\n",
    "    k_precision_train.append(precision_score(y_train_encode, k_y_train_predict))\n",
    "    k_recall_train.append(recall_score(y_train_encode, k_y_train_predict))\n",
    "    k_F1_train.append(f1_score(y_train_encode, k_y_train_predict))\n",
    "    \n",
    "  \n",
    "    "
   ]
  },
  {
   "cell_type": "code",
   "execution_count": 47,
   "metadata": {},
   "outputs": [
    {
     "name": "stdout",
     "output_type": "stream",
     "text": [
      "Average train accurancy is  0.3837004405286344\n",
      "Average train precision is  0.40384387324639326\n",
      "Average train recall is  0.4\n",
      "Average train F1 is  0.3945270851729278\n"
     ]
    }
   ],
   "source": [
    "print('Average train accurancy is ',np.average(k_accu_score_train))\n",
    "\n",
    "print('Average train precision is ',np.average(k_precision_train))\n",
    "\n",
    "print('Average train recall is ',np.average(k_recall_train))\n",
    "\n",
    "print('Average train F1 is ',np.average(k_F1_train))"
   ]
  },
  {
   "cell_type": "code",
   "execution_count": 48,
   "metadata": {},
   "outputs": [
    {
     "data": {
      "image/png": "[encoded data removed]",
      "text/plain": [
       "<Figure size 432x288 with 1 Axes>"
      ]
     },
     "metadata": {
      "needs_background": "light"
     },
     "output_type": "display_data"
    },
    {
     "data": {
      "text/plain": [
       "array([[  6, 279],\n",
       "       [141,  28]])"
      ]
     },
     "execution_count": 48,
     "metadata": {},
     "output_type": "execute_result"
    }
   ],
   "source": [
    "#report 4th iteration results:\n",
    "auc_roc(y_train_encode, k_y_train_dfun,'train')\n",
    "confusion_matrix(y_train_encode, k_y_train_predict)"
   ]
  },
  {
   "cell_type": "markdown",
   "metadata": {},
   "source": [
    "To avoid K-means getting stuck at a bad local optima,we can use multiple randon initialization and increaseing the number of time the k-means algorithm that will be run with different centroid seeds."
   ]
  },
  {
   "cell_type": "markdown",
   "metadata": {},
   "source": [
    "B.Compute the centers of the two clusters and find the closest 30 data\n",
    "points to each center. Read the true labels of those 30 data points and\n",
    "take a majority poll within them. The majority poll becomes the label predicted by k-means for the members of each cluster. Then compare the\n",
    "labels provided by k-means with the true labels of the training data and\n",
    "report the average accuracy, precision, recall,\n",
    "F\n",
    "1\n",
    "-score, and AUC over\n",
    "M\n",
    "runs, and **ROC and the confusion matrix for one of the runs**."
   ]
  },
  {
   "cell_type": "code",
   "execution_count": 19,
   "metadata": {},
   "outputs": [],
   "source": [
    "from collections import Counter   \n",
    "def most_frequent(List): \n",
    "    occurence_count = Counter(List) \n",
    "    return occurence_count.most_common(1)[0][0] "
   ]
  },
  {
   "cell_type": "code",
   "execution_count": 20,
   "metadata": {},
   "outputs": [],
   "source": [
    "from scipy.spatial.distance import cdist\n",
    "#dm = cdist(df, centroids)\n",
    "k_accu_score_train_majority=[]\n",
    "k_precision_train_majority=[]\n",
    "k_recall_train_majority=[]\n",
    "k_F1_train_majority=[]\n",
    "for j in range(30):\n",
    "    X_test,X_train,y_test,y_train=SplitData(data,0.2,j)\n",
    "    X_test_normal=normalize(X_test)\n",
    "    X_train_normal=normalize(X_train)\n",
    "    y_test_encode=labelencoder(y_test)\n",
    "    y_train_encode=labelencoder(y_train)\n",
    "   \n",
    "    \n",
    "    k_clf_majority = KMeans(n_clusters=2, init='random',n_init = 100)\n",
    "    k_y_train_predict = k_clf_majority.fit_predict(X_train_normal)\n",
    "\n",
    "    index_0=np.argsort(cdist(X_train_normal, k_clf_majority.cluster_centers_,'euclidean')[:,0])[:30]\n",
    "    index_1=np.argsort(cdist(X_train_normal, k_clf_majority.cluster_centers_,'euclidean')[:,1])[:30]\n",
    "\n",
    "    y_train_30_0 = y_train_encode[index_0]\n",
    "    y_train_30_1 = y_train_encode[index_1]\n",
    "\n",
    "    zero_label = most_frequent(y_train_30_0)#Majority label of \"0\" class\n",
    "    one_label = most_frequent(y_train_30_1)#Majority label of \"1\" class\n",
    "    k_y_train_predict_majority=np.where(k_y_train_predict==0, zero_label, one_label)\n",
    "\n",
    "    k_accu_score_train_majority.append(accuracy_score(y_train_encode, k_y_train_predict_majority))\n",
    "    k_precision_train_majority.append(precision_score(y_train_encode, k_y_train_predict_majority))\n",
    "    k_recall_train_majority.append(recall_score(y_train_encode, k_y_train_predict_majority))\n",
    "    k_F1_train_majority.append(f1_score(y_train_encode, k_y_train_predict_majority))"
   ]
  },
  {
   "cell_type": "code",
   "execution_count": 21,
   "metadata": {},
   "outputs": [
    {
     "name": "stdout",
     "output_type": "stream",
     "text": [
      "Average train accurancy is  0.9295154185022025\n",
      "Average train recall is  0.8483234714003945\n",
      "Average train precision is  0.9576623364865343\n",
      "Average train F1 is  0.8995360719142426\n"
     ]
    }
   ],
   "source": [
    "print('Average train accurancy is ',np.average(k_accu_score_train_majority))\n",
    "print('Average train recall is ',np.average(k_recall_train_majority))\n",
    "print('Average train precision is ',np.average(k_precision_train_majority))\n",
    "print('Average train F1 is ',np.average(k_F1_train_majority))"
   ]
  },
  {
   "cell_type": "code",
   "execution_count": 22,
   "metadata": {},
   "outputs": [],
   "source": [
    "#Use last iteration to performe confidence scores for samples.\n",
    "test_dist_majority=cdist(X_test_normal, k_clf_majority.cluster_centers_,'euclidean')\n",
    "train_dist_majority=cdist(X_train_normal, k_clf_majority.cluster_centers_,'euclidean')\n",
    "k_y_test_dfun_majority=softmax(test_dist_majority[:,1])# use distance from cluster 0 to pass through softmax\n",
    "k_y_train_dfun_majority=softmax(train_dist_majority[:,1])"
   ]
  },
  {
   "cell_type": "code",
   "execution_count": 23,
   "metadata": {},
   "outputs": [
    {
     "data": {
      "image/png": "[encoded data removed]",
      "text/plain": [
       "<Figure size 432x288 with 1 Axes>"
      ]
     },
     "metadata": {
      "needs_background": "light"
     },
     "output_type": "display_data"
    },
    {
     "data": {
      "text/plain": [
       "array([[279,   6],\n",
       "       [ 28, 141]])"
      ]
     },
     "execution_count": 23,
     "metadata": {},
     "output_type": "execute_result"
    }
   ],
   "source": [
    "auc_roc(y_train_encode, k_y_train_dfun_majority,'train')\n",
    "confusion_matrix(y_train_encode, k_y_train_predict_majority)"
   ]
  },
  {
   "cell_type": "markdown",
   "metadata": {},
   "source": [
    "C.\n",
    "Classify test data based on their proximity to the centers of the clusters.\n",
    "Report the average accuracy, precision, recall,\n",
    "F\n",
    "1\n",
    "-score, and AUC over\n",
    "M\n",
    "runs, and ROC and the confusion matrix for one of the runs for the\n",
    "test data"
   ]
  },
  {
   "cell_type": "code",
   "execution_count": 24,
   "metadata": {},
   "outputs": [],
   "source": [
    "from scipy.spatial.distance import cdist\n",
    "from sklearn.cluster import KMeans\n",
    "#dm = cdist(df, centroids)\n",
    "k_accu_score_test_prox=[]\n",
    "k_precision_test_prox=[]\n",
    "k_recall_test_prox=[]\n",
    "k_F1_test_prox=[]\n",
    "for j in range(30):\n",
    "    X_test,X_train,y_test,y_train=SplitData(data,0.2,j)\n",
    "    X_test_normal=normalize(X_test)\n",
    "    X_train_normal=normalize(X_train)\n",
    "    y_test_encode=labelencoder(y_test)\n",
    "    y_train_encode=labelencoder(y_train)\n",
    "    \n",
    "    k_clf_prox = KMeans(n_clusters=2, init='random')\n",
    "    k_y_test_predict_prox = k_clf_prox.fit(X_test_normal).predict(X_test_normal)\n",
    "    \n",
    "\n",
    "    dist_0=cdist(X_test_normal, k_clf_prox.cluster_centers_,'euclidean')[:,0]#distance to \"0\" class center\n",
    "    dist_1=cdist(X_test_normal, k_clf_prox.cluster_centers_,'euclidean')[:,1]#distance to \"1\" class center\n",
    "    #Modify y_test based on proximity to center\n",
    "    #If a point has [dist to 0] > [dist to 1], clarify as class 1\n",
    "    for i in range(len(k_y_test_predict_prox)):\n",
    "        if dist_0[i]<dist_1[i]:\n",
    "            k_y_test_predict_prox[i]==0\n",
    "        else:\n",
    "            k_y_test_predict_prox[i]==1\n",
    "    \n",
    "    test_dist_proxy=cdist(X_test_normal, k_clf_prox.cluster_centers_,'euclidean')[:,1]\n",
    "    \n",
    "    k_accu_score_test_prox.append(accuracy_score(y_test_encode, k_y_test_predict_prox))\n",
    "    k_precision_test_prox.append(precision_score(y_test_encode, k_y_test_predict_prox))\n",
    "    k_recall_test_prox.append(recall_score(y_test_encode, k_y_test_predict_prox))\n",
    "    k_F1_test_prox.append(f1_score(y_test_encode, k_y_test_predict_prox))\n",
    "    \n",
    "    k_accuracy = len(y_test_encode[y_test_encode==k_y_test_predict_prox])/len(y_test_encode)"
   ]
  },
  {
   "cell_type": "code",
   "execution_count": 25,
   "metadata": {},
   "outputs": [
    {
     "name": "stdout",
     "output_type": "stream",
     "text": [
      "Average test accurancy is  0.6142028985507246\n",
      "Average test recall is  0.6007751937984496\n",
      "Average test precision is  0.6391327710719265\n",
      "Average test F-1 score is  0.6120351713740646\n"
     ]
    }
   ],
   "source": [
    "print('Average test accurancy is ',np.average(k_accu_score_test_prox))\n",
    "print('Average test recall is ',np.average(k_recall_test_prox))\n",
    "print('Average test precision is ',np.average(k_precision_test_prox))\n",
    "print('Average test F-1 score is ',np.average(k_F1_test_prox))"
   ]
  },
  {
   "cell_type": "code",
   "execution_count": 26,
   "metadata": {},
   "outputs": [
    {
     "data": {
      "image/png": "[encoded data removed]",
      "text/plain": [
       "<Figure size 432x288 with 1 Axes>"
      ]
     },
     "metadata": {
      "needs_background": "light"
     },
     "output_type": "display_data"
    }
   ],
   "source": [
    "auc_roc(y_test_encode,  test_dist_proxy,'test')"
   ]
  },
  {
   "cell_type": "code",
   "execution_count": 27,
   "metadata": {},
   "outputs": [
    {
     "data": {
      "text/plain": [
       "array([[ 0, 72],\n",
       "       [37,  6]])"
      ]
     },
     "execution_count": 27,
     "metadata": {},
     "output_type": "execute_result"
    }
   ],
   "source": [
    "confusion_matrix(y_test_encode, k_y_test_predict_prox)"
   ]
  },
  {
   "cell_type": "markdown",
   "metadata": {},
   "source": [
    "### iv. Spectral Clustering\n",
    "Repeat 1(b)iii using\n",
    "spectral clustering\n",
    ", which is clus-\n",
    "tering based on kernels.\n",
    "3\n",
    "Research what spectral clustering is. Use RBF\n",
    "kernel with gamma=1 or find a gamma for which the two clutsres have the\n",
    "same balance as the one in original data set (if the positive class has\n",
    "p\n",
    "and the\n",
    "negative class has\n",
    "n\n",
    "samples, the two clusters must have\n",
    "p\n",
    "and\n",
    "n\n",
    "members).\n",
    "Do not label data based on their proximity to cluster center, because spectral\n",
    "clustering may give you non-convex clusters . Instead, use\n",
    "fit\n",
    "−\n",
    "predict\n",
    "method."
   ]
  },
  {
   "cell_type": "markdown",
   "metadata": {},
   "source": [
    "Definition: Similar to K-Medoids, Spectral Clustering only requires the similarity matrix between the data, rather than requiring the data to be a vector in n-dimensional Euclidean space like K-means.**"
   ]
  },
  {
   "cell_type": "markdown",
   "metadata": {},
   "source": [
    "A.\n",
    "Run the k-means algorithm multiple times. Make sure that you initialize\n",
    "the algoritm randomly"
   ]
  },
  {
   "cell_type": "code",
   "execution_count": 28,
   "metadata": {},
   "outputs": [],
   "source": [
    "def perf_measure(y_actual, y_hat):\n",
    "    TP = 0\n",
    "    FP = 0\n",
    "    TN = 0\n",
    "    FN = 0\n",
    "\n",
    "    for i in range(len(y_hat)): \n",
    "        if y_actual[i]==y_hat[i]==1:\n",
    "           TP += 1\n",
    "        if y_hat[i]==1 and y_actual[i]!=y_hat[i]:\n",
    "           FP += 1\n",
    "        if y_actual[i]==y_hat[i]==0:\n",
    "           TN += 1\n",
    "        if y_hat[i]==0 and y_actual[i]!=y_hat[i]:\n",
    "           FN += 1\n",
    "    # Sensitivity, hit rate, recall, or true positive rate\n",
    "    if TP>0:\n",
    "        TPR = TP/(TP+FN)\n",
    "    else:\n",
    "        TPR=0\n",
    "    # Fall out or false positive rate\n",
    "    if FP>0:\n",
    "        FPR = FP/(FP+TN)\n",
    "    else:\n",
    "        FPR=0\n",
    "    return TPR,FPR"
   ]
  },
  {
   "cell_type": "code",
   "execution_count": 29,
   "metadata": {},
   "outputs": [],
   "source": [
    "def Majority_ROC(Spec_y_train_predict,y_train_encode):\n",
    "    TPRlist=[]\n",
    "    FPRlist=[]\n",
    "    percent=[0.1,0.2,0.3,0.4,0.5,0.6,0.7,0.8,0.9,1]\n",
    "    for i in percent:\n",
    "    #Assume clustering label 1 is in cluster A\n",
    "        clusterA_index=np.where(Spec_y_train_predict==1)\n",
    "    #True label among cluster A\n",
    "        clusterA_truelabel=y_train_encode[clusterA_index]\n",
    "    #number of True postive 1 label in cluster A\n",
    "        length_1_label_A=len(np.where(clusterA_truelabel==1)[0])\n",
    "    #Threshold\n",
    "        thresholdA=len(clusterA_index[0])*i # i% of cluster A\n",
    "    #Define new predict array\n",
    "        Spec_y_train_predict_new=np.zeros(Spec_y_train_predict.shape)\n",
    "    # If number of postive label > than i% total number of label in cluster A\n",
    "        if length_1_label_A > thresholdA: \n",
    "        # Predict it all the data in cluster A as postive 1\n",
    "            Spec_y_train_predict_new[clusterA_index]=1\n",
    "    # If number of postive label > than i% total number of label in cluster A\n",
    "    #Predict it all the data in cluster A as negative 0\n",
    "        if length_1_label_A < thresholdA:\n",
    "            Spec_y_train_predict_new[clusterA_index]=0\n",
    "\n",
    "        clusterB_index=np.where(Spec_y_train_predict==0)\n",
    "        clusterB_truelabel=y_train_encode[clusterB_index]#True label among cluster B\n",
    "        length_1_label_B=len(np.where(clusterB_truelabel==1)[0])# number of postive 1 label in cluster B\n",
    "        thresholdB=len(clusterB_index[0])*i # i% of cluster A\n",
    "        if length_1_label_B > thresholdB: # If number of postive label > than I% total number label of cluster B\n",
    "            Spec_y_train_predict_new[clusterB_index]=1\n",
    "        if length_1_label_B < thresholdB:\n",
    "            Spec_y_train_predict_new[clusterB_index]=0\n",
    "        TPR,FPR=perf_measure(y_train_encode, Spec_y_train_predict_new)\n",
    "        TPRlist.append(TPR)\n",
    "        FPRlist.append(FPR)\n",
    "    area = auc(FPRlist, TPRlist)\n",
    "    plt.plot(FPRlist,TPRlist,label='AUC = ' + str(area))\n",
    "    plt.title('ROC curve by Varing threshold')\n",
    "    plt.xlabel('False Postive')\n",
    "    plt.ylabel('True Postive')\n",
    "    \n",
    "    plt.legend()\n",
    "    return plt.show()"
   ]
  },
  {
   "cell_type": "code",
   "execution_count": 30,
   "metadata": {},
   "outputs": [],
   "source": [
    "from scipy.spatial.distance import cdist\n",
    "from sklearn.cluster import SpectralClustering\n",
    "from scipy.special import softmax\n",
    "Spec_accu_score_train=[]\n",
    "Spec_precision_train=[]\n",
    "Spec_recall_train=[]\n",
    "Spec_F1_train=[]\n",
    "Spec_accu_score_test=[]\n",
    "Spec_precision_test=[]\n",
    "Spec_recall_test=[]\n",
    "Spec_F1_test=[]\n",
    "for j in range(30):\n",
    "    \n",
    "    X_test,X_train,y_test,y_train=SplitData(data,0.2,j)\n",
    "    X_test_normal=normalize(X_test)\n",
    "    X_train_normal=normalize(X_train)\n",
    "    y_test_encode=labelencoder(y_test)\n",
    "    y_train_encode=labelencoder(y_train)\n",
    "    \n",
    "    \n",
    "    clustering = SpectralClustering(n_clusters=2,affinity='rbf',gamma=1)\n",
    "    Spec_y_train_predict = clustering.fit_predict(X_train_normal)\n",
    "   \n",
    "    Spec_accu_score_train.append(accuracy_score(y_train_encode, Spec_y_train_predict))\n",
    "    Spec_precision_train.append(precision_score(y_train_encode, Spec_y_train_predict))\n",
    "    Spec_recall_train.append(recall_score(y_train_encode, Spec_y_train_predict))\n",
    "    Spec_F1_train.append(f1_score(y_train_encode, Spec_y_train_predict))\n",
    "    "
   ]
  },
  {
   "cell_type": "code",
   "execution_count": 31,
   "metadata": {},
   "outputs": [
    {
     "name": "stdout",
     "output_type": "stream",
     "text": [
      "Average train accurancy is  0.642511013215859\n",
      "Average train recall is  0.54930966469428\n",
      "Average train precision is  0.7432264229923959\n",
      "Average train F1 is  0.6079170778564399\n"
     ]
    }
   ],
   "source": [
    "print('Average train accurancy is ',np.average(Spec_accu_score_train))\n",
    "print('Average train recall is ',np.average(Spec_recall_train))\n",
    "print('Average train precision is ',np.average(Spec_precision_train))\n",
    "print('Average train F1 is ',np.average(Spec_F1_train))"
   ]
  },
  {
   "cell_type": "code",
   "execution_count": 32,
   "metadata": {},
   "outputs": [
    {
     "data": {
      "image/png": "[encoded data removed]",
      "text/plain": [
       "<Figure size 432x288 with 1 Axes>"
      ]
     },
     "metadata": {
      "needs_background": "light"
     },
     "output_type": "display_data"
    },
    {
     "data": {
      "text/plain": [
       "array([[282,   3],\n",
       "       [ 69, 100]])"
      ]
     },
     "execution_count": 32,
     "metadata": {},
     "output_type": "execute_result"
    }
   ],
   "source": [
    "Majority_ROC(Spec_y_train_predict,y_train_encode)\n",
    "confusion_matrix(y_train_encode,  Spec_y_train_predict)"
   ]
  },
  {
   "cell_type": "markdown",
   "metadata": {},
   "source": [
    "B.Read labels of the **entire points in each cluster**  and\n",
    "take a majority poll within them. The majority poll becomes the label predicted by k-means for the members of each cluster. Then compare the\n",
    "labels provided by k-means with the true labels of the training data and\n",
    "report the average accuracy, precision, recall,\n",
    "F\n",
    "1\n",
    "-score, and AUC over\n",
    "M\n",
    "runs, and **ROC and the confusion matrix for one of the runs**."
   ]
  },
  {
   "cell_type": "code",
   "execution_count": 33,
   "metadata": {},
   "outputs": [],
   "source": [
    "from scipy.spatial.distance import cdist\n",
    "from sklearn.cluster import SpectralClustering\n",
    "from scipy.special import softmax\n",
    "Spec_accu_score_train_majority=[]\n",
    "Spec_precision_train_majority=[]\n",
    "Spec_recall_train_majority=[]\n",
    "Spec_F1_train_majority=[]\n",
    "for j in range(30):\n",
    "    \n",
    "    X_test,X_train,y_test,y_train=SplitData(data,0.2,j)\n",
    "    X_test_normal=normalize(X_test)\n",
    "    X_train_normal=normalize(X_train)\n",
    "    y_test_encode=labelencoder(y_test)\n",
    "    y_train_encode=labelencoder(y_train)\n",
    "    \n",
    "    \n",
    "    clustering = SpectralClustering(n_clusters=2,affinity='rbf',gamma=1,n_jobs=-1)\n",
    "    Spec_y_train_predict = clustering.fit_predict(X_train_normal)\n",
    "    \n",
    "    index_0 = np.where(Spec_y_train_predict==0)\n",
    "    index_1 = np.where(Spec_y_train_predict==1)\n",
    "    y_train_0 = y_train_encode[index_0]\n",
    "    y_train_1 = y_train_encode[index_1]\n",
    "    Zero_label = most_frequent(y_train_0)#Majority label of \"0\" class\n",
    "    One_label = most_frequent(y_train_1)#Majority label of \"1\" class\n",
    "    Spec_y_train_predict_majority=np.where(Spec_y_train_predict==0, Zero_label, One_label)\n",
    "   \n",
    "    Spec_accu_score_train_majority.append(accuracy_score(y_train_encode, Spec_y_train_predict_majority))\n",
    "    Spec_precision_train_majority.append(precision_score(y_train_encode, Spec_y_train_predict_majority))\n",
    "    Spec_recall_train_majority.append(recall_score(y_train_encode, Spec_y_train_predict_majority))\n",
    "    Spec_F1_train_majority.append(f1_score(y_train_encode, Spec_y_train_predict_majority))\n",
    "    "
   ]
  },
  {
   "cell_type": "code",
   "execution_count": 34,
   "metadata": {},
   "outputs": [
    {
     "name": "stdout",
     "output_type": "stream",
     "text": [
      "Average train accurancy is  0.8580763582966224\n",
      "Average train recall is  0.6287968441814594\n",
      "Average train precision is  0.9845590512688696\n",
      "Average train F1 is  0.766303719453466\n"
     ]
    }
   ],
   "source": [
    "print('Average train accurancy is ',np.average(Spec_accu_score_train_majority))\n",
    "print('Average train recall is ',np.average(Spec_recall_train_majority))\n",
    "print('Average train precision is ',np.average(Spec_precision_train_majority))\n",
    "print('Average train F1 is ',np.average(Spec_F1_train_majority))"
   ]
  },
  {
   "cell_type": "code",
   "execution_count": 35,
   "metadata": {},
   "outputs": [
    {
     "data": {
      "image/png": "[encoded data removed]",
      "text/plain": [
       "<Figure size 432x288 with 1 Axes>"
      ]
     },
     "metadata": {
      "needs_background": "light"
     },
     "output_type": "display_data"
    },
    {
     "data": {
      "text/plain": [
       "array([[282,   3],\n",
       "       [ 69, 100]])"
      ]
     },
     "execution_count": 35,
     "metadata": {},
     "output_type": "execute_result"
    }
   ],
   "source": [
    "Majority_ROC(Spec_y_train_predict_majority,y_train_encode)\n",
    "confusion_matrix(y_train_encode, Spec_y_train_predict_majority)"
   ]
  },
  {
   "cell_type": "markdown",
   "metadata": {},
   "source": [
    "C. Classify test data. **Do not label data based on their proximity to cluster center, because spectral\n",
    "clustering may give you non-convex clusters . Instead, use\n",
    "fit\n",
    "−\n",
    "predict**\n",
    "method. Report the average accuracy, precision, recall, F 1 -score, and AUC over M runs, and ROC and the confusion matrix for one of the runs for the test data"
   ]
  },
  {
   "cell_type": "code",
   "execution_count": 36,
   "metadata": {},
   "outputs": [],
   "source": [
    "from scipy.spatial.distance import cdist\n",
    "from sklearn.cluster import SpectralClustering\n",
    "from scipy.special import softmax\n",
    "Spec_accu_score_test=[]\n",
    "Spec_precision_test=[]\n",
    "Spec_recall_test=[]\n",
    "Spec_F1_test=[]\n",
    "for j in range(30):\n",
    "    \n",
    "    X_test,X_train,y_test,y_train=SplitData(data,0.2,j)\n",
    "    X_test_normal=normalize(X_test)\n",
    "    X_train_normal=normalize(X_train)\n",
    "    y_test_encode=labelencoder(y_test)\n",
    "    y_train_encode=labelencoder(y_train)\n",
    "  \n",
    "    \n",
    "    clustering = SpectralClustering(n_clusters=2,affinity='rbf',gamma=1)\n",
    "    Spec_y_test_predict = clustering.fit_predict(X_test_normal)\n",
    "    \n",
    "    \n",
    "   \n",
    "    Spec_accu_score_test.append(accuracy_score(y_test_encode,  Spec_y_test_predict))\n",
    "    Spec_precision_test.append(precision_score(y_test_encode,  Spec_y_test_predict))\n",
    "    Spec_recall_test.append(recall_score(y_test_encode,  Spec_y_test_predict))\n",
    "    Spec_F1_test.append(f1_score(y_test_encode,  Spec_y_test_predict))\n",
    "    "
   ]
  },
  {
   "cell_type": "code",
   "execution_count": 37,
   "metadata": {},
   "outputs": [
    {
     "name": "stdout",
     "output_type": "stream",
     "text": [
      "Average test accurancy is  0.6698550724637681\n",
      "Average test recall is  0.513953488372093\n",
      "Average test precision is  0.8052306478304428\n",
      "Average test F1 is  0.5829800815671698\n"
     ]
    }
   ],
   "source": [
    "print('Average test accurancy is ',np.average(Spec_accu_score_test))\n",
    "print('Average test recall is ',np.average(Spec_recall_test))\n",
    "print('Average test precision is ',np.average(Spec_precision_test))\n",
    "print('Average test F1 is ',np.average(Spec_F1_test))"
   ]
  },
  {
   "cell_type": "code",
   "execution_count": 38,
   "metadata": {},
   "outputs": [
    {
     "data": {
      "image/png": "[encoded data removed]",
      "text/plain": [
       "<Figure size 432x288 with 1 Axes>"
      ]
     },
     "metadata": {
      "needs_background": "light"
     },
     "output_type": "display_data"
    },
    {
     "data": {
      "text/plain": [
       "array([[ 0, 72],\n",
       "       [26, 17]])"
      ]
     },
     "execution_count": 38,
     "metadata": {},
     "output_type": "execute_result"
    }
   ],
   "source": [
    "Majority_ROC(Spec_y_test_predict,y_test_encode)\n",
    "confusion_matrix(y_test_encode, Spec_y_test_predict)"
   ]
  },
  {
   "cell_type": "markdown",
   "metadata": {},
   "source": [
    "v.\n",
    "One can expect that supervised learning on the full data set works better than\n",
    "semi-supervised learning with half of the data set labeled.One can expect that\n",
    "unsupervised learning underperforms in such situations. Compare the results\n",
    "you obtained by those methods"
   ]
  },
  {
   "cell_type": "code",
   "execution_count": 39,
   "metadata": {},
   "outputs": [],
   "source": [
    "Summary=pd.DataFrame()\n",
    "Summary.reset_index(drop=True)\n",
    "Summary['Learning type/Dataset']=['supervised/Train','supervised/Test',\\\n",
    "                                  'semi-supervised/Train','semi-supervised/Test',\\\n",
    "                                  'unsupervised/Train/Kmean','unsupervised/Test/Kmean',\\\n",
    "                                 'unsupervised/Train/Spectrual','unsupervised/Test/Spectrual']"
   ]
  },
  {
   "cell_type": "code",
   "execution_count": 40,
   "metadata": {},
   "outputs": [],
   "source": [
    "Summary['Average Accurancy']=[np.average(accu_score_train),np.average(accu_score_test),\\\n",
    "                              np.average(semi_accu_score_train),np.average(semi_accu_score_test),\\\n",
    "                             np.average(k_accu_score_train_majority),np.average(k_accu_score_test_prox),\\\n",
    "                             np.average(Spec_accu_score_train_majority),np.average(Spec_accu_score_test)]"
   ]
  },
  {
   "cell_type": "code",
   "execution_count": 41,
   "metadata": {},
   "outputs": [],
   "source": [
    "Summary['Average Recall']=[np.average(recall_train),np.average(recall_test),\\\n",
    "                              np.average(semi_recall_train),np.average(semi_recall_test),\\\n",
    "                             np.average(k_recall_train_majority),np.average(k_recall_test_prox),\\\n",
    "                             np.average(Spec_recall_train_majority),np.average(Spec_recall_test)]"
   ]
  },
  {
   "cell_type": "code",
   "execution_count": 42,
   "metadata": {},
   "outputs": [],
   "source": [
    "Summary['Average Recall']=[np.average(recall_train),np.average(recall_test),\\\n",
    "                              np.average(semi_recall_train),np.average(semi_recall_test),\\\n",
    "                             np.average(k_recall_train_majority),np.average(k_recall_test_prox),\\\n",
    "                             np.average(Spec_recall_train_majority),np.average(Spec_recall_test)]"
   ]
  },
  {
   "cell_type": "code",
   "execution_count": 43,
   "metadata": {},
   "outputs": [],
   "source": [
    "Summary['Average Precision']=[np.average(precision_train),np.average(precision_test),\\\n",
    "                              np.average(semi_precision_train),np.average(semi_precision_test),\\\n",
    "                             np.average(k_precision_train_majority),np.average(k_precision_test_prox),\\\n",
    "                             np.average(Spec_precision_train_majority),np.average(Spec_precision_test)]\n"
   ]
  },
  {
   "cell_type": "code",
   "execution_count": 44,
   "metadata": {},
   "outputs": [],
   "source": [
    "Summary['Average F1']=[np.average(F1_train),np.average(F1_test),\\\n",
    "                              np.average(semi_F1_train),np.average(semi_F1_test),\\\n",
    "                             np.average(k_F1_train_majority),np.average(k_F1_test_prox),\\\n",
    "                             np.average(Spec_F1_train_majority),np.average(Spec_F1_test)]"
   ]
  },
  {
   "cell_type": "code",
   "execution_count": 45,
   "metadata": {},
   "outputs": [
    {
     "data": {
      "text/html": [
       "<div>\n",
       "<style scoped>\n",
       "    .dataframe tbody tr th:only-of-type {\n",
       "        vertical-align: middle;\n",
       "    }\n",
       "\n",
       "    .dataframe tbody tr th {\n",
       "        vertical-align: top;\n",
       "    }\n",
       "\n",
       "    .dataframe thead th {\n",
       "        text-align: right;\n",
       "    }\n",
       "</style>\n",
       "<table border=\"1\" class=\"dataframe\">\n",
       "  <thead>\n",
       "    <tr style=\"text-align: right;\">\n",
       "      <th></th>\n",
       "      <th>Learning type/Dataset</th>\n",
       "      <th>Average Accurancy</th>\n",
       "      <th>Average Recall</th>\n",
       "      <th>Average Precision</th>\n",
       "      <th>Average F1</th>\n",
       "    </tr>\n",
       "  </thead>\n",
       "  <tbody>\n",
       "    <tr>\n",
       "      <th>0</th>\n",
       "      <td>supervised/Train</td>\n",
       "      <td>0.987518</td>\n",
       "      <td>0.974556</td>\n",
       "      <td>0.991805</td>\n",
       "      <td>0.983090</td>\n",
       "    </tr>\n",
       "    <tr>\n",
       "      <th>1</th>\n",
       "      <td>supervised/Test</td>\n",
       "      <td>0.901739</td>\n",
       "      <td>0.979070</td>\n",
       "      <td>0.824830</td>\n",
       "      <td>0.888640</td>\n",
       "    </tr>\n",
       "    <tr>\n",
       "      <th>2</th>\n",
       "      <td>semi-supervised/Train</td>\n",
       "      <td>0.962041</td>\n",
       "      <td>0.914004</td>\n",
       "      <td>0.984344</td>\n",
       "      <td>0.946175</td>\n",
       "    </tr>\n",
       "    <tr>\n",
       "      <th>3</th>\n",
       "      <td>semi-supervised/Test</td>\n",
       "      <td>0.939420</td>\n",
       "      <td>0.939535</td>\n",
       "      <td>0.917020</td>\n",
       "      <td>0.922985</td>\n",
       "    </tr>\n",
       "    <tr>\n",
       "      <th>4</th>\n",
       "      <td>unsupervised/Train/Kmean</td>\n",
       "      <td>0.929515</td>\n",
       "      <td>0.848323</td>\n",
       "      <td>0.957662</td>\n",
       "      <td>0.899536</td>\n",
       "    </tr>\n",
       "    <tr>\n",
       "      <th>5</th>\n",
       "      <td>unsupervised/Test/Kmean</td>\n",
       "      <td>0.614203</td>\n",
       "      <td>0.600775</td>\n",
       "      <td>0.639133</td>\n",
       "      <td>0.612035</td>\n",
       "    </tr>\n",
       "    <tr>\n",
       "      <th>6</th>\n",
       "      <td>unsupervised/Train/Spectrual</td>\n",
       "      <td>0.858076</td>\n",
       "      <td>0.628797</td>\n",
       "      <td>0.984559</td>\n",
       "      <td>0.766304</td>\n",
       "    </tr>\n",
       "    <tr>\n",
       "      <th>7</th>\n",
       "      <td>unsupervised/Test/Spectrual</td>\n",
       "      <td>0.669855</td>\n",
       "      <td>0.513953</td>\n",
       "      <td>0.805231</td>\n",
       "      <td>0.582980</td>\n",
       "    </tr>\n",
       "  </tbody>\n",
       "</table>\n",
       "</div>"
      ],
      "text/plain": [
       "          Learning type/Dataset  Average Accurancy  Average Recall  \\\n",
       "0              supervised/Train           0.987518        0.974556   \n",
       "1               supervised/Test           0.901739        0.979070   \n",
       "2         semi-supervised/Train           0.962041        0.914004   \n",
       "3          semi-supervised/Test           0.939420        0.939535   \n",
       "4      unsupervised/Train/Kmean           0.929515        0.848323   \n",
       "5       unsupervised/Test/Kmean           0.614203        0.600775   \n",
       "6  unsupervised/Train/Spectrual           0.858076        0.628797   \n",
       "7   unsupervised/Test/Spectrual           0.669855        0.513953   \n",
       "\n",
       "   Average Precision  Average F1  \n",
       "0           0.991805    0.983090  \n",
       "1           0.824830    0.888640  \n",
       "2           0.984344    0.946175  \n",
       "3           0.917020    0.922985  \n",
       "4           0.957662    0.899536  \n",
       "5           0.639133    0.612035  \n",
       "6           0.984559    0.766304  \n",
       "7           0.805231    0.582980  "
      ]
     },
     "execution_count": 45,
     "metadata": {},
     "output_type": "execute_result"
    }
   ],
   "source": [
    "Summary"
   ]
  },
  {
   "cell_type": "markdown",
   "metadata": {},
   "source": [
    "From the summary table ,we can conclude that supervise learning is outstanding among other learning method. The spectural learning has lower accurancy, recall ,precision and F1, susggested that it would not be a suitable method in this problem."
   ]
  },
  {
   "cell_type": "markdown",
   "metadata": {},
   "source": [
    "# Continue to HW06Problem2.ipynb for Problem 2"
   ]
  },
  {
   "cell_type": "code",
   "execution_count": null,
   "metadata": {},
   "outputs": [],
   "source": []
  }
 ],
 "metadata": {
  "kernelspec": {
   "display_name": "Python 3",
   "language": "python",
   "name": "python3"
  },
  "language_info": {
   "codemirror_mode": {
    "name": "ipython",
    "version": 3
   },
   "file_extension": ".py",
   "mimetype": "text/x-python",
   "name": "python",
   "nbconvert_exporter": "python",
   "pygments_lexer": "ipython3",
   "version": "3.7.3"
  }
 },
 "nbformat": 4,
 "nbformat_minor": 2
}
