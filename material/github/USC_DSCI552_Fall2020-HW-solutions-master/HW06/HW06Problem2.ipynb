{
 "cells": [
  {
   "cell_type": "markdown",
   "metadata": {},
   "source": [
    "2.\n",
    "Active Learning Using Support Vector Machines"
   ]
  },
  {
   "cell_type": "markdown",
   "metadata": {},
   "source": [
    "a)\n",
    "Download the banknote authentication Data Set from:\n",
    "https://archive.ics.\n",
    "uci.edu/ml/datasets/banknote+authentication\n",
    ". Choose 472 data points ran-\n",
    "domly as the test set, and the remaining 900 points as the training set. This is a\n",
    "binary classification problem"
   ]
  },
  {
   "cell_type": "code",
   "execution_count": 1,
   "metadata": {},
   "outputs": [],
   "source": [
    "import warnings\n",
    "warnings.filterwarnings(\"ignore\")\n",
    "import pandas as pd\n",
    "import numpy as np\n",
    "import matplotlib.pyplot as plt\n",
    "data=pd.read_csv('./data_banknote_authentication.txt',sep=\",\", header=None)\n",
    "def splitData(data,test_size):\n",
    "    test_data=data.sample(test_size)\n",
    "    train_data= data.drop(test_data.index)\n",
    "    X_test=test_data.iloc[:,0:-1].values\n",
    "    X_train=train_data.iloc[:,0:-1].values\n",
    "    Y_test=test_data.iloc[:,-1].values\n",
    "    Y_train=train_data.iloc[:,-1].values\n",
    "    return X_test,X_train,Y_test,Y_train"
   ]
  },
  {
   "cell_type": "markdown",
   "metadata": {},
   "source": [
    "(b)\n",
    "Repeat each of the following two procedures 50 times. You will have 50 errors for\n",
    "90 SVMs per each procedure."
   ]
  },
  {
   "cell_type": "markdown",
   "metadata": {},
   "source": [
    "i.\n",
    "Train a SVM with a pool of 10 randomly selected data points from the training\n",
    "set using linear kernel and\n",
    "L\n",
    "1\n",
    "penalty. Select the penalty parameter using\n",
    "5-fold cross validation. Repeat this process by adding 10 other randomly selected data points to the pool, until you use all the 900 points. Do NOT\n",
    "replace the samples back into the training set at each step. Calculate the\n",
    "test error for each SVM. You will have 90 SVMs that were trained using 10,\n",
    "20, 30, ... , 900 data points and their 90 test errors. You have implemented\n",
    "passive learning"
   ]
  },
  {
   "cell_type": "code",
   "execution_count": 2,
   "metadata": {},
   "outputs": [],
   "source": [
    "from collections import Counter\n",
    "from statistics import mean \n",
    "def check_label(data):\n",
    "    return True if len(Counter(data).keys()) == 2 else False"
   ]
  },
  {
   "cell_type": "code",
   "execution_count": 3,
   "metadata": {},
   "outputs": [
    {
     "name": "stdout",
     "output_type": "stream",
     "text": [
      "1 iteration is done\n",
      "2 iteration is done\n",
      "3 iteration is done\n",
      "4 iteration is done\n",
      "5 iteration is done\n",
      "6 iteration is done\n",
      "7 iteration is done\n",
      "8 iteration is done\n",
      "9 iteration is done\n",
      "10 iteration is done\n",
      "11 iteration is done\n",
      "12 iteration is done\n",
      "13 iteration is done\n",
      "14 iteration is done\n",
      "15 iteration is done\n",
      "16 iteration is done\n",
      "17 iteration is done\n",
      "18 iteration is done\n",
      "19 iteration is done\n",
      "20 iteration is done\n",
      "21 iteration is done\n",
      "22 iteration is done\n",
      "23 iteration is done\n",
      "24 iteration is done\n",
      "25 iteration is done\n",
      "26 iteration is done\n",
      "27 iteration is done\n",
      "28 iteration is done\n",
      "29 iteration is done\n",
      "30 iteration is done\n",
      "31 iteration is done\n",
      "32 iteration is done\n",
      "33 iteration is done\n",
      "34 iteration is done\n",
      "35 iteration is done\n",
      "36 iteration is done\n",
      "37 iteration is done\n",
      "38 iteration is done\n",
      "39 iteration is done\n",
      "40 iteration is done\n",
      "41 iteration is done\n",
      "42 iteration is done\n",
      "43 iteration is done\n",
      "44 iteration is done\n",
      "45 iteration is done\n",
      "46 iteration is done\n",
      "47 iteration is done\n",
      "48 iteration is done\n",
      "49 iteration is done\n",
      "50 iteration is done\n"
     ]
    }
   ],
   "source": [
    "from sklearn.svm import LinearSVC\n",
    "from sklearn.model_selection import GridSearchCV\n",
    "import random\n",
    "Pass_Error=[]#error for each iteration\n",
    "for i in range(50):\n",
    "    X_test,X_train,Y_test,Y_train=splitData(data,472)\n",
    "    X_train_pool=np.array([[]])\n",
    "    Y_train_pool=np.array([])\n",
    "    Errorlist=[]# error for each SVM\n",
    "    para_grid = {\"C\": np.linspace(1, 5, 6)}\n",
    "    Errorlist=[]\n",
    "    for j in range(90):\n",
    "        sampling_index = np.random.choice(len(X_train),10)\n",
    "        check_class=check_label(Y_train[sampling_index])\n",
    "        while not check_class:# If sample is extreme  biased\n",
    "            sampling_index = np.random.choice(len(X_train),10)#resample it\n",
    "        X_train_pool = np.append(X_train_pool, X_train[sampling_index]).reshape(-1, 4)\n",
    "        Y_train_pool = np.append(Y_train_pool, Y_train[sampling_index]).reshape(-1, )\n",
    "        \n",
    "        linSVC=LinearSVC(penalty=\"l1\", dual=False,max_iter=5000)\n",
    "        GridCV = GridSearchCV(linSVC, para_grid, cv=5, n_jobs=-1,scoring='accuracy')\n",
    "        GridCV.fit(X_train_pool, Y_train_pool)\n",
    "        #update X_train by removing preivious sample\n",
    "        X_train = np.delete(X_train,sampling_index ,0)# delete index by axis = row\n",
    "        Errorlist.append(1 - GridCV.score(X_test, Y_test))\n",
    "        \n",
    "    Pass_Error.append(Errorlist)#append avg error of SVMs\n",
    "    print(i+1,'iteration is done')"
   ]
  },
  {
   "cell_type": "markdown",
   "metadata": {},
   "source": [
    "ii. Train a SVM with a pool of 10 randomly selected data points from the training\n",
    "set\n",
    "\n",
    "using linear kernel and\n",
    "L\n",
    "1\n",
    "penalty. Select the parameters of the SVM\n",
    "with 5-fold cross validation. Choose the 10 closest data points in the training\n",
    "set to the hyperplane of the SVM\n",
    "and add them to the pool. Do not replace\n",
    "the samples back into the training set. Train a new SVM using the pool.\n",
    "Repeat this process until all training data is used. You will have 90 SVMs\n",
    "that were trained using 10, 20, 30,..., 900 data points and their 90 test errors.\n",
    "You have implemented\n",
    "active learning"
   ]
  },
  {
   "cell_type": "code",
   "execution_count": 5,
   "metadata": {},
   "outputs": [
    {
     "name": "stdout",
     "output_type": "stream",
     "text": [
      "1 iteration is done\n",
      "2 iteration is done\n",
      "3 iteration is done\n",
      "4 iteration is done\n",
      "5 iteration is done\n",
      "6 iteration is done\n",
      "7 iteration is done\n",
      "8 iteration is done\n",
      "9 iteration is done\n",
      "10 iteration is done\n",
      "11 iteration is done\n",
      "12 iteration is done\n",
      "13 iteration is done\n",
      "14 iteration is done\n",
      "15 iteration is done\n",
      "16 iteration is done\n",
      "17 iteration is done\n",
      "18 iteration is done\n",
      "19 iteration is done\n",
      "20 iteration is done\n",
      "21 iteration is done\n",
      "22 iteration is done\n",
      "23 iteration is done\n",
      "24 iteration is done\n",
      "25 iteration is done\n",
      "26 iteration is done\n",
      "27 iteration is done\n",
      "28 iteration is done\n",
      "29 iteration is done\n",
      "30 iteration is done\n",
      "31 iteration is done\n",
      "32 iteration is done\n",
      "33 iteration is done\n",
      "34 iteration is done\n",
      "35 iteration is done\n",
      "36 iteration is done\n",
      "37 iteration is done\n",
      "38 iteration is done\n",
      "39 iteration is done\n",
      "40 iteration is done\n",
      "41 iteration is done\n",
      "42 iteration is done\n",
      "43 iteration is done\n",
      "44 iteration is done\n",
      "45 iteration is done\n",
      "46 iteration is done\n",
      "47 iteration is done\n",
      "48 iteration is done\n",
      "49 iteration is done\n",
      "50 iteration is done\n"
     ]
    }
   ],
   "source": [
    "from sklearn.svm import LinearSVC\n",
    "from sklearn.model_selection import GridSearchCV\n",
    "import random\n",
    "Act_Error=[]#error for each iteration\n",
    "para_grid = {\"C\": np.linspace(1, 5, 6)}\n",
    "for i in range(50):\n",
    "    X_test,X_train,Y_test,Y_train=splitData(data,472)\n",
    "    X_train_pool=np.array([[]])\n",
    "    Y_train_pool=np.array([])\n",
    "    Errorlist=[]# error for each SVM\n",
    "    \n",
    "    \n",
    "    sampling_index = np.random.choice(len(X_train),10)\n",
    "    check_class=check_label(Y_train[sampling_index])\n",
    "    while not check_class:# If sample has extreme higher bias\n",
    "        sampling_index = np.random.choice(len(X_train),10)#resample it\n",
    "    X_train_pool = np.append(X_train_pool, X_train[sampling_index]).reshape(-1, 4)\n",
    "    Y_train_pool = np.append(Y_train_pool, Y_train[sampling_index]).reshape(-1, )\n",
    "\n",
    "    linSVC=LinearSVC(penalty=\"l1\", dual=False, max_iter=5000)\n",
    "    GridCV = GridSearchCV(linSVC, para_grid, cv=5, n_jobs=-1)\n",
    "    GridCV.fit(X_train_pool, Y_train_pool)\n",
    "    Errorlist=[]    \n",
    "    for j in range(90):\n",
    "            #Get rest of X_train by removing preivious sample_index\n",
    "            X_train_rest = np.delete(X_train,sampling_index ,0)# delete index by axis = row\n",
    "            Y_train_rest = np.delete(Y_train,sampling_index ,0)\n",
    "            dist= GridCV.best_estimator_.decision_function(X_train_rest)\n",
    "            Close_index=np.argsort(abs(dist))[:10]\n",
    "            X_train_pool=np.append(X_train_pool, X_train[Close_index]).reshape(-1, 4)\n",
    "            Y_train_pool = np.append(Y_train_pool, Y_train[Close_index]).reshape(-1, )\n",
    "            linSVC=LinearSVC(penalty=\"l1\", dual=False, max_iter=5000)\n",
    "            GridCV = GridSearchCV(linSVC, para_grid, cv=5, n_jobs=-1,scoring='accuracy')\n",
    "            GridCV.fit(X_train_pool, Y_train_pool)\n",
    "            \n",
    "            X_train = np.delete(X_train,sampling_index ,0)# delete index by axis = row\n",
    "            Errorlist.append(1 - GridCV.score(X_test, Y_test))\n",
    "    \n",
    "    Act_Error.append(Errorlist)#append avg error of SVMs\n",
    "    print(i+1,'iteration is done')"
   ]
  },
  {
   "cell_type": "markdown",
   "metadata": {},
   "source": [
    "(c)\n",
    "Average the 50 test errors for each of the incrementally trained 90 SVMs in 2(b)i\n",
    "and 2(b)ii. By doing so, you are performing a Monte Carlo simulation. Plot\n",
    "average test error versus number of training instances for both active and passive\n",
    "learners on the same figure and report your conclusions. Here, you are actually\n",
    "obtaining a learning curve by Monte-Carlo simulation."
   ]
  },
  {
   "cell_type": "code",
   "execution_count": 6,
   "metadata": {},
   "outputs": [
    {
     "name": "stdout",
     "output_type": "stream",
     "text": [
      "Pass error shape is  (90,)\n",
      "Instance shape is  (90,)\n",
      "Active error shape is  (90,)\n"
     ]
    }
   ],
   "source": [
    "#Check shape\n",
    "MeanPassError=np.mean(Pass_Error,axis=0)\n",
    "print('Pass error shape is ',MeanPassError.shape)\n",
    "Instance=np.linspace(10, 900, num=90)\n",
    "print('Instance shape is ',Instance.shape)\n",
    "MeanActError=np.mean(Act_Error,axis=0)\n",
    "print('Active error shape is ',MeanActError.shape)"
   ]
  },
  {
   "cell_type": "code",
   "execution_count": 7,
   "metadata": {},
   "outputs": [
    {
     "data": {
      "image/png": "[encoded data removed]",
      "text/plain": [
       "<Figure size 1440x720 with 1 Axes>"
      ]
     },
     "metadata": {
      "needs_background": "light"
     },
     "output_type": "display_data"
    }
   ],
   "source": [
    "import matplotlib.pyplot as plt\n",
    "plt.figure(figsize=(20,10))\n",
    "plt.plot(Instance, MeanPassError,label=\"Passive\", linewidth=2)\n",
    "plt.plot(Instance, MeanActError,label=\"Active\", linewidth=2)\n",
    "plt.legend()\n",
    "plt.grid(color='k', linestyle='-', linewidth=0.5)\n",
    "plt.xlabel('# of train data in the traing pool')\n",
    "plt.ylabel('Error rate')\n",
    "plt.show()\n",
    "\n"
   ]
  },
  {
   "cell_type": "code",
   "execution_count": 8,
   "metadata": {},
   "outputs": [
    {
     "name": "stdout",
     "output_type": "stream",
     "text": [
      "When Train pool size is smaller than range of  [60. 70.]  Active learning performs better\n"
     ]
    }
   ],
   "source": [
    "dif=MeanPassError-MeanActError\n",
    "index_dif=np.where(abs(MeanPassError-MeanActError) <=0.001)# Find intersection\n",
    "print('When Train pool size is smaller than range of ', Instance[index_dif],' Active learning performs better')"
   ]
  },
  {
   "cell_type": "markdown",
   "metadata": {},
   "source": [
    "We can make conclusion from graph that when number of training pool increasing, the passive learning performs better. "
   ]
  }
 ],
 "metadata": {
  "kernelspec": {
   "display_name": "Python 3",
   "language": "python",
   "name": "python3"
  },
  "language_info": {
   "codemirror_mode": {
    "name": "ipython",
    "version": 3
   },
   "file_extension": ".py",
   "mimetype": "text/x-python",
   "name": "python",
   "nbconvert_exporter": "python",
   "pygments_lexer": "ipython3",
   "version": "3.7.3"
  }
 },
 "nbformat": 4,
 "nbformat_minor": 2
}
