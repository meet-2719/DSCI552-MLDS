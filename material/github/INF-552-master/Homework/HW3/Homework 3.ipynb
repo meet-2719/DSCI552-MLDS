{
 "cells": [
  {
   "cell_type": "code",
   "execution_count": 1,
   "metadata": {
    "ExecuteTime": {
     "end_time": "2019-10-14T15:46:30.494849Z",
     "start_time": "2019-10-14T15:46:29.174783Z"
    }
   },
   "outputs": [
    {
     "data": {
      "text/html": [
       "        <script type=\"text/javascript\">\n",
       "        window.PlotlyConfig = {MathJaxConfig: 'local'};\n",
       "        if (window.MathJax) {MathJax.Hub.Config({SVG: {font: \"STIX-Web\"}});}\n",
       "        if (typeof require !== 'undefined') {\n",
       "        require.undef(\"plotly\");\n",
       "        requirejs.config({\n",
       "            paths: {\n",
       "                'plotly': ['https://cdn.plot.ly/plotly-latest.min']\n",
       "            }\n",
       "        });\n",
       "        require(['plotly'], function(Plotly) {\n",
       "            window._Plotly = Plotly;\n",
       "        });\n",
       "        }\n",
       "        </script>\n",
       "        "
      ]
     },
     "metadata": {},
     "output_type": "display_data"
    }
   ],
   "source": [
    "# Data manipulation\n",
    "import pandas as pd\n",
    "import numpy as np\n",
    "\n",
    "# Options for pandas\n",
    "pd.options.display.max_columns = 50\n",
    "pd.options.display.max_rows = 50\n",
    "pd.set_option('display.float_format', lambda x: '{:.3f}'.format(x))\n",
    "\n",
    "# Display all cell outputs\n",
    "from IPython.core.interactiveshell import InteractiveShell\n",
    "InteractiveShell.ast_node_interactivity = 'all'\n",
    "\n",
    "from IPython.display import Image\n",
    "from IPython import get_ipython\n",
    "ipython = get_ipython()\n",
    "\n",
    "# Autoreload extension\n",
    "if 'autoreload' not in ipython.extension_manager.loaded:\n",
    "    %load_ext autoreload\n",
    "\n",
    "%autoreload 2\n",
    "\n",
    "# Ignore exceptions\n",
    "import expectexception\n",
    "\n",
    "# Visualizations\n",
    "import plotly.plotly as py\n",
    "import plotly.graph_objs as go\n",
    "from plotly.offline import iplot, init_notebook_mode\n",
    "init_notebook_mode(connected=True)\n",
    "\n",
    "import matplotlib.pyplot as plt\n",
    "plt.style.use('ggplot')\n",
    "%matplotlib inline\n",
    "\n",
    "# Activate the automatic conversion for pandas\n",
    "from rpy2.robjects import pandas2ri\n",
    "pandas2ri.activate()\n",
    "\n",
    "# Load the needed extension for the %%R cell magic\n",
    "%load_ext rpy2.ipython\n",
    "\n",
    "# Suppress rpy2 runtime warnings\n",
    "import warnings\n",
    "from rpy2.rinterface import RRuntimeWarning\n",
    "warnings.filterwarnings(\"ignore\", category=RRuntimeWarning)\n",
    "\n",
    "# Load ipywidgets module\n",
    "import ipywidgets as widgets\n",
    "from ipywidgets import interact, interact_manual"
   ]
  },
  {
   "cell_type": "code",
   "execution_count": 2,
   "metadata": {
    "ExecuteTime": {
     "end_time": "2019-10-14T15:46:31.943907Z",
     "start_time": "2019-10-14T15:46:30.497006Z"
    }
   },
   "outputs": [],
   "source": [
    "%%R\n",
    "\n",
    "# Visualization\n",
    "library(ggplot2)\n",
    "library(ggalt)\n",
    "library(ggExtra)\n",
    "library(ggcorrplot)\n",
    "library(ggthemes)\n",
    "library(ggdendro)\n",
    "library(GGally)\n",
    "library(ggrepel)\n",
    "theme_set(theme_light())\n",
    "\n",
    "# Tidyverse library\n",
    "library(scales)\n",
    "library(dplyr)\n",
    "library(tidyr)\n",
    "library(forcats)\n",
    "library(readr)\n",
    "library(purrr)\n",
    "\n",
    "# String manipulations\n",
    "library(tools)\n",
    "library(lubridate)\n",
    "\n",
    "# Machine Learning Related\n",
    "library(car)\n",
    "library(caTools)\n",
    "library(pROC)\n",
    "\n",
    "# Misc\n",
    "library(psych)"
   ]
  },
  {
   "cell_type": "code",
   "execution_count": 3,
   "metadata": {
    "ExecuteTime": {
     "end_time": "2019-10-14T15:46:31.979371Z",
     "start_time": "2019-10-14T15:46:31.945754Z"
    }
   },
   "outputs": [],
   "source": [
    "# (a) Load the dataset\n",
    "import glob\n",
    "\n",
    "all_files = glob.glob('../../Homework Data/Homework 3 Data/AreM/*/*.csv')"
   ]
  },
  {
   "cell_type": "code",
   "execution_count": 4,
   "metadata": {
    "ExecuteTime": {
     "end_time": "2019-10-14T15:46:32.012549Z",
     "start_time": "2019-10-14T15:46:31.981364Z"
    }
   },
   "outputs": [],
   "source": [
    "# Sort the files accordingly, to activity, then to instance number\n",
    "import re\n",
    "\n",
    "def sorting(s):\n",
    "    activity, instance = s.split('/')[-2:]\n",
    "    instance_num = int(re.search('\\d+', instance)[0])\n",
    "    return (activity, instance_num)"
   ]
  },
  {
   "cell_type": "code",
   "execution_count": 5,
   "metadata": {
    "ExecuteTime": {
     "end_time": "2019-10-14T15:46:32.046659Z",
     "start_time": "2019-10-14T15:46:32.014043Z"
    }
   },
   "outputs": [
    {
     "data": {
      "text/plain": [
       "['../../Homework Data/Homework 3 Data/AreM/bending1/dataset1.csv',\n",
       " '../../Homework Data/Homework 3 Data/AreM/bending1/dataset2.csv',\n",
       " '../../Homework Data/Homework 3 Data/AreM/bending1/dataset3.csv',\n",
       " '../../Homework Data/Homework 3 Data/AreM/bending1/dataset4.csv',\n",
       " '../../Homework Data/Homework 3 Data/AreM/bending1/dataset5.csv',\n",
       " '../../Homework Data/Homework 3 Data/AreM/bending1/dataset6.csv',\n",
       " '../../Homework Data/Homework 3 Data/AreM/bending1/dataset7.csv',\n",
       " '../../Homework Data/Homework 3 Data/AreM/bending2/dataset1.csv',\n",
       " '../../Homework Data/Homework 3 Data/AreM/bending2/dataset2.csv',\n",
       " '../../Homework Data/Homework 3 Data/AreM/bending2/dataset3.csv',\n",
       " '../../Homework Data/Homework 3 Data/AreM/bending2/dataset4.csv',\n",
       " '../../Homework Data/Homework 3 Data/AreM/bending2/dataset5.csv',\n",
       " '../../Homework Data/Homework 3 Data/AreM/bending2/dataset6.csv',\n",
       " '../../Homework Data/Homework 3 Data/AreM/cycling/dataset1.csv',\n",
       " '../../Homework Data/Homework 3 Data/AreM/cycling/dataset2.csv',\n",
       " '../../Homework Data/Homework 3 Data/AreM/cycling/dataset3.csv',\n",
       " '../../Homework Data/Homework 3 Data/AreM/cycling/dataset4.csv',\n",
       " '../../Homework Data/Homework 3 Data/AreM/cycling/dataset5.csv',\n",
       " '../../Homework Data/Homework 3 Data/AreM/cycling/dataset6.csv',\n",
       " '../../Homework Data/Homework 3 Data/AreM/cycling/dataset7.csv',\n",
       " '../../Homework Data/Homework 3 Data/AreM/cycling/dataset8.csv',\n",
       " '../../Homework Data/Homework 3 Data/AreM/cycling/dataset9.csv',\n",
       " '../../Homework Data/Homework 3 Data/AreM/cycling/dataset10.csv',\n",
       " '../../Homework Data/Homework 3 Data/AreM/cycling/dataset11.csv',\n",
       " '../../Homework Data/Homework 3 Data/AreM/cycling/dataset12.csv',\n",
       " '../../Homework Data/Homework 3 Data/AreM/cycling/dataset13.csv',\n",
       " '../../Homework Data/Homework 3 Data/AreM/cycling/dataset14.csv',\n",
       " '../../Homework Data/Homework 3 Data/AreM/cycling/dataset15.csv',\n",
       " '../../Homework Data/Homework 3 Data/AreM/lying/dataset1.csv',\n",
       " '../../Homework Data/Homework 3 Data/AreM/lying/dataset2.csv']"
      ]
     },
     "execution_count": 5,
     "metadata": {},
     "output_type": "execute_result"
    }
   ],
   "source": [
    "all_files = sorted(all_files, key=sorting)\n",
    "all_files[:30] # Check to see if files are sorted properly"
   ]
  },
  {
   "cell_type": "code",
   "execution_count": 6,
   "metadata": {
    "ExecuteTime": {
     "end_time": "2019-10-14T15:46:32.077031Z",
     "start_time": "2019-10-14T15:46:32.048394Z"
    }
   },
   "outputs": [],
   "source": [
    "# (b) train-test split to be performed later"
   ]
  },
  {
   "cell_type": "code",
   "execution_count": 7,
   "metadata": {
    "ExecuteTime": {
     "end_time": "2019-10-14T15:46:32.108688Z",
     "start_time": "2019-10-14T15:46:32.078756Z"
    }
   },
   "outputs": [],
   "source": [
    "# (c) i. Types of time-domain features"
   ]
  },
  {
   "cell_type": "markdown",
   "metadata": {},
   "source": [
    "Types of time domain features include minimum, maximum, mean, standard deviation, various quantiles, number of peaks, first/last locations of minimum/maximum, skewness, kurtosis, etc."
   ]
  },
  {
   "cell_type": "code",
   "execution_count": 8,
   "metadata": {
    "ExecuteTime": {
     "end_time": "2019-10-14T15:46:32.173837Z",
     "start_time": "2019-10-14T15:46:32.111776Z"
    }
   },
   "outputs": [
    {
     "data": {
      "text/html": [
       "<div>\n",
       "<style scoped>\n",
       "    .dataframe tbody tr th:only-of-type {\n",
       "        vertical-align: middle;\n",
       "    }\n",
       "\n",
       "    .dataframe tbody tr th {\n",
       "        vertical-align: top;\n",
       "    }\n",
       "\n",
       "    .dataframe thead th {\n",
       "        text-align: right;\n",
       "    }\n",
       "</style>\n",
       "<table border=\"1\" class=\"dataframe\">\n",
       "  <thead>\n",
       "    <tr style=\"text-align: right;\">\n",
       "      <th></th>\n",
       "      <th>min</th>\n",
       "      <th>max</th>\n",
       "      <th>mean</th>\n",
       "      <th>50%</th>\n",
       "      <th>std</th>\n",
       "      <th>25%</th>\n",
       "      <th>75%</th>\n",
       "    </tr>\n",
       "  </thead>\n",
       "  <tbody>\n",
       "    <tr>\n",
       "      <td>0</td>\n",
       "      <td>37.250</td>\n",
       "      <td>45.000</td>\n",
       "      <td>40.625</td>\n",
       "      <td>40.500</td>\n",
       "      <td>1.477</td>\n",
       "      <td>39.250</td>\n",
       "      <td>42.000</td>\n",
       "    </tr>\n",
       "    <tr>\n",
       "      <td>1</td>\n",
       "      <td>0.000</td>\n",
       "      <td>1.300</td>\n",
       "      <td>0.359</td>\n",
       "      <td>0.430</td>\n",
       "      <td>0.323</td>\n",
       "      <td>0.000</td>\n",
       "      <td>0.500</td>\n",
       "    </tr>\n",
       "    <tr>\n",
       "      <td>2</td>\n",
       "      <td>4.000</td>\n",
       "      <td>29.500</td>\n",
       "      <td>19.041</td>\n",
       "      <td>19.250</td>\n",
       "      <td>4.463</td>\n",
       "      <td>16.000</td>\n",
       "      <td>23.250</td>\n",
       "    </tr>\n",
       "    <tr>\n",
       "      <td>3</td>\n",
       "      <td>0.000</td>\n",
       "      <td>7.230</td>\n",
       "      <td>0.833</td>\n",
       "      <td>0.500</td>\n",
       "      <td>0.966</td>\n",
       "      <td>0.000</td>\n",
       "      <td>1.120</td>\n",
       "    </tr>\n",
       "    <tr>\n",
       "      <td>4</td>\n",
       "      <td>27.250</td>\n",
       "      <td>38.250</td>\n",
       "      <td>34.311</td>\n",
       "      <td>35.000</td>\n",
       "      <td>2.188</td>\n",
       "      <td>33.000</td>\n",
       "      <td>36.000</td>\n",
       "    </tr>\n",
       "    <tr>\n",
       "      <td>5</td>\n",
       "      <td>0.000</td>\n",
       "      <td>1.920</td>\n",
       "      <td>0.571</td>\n",
       "      <td>0.430</td>\n",
       "      <td>0.583</td>\n",
       "      <td>0.000</td>\n",
       "      <td>1.300</td>\n",
       "    </tr>\n",
       "  </tbody>\n",
       "</table>\n",
       "</div>"
      ],
      "text/plain": [
       "     min    max   mean    50%   std    25%    75%\n",
       "0 37.250 45.000 40.625 40.500 1.477 39.250 42.000\n",
       "1  0.000  1.300  0.359  0.430 0.323  0.000  0.500\n",
       "2  4.000 29.500 19.041 19.250 4.463 16.000 23.250\n",
       "3  0.000  7.230  0.833  0.500 0.966  0.000  1.120\n",
       "4 27.250 38.250 34.311 35.000 2.188 33.000 36.000\n",
       "5  0.000  1.920  0.571  0.430 0.583  0.000  1.300"
      ]
     },
     "execution_count": 8,
     "metadata": {},
     "output_type": "execute_result"
    }
   ],
   "source": [
    "# (c) ii. Extract time-domain features\n",
    "\n",
    "first_file = pd.read_csv(all_files[0], skiprows=4, usecols=[1,2,3,4,5,6])\n",
    "first_file_long = first_file.describe().T[['min', 'max', 'mean', '50%', 'std', '25%', '75%']].reset_index(drop=True)\n",
    "first_file_long"
   ]
  },
  {
   "cell_type": "code",
   "execution_count": 9,
   "metadata": {
    "ExecuteTime": {
     "end_time": "2019-10-14T15:46:32.207647Z",
     "start_time": "2019-10-14T15:46:32.176638Z"
    }
   },
   "outputs": [],
   "source": [
    "# Get column names for wide format\n",
    "\n",
    "from itertools import chain\n",
    "colnames = [['min'+str(x), 'max'+str(x), 'mean'+str(x), \n",
    "             'median'+str(x), 'std'+str(x), '1stQ'+str(x), '3rdQ'+str(x)] for x in range(1,7)]\n",
    "colnames = list(chain.from_iterable(colnames))"
   ]
  },
  {
   "cell_type": "code",
   "execution_count": 10,
   "metadata": {
    "ExecuteTime": {
     "end_time": "2019-10-14T15:46:32.257747Z",
     "start_time": "2019-10-14T15:46:32.209356Z"
    }
   },
   "outputs": [
    {
     "data": {
      "text/html": [
       "<div>\n",
       "<style scoped>\n",
       "    .dataframe tbody tr th:only-of-type {\n",
       "        vertical-align: middle;\n",
       "    }\n",
       "\n",
       "    .dataframe tbody tr th {\n",
       "        vertical-align: top;\n",
       "    }\n",
       "\n",
       "    .dataframe thead th {\n",
       "        text-align: right;\n",
       "    }\n",
       "</style>\n",
       "<table border=\"1\" class=\"dataframe\">\n",
       "  <thead>\n",
       "    <tr style=\"text-align: right;\">\n",
       "      <th></th>\n",
       "      <th>min1</th>\n",
       "      <th>max1</th>\n",
       "      <th>mean1</th>\n",
       "      <th>median1</th>\n",
       "      <th>std1</th>\n",
       "      <th>1stQ1</th>\n",
       "      <th>3rdQ1</th>\n",
       "      <th>min2</th>\n",
       "      <th>max2</th>\n",
       "      <th>mean2</th>\n",
       "      <th>median2</th>\n",
       "      <th>std2</th>\n",
       "      <th>1stQ2</th>\n",
       "      <th>3rdQ2</th>\n",
       "      <th>min3</th>\n",
       "      <th>max3</th>\n",
       "      <th>mean3</th>\n",
       "      <th>median3</th>\n",
       "      <th>std3</th>\n",
       "      <th>1stQ3</th>\n",
       "      <th>3rdQ3</th>\n",
       "      <th>min4</th>\n",
       "      <th>max4</th>\n",
       "      <th>mean4</th>\n",
       "      <th>median4</th>\n",
       "      <th>std4</th>\n",
       "      <th>1stQ4</th>\n",
       "      <th>3rdQ4</th>\n",
       "      <th>min5</th>\n",
       "      <th>max5</th>\n",
       "      <th>mean5</th>\n",
       "      <th>median5</th>\n",
       "      <th>std5</th>\n",
       "      <th>1stQ5</th>\n",
       "      <th>3rdQ5</th>\n",
       "      <th>min6</th>\n",
       "      <th>max6</th>\n",
       "      <th>mean6</th>\n",
       "      <th>median6</th>\n",
       "      <th>std6</th>\n",
       "      <th>1stQ6</th>\n",
       "      <th>3rdQ6</th>\n",
       "    </tr>\n",
       "  </thead>\n",
       "  <tbody>\n",
       "    <tr>\n",
       "      <td>0</td>\n",
       "      <td>37.250</td>\n",
       "      <td>45.000</td>\n",
       "      <td>40.625</td>\n",
       "      <td>40.500</td>\n",
       "      <td>1.477</td>\n",
       "      <td>39.250</td>\n",
       "      <td>42.000</td>\n",
       "      <td>0.000</td>\n",
       "      <td>1.300</td>\n",
       "      <td>0.359</td>\n",
       "      <td>0.430</td>\n",
       "      <td>0.323</td>\n",
       "      <td>0.000</td>\n",
       "      <td>0.500</td>\n",
       "      <td>4.000</td>\n",
       "      <td>29.500</td>\n",
       "      <td>19.041</td>\n",
       "      <td>19.250</td>\n",
       "      <td>4.463</td>\n",
       "      <td>16.000</td>\n",
       "      <td>23.250</td>\n",
       "      <td>0.000</td>\n",
       "      <td>7.230</td>\n",
       "      <td>0.833</td>\n",
       "      <td>0.500</td>\n",
       "      <td>0.966</td>\n",
       "      <td>0.000</td>\n",
       "      <td>1.120</td>\n",
       "      <td>27.250</td>\n",
       "      <td>38.250</td>\n",
       "      <td>34.311</td>\n",
       "      <td>35.000</td>\n",
       "      <td>2.188</td>\n",
       "      <td>33.000</td>\n",
       "      <td>36.000</td>\n",
       "      <td>0.000</td>\n",
       "      <td>1.920</td>\n",
       "      <td>0.571</td>\n",
       "      <td>0.430</td>\n",
       "      <td>0.583</td>\n",
       "      <td>0.000</td>\n",
       "      <td>1.300</td>\n",
       "    </tr>\n",
       "  </tbody>\n",
       "</table>\n",
       "</div>"
      ],
      "text/plain": [
       "    min1   max1  mean1  median1  std1  1stQ1  3rdQ1  min2  max2  mean2  \\\n",
       "0 37.250 45.000 40.625   40.500 1.477 39.250 42.000 0.000 1.300  0.359   \n",
       "\n",
       "   median2  std2  1stQ2  3rdQ2  min3   max3  mean3  median3  std3  1stQ3  \\\n",
       "0    0.430 0.323  0.000  0.500 4.000 29.500 19.041   19.250 4.463 16.000   \n",
       "\n",
       "   3rdQ3  min4  max4  mean4  median4  std4  1stQ4  3rdQ4   min5   max5  mean5  \\\n",
       "0 23.250 0.000 7.230  0.833    0.500 0.966  0.000  1.120 27.250 38.250 34.311   \n",
       "\n",
       "   median5  std5  1stQ5  3rdQ5  min6  max6  mean6  median6  std6  1stQ6  3rdQ6  \n",
       "0   35.000 2.188 33.000 36.000 0.000 1.920  0.571    0.430 0.583  0.000  1.300  "
      ]
     },
     "execution_count": 10,
     "metadata": {},
     "output_type": "execute_result"
    }
   ],
   "source": [
    "# Get the first csv in desired format\n",
    "\n",
    "df_desired = pd.DataFrame(first_file_long.to_numpy().reshape(1,42), columns=colnames)\n",
    "df_desired"
   ]
  },
  {
   "cell_type": "code",
   "execution_count": 11,
   "metadata": {
    "ExecuteTime": {
     "end_time": "2019-10-14T15:46:33.586142Z",
     "start_time": "2019-10-14T15:46:32.259401Z"
    }
   },
   "outputs": [],
   "source": [
    "# Create a for-loop to iteratively append to the dataframe\n",
    "\n",
    "for file in all_files[1:]:\n",
    "    temp_df = pd.read_csv(file, skiprows=4, usecols=[1,2,3,4,5,6])\n",
    "    temp_file_long = temp_df.describe().T[['min', 'max', 'mean', '50%', 'std', '25%', '75%']].reset_index(drop=True)\n",
    "    df_desired = pd.concat([df_desired, pd.DataFrame(temp_file_long.to_numpy().reshape(1,42), columns=colnames)])"
   ]
  },
  {
   "cell_type": "code",
   "execution_count": 12,
   "metadata": {
    "ExecuteTime": {
     "end_time": "2019-10-14T15:46:33.617381Z",
     "start_time": "2019-10-14T15:46:33.587687Z"
    }
   },
   "outputs": [],
   "source": [
    "df_desired.reset_index(drop=True, inplace=True)"
   ]
  },
  {
   "cell_type": "code",
   "execution_count": 13,
   "metadata": {
    "ExecuteTime": {
     "end_time": "2019-10-14T15:46:33.671372Z",
     "start_time": "2019-10-14T15:46:33.619321Z"
    }
   },
   "outputs": [
    {
     "data": {
      "text/html": [
       "<div>\n",
       "<style scoped>\n",
       "    .dataframe tbody tr th:only-of-type {\n",
       "        vertical-align: middle;\n",
       "    }\n",
       "\n",
       "    .dataframe tbody tr th {\n",
       "        vertical-align: top;\n",
       "    }\n",
       "\n",
       "    .dataframe thead th {\n",
       "        text-align: right;\n",
       "    }\n",
       "</style>\n",
       "<table border=\"1\" class=\"dataframe\">\n",
       "  <thead>\n",
       "    <tr style=\"text-align: right;\">\n",
       "      <th></th>\n",
       "      <th>min1</th>\n",
       "      <th>max1</th>\n",
       "      <th>mean1</th>\n",
       "      <th>median1</th>\n",
       "      <th>std1</th>\n",
       "      <th>1stQ1</th>\n",
       "      <th>3rdQ1</th>\n",
       "      <th>min2</th>\n",
       "      <th>max2</th>\n",
       "      <th>mean2</th>\n",
       "      <th>median2</th>\n",
       "      <th>std2</th>\n",
       "      <th>1stQ2</th>\n",
       "      <th>3rdQ2</th>\n",
       "      <th>min3</th>\n",
       "      <th>max3</th>\n",
       "      <th>mean3</th>\n",
       "      <th>median3</th>\n",
       "      <th>std3</th>\n",
       "      <th>1stQ3</th>\n",
       "      <th>3rdQ3</th>\n",
       "      <th>min4</th>\n",
       "      <th>max4</th>\n",
       "      <th>mean4</th>\n",
       "      <th>median4</th>\n",
       "      <th>std4</th>\n",
       "      <th>1stQ4</th>\n",
       "      <th>3rdQ4</th>\n",
       "      <th>min5</th>\n",
       "      <th>max5</th>\n",
       "      <th>mean5</th>\n",
       "      <th>median5</th>\n",
       "      <th>std5</th>\n",
       "      <th>1stQ5</th>\n",
       "      <th>3rdQ5</th>\n",
       "      <th>min6</th>\n",
       "      <th>max6</th>\n",
       "      <th>mean6</th>\n",
       "      <th>median6</th>\n",
       "      <th>std6</th>\n",
       "      <th>1stQ6</th>\n",
       "      <th>3rdQ6</th>\n",
       "    </tr>\n",
       "  </thead>\n",
       "  <tbody>\n",
       "    <tr>\n",
       "      <td>0</td>\n",
       "      <td>37.250</td>\n",
       "      <td>45.000</td>\n",
       "      <td>40.625</td>\n",
       "      <td>40.500</td>\n",
       "      <td>1.477</td>\n",
       "      <td>39.250</td>\n",
       "      <td>42.000</td>\n",
       "      <td>0.000</td>\n",
       "      <td>1.300</td>\n",
       "      <td>0.359</td>\n",
       "      <td>0.430</td>\n",
       "      <td>0.323</td>\n",
       "      <td>0.000</td>\n",
       "      <td>0.500</td>\n",
       "      <td>4.000</td>\n",
       "      <td>29.500</td>\n",
       "      <td>19.041</td>\n",
       "      <td>19.250</td>\n",
       "      <td>4.463</td>\n",
       "      <td>16.000</td>\n",
       "      <td>23.250</td>\n",
       "      <td>0.000</td>\n",
       "      <td>7.230</td>\n",
       "      <td>0.833</td>\n",
       "      <td>0.500</td>\n",
       "      <td>0.966</td>\n",
       "      <td>0.000</td>\n",
       "      <td>1.120</td>\n",
       "      <td>27.250</td>\n",
       "      <td>38.250</td>\n",
       "      <td>34.311</td>\n",
       "      <td>35.000</td>\n",
       "      <td>2.188</td>\n",
       "      <td>33.000</td>\n",
       "      <td>36.000</td>\n",
       "      <td>0.000</td>\n",
       "      <td>1.920</td>\n",
       "      <td>0.571</td>\n",
       "      <td>0.430</td>\n",
       "      <td>0.583</td>\n",
       "      <td>0.000</td>\n",
       "      <td>1.300</td>\n",
       "    </tr>\n",
       "    <tr>\n",
       "      <td>1</td>\n",
       "      <td>38.000</td>\n",
       "      <td>45.670</td>\n",
       "      <td>42.813</td>\n",
       "      <td>42.500</td>\n",
       "      <td>1.436</td>\n",
       "      <td>42.000</td>\n",
       "      <td>43.670</td>\n",
       "      <td>0.000</td>\n",
       "      <td>1.220</td>\n",
       "      <td>0.372</td>\n",
       "      <td>0.470</td>\n",
       "      <td>0.289</td>\n",
       "      <td>0.000</td>\n",
       "      <td>0.500</td>\n",
       "      <td>2.000</td>\n",
       "      <td>29.500</td>\n",
       "      <td>20.097</td>\n",
       "      <td>21.000</td>\n",
       "      <td>3.894</td>\n",
       "      <td>19.000</td>\n",
       "      <td>22.250</td>\n",
       "      <td>0.000</td>\n",
       "      <td>5.760</td>\n",
       "      <td>0.876</td>\n",
       "      <td>0.500</td>\n",
       "      <td>1.047</td>\n",
       "      <td>0.000</td>\n",
       "      <td>1.145</td>\n",
       "      <td>27.670</td>\n",
       "      <td>38.500</td>\n",
       "      <td>33.025</td>\n",
       "      <td>33.000</td>\n",
       "      <td>1.995</td>\n",
       "      <td>32.000</td>\n",
       "      <td>34.500</td>\n",
       "      <td>0.000</td>\n",
       "      <td>3.110</td>\n",
       "      <td>0.571</td>\n",
       "      <td>0.430</td>\n",
       "      <td>0.601</td>\n",
       "      <td>0.000</td>\n",
       "      <td>1.300</td>\n",
       "    </tr>\n",
       "    <tr>\n",
       "      <td>2</td>\n",
       "      <td>35.000</td>\n",
       "      <td>47.400</td>\n",
       "      <td>43.954</td>\n",
       "      <td>44.330</td>\n",
       "      <td>1.559</td>\n",
       "      <td>43.000</td>\n",
       "      <td>45.000</td>\n",
       "      <td>0.000</td>\n",
       "      <td>1.700</td>\n",
       "      <td>0.426</td>\n",
       "      <td>0.470</td>\n",
       "      <td>0.339</td>\n",
       "      <td>0.000</td>\n",
       "      <td>0.500</td>\n",
       "      <td>6.500</td>\n",
       "      <td>29.750</td>\n",
       "      <td>22.122</td>\n",
       "      <td>23.000</td>\n",
       "      <td>3.031</td>\n",
       "      <td>19.750</td>\n",
       "      <td>24.000</td>\n",
       "      <td>0.000</td>\n",
       "      <td>4.440</td>\n",
       "      <td>0.497</td>\n",
       "      <td>0.430</td>\n",
       "      <td>0.551</td>\n",
       "      <td>0.000</td>\n",
       "      <td>0.830</td>\n",
       "      <td>29.000</td>\n",
       "      <td>38.500</td>\n",
       "      <td>35.588</td>\n",
       "      <td>36.000</td>\n",
       "      <td>2.000</td>\n",
       "      <td>35.362</td>\n",
       "      <td>36.500</td>\n",
       "      <td>0.000</td>\n",
       "      <td>1.790</td>\n",
       "      <td>0.493</td>\n",
       "      <td>0.430</td>\n",
       "      <td>0.514</td>\n",
       "      <td>0.000</td>\n",
       "      <td>0.940</td>\n",
       "    </tr>\n",
       "    <tr>\n",
       "      <td>3</td>\n",
       "      <td>33.000</td>\n",
       "      <td>47.750</td>\n",
       "      <td>42.180</td>\n",
       "      <td>43.500</td>\n",
       "      <td>3.671</td>\n",
       "      <td>39.150</td>\n",
       "      <td>45.000</td>\n",
       "      <td>0.000</td>\n",
       "      <td>3.000</td>\n",
       "      <td>0.696</td>\n",
       "      <td>0.500</td>\n",
       "      <td>0.631</td>\n",
       "      <td>0.000</td>\n",
       "      <td>1.120</td>\n",
       "      <td>8.500</td>\n",
       "      <td>30.000</td>\n",
       "      <td>22.184</td>\n",
       "      <td>23.000</td>\n",
       "      <td>3.810</td>\n",
       "      <td>20.500</td>\n",
       "      <td>24.372</td>\n",
       "      <td>0.000</td>\n",
       "      <td>5.150</td>\n",
       "      <td>0.990</td>\n",
       "      <td>0.830</td>\n",
       "      <td>0.954</td>\n",
       "      <td>0.430</td>\n",
       "      <td>1.300</td>\n",
       "      <td>20.000</td>\n",
       "      <td>38.670</td>\n",
       "      <td>33.494</td>\n",
       "      <td>35.000</td>\n",
       "      <td>3.849</td>\n",
       "      <td>30.457</td>\n",
       "      <td>36.330</td>\n",
       "      <td>0.000</td>\n",
       "      <td>2.180</td>\n",
       "      <td>0.614</td>\n",
       "      <td>0.500</td>\n",
       "      <td>0.524</td>\n",
       "      <td>0.000</td>\n",
       "      <td>1.000</td>\n",
       "    </tr>\n",
       "    <tr>\n",
       "      <td>4</td>\n",
       "      <td>33.000</td>\n",
       "      <td>45.750</td>\n",
       "      <td>41.678</td>\n",
       "      <td>41.750</td>\n",
       "      <td>2.243</td>\n",
       "      <td>41.330</td>\n",
       "      <td>42.750</td>\n",
       "      <td>0.000</td>\n",
       "      <td>2.830</td>\n",
       "      <td>0.536</td>\n",
       "      <td>0.500</td>\n",
       "      <td>0.405</td>\n",
       "      <td>0.430</td>\n",
       "      <td>0.710</td>\n",
       "      <td>3.000</td>\n",
       "      <td>28.250</td>\n",
       "      <td>19.007</td>\n",
       "      <td>19.125</td>\n",
       "      <td>4.087</td>\n",
       "      <td>16.500</td>\n",
       "      <td>22.062</td>\n",
       "      <td>0.000</td>\n",
       "      <td>6.420</td>\n",
       "      <td>0.842</td>\n",
       "      <td>0.500</td>\n",
       "      <td>0.929</td>\n",
       "      <td>0.430</td>\n",
       "      <td>1.120</td>\n",
       "      <td>23.670</td>\n",
       "      <td>37.500</td>\n",
       "      <td>29.857</td>\n",
       "      <td>30.000</td>\n",
       "      <td>2.411</td>\n",
       "      <td>28.457</td>\n",
       "      <td>31.250</td>\n",
       "      <td>0.000</td>\n",
       "      <td>1.790</td>\n",
       "      <td>0.383</td>\n",
       "      <td>0.430</td>\n",
       "      <td>0.389</td>\n",
       "      <td>0.000</td>\n",
       "      <td>0.500</td>\n",
       "    </tr>\n",
       "    <tr>\n",
       "      <td>5</td>\n",
       "      <td>37.000</td>\n",
       "      <td>48.000</td>\n",
       "      <td>43.455</td>\n",
       "      <td>43.250</td>\n",
       "      <td>1.386</td>\n",
       "      <td>42.500</td>\n",
       "      <td>45.000</td>\n",
       "      <td>0.000</td>\n",
       "      <td>1.580</td>\n",
       "      <td>0.378</td>\n",
       "      <td>0.470</td>\n",
       "      <td>0.316</td>\n",
       "      <td>0.000</td>\n",
       "      <td>0.500</td>\n",
       "      <td>5.750</td>\n",
       "      <td>27.000</td>\n",
       "      <td>15.793</td>\n",
       "      <td>15.000</td>\n",
       "      <td>3.848</td>\n",
       "      <td>13.000</td>\n",
       "      <td>18.270</td>\n",
       "      <td>0.000</td>\n",
       "      <td>10.030</td>\n",
       "      <td>0.849</td>\n",
       "      <td>0.500</td>\n",
       "      <td>0.996</td>\n",
       "      <td>0.430</td>\n",
       "      <td>1.120</td>\n",
       "      <td>8.000</td>\n",
       "      <td>33.500</td>\n",
       "      <td>23.035</td>\n",
       "      <td>23.500</td>\n",
       "      <td>2.489</td>\n",
       "      <td>22.250</td>\n",
       "      <td>24.000</td>\n",
       "      <td>0.000</td>\n",
       "      <td>5.260</td>\n",
       "      <td>0.680</td>\n",
       "      <td>0.500</td>\n",
       "      <td>0.623</td>\n",
       "      <td>0.430</td>\n",
       "      <td>0.870</td>\n",
       "    </tr>\n",
       "    <tr>\n",
       "      <td>6</td>\n",
       "      <td>36.250</td>\n",
       "      <td>48.000</td>\n",
       "      <td>43.969</td>\n",
       "      <td>44.500</td>\n",
       "      <td>1.618</td>\n",
       "      <td>43.310</td>\n",
       "      <td>44.670</td>\n",
       "      <td>0.000</td>\n",
       "      <td>1.500</td>\n",
       "      <td>0.413</td>\n",
       "      <td>0.470</td>\n",
       "      <td>0.263</td>\n",
       "      <td>0.430</td>\n",
       "      <td>0.500</td>\n",
       "      <td>1.500</td>\n",
       "      <td>26.330</td>\n",
       "      <td>15.868</td>\n",
       "      <td>16.250</td>\n",
       "      <td>3.742</td>\n",
       "      <td>14.250</td>\n",
       "      <td>18.000</td>\n",
       "      <td>0.000</td>\n",
       "      <td>5.170</td>\n",
       "      <td>0.666</td>\n",
       "      <td>0.470</td>\n",
       "      <td>0.789</td>\n",
       "      <td>0.000</td>\n",
       "      <td>0.940</td>\n",
       "      <td>11.330</td>\n",
       "      <td>30.750</td>\n",
       "      <td>22.104</td>\n",
       "      <td>21.670</td>\n",
       "      <td>3.318</td>\n",
       "      <td>20.500</td>\n",
       "      <td>23.750</td>\n",
       "      <td>0.000</td>\n",
       "      <td>2.960</td>\n",
       "      <td>0.555</td>\n",
       "      <td>0.490</td>\n",
       "      <td>0.488</td>\n",
       "      <td>0.000</td>\n",
       "      <td>0.830</td>\n",
       "    </tr>\n",
       "    <tr>\n",
       "      <td>7</td>\n",
       "      <td>12.750</td>\n",
       "      <td>51.000</td>\n",
       "      <td>24.563</td>\n",
       "      <td>24.250</td>\n",
       "      <td>3.738</td>\n",
       "      <td>23.188</td>\n",
       "      <td>26.500</td>\n",
       "      <td>0.000</td>\n",
       "      <td>6.870</td>\n",
       "      <td>0.591</td>\n",
       "      <td>0.430</td>\n",
       "      <td>0.837</td>\n",
       "      <td>0.000</td>\n",
       "      <td>0.710</td>\n",
       "      <td>0.000</td>\n",
       "      <td>25.330</td>\n",
       "      <td>19.121</td>\n",
       "      <td>20.250</td>\n",
       "      <td>4.300</td>\n",
       "      <td>18.000</td>\n",
       "      <td>22.000</td>\n",
       "      <td>0.000</td>\n",
       "      <td>6.760</td>\n",
       "      <td>0.737</td>\n",
       "      <td>0.470</td>\n",
       "      <td>0.927</td>\n",
       "      <td>0.000</td>\n",
       "      <td>0.870</td>\n",
       "      <td>10.670</td>\n",
       "      <td>30.000</td>\n",
       "      <td>23.493</td>\n",
       "      <td>23.750</td>\n",
       "      <td>3.694</td>\n",
       "      <td>20.500</td>\n",
       "      <td>27.000</td>\n",
       "      <td>0.000</td>\n",
       "      <td>4.970</td>\n",
       "      <td>0.700</td>\n",
       "      <td>0.500</td>\n",
       "      <td>0.694</td>\n",
       "      <td>0.430</td>\n",
       "      <td>0.870</td>\n",
       "    </tr>\n",
       "    <tr>\n",
       "      <td>8</td>\n",
       "      <td>0.000</td>\n",
       "      <td>42.750</td>\n",
       "      <td>27.465</td>\n",
       "      <td>28.000</td>\n",
       "      <td>3.584</td>\n",
       "      <td>25.500</td>\n",
       "      <td>30.000</td>\n",
       "      <td>0.000</td>\n",
       "      <td>7.760</td>\n",
       "      <td>0.450</td>\n",
       "      <td>0.430</td>\n",
       "      <td>0.767</td>\n",
       "      <td>0.000</td>\n",
       "      <td>0.500</td>\n",
       "      <td>7.500</td>\n",
       "      <td>35.000</td>\n",
       "      <td>20.843</td>\n",
       "      <td>20.750</td>\n",
       "      <td>3.826</td>\n",
       "      <td>18.000</td>\n",
       "      <td>22.500</td>\n",
       "      <td>0.000</td>\n",
       "      <td>5.760</td>\n",
       "      <td>0.780</td>\n",
       "      <td>0.500</td>\n",
       "      <td>0.904</td>\n",
       "      <td>0.000</td>\n",
       "      <td>0.940</td>\n",
       "      <td>0.000</td>\n",
       "      <td>33.000</td>\n",
       "      <td>17.618</td>\n",
       "      <td>18.000</td>\n",
       "      <td>5.054</td>\n",
       "      <td>15.000</td>\n",
       "      <td>20.750</td>\n",
       "      <td>0.000</td>\n",
       "      <td>6.760</td>\n",
       "      <td>1.122</td>\n",
       "      <td>0.830</td>\n",
       "      <td>1.012</td>\n",
       "      <td>0.470</td>\n",
       "      <td>1.300</td>\n",
       "    </tr>\n",
       "    <tr>\n",
       "      <td>9</td>\n",
       "      <td>21.000</td>\n",
       "      <td>50.000</td>\n",
       "      <td>32.586</td>\n",
       "      <td>33.000</td>\n",
       "      <td>6.238</td>\n",
       "      <td>26.188</td>\n",
       "      <td>34.500</td>\n",
       "      <td>0.000</td>\n",
       "      <td>9.900</td>\n",
       "      <td>0.516</td>\n",
       "      <td>0.430</td>\n",
       "      <td>0.790</td>\n",
       "      <td>0.000</td>\n",
       "      <td>0.823</td>\n",
       "      <td>0.000</td>\n",
       "      <td>28.250</td>\n",
       "      <td>13.942</td>\n",
       "      <td>14.250</td>\n",
       "      <td>5.883</td>\n",
       "      <td>10.000</td>\n",
       "      <td>18.000</td>\n",
       "      <td>0.000</td>\n",
       "      <td>7.400</td>\n",
       "      <td>0.869</td>\n",
       "      <td>0.500</td>\n",
       "      <td>1.027</td>\n",
       "      <td>0.430</td>\n",
       "      <td>1.120</td>\n",
       "      <td>5.000</td>\n",
       "      <td>33.750</td>\n",
       "      <td>20.346</td>\n",
       "      <td>19.585</td>\n",
       "      <td>5.032</td>\n",
       "      <td>17.670</td>\n",
       "      <td>23.500</td>\n",
       "      <td>0.000</td>\n",
       "      <td>13.610</td>\n",
       "      <td>1.162</td>\n",
       "      <td>0.830</td>\n",
       "      <td>1.333</td>\n",
       "      <td>0.470</td>\n",
       "      <td>1.300</td>\n",
       "    </tr>\n",
       "    <tr>\n",
       "      <td>10</td>\n",
       "      <td>27.500</td>\n",
       "      <td>33.000</td>\n",
       "      <td>29.882</td>\n",
       "      <td>30.000</td>\n",
       "      <td>1.154</td>\n",
       "      <td>29.000</td>\n",
       "      <td>30.270</td>\n",
       "      <td>0.000</td>\n",
       "      <td>1.000</td>\n",
       "      <td>0.256</td>\n",
       "      <td>0.000</td>\n",
       "      <td>0.276</td>\n",
       "      <td>0.000</td>\n",
       "      <td>0.470</td>\n",
       "      <td>0.000</td>\n",
       "      <td>14.500</td>\n",
       "      <td>8.166</td>\n",
       "      <td>8.750</td>\n",
       "      <td>3.404</td>\n",
       "      <td>5.500</td>\n",
       "      <td>11.250</td>\n",
       "      <td>0.000</td>\n",
       "      <td>4.440</td>\n",
       "      <td>0.545</td>\n",
       "      <td>0.470</td>\n",
       "      <td>0.644</td>\n",
       "      <td>0.000</td>\n",
       "      <td>0.710</td>\n",
       "      <td>11.000</td>\n",
       "      <td>23.250</td>\n",
       "      <td>18.118</td>\n",
       "      <td>18.000</td>\n",
       "      <td>1.746</td>\n",
       "      <td>17.000</td>\n",
       "      <td>19.000</td>\n",
       "      <td>0.000</td>\n",
       "      <td>6.400</td>\n",
       "      <td>0.702</td>\n",
       "      <td>0.710</td>\n",
       "      <td>0.481</td>\n",
       "      <td>0.470</td>\n",
       "      <td>0.940</td>\n",
       "    </tr>\n",
       "  </tbody>\n",
       "</table>\n",
       "</div>"
      ],
      "text/plain": [
       "     min1   max1  mean1  median1  std1  1stQ1  3rdQ1  min2  max2  mean2  \\\n",
       "0  37.250 45.000 40.625   40.500 1.477 39.250 42.000 0.000 1.300  0.359   \n",
       "1  38.000 45.670 42.813   42.500 1.436 42.000 43.670 0.000 1.220  0.372   \n",
       "2  35.000 47.400 43.954   44.330 1.559 43.000 45.000 0.000 1.700  0.426   \n",
       "3  33.000 47.750 42.180   43.500 3.671 39.150 45.000 0.000 3.000  0.696   \n",
       "4  33.000 45.750 41.678   41.750 2.243 41.330 42.750 0.000 2.830  0.536   \n",
       "5  37.000 48.000 43.455   43.250 1.386 42.500 45.000 0.000 1.580  0.378   \n",
       "6  36.250 48.000 43.969   44.500 1.618 43.310 44.670 0.000 1.500  0.413   \n",
       "7  12.750 51.000 24.563   24.250 3.738 23.188 26.500 0.000 6.870  0.591   \n",
       "8   0.000 42.750 27.465   28.000 3.584 25.500 30.000 0.000 7.760  0.450   \n",
       "9  21.000 50.000 32.586   33.000 6.238 26.188 34.500 0.000 9.900  0.516   \n",
       "10 27.500 33.000 29.882   30.000 1.154 29.000 30.270 0.000 1.000  0.256   \n",
       "\n",
       "    median2  std2  1stQ2  3rdQ2  min3   max3  mean3  median3  std3  1stQ3  \\\n",
       "0     0.430 0.323  0.000  0.500 4.000 29.500 19.041   19.250 4.463 16.000   \n",
       "1     0.470 0.289  0.000  0.500 2.000 29.500 20.097   21.000 3.894 19.000   \n",
       "2     0.470 0.339  0.000  0.500 6.500 29.750 22.122   23.000 3.031 19.750   \n",
       "3     0.500 0.631  0.000  1.120 8.500 30.000 22.184   23.000 3.810 20.500   \n",
       "4     0.500 0.405  0.430  0.710 3.000 28.250 19.007   19.125 4.087 16.500   \n",
       "5     0.470 0.316  0.000  0.500 5.750 27.000 15.793   15.000 3.848 13.000   \n",
       "6     0.470 0.263  0.430  0.500 1.500 26.330 15.868   16.250 3.742 14.250   \n",
       "7     0.430 0.837  0.000  0.710 0.000 25.330 19.121   20.250 4.300 18.000   \n",
       "8     0.430 0.767  0.000  0.500 7.500 35.000 20.843   20.750 3.826 18.000   \n",
       "9     0.430 0.790  0.000  0.823 0.000 28.250 13.942   14.250 5.883 10.000   \n",
       "10    0.000 0.276  0.000  0.470 0.000 14.500  8.166    8.750 3.404  5.500   \n",
       "\n",
       "    3rdQ3  min4   max4  mean4  median4  std4  1stQ4  3rdQ4   min5   max5  \\\n",
       "0  23.250 0.000  7.230  0.833    0.500 0.966  0.000  1.120 27.250 38.250   \n",
       "1  22.250 0.000  5.760  0.876    0.500 1.047  0.000  1.145 27.670 38.500   \n",
       "2  24.000 0.000  4.440  0.497    0.430 0.551  0.000  0.830 29.000 38.500   \n",
       "3  24.372 0.000  5.150  0.990    0.830 0.954  0.430  1.300 20.000 38.670   \n",
       "4  22.062 0.000  6.420  0.842    0.500 0.929  0.430  1.120 23.670 37.500   \n",
       "5  18.270 0.000 10.030  0.849    0.500 0.996  0.430  1.120  8.000 33.500   \n",
       "6  18.000 0.000  5.170  0.666    0.470 0.789  0.000  0.940 11.330 30.750   \n",
       "7  22.000 0.000  6.760  0.737    0.470 0.927  0.000  0.870 10.670 30.000   \n",
       "8  22.500 0.000  5.760  0.780    0.500 0.904  0.000  0.940  0.000 33.000   \n",
       "9  18.000 0.000  7.400  0.869    0.500 1.027  0.430  1.120  5.000 33.750   \n",
       "10 11.250 0.000  4.440  0.545    0.470 0.644  0.000  0.710 11.000 23.250   \n",
       "\n",
       "    mean5  median5  std5  1stQ5  3rdQ5  min6   max6  mean6  median6  std6  \\\n",
       "0  34.311   35.000 2.188 33.000 36.000 0.000  1.920  0.571    0.430 0.583   \n",
       "1  33.025   33.000 1.995 32.000 34.500 0.000  3.110  0.571    0.430 0.601   \n",
       "2  35.588   36.000 2.000 35.362 36.500 0.000  1.790  0.493    0.430 0.514   \n",
       "3  33.494   35.000 3.849 30.457 36.330 0.000  2.180  0.614    0.500 0.524   \n",
       "4  29.857   30.000 2.411 28.457 31.250 0.000  1.790  0.383    0.430 0.389   \n",
       "5  23.035   23.500 2.489 22.250 24.000 0.000  5.260  0.680    0.500 0.623   \n",
       "6  22.104   21.670 3.318 20.500 23.750 0.000  2.960  0.555    0.490 0.488   \n",
       "7  23.493   23.750 3.694 20.500 27.000 0.000  4.970  0.700    0.500 0.694   \n",
       "8  17.618   18.000 5.054 15.000 20.750 0.000  6.760  1.122    0.830 1.012   \n",
       "9  20.346   19.585 5.032 17.670 23.500 0.000 13.610  1.162    0.830 1.333   \n",
       "10 18.118   18.000 1.746 17.000 19.000 0.000  6.400  0.702    0.710 0.481   \n",
       "\n",
       "    1stQ6  3rdQ6  \n",
       "0   0.000  1.300  \n",
       "1   0.000  1.300  \n",
       "2   0.000  0.940  \n",
       "3   0.000  1.000  \n",
       "4   0.000  0.500  \n",
       "5   0.430  0.870  \n",
       "6   0.000  0.830  \n",
       "7   0.430  0.870  \n",
       "8   0.470  1.300  \n",
       "9   0.470  1.300  \n",
       "10  0.470  0.940  "
      ]
     },
     "execution_count": 13,
     "metadata": {},
     "output_type": "execute_result"
    }
   ],
   "source": [
    "# Row 10 (instance 11) is not parsed correctly, and was manually corrected\n",
    "\n",
    "df_desired.head(11)"
   ]
  },
  {
   "cell_type": "code",
   "execution_count": 14,
   "metadata": {
    "ExecuteTime": {
     "end_time": "2019-10-14T15:46:33.703652Z",
     "start_time": "2019-10-14T15:46:33.672797Z"
    }
   },
   "outputs": [],
   "source": [
    "# Assign target label\n",
    "\n",
    "target = []\n",
    "for s in all_files:\n",
    "    activity = s.split('/')[-2]\n",
    "    target.append(re.search('\\D+', activity)[0])\n",
    "    \n",
    "df_desired['target'] = target"
   ]
  },
  {
   "cell_type": "code",
   "execution_count": 15,
   "metadata": {
    "ExecuteTime": {
     "end_time": "2019-10-14T15:46:33.736035Z",
     "start_time": "2019-10-14T15:46:33.705346Z"
    }
   },
   "outputs": [],
   "source": [
    "# Assign train_test split labels\n",
    "\n",
    "df_desired['test'] = df_desired.index.isin([0,1,7,8,13,14,15,28,29,30,43,44,45,58,59,60,73,74,75])"
   ]
  },
  {
   "cell_type": "code",
   "execution_count": 16,
   "metadata": {
    "ExecuteTime": {
     "end_time": "2019-10-14T15:46:33.772563Z",
     "start_time": "2019-10-14T15:46:33.737761Z"
    }
   },
   "outputs": [],
   "source": [
    "# Perform train test split\n",
    "\n",
    "test = df_desired.loc[df_desired['test']==True].drop('test', axis=1)\n",
    "train = df_desired.loc[df_desired['test']==False].drop('test', axis=1)"
   ]
  },
  {
   "cell_type": "code",
   "execution_count": 17,
   "metadata": {
    "ExecuteTime": {
     "end_time": "2019-10-14T15:46:34.495331Z",
     "start_time": "2019-10-14T15:46:33.774930Z"
    }
   },
   "outputs": [],
   "source": [
    "# Normalize the features\n",
    "from sklearn.preprocessing import Normalizer\n",
    "\n",
    "nml = Normalizer()\n",
    "train.iloc[:, :42] = nml.fit_transform(train.iloc[:, :42].T).T # To normalize column-wise instead\n",
    "test.iloc[:, :42] = nml.transform(test.iloc[:, :42].T).T # Avoid data leakage"
   ]
  },
  {
   "cell_type": "code",
   "execution_count": 18,
   "metadata": {
    "ExecuteTime": {
     "end_time": "2019-10-14T15:46:34.624984Z",
     "start_time": "2019-10-14T15:46:34.497611Z"
    }
   },
   "outputs": [],
   "source": [
    "# (c) iii. Estimate the standard deviation and confidence interval\n",
    "\n",
    "df_temp = pd.concat([train, test])\n",
    "std_estimates = df_temp.describe().loc['std']"
   ]
  },
  {
   "cell_type": "code",
   "execution_count": 19,
   "metadata": {
    "ExecuteTime": {
     "end_time": "2019-10-14T15:46:34.664918Z",
     "start_time": "2019-10-14T15:46:34.626743Z"
    }
   },
   "outputs": [],
   "source": [
    "# Create 500 bootstrap standard deviation\n",
    "\n",
    "std = (df_temp.sample(frac=1, replace=True).describe().loc['std'].values for _ in range(500)) # 88 samples each"
   ]
  },
  {
   "cell_type": "code",
   "execution_count": 20,
   "metadata": {
    "ExecuteTime": {
     "end_time": "2019-10-14T15:47:08.110890Z",
     "start_time": "2019-10-14T15:46:34.667323Z"
    }
   },
   "outputs": [],
   "source": [
    "# Construct the 90% bootstrap confidence interval\n",
    "\n",
    "bootstrap_std_CI = [(round(sorted(array)[24], 3), round(sorted(array)[474], 3))\\\n",
    "                    for array in zip(*std)] # Zipping the unpacked list of arrays (within the generator)"
   ]
  },
  {
   "cell_type": "code",
   "execution_count": 21,
   "metadata": {
    "ExecuteTime": {
     "end_time": "2019-10-14T15:47:08.168746Z",
     "start_time": "2019-10-14T15:47:08.112979Z"
    }
   },
   "outputs": [
    {
     "data": {
      "text/html": [
       "<div>\n",
       "<style scoped>\n",
       "    .dataframe tbody tr th:only-of-type {\n",
       "        vertical-align: middle;\n",
       "    }\n",
       "\n",
       "    .dataframe tbody tr th {\n",
       "        vertical-align: top;\n",
       "    }\n",
       "\n",
       "    .dataframe thead th {\n",
       "        text-align: right;\n",
       "    }\n",
       "</style>\n",
       "<table border=\"1\" class=\"dataframe\">\n",
       "  <thead>\n",
       "    <tr style=\"text-align: right;\">\n",
       "      <th></th>\n",
       "      <th>std</th>\n",
       "      <th>90% Bootstrap CI</th>\n",
       "    </tr>\n",
       "  </thead>\n",
       "  <tbody>\n",
       "    <tr>\n",
       "      <td>min1</td>\n",
       "      <td>0.065</td>\n",
       "      <td>(0.053, 0.076)</td>\n",
       "    </tr>\n",
       "    <tr>\n",
       "      <td>max1</td>\n",
       "      <td>0.047</td>\n",
       "      <td>(0.041, 0.052)</td>\n",
       "    </tr>\n",
       "    <tr>\n",
       "      <td>mean1</td>\n",
       "      <td>0.050</td>\n",
       "      <td>(0.042, 0.056)</td>\n",
       "    </tr>\n",
       "    <tr>\n",
       "      <td>median1</td>\n",
       "      <td>0.050</td>\n",
       "      <td>(0.041, 0.056)</td>\n",
       "    </tr>\n",
       "    <tr>\n",
       "      <td>std1</td>\n",
       "      <td>0.087</td>\n",
       "      <td>(0.069, 0.103)</td>\n",
       "    </tr>\n",
       "    <tr>\n",
       "      <td>1stQ1</td>\n",
       "      <td>0.051</td>\n",
       "      <td>(0.042, 0.059)</td>\n",
       "    </tr>\n",
       "    <tr>\n",
       "      <td>3rdQ1</td>\n",
       "      <td>0.049</td>\n",
       "      <td>(0.041, 0.055)</td>\n",
       "    </tr>\n",
       "    <tr>\n",
       "      <td>min2</td>\n",
       "      <td>0.000</td>\n",
       "      <td>(0.0, 0.0)</td>\n",
       "    </tr>\n",
       "    <tr>\n",
       "      <td>max2</td>\n",
       "      <td>0.101</td>\n",
       "      <td>(0.085, 0.114)</td>\n",
       "    </tr>\n",
       "    <tr>\n",
       "      <td>mean2</td>\n",
       "      <td>0.116</td>\n",
       "      <td>(0.092, 0.136)</td>\n",
       "    </tr>\n",
       "    <tr>\n",
       "      <td>median2</td>\n",
       "      <td>0.116</td>\n",
       "      <td>(0.09, 0.137)</td>\n",
       "    </tr>\n",
       "    <tr>\n",
       "      <td>std2</td>\n",
       "      <td>0.106</td>\n",
       "      <td>(0.087, 0.122)</td>\n",
       "    </tr>\n",
       "    <tr>\n",
       "      <td>1stQ2</td>\n",
       "      <td>0.123</td>\n",
       "      <td>(0.098, 0.146)</td>\n",
       "    </tr>\n",
       "    <tr>\n",
       "      <td>3rdQ2</td>\n",
       "      <td>0.116</td>\n",
       "      <td>(0.092, 0.135)</td>\n",
       "    </tr>\n",
       "    <tr>\n",
       "      <td>min3</td>\n",
       "      <td>0.108</td>\n",
       "      <td>(0.094, 0.121)</td>\n",
       "    </tr>\n",
       "    <tr>\n",
       "      <td>max3</td>\n",
       "      <td>0.054</td>\n",
       "      <td>(0.044, 0.063)</td>\n",
       "    </tr>\n",
       "    <tr>\n",
       "      <td>mean3</td>\n",
       "      <td>0.060</td>\n",
       "      <td>(0.05, 0.068)</td>\n",
       "    </tr>\n",
       "    <tr>\n",
       "      <td>median3</td>\n",
       "      <td>0.060</td>\n",
       "      <td>(0.05, 0.068)</td>\n",
       "    </tr>\n",
       "    <tr>\n",
       "      <td>std3</td>\n",
       "      <td>0.058</td>\n",
       "      <td>(0.048, 0.066)</td>\n",
       "    </tr>\n",
       "    <tr>\n",
       "      <td>1stQ3</td>\n",
       "      <td>0.065</td>\n",
       "      <td>(0.056, 0.074)</td>\n",
       "    </tr>\n",
       "    <tr>\n",
       "      <td>3rdQ3</td>\n",
       "      <td>0.057</td>\n",
       "      <td>(0.048, 0.065)</td>\n",
       "    </tr>\n",
       "    <tr>\n",
       "      <td>min4</td>\n",
       "      <td>0.000</td>\n",
       "      <td>(0.0, 0.0)</td>\n",
       "    </tr>\n",
       "    <tr>\n",
       "      <td>max4</td>\n",
       "      <td>0.062</td>\n",
       "      <td>(0.053, 0.07)</td>\n",
       "    </tr>\n",
       "    <tr>\n",
       "      <td>mean4</td>\n",
       "      <td>0.099</td>\n",
       "      <td>(0.082, 0.113)</td>\n",
       "    </tr>\n",
       "    <tr>\n",
       "      <td>median4</td>\n",
       "      <td>0.105</td>\n",
       "      <td>(0.087, 0.121)</td>\n",
       "    </tr>\n",
       "    <tr>\n",
       "      <td>std4</td>\n",
       "      <td>0.072</td>\n",
       "      <td>(0.06, 0.082)</td>\n",
       "    </tr>\n",
       "    <tr>\n",
       "      <td>1stQ4</td>\n",
       "      <td>0.119</td>\n",
       "      <td>(0.101, 0.137)</td>\n",
       "    </tr>\n",
       "    <tr>\n",
       "      <td>3rdQ4</td>\n",
       "      <td>0.099</td>\n",
       "      <td>(0.082, 0.114)</td>\n",
       "    </tr>\n",
       "    <tr>\n",
       "      <td>min5</td>\n",
       "      <td>0.122</td>\n",
       "      <td>(0.089, 0.153)</td>\n",
       "    </tr>\n",
       "    <tr>\n",
       "      <td>max5</td>\n",
       "      <td>0.056</td>\n",
       "      <td>(0.045, 0.066)</td>\n",
       "    </tr>\n",
       "    <tr>\n",
       "      <td>mean5</td>\n",
       "      <td>0.066</td>\n",
       "      <td>(0.049, 0.082)</td>\n",
       "    </tr>\n",
       "    <tr>\n",
       "      <td>median5</td>\n",
       "      <td>0.066</td>\n",
       "      <td>(0.05, 0.082)</td>\n",
       "    </tr>\n",
       "    <tr>\n",
       "      <td>std5</td>\n",
       "      <td>0.060</td>\n",
       "      <td>(0.049, 0.068)</td>\n",
       "    </tr>\n",
       "    <tr>\n",
       "      <td>1stQ5</td>\n",
       "      <td>0.074</td>\n",
       "      <td>(0.055, 0.092)</td>\n",
       "    </tr>\n",
       "    <tr>\n",
       "      <td>3rdQ5</td>\n",
       "      <td>0.062</td>\n",
       "      <td>(0.047, 0.075)</td>\n",
       "    </tr>\n",
       "    <tr>\n",
       "      <td>min6</td>\n",
       "      <td>0.107</td>\n",
       "      <td>(0.0, 0.183)</td>\n",
       "    </tr>\n",
       "    <tr>\n",
       "      <td>max6</td>\n",
       "      <td>0.069</td>\n",
       "      <td>(0.058, 0.078)</td>\n",
       "    </tr>\n",
       "    <tr>\n",
       "      <td>mean6</td>\n",
       "      <td>0.095</td>\n",
       "      <td>(0.078, 0.109)</td>\n",
       "    </tr>\n",
       "    <tr>\n",
       "      <td>median6</td>\n",
       "      <td>0.098</td>\n",
       "      <td>(0.08, 0.113)</td>\n",
       "    </tr>\n",
       "    <tr>\n",
       "      <td>std6</td>\n",
       "      <td>0.078</td>\n",
       "      <td>(0.064, 0.09)</td>\n",
       "    </tr>\n",
       "    <tr>\n",
       "      <td>1stQ6</td>\n",
       "      <td>0.103</td>\n",
       "      <td>(0.085, 0.119)</td>\n",
       "    </tr>\n",
       "    <tr>\n",
       "      <td>3rdQ6</td>\n",
       "      <td>0.095</td>\n",
       "      <td>(0.078, 0.108)</td>\n",
       "    </tr>\n",
       "  </tbody>\n",
       "</table>\n",
       "</div>"
      ],
      "text/plain": [
       "          std 90% Bootstrap CI\n",
       "min1    0.065   (0.053, 0.076)\n",
       "max1    0.047   (0.041, 0.052)\n",
       "mean1   0.050   (0.042, 0.056)\n",
       "median1 0.050   (0.041, 0.056)\n",
       "std1    0.087   (0.069, 0.103)\n",
       "1stQ1   0.051   (0.042, 0.059)\n",
       "3rdQ1   0.049   (0.041, 0.055)\n",
       "min2    0.000       (0.0, 0.0)\n",
       "max2    0.101   (0.085, 0.114)\n",
       "mean2   0.116   (0.092, 0.136)\n",
       "median2 0.116    (0.09, 0.137)\n",
       "std2    0.106   (0.087, 0.122)\n",
       "1stQ2   0.123   (0.098, 0.146)\n",
       "3rdQ2   0.116   (0.092, 0.135)\n",
       "min3    0.108   (0.094, 0.121)\n",
       "max3    0.054   (0.044, 0.063)\n",
       "mean3   0.060    (0.05, 0.068)\n",
       "median3 0.060    (0.05, 0.068)\n",
       "std3    0.058   (0.048, 0.066)\n",
       "1stQ3   0.065   (0.056, 0.074)\n",
       "3rdQ3   0.057   (0.048, 0.065)\n",
       "min4    0.000       (0.0, 0.0)\n",
       "max4    0.062    (0.053, 0.07)\n",
       "mean4   0.099   (0.082, 0.113)\n",
       "median4 0.105   (0.087, 0.121)\n",
       "std4    0.072    (0.06, 0.082)\n",
       "1stQ4   0.119   (0.101, 0.137)\n",
       "3rdQ4   0.099   (0.082, 0.114)\n",
       "min5    0.122   (0.089, 0.153)\n",
       "max5    0.056   (0.045, 0.066)\n",
       "mean5   0.066   (0.049, 0.082)\n",
       "median5 0.066    (0.05, 0.082)\n",
       "std5    0.060   (0.049, 0.068)\n",
       "1stQ5   0.074   (0.055, 0.092)\n",
       "3rdQ5   0.062   (0.047, 0.075)\n",
       "min6    0.107     (0.0, 0.183)\n",
       "max6    0.069   (0.058, 0.078)\n",
       "mean6   0.095   (0.078, 0.109)\n",
       "median6 0.098    (0.08, 0.113)\n",
       "std6    0.078    (0.064, 0.09)\n",
       "1stQ6   0.103   (0.085, 0.119)\n",
       "3rdQ6   0.095   (0.078, 0.108)"
      ]
     },
     "execution_count": 21,
     "metadata": {},
     "output_type": "execute_result"
    }
   ],
   "source": [
    "pd.DataFrame(list(zip(std_estimates.values, bootstrap_std_CI)), \n",
    "             index=std_estimates.index, columns=['std', '90% Bootstrap CI'])"
   ]
  },
  {
   "cell_type": "code",
   "execution_count": 22,
   "metadata": {
    "ExecuteTime": {
     "end_time": "2019-10-14T15:47:08.206150Z",
     "start_time": "2019-10-14T15:47:08.170643Z"
    }
   },
   "outputs": [],
   "source": [
    "# (c) iv. Select the three most important time-domain features"
   ]
  },
  {
   "cell_type": "markdown",
   "metadata": {},
   "source": [
    "I will proceed with std, median and max."
   ]
  },
  {
   "cell_type": "code",
   "execution_count": 23,
   "metadata": {
    "ExecuteTime": {
     "end_time": "2019-10-14T15:47:08.250046Z",
     "start_time": "2019-10-14T15:47:08.210921Z"
    }
   },
   "outputs": [],
   "source": [
    "train_selected = train.loc[:, train.columns.str.startswith(('std', 'median', 'max', 'target'))]\n",
    "test_selected = test.loc[:, test.columns.str.startswith(('std', 'median', 'max', 'target'))]"
   ]
  },
  {
   "cell_type": "code",
   "execution_count": 24,
   "metadata": {
    "ExecuteTime": {
     "end_time": "2019-10-14T15:47:08.295180Z",
     "start_time": "2019-10-14T15:47:08.252870Z"
    }
   },
   "outputs": [
    {
     "name": "stderr",
     "output_type": "stream",
     "text": [
      "/Users/nelson/anaconda3/lib/python3.7/site-packages/pandas/core/indexing.py:494: SettingWithCopyWarning:\n",
      "\n",
      "\n",
      "A value is trying to be set on a copy of a slice from a DataFrame.\n",
      "Try using .loc[row_indexer,col_indexer] = value instead\n",
      "\n",
      "See the caveats in the documentation: http://pandas.pydata.org/pandas-docs/stable/user_guide/indexing.html#returning-a-view-versus-a-copy\n",
      "\n"
     ]
    }
   ],
   "source": [
    "# Convert the target column as category type\n",
    "\n",
    "train_selected.loc[:, 'target'] = train_selected['target'].astype('category')\n",
    "test_selected.loc[:, 'target'] = test_selected['target'].astype('category')"
   ]
  },
  {
   "cell_type": "code",
   "execution_count": 25,
   "metadata": {
    "ExecuteTime": {
     "end_time": "2019-10-14T15:47:08.338114Z",
     "start_time": "2019-10-14T15:47:08.297279Z"
    }
   },
   "outputs": [
    {
     "name": "stderr",
     "output_type": "stream",
     "text": [
      "/Users/nelson/anaconda3/lib/python3.7/site-packages/ipykernel_launcher.py:4: SettingWithCopyWarning:\n",
      "\n",
      "\n",
      "A value is trying to be set on a copy of a slice from a DataFrame.\n",
      "Try using .loc[row_indexer,col_indexer] = value instead\n",
      "\n",
      "See the caveats in the documentation: http://pandas.pydata.org/pandas-docs/stable/user_guide/indexing.html#returning-a-view-versus-a-copy\n",
      "\n"
     ]
    }
   ],
   "source": [
    "# (d) i. Scatterplot to classify bending\n",
    "\n",
    "di_scatter = train_selected.loc[:, train_selected.columns.str.endswith(('1', '2', '6', 'target'))]\n",
    "di_scatter['bending'] = np.where(di_scatter['target']=='bending', 'Yes', 'No')"
   ]
  },
  {
   "cell_type": "code",
   "execution_count": 26,
   "metadata": {
    "ExecuteTime": {
     "end_time": "2019-10-14T15:47:08.964609Z",
     "start_time": "2019-10-14T15:47:08.340207Z"
    }
   },
   "outputs": [],
   "source": [
    "%%R -i di_scatter\n",
    "\n",
    "g = di_scatter %>%\n",
    "    gather(-one_of(c('target', 'bending')), key='variable', value='value') # 'melt' the dataframe for plotting\n",
    "\n",
    "gg = ggplot(g, aes(variable, value)) +\n",
    "        geom_jitter(aes(col=bending), width=.15) +\n",
    "        labs(title='Distribution of Bending VS Non-bending Across Time-domain Features',\n",
    "             x='Time-Domain Features',\n",
    "             y='Normalized Values')\n",
    "\n",
    "png(file='./HW3_image/d1.png', width=600, height=600)\n",
    "gg"
   ]
  },
  {
   "cell_type": "code",
   "execution_count": 27,
   "metadata": {
    "ExecuteTime": {
     "end_time": "2019-10-14T15:47:09.013708Z",
     "start_time": "2019-10-14T15:47:08.967510Z"
    }
   },
   "outputs": [
    {
     "data": {
      "image/png": "[encoded data removed]",
      "text/plain": [
       "<IPython.core.display.Image object>"
      ]
     },
     "execution_count": 27,
     "metadata": {},
     "output_type": "execute_result"
    }
   ],
   "source": [
    "Image('./HW3_image/d1.png')"
   ]
  },
  {
   "cell_type": "code",
   "execution_count": 28,
   "metadata": {
    "ExecuteTime": {
     "end_time": "2019-10-14T15:47:09.100102Z",
     "start_time": "2019-10-14T15:47:09.015763Z"
    }
   },
   "outputs": [],
   "source": [
    "# (d) ii. Break the time series into two part and repeat (d)i.\n",
    "\n",
    "first_file2 = pd.read_csv(all_files[0], skiprows=4, usecols=[1,2,3,4,5,6])\n",
    "first_file2b = pd.concat([first_file2[:240].reset_index(drop=True), first_file2[240:].reset_index(drop=True)], axis=1)\n",
    "first_file_long2 = first_file2b.describe().T[['max', '50%', 'std']].reset_index(drop=True)"
   ]
  },
  {
   "cell_type": "code",
   "execution_count": 29,
   "metadata": {
    "ExecuteTime": {
     "end_time": "2019-10-14T15:47:09.140151Z",
     "start_time": "2019-10-14T15:47:09.101818Z"
    }
   },
   "outputs": [],
   "source": [
    "colnames2 = [['max'+str(x), 'median'+str(x), 'std'+str(x)] for x in range(1,13)]\n",
    "colnames2 = list(chain.from_iterable(colnames2))"
   ]
  },
  {
   "cell_type": "code",
   "execution_count": 30,
   "metadata": {
    "ExecuteTime": {
     "end_time": "2019-10-14T15:47:09.193636Z",
     "start_time": "2019-10-14T15:47:09.141947Z"
    }
   },
   "outputs": [
    {
     "data": {
      "text/html": [
       "<div>\n",
       "<style scoped>\n",
       "    .dataframe tbody tr th:only-of-type {\n",
       "        vertical-align: middle;\n",
       "    }\n",
       "\n",
       "    .dataframe tbody tr th {\n",
       "        vertical-align: top;\n",
       "    }\n",
       "\n",
       "    .dataframe thead th {\n",
       "        text-align: right;\n",
       "    }\n",
       "</style>\n",
       "<table border=\"1\" class=\"dataframe\">\n",
       "  <thead>\n",
       "    <tr style=\"text-align: right;\">\n",
       "      <th></th>\n",
       "      <th>max1</th>\n",
       "      <th>median1</th>\n",
       "      <th>std1</th>\n",
       "      <th>max2</th>\n",
       "      <th>median2</th>\n",
       "      <th>std2</th>\n",
       "      <th>max3</th>\n",
       "      <th>median3</th>\n",
       "      <th>std3</th>\n",
       "      <th>max4</th>\n",
       "      <th>median4</th>\n",
       "      <th>std4</th>\n",
       "      <th>max5</th>\n",
       "      <th>median5</th>\n",
       "      <th>std5</th>\n",
       "      <th>max6</th>\n",
       "      <th>median6</th>\n",
       "      <th>std6</th>\n",
       "      <th>max7</th>\n",
       "      <th>median7</th>\n",
       "      <th>std7</th>\n",
       "      <th>max8</th>\n",
       "      <th>median8</th>\n",
       "      <th>std8</th>\n",
       "      <th>max9</th>\n",
       "      <th>median9</th>\n",
       "      <th>std9</th>\n",
       "      <th>max10</th>\n",
       "      <th>median10</th>\n",
       "      <th>std10</th>\n",
       "      <th>max11</th>\n",
       "      <th>median11</th>\n",
       "      <th>std11</th>\n",
       "      <th>max12</th>\n",
       "      <th>median12</th>\n",
       "      <th>std12</th>\n",
       "    </tr>\n",
       "  </thead>\n",
       "  <tbody>\n",
       "    <tr>\n",
       "      <td>0</td>\n",
       "      <td>42.330</td>\n",
       "      <td>41.250</td>\n",
       "      <td>1.103</td>\n",
       "      <td>1.220</td>\n",
       "      <td>0.470</td>\n",
       "      <td>0.328</td>\n",
       "      <td>25.670</td>\n",
       "      <td>18.000</td>\n",
       "      <td>4.063</td>\n",
       "      <td>7.230</td>\n",
       "      <td>0.430</td>\n",
       "      <td>0.818</td>\n",
       "      <td>36.170</td>\n",
       "      <td>34.500</td>\n",
       "      <td>1.212</td>\n",
       "      <td>1.500</td>\n",
       "      <td>0.000</td>\n",
       "      <td>0.648</td>\n",
       "      <td>45.000</td>\n",
       "      <td>39.415</td>\n",
       "      <td>1.717</td>\n",
       "      <td>1.300</td>\n",
       "      <td>0.430</td>\n",
       "      <td>0.317</td>\n",
       "      <td>29.500</td>\n",
       "      <td>21.500</td>\n",
       "      <td>4.433</td>\n",
       "      <td>5.500</td>\n",
       "      <td>0.820</td>\n",
       "      <td>1.039</td>\n",
       "      <td>38.250</td>\n",
       "      <td>35.415</td>\n",
       "      <td>2.838</td>\n",
       "      <td>1.920</td>\n",
       "      <td>0.430</td>\n",
       "      <td>0.510</td>\n",
       "    </tr>\n",
       "  </tbody>\n",
       "</table>\n",
       "</div>"
      ],
      "text/plain": [
       "    max1  median1  std1  max2  median2  std2   max3  median3  std3  max4  \\\n",
       "0 42.330   41.250 1.103 1.220    0.470 0.328 25.670   18.000 4.063 7.230   \n",
       "\n",
       "   median4  std4   max5  median5  std5  max6  median6  std6   max7  median7  \\\n",
       "0    0.430 0.818 36.170   34.500 1.212 1.500    0.000 0.648 45.000   39.415   \n",
       "\n",
       "   std7  max8  median8  std8   max9  median9  std9  max10  median10  std10  \\\n",
       "0 1.717 1.300    0.430 0.317 29.500   21.500 4.433  5.500     0.820  1.039   \n",
       "\n",
       "   max11  median11  std11  max12  median12  std12  \n",
       "0 38.250    35.415  2.838  1.920     0.430  0.510  "
      ]
     },
     "execution_count": 30,
     "metadata": {},
     "output_type": "execute_result"
    }
   ],
   "source": [
    "df_desired2 = pd.DataFrame(first_file_long2.to_numpy().reshape(1,-1), columns=colnames2)\n",
    "df_desired2"
   ]
  },
  {
   "cell_type": "code",
   "execution_count": 31,
   "metadata": {
    "ExecuteTime": {
     "end_time": "2019-10-14T15:47:11.483462Z",
     "start_time": "2019-10-14T15:47:09.195748Z"
    }
   },
   "outputs": [],
   "source": [
    "for file in all_files[1:]:\n",
    "    temp_df = pd.read_csv(file, skiprows=4, usecols=[1,2,3,4,5,6])\n",
    "    temp_df = pd.concat([temp_df[:240].reset_index(drop=True), temp_df[240:].reset_index(drop=True)], axis=1)\n",
    "    temp_file_long = temp_df.describe().T[['max', '50%', 'std']].reset_index(drop=True)\n",
    "    df_desired2 = pd.concat([df_desired2, pd.DataFrame(temp_file_long.to_numpy().reshape(1,-1), columns=colnames2)])"
   ]
  },
  {
   "cell_type": "code",
   "execution_count": 32,
   "metadata": {
    "ExecuteTime": {
     "end_time": "2019-10-14T15:47:11.539715Z",
     "start_time": "2019-10-14T15:47:11.484793Z"
    }
   },
   "outputs": [
    {
     "data": {
      "text/html": [
       "<div>\n",
       "<style scoped>\n",
       "    .dataframe tbody tr th:only-of-type {\n",
       "        vertical-align: middle;\n",
       "    }\n",
       "\n",
       "    .dataframe tbody tr th {\n",
       "        vertical-align: top;\n",
       "    }\n",
       "\n",
       "    .dataframe thead th {\n",
       "        text-align: right;\n",
       "    }\n",
       "</style>\n",
       "<table border=\"1\" class=\"dataframe\">\n",
       "  <thead>\n",
       "    <tr style=\"text-align: right;\">\n",
       "      <th></th>\n",
       "      <th>max1</th>\n",
       "      <th>median1</th>\n",
       "      <th>std1</th>\n",
       "      <th>max2</th>\n",
       "      <th>median2</th>\n",
       "      <th>std2</th>\n",
       "      <th>max3</th>\n",
       "      <th>median3</th>\n",
       "      <th>std3</th>\n",
       "      <th>max4</th>\n",
       "      <th>median4</th>\n",
       "      <th>std4</th>\n",
       "      <th>max5</th>\n",
       "      <th>median5</th>\n",
       "      <th>std5</th>\n",
       "      <th>max6</th>\n",
       "      <th>median6</th>\n",
       "      <th>std6</th>\n",
       "      <th>max7</th>\n",
       "      <th>median7</th>\n",
       "      <th>std7</th>\n",
       "      <th>max8</th>\n",
       "      <th>median8</th>\n",
       "      <th>std8</th>\n",
       "      <th>max9</th>\n",
       "      <th>median9</th>\n",
       "      <th>std9</th>\n",
       "      <th>max10</th>\n",
       "      <th>median10</th>\n",
       "      <th>std10</th>\n",
       "      <th>max11</th>\n",
       "      <th>median11</th>\n",
       "      <th>std11</th>\n",
       "      <th>max12</th>\n",
       "      <th>median12</th>\n",
       "      <th>std12</th>\n",
       "    </tr>\n",
       "  </thead>\n",
       "  <tbody>\n",
       "    <tr>\n",
       "      <td>0</td>\n",
       "      <td>42.330</td>\n",
       "      <td>41.250</td>\n",
       "      <td>1.103</td>\n",
       "      <td>1.220</td>\n",
       "      <td>0.470</td>\n",
       "      <td>0.328</td>\n",
       "      <td>25.670</td>\n",
       "      <td>18.000</td>\n",
       "      <td>4.063</td>\n",
       "      <td>7.230</td>\n",
       "      <td>0.430</td>\n",
       "      <td>0.818</td>\n",
       "      <td>36.170</td>\n",
       "      <td>34.500</td>\n",
       "      <td>1.212</td>\n",
       "      <td>1.500</td>\n",
       "      <td>0.000</td>\n",
       "      <td>0.648</td>\n",
       "      <td>45.000</td>\n",
       "      <td>39.415</td>\n",
       "      <td>1.717</td>\n",
       "      <td>1.300</td>\n",
       "      <td>0.430</td>\n",
       "      <td>0.317</td>\n",
       "      <td>29.500</td>\n",
       "      <td>21.500</td>\n",
       "      <td>4.433</td>\n",
       "      <td>5.500</td>\n",
       "      <td>0.820</td>\n",
       "      <td>1.039</td>\n",
       "      <td>38.250</td>\n",
       "      <td>35.415</td>\n",
       "      <td>2.838</td>\n",
       "      <td>1.920</td>\n",
       "      <td>0.430</td>\n",
       "      <td>0.510</td>\n",
       "    </tr>\n",
       "    <tr>\n",
       "      <td>1</td>\n",
       "      <td>44.250</td>\n",
       "      <td>42.500</td>\n",
       "      <td>0.642</td>\n",
       "      <td>0.940</td>\n",
       "      <td>0.470</td>\n",
       "      <td>0.258</td>\n",
       "      <td>25.330</td>\n",
       "      <td>21.000</td>\n",
       "      <td>2.693</td>\n",
       "      <td>5.500</td>\n",
       "      <td>0.430</td>\n",
       "      <td>0.904</td>\n",
       "      <td>36.000</td>\n",
       "      <td>33.710</td>\n",
       "      <td>1.309</td>\n",
       "      <td>1.500</td>\n",
       "      <td>0.430</td>\n",
       "      <td>0.625</td>\n",
       "      <td>45.670</td>\n",
       "      <td>43.375</td>\n",
       "      <td>1.913</td>\n",
       "      <td>1.220</td>\n",
       "      <td>0.470</td>\n",
       "      <td>0.317</td>\n",
       "      <td>29.500</td>\n",
       "      <td>21.125</td>\n",
       "      <td>4.794</td>\n",
       "      <td>5.760</td>\n",
       "      <td>0.830</td>\n",
       "      <td>1.128</td>\n",
       "      <td>38.500</td>\n",
       "      <td>32.000</td>\n",
       "      <td>2.284</td>\n",
       "      <td>3.110</td>\n",
       "      <td>0.430</td>\n",
       "      <td>0.575</td>\n",
       "    </tr>\n",
       "    <tr>\n",
       "      <td>2</td>\n",
       "      <td>46.500</td>\n",
       "      <td>44.500</td>\n",
       "      <td>1.557</td>\n",
       "      <td>1.500</td>\n",
       "      <td>0.470</td>\n",
       "      <td>0.330</td>\n",
       "      <td>29.250</td>\n",
       "      <td>24.000</td>\n",
       "      <td>2.411</td>\n",
       "      <td>2.740</td>\n",
       "      <td>0.430</td>\n",
       "      <td>0.498</td>\n",
       "      <td>38.500</td>\n",
       "      <td>36.250</td>\n",
       "      <td>1.316</td>\n",
       "      <td>1.790</td>\n",
       "      <td>0.500</td>\n",
       "      <td>0.527</td>\n",
       "      <td>47.400</td>\n",
       "      <td>43.500</td>\n",
       "      <td>1.557</td>\n",
       "      <td>1.700</td>\n",
       "      <td>0.500</td>\n",
       "      <td>0.342</td>\n",
       "      <td>29.750</td>\n",
       "      <td>20.625</td>\n",
       "      <td>3.270</td>\n",
       "      <td>4.440</td>\n",
       "      <td>0.430</td>\n",
       "      <td>0.599</td>\n",
       "      <td>38.250</td>\n",
       "      <td>36.000</td>\n",
       "      <td>2.299</td>\n",
       "      <td>1.500</td>\n",
       "      <td>0.000</td>\n",
       "      <td>0.479</td>\n",
       "    </tr>\n",
       "    <tr>\n",
       "      <td>3</td>\n",
       "      <td>47.750</td>\n",
       "      <td>45.000</td>\n",
       "      <td>3.473</td>\n",
       "      <td>3.000</td>\n",
       "      <td>0.485</td>\n",
       "      <td>0.634</td>\n",
       "      <td>30.000</td>\n",
       "      <td>23.750</td>\n",
       "      <td>3.123</td>\n",
       "      <td>4.770</td>\n",
       "      <td>0.710</td>\n",
       "      <td>0.769</td>\n",
       "      <td>38.670</td>\n",
       "      <td>36.000</td>\n",
       "      <td>1.650</td>\n",
       "      <td>1.530</td>\n",
       "      <td>0.765</td>\n",
       "      <td>0.555</td>\n",
       "      <td>46.000</td>\n",
       "      <td>42.000</td>\n",
       "      <td>3.537</td>\n",
       "      <td>2.860</td>\n",
       "      <td>0.500</td>\n",
       "      <td>0.628</td>\n",
       "      <td>29.250</td>\n",
       "      <td>22.000</td>\n",
       "      <td>4.184</td>\n",
       "      <td>5.150</td>\n",
       "      <td>0.870</td>\n",
       "      <td>1.079</td>\n",
       "      <td>38.500</td>\n",
       "      <td>30.415</td>\n",
       "      <td>3.760</td>\n",
       "      <td>2.180</td>\n",
       "      <td>0.470</td>\n",
       "      <td>0.492</td>\n",
       "    </tr>\n",
       "    <tr>\n",
       "      <td>4</td>\n",
       "      <td>45.750</td>\n",
       "      <td>42.330</td>\n",
       "      <td>3.119</td>\n",
       "      <td>2.830</td>\n",
       "      <td>0.500</td>\n",
       "      <td>0.490</td>\n",
       "      <td>28.250</td>\n",
       "      <td>19.500</td>\n",
       "      <td>5.103</td>\n",
       "      <td>6.420</td>\n",
       "      <td>0.825</td>\n",
       "      <td>1.171</td>\n",
       "      <td>37.500</td>\n",
       "      <td>30.000</td>\n",
       "      <td>2.701</td>\n",
       "      <td>1.790</td>\n",
       "      <td>0.430</td>\n",
       "      <td>0.411</td>\n",
       "      <td>43.670</td>\n",
       "      <td>41.500</td>\n",
       "      <td>0.596</td>\n",
       "      <td>1.120</td>\n",
       "      <td>0.500</td>\n",
       "      <td>0.273</td>\n",
       "      <td>24.000</td>\n",
       "      <td>19.000</td>\n",
       "      <td>2.725</td>\n",
       "      <td>2.350</td>\n",
       "      <td>0.470</td>\n",
       "      <td>0.456</td>\n",
       "      <td>36.000</td>\n",
       "      <td>29.750</td>\n",
       "      <td>2.063</td>\n",
       "      <td>1.500</td>\n",
       "      <td>0.430</td>\n",
       "      <td>0.363</td>\n",
       "    </tr>\n",
       "  </tbody>\n",
       "</table>\n",
       "</div>"
      ],
      "text/plain": [
       "    max1  median1  std1  max2  median2  std2   max3  median3  std3  max4  \\\n",
       "0 42.330   41.250 1.103 1.220    0.470 0.328 25.670   18.000 4.063 7.230   \n",
       "1 44.250   42.500 0.642 0.940    0.470 0.258 25.330   21.000 2.693 5.500   \n",
       "2 46.500   44.500 1.557 1.500    0.470 0.330 29.250   24.000 2.411 2.740   \n",
       "3 47.750   45.000 3.473 3.000    0.485 0.634 30.000   23.750 3.123 4.770   \n",
       "4 45.750   42.330 3.119 2.830    0.500 0.490 28.250   19.500 5.103 6.420   \n",
       "\n",
       "   median4  std4   max5  median5  std5  max6  median6  std6   max7  median7  \\\n",
       "0    0.430 0.818 36.170   34.500 1.212 1.500    0.000 0.648 45.000   39.415   \n",
       "1    0.430 0.904 36.000   33.710 1.309 1.500    0.430 0.625 45.670   43.375   \n",
       "2    0.430 0.498 38.500   36.250 1.316 1.790    0.500 0.527 47.400   43.500   \n",
       "3    0.710 0.769 38.670   36.000 1.650 1.530    0.765 0.555 46.000   42.000   \n",
       "4    0.825 1.171 37.500   30.000 2.701 1.790    0.430 0.411 43.670   41.500   \n",
       "\n",
       "   std7  max8  median8  std8   max9  median9  std9  max10  median10  std10  \\\n",
       "0 1.717 1.300    0.430 0.317 29.500   21.500 4.433  5.500     0.820  1.039   \n",
       "1 1.913 1.220    0.470 0.317 29.500   21.125 4.794  5.760     0.830  1.128   \n",
       "2 1.557 1.700    0.500 0.342 29.750   20.625 3.270  4.440     0.430  0.599   \n",
       "3 3.537 2.860    0.500 0.628 29.250   22.000 4.184  5.150     0.870  1.079   \n",
       "4 0.596 1.120    0.500 0.273 24.000   19.000 2.725  2.350     0.470  0.456   \n",
       "\n",
       "   max11  median11  std11  max12  median12  std12  \n",
       "0 38.250    35.415  2.838  1.920     0.430  0.510  \n",
       "1 38.500    32.000  2.284  3.110     0.430  0.575  \n",
       "2 38.250    36.000  2.299  1.500     0.000  0.479  \n",
       "3 38.500    30.415  3.760  2.180     0.470  0.492  \n",
       "4 36.000    29.750  2.063  1.500     0.430  0.363  "
      ]
     },
     "execution_count": 32,
     "metadata": {},
     "output_type": "execute_result"
    }
   ],
   "source": [
    "df_desired2.reset_index(drop=True, inplace=True)\n",
    "df_desired2.head()"
   ]
  },
  {
   "cell_type": "code",
   "execution_count": 33,
   "metadata": {
    "ExecuteTime": {
     "end_time": "2019-10-14T15:47:11.584313Z",
     "start_time": "2019-10-14T15:47:11.541580Z"
    }
   },
   "outputs": [],
   "source": [
    "col_num = df_desired2.shape[1]\n",
    "df_desired2['target'] = target\n",
    "df_desired2['test'] = df_desired2.index.isin([0,1,7,8,13,14,15,28,29,30,43,44,45,58,59,60,73,74,75])\n",
    "test2 = df_desired2.loc[df_desired2['test']==True].drop('test', axis=1)\n",
    "train2 = df_desired2.loc[df_desired2['test']==False].drop('test', axis=1)"
   ]
  },
  {
   "cell_type": "code",
   "execution_count": 34,
   "metadata": {
    "ExecuteTime": {
     "end_time": "2019-10-14T15:47:11.640218Z",
     "start_time": "2019-10-14T15:47:11.586066Z"
    }
   },
   "outputs": [],
   "source": [
    "nml = Normalizer()\n",
    "train2.iloc[:, :col_num] = nml.fit_transform(train2.iloc[:, :col_num].T).T \n",
    "test2.iloc[:, :col_num] = nml.transform(test2.iloc[:, :col_num].T).T"
   ]
  },
  {
   "cell_type": "code",
   "execution_count": 35,
   "metadata": {
    "ExecuteTime": {
     "end_time": "2019-10-14T15:47:11.683116Z",
     "start_time": "2019-10-14T15:47:11.642353Z"
    }
   },
   "outputs": [],
   "source": [
    "train2.loc[:, 'target'] = train2['target'].astype('category')\n",
    "test2.loc[:, 'target'] = test2['target'].astype('category')"
   ]
  },
  {
   "cell_type": "code",
   "execution_count": 36,
   "metadata": {
    "ExecuteTime": {
     "end_time": "2019-10-14T15:47:11.725656Z",
     "start_time": "2019-10-14T15:47:11.685281Z"
    }
   },
   "outputs": [],
   "source": [
    "dii_scatter = train2.loc[:, ['max1','median1','std1','max2','median2','std2','max12','median12','std12','target']]\n",
    "dii_scatter['bending'] = np.where(dii_scatter['target']=='bending', 'Yes', 'No')"
   ]
  },
  {
   "cell_type": "code",
   "execution_count": 37,
   "metadata": {
    "ExecuteTime": {
     "end_time": "2019-10-14T15:47:12.183590Z",
     "start_time": "2019-10-14T15:47:11.727354Z"
    }
   },
   "outputs": [],
   "source": [
    "%%R -i dii_scatter\n",
    "\n",
    "g = dii_scatter %>%\n",
    "    gather(-one_of(c('target', 'bending')), key='variable', value='value')\n",
    "\n",
    "g$variable = ordered(g$variable, levels=c('max1','max2','max12','median1',\n",
    "                                          'median2','median12','std1','std2','std12'))\n",
    "\n",
    "gg = ggplot(g, aes(variable, value)) +\n",
    "        geom_jitter(aes(col=bending), width=.15) +\n",
    "        labs(title='Distribution of Bending VS Non-bending Across (Doubled) Time-domain Features',\n",
    "             x='Time-Domain Features',\n",
    "             y='Normalized Values')\n",
    "\n",
    "png(file='./HW3_image/d2.png', width=600, height=600)\n",
    "gg"
   ]
  },
  {
   "cell_type": "code",
   "execution_count": 38,
   "metadata": {
    "ExecuteTime": {
     "end_time": "2019-10-14T15:47:12.230966Z",
     "start_time": "2019-10-14T15:47:12.185492Z"
    }
   },
   "outputs": [
    {
     "data": {
      "image/png": "[encoded data removed]",
      "text/plain": [
       "<IPython.core.display.Image object>"
      ]
     },
     "execution_count": 38,
     "metadata": {},
     "output_type": "execute_result"
    }
   ],
   "source": [
    "Image('./HW3_image/d2.png')"
   ]
  },
  {
   "cell_type": "markdown",
   "metadata": {},
   "source": [
    "It seems like the values are stretched a little bit further on the y-axis. \\\n",
    "Otherwise the two distributions look similar to each other."
   ]
  },
  {
   "cell_type": "code",
   "execution_count": 39,
   "metadata": {
    "ExecuteTime": {
     "end_time": "2019-10-14T15:47:12.295471Z",
     "start_time": "2019-10-14T15:47:12.232975Z"
    }
   },
   "outputs": [],
   "source": [
    "# (d) iii. break up time series into different partitions\n",
    "\n",
    "def get_sliced_time_series(l, binary=True, train_only=True, case_control=False, normalize=False):\n",
    "    \n",
    "    '''\n",
    "    Get desired training set and testing set with l splitting of time series.\n",
    "    Time-domain features (min, max, std, mean, median) are extracted and normalized accordingly.\n",
    "    Return pandas dataframes / series for ML purpose.\n",
    "    \n",
    "    Parameters:\n",
    "    l : int\n",
    "        Determine the number of splits.\n",
    "    binary : bool (default = True)\n",
    "        Determine whether it's binary or multiclass classification.\n",
    "    train_only : bool (default = True)\n",
    "        Whether to return training sets only.\n",
    "    case_control : bool (default = False)\n",
    "        Whether to restrict certain non-bending instances.\n",
    "    normalize : bool (default = False)\n",
    "        Whether to use Normalizer or MinMaxScaler.    \n",
    "    '''\n",
    "    \n",
    "    first_file = pd.read_csv(all_files[0], skiprows=4, usecols=[1,2,3,4,5,6])\n",
    "    slice_index = range(0, 499, int(np.ceil(480/l))) # Ensure proper splitting\n",
    "    zipped_slice_index = list(zip(slice_index, slice_index[1:]))\n",
    "    first_file = pd.concat([first_file[x:y].reset_index(drop=True) for x,y in zipped_slice_index], axis=1)\n",
    "    first_file_long = first_file.describe().T[['max', '50%', 'std', 'mean', 'min']].reset_index(drop=True)\n",
    "    colnames = [['max'+str(x), 'median'+str(x), 'std'+str(x), 'mean'+str(x), 'min'+str(x)] for x in range(1,1+l*6)]\n",
    "    colnames = list(chain.from_iterable(colnames))\n",
    "    df_desired = pd.DataFrame(first_file_long.to_numpy().reshape(1,-1), columns=colnames)\n",
    "\n",
    "    for file in all_files[1:]: # Concatenate to the dataframe iteratively\n",
    "        temp_df = pd.read_csv(file, skiprows=4, usecols=[1,2,3,4,5,6])\n",
    "        temp_df = pd.concat([temp_df[x:y].reset_index(drop=True) for x,y in zipped_slice_index], axis=1)\n",
    "        temp_file_long = temp_df.describe().T[['max', '50%', 'std', 'mean', 'min']].reset_index(drop=True)\n",
    "        df_desired = pd.concat([df_desired, pd.DataFrame(temp_file_long.to_numpy().reshape(1,-1), columns=colnames)])\n",
    "\n",
    "    df_desired.reset_index(drop=True, inplace=True)\n",
    "    col_num = df_desired.shape[1]\n",
    "    df_desired['target'] = target\n",
    "    df_desired['test'] = df_desired.index.isin([0,1,7,8,13,14,15,28,29,30,43,44,45,58,59,60,73,74,75])\n",
    "    test = df_desired.loc[df_desired['test']==True].drop('test', axis=1) # Train-test split\n",
    "    if case_control: # Selectively drop 15 non-bending instances\n",
    "        train = df_desired.loc[df_desired['test']==False].drop('test', axis=1)\n",
    "        train = train.iloc[train.index.isin(np.r_[2:7,9:13,19:28,34:43,49:58,64:73,79:88])]\n",
    "    else:\n",
    "        train = df_desired.loc[df_desired['test']==False].drop('test', axis=1)\n",
    "    \n",
    "    if normalize: # Normalize each feature\n",
    "        nml = Normalizer() \n",
    "        train.iloc[:, :col_num] = nml.fit_transform(train.iloc[:, :col_num].T).T \n",
    "        test.iloc[:, :col_num] = nml.transform(test.iloc[:, :col_num].T).T\n",
    "    else: # Min-max scale each feature\n",
    "        from sklearn.preprocessing import MinMaxScaler\n",
    "        mms = MinMaxScaler()\n",
    "        train.iloc[:, :col_num] = mms.fit_transform(train.iloc[:, :col_num]) \n",
    "        test.iloc[:, :col_num] = mms.transform(test.iloc[:, :col_num])\n",
    "\n",
    "    if binary: # Create binary variable\n",
    "        train['bending'] = np.where(train['target']=='bending', 1, 0)\n",
    "        test['bending'] = np.where(test['target']=='bending', 1, 0)\n",
    "        train.drop('target', axis=1, inplace=True)\n",
    "        test.drop('target', axis=1, inplace=True)\n",
    "    else: # Create multiclass variable\n",
    "        from sklearn.preprocessing import LabelEncoder\n",
    "        lbl = LabelEncoder()\n",
    "        train['target'] = lbl.fit_transform(train['target'])\n",
    "        test['target'] = lbl.transform(test['target'])\n",
    "\n",
    "    X_train = train.iloc[:, :col_num]\n",
    "    y_train = train.iloc[:, -1]\n",
    "    X_test  = test.iloc[:, :col_num]\n",
    "    y_test  = test.iloc[:, -1]\n",
    "    \n",
    "    if train_only:\n",
    "        return (X_train, y_train)\n",
    "    else:\n",
    "        return (X_train, y_train, X_test, y_test)"
   ]
  },
  {
   "cell_type": "code",
   "execution_count": 40,
   "metadata": {
    "ExecuteTime": {
     "end_time": "2019-10-14T15:53:16.646396Z",
     "start_time": "2019-10-14T15:47:12.297292Z"
    }
   },
   "outputs": [],
   "source": [
    "from sklearn.linear_model import LogisticRegression\n",
    "from sklearn.feature_selection import RFECV\n",
    "\n",
    "count_dict = {}\n",
    "for l in range(1,21):\n",
    "    X_train, y_train = get_sliced_time_series(l) # Get the sliced time series\n",
    "    \n",
    "    logreg = LogisticRegression(C=10000, solver='lbfgs')\n",
    "    rfecv = RFECV(logreg, cv=5) # StratifiedKFold is automatically applied for binary data\n",
    "    selector = rfecv.fit(X_train, y_train)\n",
    "    \n",
    "    # Create a dictionary with key as number of slices, and value as a list containing:\n",
    "    # 1) A feature vector boolean\n",
    "    # 2) Number of feature used\n",
    "    # 3) The highest cv-score\n",
    "    \n",
    "    count_dict[l] = [selector.support_, sum(selector.support_), max(selector.grid_scores_)]"
   ]
  },
  {
   "cell_type": "markdown",
   "metadata": {
    "ExecuteTime": {
     "end_time": "2019-10-13T23:03:34.842566Z",
     "start_time": "2019-10-13T23:03:34.800552Z"
    }
   },
   "source": [
    "The wrong way is to only perform cross-validation after choosing a specific l, the correct way is to choose (l, p) simultaneously using cross-validation."
   ]
  },
  {
   "cell_type": "code",
   "execution_count": 41,
   "metadata": {
    "ExecuteTime": {
     "end_time": "2019-10-14T15:53:18.013271Z",
     "start_time": "2019-10-14T15:53:16.648443Z"
    }
   },
   "outputs": [
    {
     "data": {
      "text/plain": [
       "[0.9714285714285715,\n",
       " 0.9571428571428573,\n",
       " 0.9571428571428573,\n",
       " 0.9571428571428573,\n",
       " 0.9417582417582417,\n",
       " 0.9571428571428573,\n",
       " 0.9571428571428573,\n",
       " 0.9571428571428573,\n",
       " 0.9571428571428573,\n",
       " 0.9571428571428573,\n",
       " 0.9571428571428573,\n",
       " 0.9274725274725275,\n",
       " 0.9714285714285715,\n",
       " 0.9714285714285715,\n",
       " 0.9428571428571428,\n",
       " 0.9571428571428573,\n",
       " 0.956043956043956,\n",
       " 0.9571428571428573,\n",
       " 0.9714285714285715,\n",
       " 0.9274725274725275]"
      ]
     },
     "execution_count": 41,
     "metadata": {},
     "output_type": "execute_result"
    },
    {
     "data": {
      "text/plain": [
       "2"
      ]
     },
     "execution_count": 41,
     "metadata": {},
     "output_type": "execute_result"
    },
    {
     "data": {
      "text/plain": [
       "Index(['max5', 'min5'], dtype='object')"
      ]
     },
     "execution_count": 41,
     "metadata": {},
     "output_type": "execute_result"
    }
   ],
   "source": [
    "# Find the best cv-score\n",
    "\n",
    "[count_dict[x][2] for x in range(1,21)] # We'll proceed with l = 1\n",
    "count_dict[1][1]\n",
    "get_sliced_time_series(1)[0].columns[count_dict[1][0]]"
   ]
  },
  {
   "cell_type": "markdown",
   "metadata": {},
   "source": [
    "The best classifier chosen is (l, p) = (1, 2), the chosen parameters are **(max5, min5)**."
   ]
  },
  {
   "cell_type": "code",
   "execution_count": 42,
   "metadata": {
    "ExecuteTime": {
     "end_time": "2019-10-14T15:53:20.182767Z",
     "start_time": "2019-10-14T15:53:18.015252Z"
    }
   },
   "outputs": [],
   "source": [
    "# (d) iv. Refit rfecv for l = 19 and get prediction on train and test set\n",
    "\n",
    "X_train, y_train, X_test, y_test = get_sliced_time_series(1, train_only=False)\n",
    "logreg = LogisticRegression(C=10000, solver='lbfgs', warm_start=True)\n",
    "rfecv = RFECV(logreg, cv=5)\n",
    "selector = rfecv.fit(X_train, y_train)\n",
    "y_pred_train = selector.predict(X_train)\n",
    "y_pred_test = selector.predict(X_test)"
   ]
  },
  {
   "cell_type": "code",
   "execution_count": 43,
   "metadata": {
    "ExecuteTime": {
     "end_time": "2019-10-14T15:53:20.226704Z",
     "start_time": "2019-10-14T15:53:20.184902Z"
    }
   },
   "outputs": [
    {
     "data": {
      "text/plain": [
       "array([[60,  0],\n",
       "       [ 0,  9]])"
      ]
     },
     "execution_count": 43,
     "metadata": {},
     "output_type": "execute_result"
    },
    {
     "data": {
      "text/plain": [
       "(60, 0, 0, 9)"
      ]
     },
     "execution_count": 43,
     "metadata": {},
     "output_type": "execute_result"
    }
   ],
   "source": [
    "# Get confusion matrix\n",
    "from sklearn.metrics import confusion_matrix, roc_auc_score, roc_curve\n",
    "\n",
    "confusion_matrix(y_train, y_pred_train)\n",
    "\n",
    "# Note that Negative == Non-bending, Positive == Bending\n",
    "# Get the True Negative, False Positive, False Negative and True Positive accordingly\n",
    "tn, fp, fn, tp = confusion_matrix(y_train, y_pred_train).ravel() # Flatten the matrix\n",
    "confusion_matrix_flatten = (tn, fp, fn, tp)\n",
    "confusion_matrix_flatten"
   ]
  },
  {
   "cell_type": "markdown",
   "metadata": {},
   "source": [
    "There are 60 True Positives and 9 True Negatives with no error."
   ]
  },
  {
   "cell_type": "code",
   "execution_count": 44,
   "metadata": {
    "ExecuteTime": {
     "end_time": "2019-10-14T15:53:20.263960Z",
     "start_time": "2019-10-14T15:53:20.228653Z"
    }
   },
   "outputs": [],
   "source": [
    "# Get ROC\n",
    "\n",
    "y_proba_train = selector.predict_proba(X_train)\n",
    "y_proba_train_pos = [x[1] for x in y_proba_train]\n",
    "fpr, tpr, _ = roc_curve(y_train, y_proba_train_pos, pos_label=1)"
   ]
  },
  {
   "cell_type": "code",
   "execution_count": 45,
   "metadata": {
    "ExecuteTime": {
     "end_time": "2019-10-14T15:53:20.301513Z",
     "start_time": "2019-10-14T15:53:20.266479Z"
    }
   },
   "outputs": [],
   "source": [
    "roc_curve = pd.DataFrame(np.column_stack([tpr, fpr]),\n",
    "                         columns=['tpr', 'fpr'])"
   ]
  },
  {
   "cell_type": "code",
   "execution_count": 46,
   "metadata": {
    "ExecuteTime": {
     "end_time": "2019-10-14T15:53:20.526468Z",
     "start_time": "2019-10-14T15:53:20.303119Z"
    }
   },
   "outputs": [],
   "source": [
    "%%R -i roc_curve\n",
    "\n",
    "gg = ggplot(roc_curve, aes(fpr, tpr)) +\n",
    "        geom_line() +\n",
    "        geom_abline(slope=1, intercept=0, linetype='dashed', col='tomato2') +\n",
    "        labs(title='ROC Curve on Train Data',\n",
    "             x='False Positive Rate',\n",
    "             y='True Positive Rate')\n",
    "\n",
    "png(file='./HW3_image/roc.png', width=500, height=500)\n",
    "gg"
   ]
  },
  {
   "cell_type": "code",
   "execution_count": 47,
   "metadata": {
    "ExecuteTime": {
     "end_time": "2019-10-14T15:53:20.567550Z",
     "start_time": "2019-10-14T15:53:20.527947Z"
    }
   },
   "outputs": [
    {
     "data": {
      "image/png": "[encoded data removed]",
      "text/plain": [
       "<IPython.core.display.Image object>"
      ]
     },
     "execution_count": 47,
     "metadata": {},
     "output_type": "execute_result"
    }
   ],
   "source": [
    "Image('./HW3_image/roc.png')"
   ]
  },
  {
   "cell_type": "code",
   "execution_count": 48,
   "metadata": {
    "ExecuteTime": {
     "end_time": "2019-10-14T15:53:20.604420Z",
     "start_time": "2019-10-14T15:53:20.568960Z"
    }
   },
   "outputs": [
    {
     "data": {
      "text/plain": [
       "1.0"
      ]
     },
     "execution_count": 48,
     "metadata": {},
     "output_type": "execute_result"
    }
   ],
   "source": [
    "# Get the AUC score, which is clearly 1\n",
    "\n",
    "roc_auc_score(y_train, y_proba_train_pos)"
   ]
  },
  {
   "cell_type": "markdown",
   "metadata": {},
   "source": [
    "The AUC score is 1."
   ]
  },
  {
   "cell_type": "code",
   "execution_count": 49,
   "metadata": {
    "ExecuteTime": {
     "end_time": "2019-10-14T15:53:21.992654Z",
     "start_time": "2019-10-14T15:53:20.606224Z"
    }
   },
   "outputs": [],
   "source": [
    "X_train, y_train = get_sliced_time_series(1)"
   ]
  },
  {
   "cell_type": "code",
   "execution_count": 50,
   "metadata": {
    "ExecuteTime": {
     "end_time": "2019-10-14T15:53:22.035028Z",
     "start_time": "2019-10-14T15:53:21.994271Z"
    }
   },
   "outputs": [],
   "source": [
    "# Get the parameter estimates and p-values\n",
    "\n",
    "logreg_r = pd.DataFrame(np.column_stack([X_train.loc[:, 'max5'], X_train.loc[:, 'min5'], y_train]),\n",
    "                        columns=['max5', 'min5', 'bending'])"
   ]
  },
  {
   "cell_type": "code",
   "execution_count": 51,
   "metadata": {
    "ExecuteTime": {
     "end_time": "2019-10-14T15:53:22.096427Z",
     "start_time": "2019-10-14T15:53:22.036824Z"
    }
   },
   "outputs": [
    {
     "data": {
      "text/plain": [
       "\n",
       "Call:\n",
       "glm(formula = bending ~ ., family = \"binomial\", data = logreg_r)\n",
       "\n",
       "Deviance Residuals: \n",
       "       Min          1Q      Median          3Q         Max  \n",
       "-2.245e-04  -2.100e-08  -2.100e-08  -2.100e-08   1.610e-04  \n",
       "\n",
       "Coefficients:\n",
       "            Estimate Std. Error z value Pr(>|z|)\n",
       "(Intercept)    -1160     186885  -0.006    0.995\n",
       "max5            1270     205115   0.006    0.995\n",
       "min5            1775     287220   0.006    0.995\n",
       "\n",
       "(Dispersion parameter for binomial family taken to be 1)\n",
       "\n",
       "    Null deviance: 5.3435e+01  on 68  degrees of freedom\n",
       "Residual deviance: 8.9234e-08  on 66  degrees of freedom\n",
       "AIC: 6\n",
       "\n",
       "Number of Fisher Scoring iterations: 25\n",
       "\n"
      ]
     },
     "metadata": {},
     "output_type": "display_data"
    }
   ],
   "source": [
    "%%R -i logreg_r\n",
    "\n",
    "summary(glm(bending ~ ., data=logreg_r, family='binomial'))"
   ]
  },
  {
   "cell_type": "markdown",
   "metadata": {},
   "source": [
    "Due to perfect separation, the vanilla logistic regression estimates and standard errors becomes **very unstable**, and therefore meaningless."
   ]
  },
  {
   "cell_type": "code",
   "execution_count": 52,
   "metadata": {
    "ExecuteTime": {
     "end_time": "2019-10-14T15:53:22.137397Z",
     "start_time": "2019-10-14T15:53:22.097855Z"
    }
   },
   "outputs": [
    {
     "data": {
      "text/plain": [
       "0.8947368421052632"
      ]
     },
     "execution_count": 52,
     "metadata": {},
     "output_type": "execute_result"
    }
   ],
   "source": [
    "# (d) v. Get prediction score on the test set\n",
    "\n",
    "selector.score(X_test, y_test)"
   ]
  },
  {
   "cell_type": "markdown",
   "metadata": {},
   "source": [
    "The accuracy score drops a bit from the cross validation accuracy, from 0.9714 to 0.8947. With the two chosen features, **lowering max-iter in Logistic Regression could not help because the target is linearly separable.**"
   ]
  },
  {
   "cell_type": "code",
   "execution_count": 53,
   "metadata": {
    "ExecuteTime": {
     "end_time": "2019-10-14T15:53:22.178440Z",
     "start_time": "2019-10-14T15:53:22.139235Z"
    }
   },
   "outputs": [],
   "source": [
    "# (d) vi. Instablility in calculating logistic regression parameter"
   ]
  },
  {
   "cell_type": "markdown",
   "metadata": {},
   "source": [
    "Yes, as stated above."
   ]
  },
  {
   "cell_type": "code",
   "execution_count": 54,
   "metadata": {
    "ExecuteTime": {
     "end_time": "2019-10-14T15:53:22.219525Z",
     "start_time": "2019-10-14T15:53:22.180372Z"
    }
   },
   "outputs": [
    {
     "data": {
      "text/plain": [
       "(60, 0, 0, 9)"
      ]
     },
     "execution_count": 54,
     "metadata": {},
     "output_type": "execute_result"
    }
   ],
   "source": [
    "# (d) vii. Case-control sampling\n",
    "\n",
    "confusion_matrix_flatten"
   ]
  },
  {
   "cell_type": "markdown",
   "metadata": {},
   "source": [
    "It's clear that we suffer from class imbalance here, let's downsample our non-bending case to ~4 times that of our bending case. "
   ]
  },
  {
   "cell_type": "code",
   "execution_count": 55,
   "metadata": {
    "ExecuteTime": {
     "end_time": "2019-10-14T16:02:17.587896Z",
     "start_time": "2019-10-14T15:53:22.221967Z"
    }
   },
   "outputs": [],
   "source": [
    "count_dict2 = {}\n",
    "for l in range(1,21):\n",
    "    X_train, y_train = get_sliced_time_series(l, case_control=True) # Get the case control slices\n",
    "    \n",
    "    logreg = LogisticRegression(C=10000, solver='lbfgs')\n",
    "    rfecv = RFECV(logreg, cv=5)\n",
    "    selector = rfecv.fit(X_train, y_train)\n",
    "    count_dict2[l] = [selector.support_, sum(selector.support_), max(selector.grid_scores_)]"
   ]
  },
  {
   "cell_type": "code",
   "execution_count": 56,
   "metadata": {
    "ExecuteTime": {
     "end_time": "2019-10-14T16:02:18.987844Z",
     "start_time": "2019-10-14T16:02:17.589597Z"
    }
   },
   "outputs": [
    {
     "data": {
      "text/plain": [
       "[0.9714285714285715,\n",
       " 0.9571428571428573,\n",
       " 0.9571428571428573,\n",
       " 0.9571428571428573,\n",
       " 0.9417582417582417,\n",
       " 0.9571428571428573,\n",
       " 0.9571428571428573,\n",
       " 0.9571428571428573,\n",
       " 0.9571428571428573,\n",
       " 0.9571428571428573,\n",
       " 0.9571428571428573,\n",
       " 0.9274725274725275,\n",
       " 0.9714285714285715,\n",
       " 0.9714285714285715,\n",
       " 0.9428571428571428,\n",
       " 0.9571428571428573,\n",
       " 0.956043956043956,\n",
       " 0.9571428571428573,\n",
       " 0.9714285714285715,\n",
       " 0.9274725274725275]"
      ]
     },
     "execution_count": 56,
     "metadata": {},
     "output_type": "execute_result"
    },
    {
     "data": {
      "text/plain": [
       "2"
      ]
     },
     "execution_count": 56,
     "metadata": {},
     "output_type": "execute_result"
    },
    {
     "data": {
      "text/plain": [
       "Index(['max5', 'min5'], dtype='object')"
      ]
     },
     "execution_count": 56,
     "metadata": {},
     "output_type": "execute_result"
    }
   ],
   "source": [
    "# Find the best cv-score\n",
    "\n",
    "[count_dict[x][2] for x in range(1,21)] # We'll proceed with l = 1\n",
    "count_dict[1][1]\n",
    "get_sliced_time_series(1)[0].columns[count_dict[1][0]]"
   ]
  },
  {
   "cell_type": "code",
   "execution_count": 57,
   "metadata": {
    "ExecuteTime": {
     "end_time": "2019-10-14T16:02:21.120039Z",
     "start_time": "2019-10-14T16:02:18.989691Z"
    }
   },
   "outputs": [],
   "source": [
    "X_train, y_train, X_test, y_test = get_sliced_time_series(1, train_only=False, case_control=True)\n",
    "logreg = LogisticRegression(C=10000, solver='lbfgs', warm_start=True)\n",
    "rfecv = RFECV(logreg, cv=5)\n",
    "selector = rfecv.fit(X_train, y_train)\n",
    "y_pred = selector.predict(X_test)"
   ]
  },
  {
   "cell_type": "code",
   "execution_count": 58,
   "metadata": {
    "ExecuteTime": {
     "end_time": "2019-10-14T16:02:21.165488Z",
     "start_time": "2019-10-14T16:02:21.121590Z"
    }
   },
   "outputs": [
    {
     "data": {
      "text/plain": [
       "array([[15,  0],\n",
       "       [ 0,  4]])"
      ]
     },
     "execution_count": 58,
     "metadata": {},
     "output_type": "execute_result"
    },
    {
     "data": {
      "text/plain": [
       "(15, 0, 0, 4)"
      ]
     },
     "execution_count": 58,
     "metadata": {},
     "output_type": "execute_result"
    }
   ],
   "source": [
    "# Confusion Matrix on test set\n",
    "\n",
    "confusion_matrix(y_test, y_pred)\n",
    "\n",
    "tn, fp, fn, tp = confusion_matrix(y_test, y_pred).ravel()\n",
    "confusion_matrix_flatten = (tn, fp, fn, tp)\n",
    "confusion_matrix_flatten"
   ]
  },
  {
   "cell_type": "markdown",
   "metadata": {},
   "source": [
    "We have 15 True Negatives and 4 True Positives with no error."
   ]
  },
  {
   "cell_type": "code",
   "execution_count": 59,
   "metadata": {
    "ExecuteTime": {
     "end_time": "2019-10-14T16:02:21.208282Z",
     "start_time": "2019-10-14T16:02:21.167185Z"
    }
   },
   "outputs": [],
   "source": [
    "# ROC on test set\n",
    "from sklearn.metrics import roc_curve\n",
    "\n",
    "y_proba_test = selector.predict_proba(X_test)\n",
    "y_proba_test_pos = [x[1] for x in y_proba_test]\n",
    "fpr, tpr, _ = roc_curve(y_test, y_proba_test_pos, pos_label=1)"
   ]
  },
  {
   "cell_type": "code",
   "execution_count": 60,
   "metadata": {
    "ExecuteTime": {
     "end_time": "2019-10-14T16:02:21.250714Z",
     "start_time": "2019-10-14T16:02:21.210692Z"
    }
   },
   "outputs": [],
   "source": [
    "roc_curve2 = pd.DataFrame(np.column_stack([tpr, fpr]),\n",
    "                          columns=['tpr', 'fpr'])"
   ]
  },
  {
   "cell_type": "code",
   "execution_count": 61,
   "metadata": {
    "ExecuteTime": {
     "end_time": "2019-10-14T16:02:21.561476Z",
     "start_time": "2019-10-14T16:02:21.252757Z"
    }
   },
   "outputs": [],
   "source": [
    "%%R -i roc_curve2\n",
    "\n",
    "gg = ggplot(roc_curve2, aes(fpr, tpr)) +\n",
    "        geom_line() +\n",
    "        geom_abline(slope=1, intercept=0, linetype='dashed', col='tomato2') +\n",
    "        labs(title='ROC Curve on Test Data with Case-control Sampling',\n",
    "             x='False Positive Rate',\n",
    "             y='True Positive Rate')\n",
    "\n",
    "png(file='./HW3_image/roc2.png', width=500, height=500)\n",
    "gg"
   ]
  },
  {
   "cell_type": "code",
   "execution_count": 62,
   "metadata": {
    "ExecuteTime": {
     "end_time": "2019-10-14T16:02:21.607430Z",
     "start_time": "2019-10-14T16:02:21.563160Z"
    }
   },
   "outputs": [
    {
     "data": {
      "image/png": "[encoded data removed]",
      "text/plain": [
       "<IPython.core.display.Image object>"
      ]
     },
     "execution_count": 62,
     "metadata": {},
     "output_type": "execute_result"
    }
   ],
   "source": [
    "Image('./HW3_image/roc2.png')"
   ]
  },
  {
   "cell_type": "code",
   "execution_count": 63,
   "metadata": {
    "ExecuteTime": {
     "end_time": "2019-10-14T16:02:21.652808Z",
     "start_time": "2019-10-14T16:02:21.609127Z"
    }
   },
   "outputs": [
    {
     "data": {
      "text/plain": [
       "1.0"
      ]
     },
     "execution_count": 63,
     "metadata": {},
     "output_type": "execute_result"
    }
   ],
   "source": [
    "# AUC on test set\n",
    "\n",
    "roc_auc_score(y_test, y_proba_test_pos)"
   ]
  },
  {
   "cell_type": "markdown",
   "metadata": {},
   "source": [
    "The AUC score is 1. \\\n",
    "Performing case-control sampling helps with test accuracy."
   ]
  },
  {
   "cell_type": "code",
   "execution_count": 64,
   "metadata": {
    "ExecuteTime": {
     "end_time": "2019-10-14T16:06:57.227194Z",
     "start_time": "2019-10-14T16:02:21.655821Z"
    },
    "scrolled": true
   },
   "outputs": [
    {
     "data": {
      "text/plain": [
       "LogisticRegressionCV(Cs=array([ 0.1       ,  0.10476158,  0.10974988,  0.1149757 ,  0.12045035,\n",
       "        0.12618569,  0.13219411,  0.13848864,  0.14508288,  0.15199111,\n",
       "        0.15922828,  0.16681005,  0.17475284,  0.18307383,  0.19179103,\n",
       "        0.2009233 ,  0.21049041,  0.22051307,  0.23101297,  0.24201283,\n",
       "        0.25353645,  0.26560878,  0.27825594,  0.29150531,  0.30538555,\n",
       "        0.31992671,  0.33516027,  0.35111917,  0.36783798,  0.3853528...\n",
       "        5.21400829,  5.46227722,  5.72236766,  5.9948425 ,  6.28029144,\n",
       "        6.57933225,  6.8926121 ,  7.22080902,  7.56463328,  7.92482898,\n",
       "        8.30217568,  8.69749003,  9.11162756,  9.54548457, 10.        ]),\n",
       "                     class_weight='balanced', cv=5, dual=False,\n",
       "                     fit_intercept=True, intercept_scaling=1.0, l1_ratios=None,\n",
       "                     max_iter=10000, multi_class='warn', n_jobs=-1,\n",
       "                     penalty='l1', random_state=None, refit=True, scoring=None,\n",
       "                     solver='saga', tol=0.0001, verbose=0)"
      ]
     },
     "execution_count": 64,
     "metadata": {},
     "output_type": "execute_result"
    },
    {
     "data": {
      "text/plain": [
       "LogisticRegressionCV(Cs=array([ 0.1       ,  0.10476158,  0.10974988,  0.1149757 ,  0.12045035,\n",
       "        0.12618569,  0.13219411,  0.13848864,  0.14508288,  0.15199111,\n",
       "        0.15922828,  0.16681005,  0.17475284,  0.18307383,  0.19179103,\n",
       "        0.2009233 ,  0.21049041,  0.22051307,  0.23101297,  0.24201283,\n",
       "        0.25353645,  0.26560878,  0.27825594,  0.29150531,  0.30538555,\n",
       "        0.31992671,  0.33516027,  0.35111917,  0.36783798,  0.3853528...\n",
       "        5.21400829,  5.46227722,  5.72236766,  5.9948425 ,  6.28029144,\n",
       "        6.57933225,  6.8926121 ,  7.22080902,  7.56463328,  7.92482898,\n",
       "        8.30217568,  8.69749003,  9.11162756,  9.54548457, 10.        ]),\n",
       "                     class_weight='balanced', cv=5, dual=False,\n",
       "                     fit_intercept=True, intercept_scaling=1.0, l1_ratios=None,\n",
       "                     max_iter=10000, multi_class='warn', n_jobs=-1,\n",
       "                     penalty='l1', random_state=None, refit=True, scoring=None,\n",
       "                     solver='saga', tol=0.0001, verbose=0)"
      ]
     },
     "execution_count": 64,
     "metadata": {},
     "output_type": "execute_result"
    },
    {
     "data": {
      "text/plain": [
       "LogisticRegressionCV(Cs=array([ 0.1       ,  0.10476158,  0.10974988,  0.1149757 ,  0.12045035,\n",
       "        0.12618569,  0.13219411,  0.13848864,  0.14508288,  0.15199111,\n",
       "        0.15922828,  0.16681005,  0.17475284,  0.18307383,  0.19179103,\n",
       "        0.2009233 ,  0.21049041,  0.22051307,  0.23101297,  0.24201283,\n",
       "        0.25353645,  0.26560878,  0.27825594,  0.29150531,  0.30538555,\n",
       "        0.31992671,  0.33516027,  0.35111917,  0.36783798,  0.3853528...\n",
       "        5.21400829,  5.46227722,  5.72236766,  5.9948425 ,  6.28029144,\n",
       "        6.57933225,  6.8926121 ,  7.22080902,  7.56463328,  7.92482898,\n",
       "        8.30217568,  8.69749003,  9.11162756,  9.54548457, 10.        ]),\n",
       "                     class_weight='balanced', cv=5, dual=False,\n",
       "                     fit_intercept=True, intercept_scaling=1.0, l1_ratios=None,\n",
       "                     max_iter=10000, multi_class='warn', n_jobs=-1,\n",
       "                     penalty='l1', random_state=None, refit=True, scoring=None,\n",
       "                     solver='saga', tol=0.0001, verbose=0)"
      ]
     },
     "execution_count": 64,
     "metadata": {},
     "output_type": "execute_result"
    },
    {
     "data": {
      "text/plain": [
       "LogisticRegressionCV(Cs=array([ 0.1       ,  0.10476158,  0.10974988,  0.1149757 ,  0.12045035,\n",
       "        0.12618569,  0.13219411,  0.13848864,  0.14508288,  0.15199111,\n",
       "        0.15922828,  0.16681005,  0.17475284,  0.18307383,  0.19179103,\n",
       "        0.2009233 ,  0.21049041,  0.22051307,  0.23101297,  0.24201283,\n",
       "        0.25353645,  0.26560878,  0.27825594,  0.29150531,  0.30538555,\n",
       "        0.31992671,  0.33516027,  0.35111917,  0.36783798,  0.3853528...\n",
       "        5.21400829,  5.46227722,  5.72236766,  5.9948425 ,  6.28029144,\n",
       "        6.57933225,  6.8926121 ,  7.22080902,  7.56463328,  7.92482898,\n",
       "        8.30217568,  8.69749003,  9.11162756,  9.54548457, 10.        ]),\n",
       "                     class_weight='balanced', cv=5, dual=False,\n",
       "                     fit_intercept=True, intercept_scaling=1.0, l1_ratios=None,\n",
       "                     max_iter=10000, multi_class='warn', n_jobs=-1,\n",
       "                     penalty='l1', random_state=None, refit=True, scoring=None,\n",
       "                     solver='saga', tol=0.0001, verbose=0)"
      ]
     },
     "execution_count": 64,
     "metadata": {},
     "output_type": "execute_result"
    },
    {
     "data": {
      "text/plain": [
       "LogisticRegressionCV(Cs=array([ 0.1       ,  0.10476158,  0.10974988,  0.1149757 ,  0.12045035,\n",
       "        0.12618569,  0.13219411,  0.13848864,  0.14508288,  0.15199111,\n",
       "        0.15922828,  0.16681005,  0.17475284,  0.18307383,  0.19179103,\n",
       "        0.2009233 ,  0.21049041,  0.22051307,  0.23101297,  0.24201283,\n",
       "        0.25353645,  0.26560878,  0.27825594,  0.29150531,  0.30538555,\n",
       "        0.31992671,  0.33516027,  0.35111917,  0.36783798,  0.3853528...\n",
       "        5.21400829,  5.46227722,  5.72236766,  5.9948425 ,  6.28029144,\n",
       "        6.57933225,  6.8926121 ,  7.22080902,  7.56463328,  7.92482898,\n",
       "        8.30217568,  8.69749003,  9.11162756,  9.54548457, 10.        ]),\n",
       "                     class_weight='balanced', cv=5, dual=False,\n",
       "                     fit_intercept=True, intercept_scaling=1.0, l1_ratios=None,\n",
       "                     max_iter=10000, multi_class='warn', n_jobs=-1,\n",
       "                     penalty='l1', random_state=None, refit=True, scoring=None,\n",
       "                     solver='saga', tol=0.0001, verbose=0)"
      ]
     },
     "execution_count": 64,
     "metadata": {},
     "output_type": "execute_result"
    },
    {
     "data": {
      "text/plain": [
       "LogisticRegressionCV(Cs=array([ 0.1       ,  0.10476158,  0.10974988,  0.1149757 ,  0.12045035,\n",
       "        0.12618569,  0.13219411,  0.13848864,  0.14508288,  0.15199111,\n",
       "        0.15922828,  0.16681005,  0.17475284,  0.18307383,  0.19179103,\n",
       "        0.2009233 ,  0.21049041,  0.22051307,  0.23101297,  0.24201283,\n",
       "        0.25353645,  0.26560878,  0.27825594,  0.29150531,  0.30538555,\n",
       "        0.31992671,  0.33516027,  0.35111917,  0.36783798,  0.3853528...\n",
       "        5.21400829,  5.46227722,  5.72236766,  5.9948425 ,  6.28029144,\n",
       "        6.57933225,  6.8926121 ,  7.22080902,  7.56463328,  7.92482898,\n",
       "        8.30217568,  8.69749003,  9.11162756,  9.54548457, 10.        ]),\n",
       "                     class_weight='balanced', cv=5, dual=False,\n",
       "                     fit_intercept=True, intercept_scaling=1.0, l1_ratios=None,\n",
       "                     max_iter=10000, multi_class='warn', n_jobs=-1,\n",
       "                     penalty='l1', random_state=None, refit=True, scoring=None,\n",
       "                     solver='saga', tol=0.0001, verbose=0)"
      ]
     },
     "execution_count": 64,
     "metadata": {},
     "output_type": "execute_result"
    },
    {
     "data": {
      "text/plain": [
       "LogisticRegressionCV(Cs=array([ 0.1       ,  0.10476158,  0.10974988,  0.1149757 ,  0.12045035,\n",
       "        0.12618569,  0.13219411,  0.13848864,  0.14508288,  0.15199111,\n",
       "        0.15922828,  0.16681005,  0.17475284,  0.18307383,  0.19179103,\n",
       "        0.2009233 ,  0.21049041,  0.22051307,  0.23101297,  0.24201283,\n",
       "        0.25353645,  0.26560878,  0.27825594,  0.29150531,  0.30538555,\n",
       "        0.31992671,  0.33516027,  0.35111917,  0.36783798,  0.3853528...\n",
       "        5.21400829,  5.46227722,  5.72236766,  5.9948425 ,  6.28029144,\n",
       "        6.57933225,  6.8926121 ,  7.22080902,  7.56463328,  7.92482898,\n",
       "        8.30217568,  8.69749003,  9.11162756,  9.54548457, 10.        ]),\n",
       "                     class_weight='balanced', cv=5, dual=False,\n",
       "                     fit_intercept=True, intercept_scaling=1.0, l1_ratios=None,\n",
       "                     max_iter=10000, multi_class='warn', n_jobs=-1,\n",
       "                     penalty='l1', random_state=None, refit=True, scoring=None,\n",
       "                     solver='saga', tol=0.0001, verbose=0)"
      ]
     },
     "execution_count": 64,
     "metadata": {},
     "output_type": "execute_result"
    },
    {
     "data": {
      "text/plain": [
       "LogisticRegressionCV(Cs=array([ 0.1       ,  0.10476158,  0.10974988,  0.1149757 ,  0.12045035,\n",
       "        0.12618569,  0.13219411,  0.13848864,  0.14508288,  0.15199111,\n",
       "        0.15922828,  0.16681005,  0.17475284,  0.18307383,  0.19179103,\n",
       "        0.2009233 ,  0.21049041,  0.22051307,  0.23101297,  0.24201283,\n",
       "        0.25353645,  0.26560878,  0.27825594,  0.29150531,  0.30538555,\n",
       "        0.31992671,  0.33516027,  0.35111917,  0.36783798,  0.3853528...\n",
       "        5.21400829,  5.46227722,  5.72236766,  5.9948425 ,  6.28029144,\n",
       "        6.57933225,  6.8926121 ,  7.22080902,  7.56463328,  7.92482898,\n",
       "        8.30217568,  8.69749003,  9.11162756,  9.54548457, 10.        ]),\n",
       "                     class_weight='balanced', cv=5, dual=False,\n",
       "                     fit_intercept=True, intercept_scaling=1.0, l1_ratios=None,\n",
       "                     max_iter=10000, multi_class='warn', n_jobs=-1,\n",
       "                     penalty='l1', random_state=None, refit=True, scoring=None,\n",
       "                     solver='saga', tol=0.0001, verbose=0)"
      ]
     },
     "execution_count": 64,
     "metadata": {},
     "output_type": "execute_result"
    },
    {
     "data": {
      "text/plain": [
       "LogisticRegressionCV(Cs=array([ 0.1       ,  0.10476158,  0.10974988,  0.1149757 ,  0.12045035,\n",
       "        0.12618569,  0.13219411,  0.13848864,  0.14508288,  0.15199111,\n",
       "        0.15922828,  0.16681005,  0.17475284,  0.18307383,  0.19179103,\n",
       "        0.2009233 ,  0.21049041,  0.22051307,  0.23101297,  0.24201283,\n",
       "        0.25353645,  0.26560878,  0.27825594,  0.29150531,  0.30538555,\n",
       "        0.31992671,  0.33516027,  0.35111917,  0.36783798,  0.3853528...\n",
       "        5.21400829,  5.46227722,  5.72236766,  5.9948425 ,  6.28029144,\n",
       "        6.57933225,  6.8926121 ,  7.22080902,  7.56463328,  7.92482898,\n",
       "        8.30217568,  8.69749003,  9.11162756,  9.54548457, 10.        ]),\n",
       "                     class_weight='balanced', cv=5, dual=False,\n",
       "                     fit_intercept=True, intercept_scaling=1.0, l1_ratios=None,\n",
       "                     max_iter=10000, multi_class='warn', n_jobs=-1,\n",
       "                     penalty='l1', random_state=None, refit=True, scoring=None,\n",
       "                     solver='saga', tol=0.0001, verbose=0)"
      ]
     },
     "execution_count": 64,
     "metadata": {},
     "output_type": "execute_result"
    },
    {
     "data": {
      "text/plain": [
       "LogisticRegressionCV(Cs=array([ 0.1       ,  0.10476158,  0.10974988,  0.1149757 ,  0.12045035,\n",
       "        0.12618569,  0.13219411,  0.13848864,  0.14508288,  0.15199111,\n",
       "        0.15922828,  0.16681005,  0.17475284,  0.18307383,  0.19179103,\n",
       "        0.2009233 ,  0.21049041,  0.22051307,  0.23101297,  0.24201283,\n",
       "        0.25353645,  0.26560878,  0.27825594,  0.29150531,  0.30538555,\n",
       "        0.31992671,  0.33516027,  0.35111917,  0.36783798,  0.3853528...\n",
       "        5.21400829,  5.46227722,  5.72236766,  5.9948425 ,  6.28029144,\n",
       "        6.57933225,  6.8926121 ,  7.22080902,  7.56463328,  7.92482898,\n",
       "        8.30217568,  8.69749003,  9.11162756,  9.54548457, 10.        ]),\n",
       "                     class_weight='balanced', cv=5, dual=False,\n",
       "                     fit_intercept=True, intercept_scaling=1.0, l1_ratios=None,\n",
       "                     max_iter=10000, multi_class='warn', n_jobs=-1,\n",
       "                     penalty='l1', random_state=None, refit=True, scoring=None,\n",
       "                     solver='saga', tol=0.0001, verbose=0)"
      ]
     },
     "execution_count": 64,
     "metadata": {},
     "output_type": "execute_result"
    },
    {
     "data": {
      "text/plain": [
       "LogisticRegressionCV(Cs=array([ 0.1       ,  0.10476158,  0.10974988,  0.1149757 ,  0.12045035,\n",
       "        0.12618569,  0.13219411,  0.13848864,  0.14508288,  0.15199111,\n",
       "        0.15922828,  0.16681005,  0.17475284,  0.18307383,  0.19179103,\n",
       "        0.2009233 ,  0.21049041,  0.22051307,  0.23101297,  0.24201283,\n",
       "        0.25353645,  0.26560878,  0.27825594,  0.29150531,  0.30538555,\n",
       "        0.31992671,  0.33516027,  0.35111917,  0.36783798,  0.3853528...\n",
       "        5.21400829,  5.46227722,  5.72236766,  5.9948425 ,  6.28029144,\n",
       "        6.57933225,  6.8926121 ,  7.22080902,  7.56463328,  7.92482898,\n",
       "        8.30217568,  8.69749003,  9.11162756,  9.54548457, 10.        ]),\n",
       "                     class_weight='balanced', cv=5, dual=False,\n",
       "                     fit_intercept=True, intercept_scaling=1.0, l1_ratios=None,\n",
       "                     max_iter=10000, multi_class='warn', n_jobs=-1,\n",
       "                     penalty='l1', random_state=None, refit=True, scoring=None,\n",
       "                     solver='saga', tol=0.0001, verbose=0)"
      ]
     },
     "execution_count": 64,
     "metadata": {},
     "output_type": "execute_result"
    },
    {
     "data": {
      "text/plain": [
       "LogisticRegressionCV(Cs=array([ 0.1       ,  0.10476158,  0.10974988,  0.1149757 ,  0.12045035,\n",
       "        0.12618569,  0.13219411,  0.13848864,  0.14508288,  0.15199111,\n",
       "        0.15922828,  0.16681005,  0.17475284,  0.18307383,  0.19179103,\n",
       "        0.2009233 ,  0.21049041,  0.22051307,  0.23101297,  0.24201283,\n",
       "        0.25353645,  0.26560878,  0.27825594,  0.29150531,  0.30538555,\n",
       "        0.31992671,  0.33516027,  0.35111917,  0.36783798,  0.3853528...\n",
       "        5.21400829,  5.46227722,  5.72236766,  5.9948425 ,  6.28029144,\n",
       "        6.57933225,  6.8926121 ,  7.22080902,  7.56463328,  7.92482898,\n",
       "        8.30217568,  8.69749003,  9.11162756,  9.54548457, 10.        ]),\n",
       "                     class_weight='balanced', cv=5, dual=False,\n",
       "                     fit_intercept=True, intercept_scaling=1.0, l1_ratios=None,\n",
       "                     max_iter=10000, multi_class='warn', n_jobs=-1,\n",
       "                     penalty='l1', random_state=None, refit=True, scoring=None,\n",
       "                     solver='saga', tol=0.0001, verbose=0)"
      ]
     },
     "execution_count": 64,
     "metadata": {},
     "output_type": "execute_result"
    },
    {
     "data": {
      "text/plain": [
       "LogisticRegressionCV(Cs=array([ 0.1       ,  0.10476158,  0.10974988,  0.1149757 ,  0.12045035,\n",
       "        0.12618569,  0.13219411,  0.13848864,  0.14508288,  0.15199111,\n",
       "        0.15922828,  0.16681005,  0.17475284,  0.18307383,  0.19179103,\n",
       "        0.2009233 ,  0.21049041,  0.22051307,  0.23101297,  0.24201283,\n",
       "        0.25353645,  0.26560878,  0.27825594,  0.29150531,  0.30538555,\n",
       "        0.31992671,  0.33516027,  0.35111917,  0.36783798,  0.3853528...\n",
       "        5.21400829,  5.46227722,  5.72236766,  5.9948425 ,  6.28029144,\n",
       "        6.57933225,  6.8926121 ,  7.22080902,  7.56463328,  7.92482898,\n",
       "        8.30217568,  8.69749003,  9.11162756,  9.54548457, 10.        ]),\n",
       "                     class_weight='balanced', cv=5, dual=False,\n",
       "                     fit_intercept=True, intercept_scaling=1.0, l1_ratios=None,\n",
       "                     max_iter=10000, multi_class='warn', n_jobs=-1,\n",
       "                     penalty='l1', random_state=None, refit=True, scoring=None,\n",
       "                     solver='saga', tol=0.0001, verbose=0)"
      ]
     },
     "execution_count": 64,
     "metadata": {},
     "output_type": "execute_result"
    },
    {
     "data": {
      "text/plain": [
       "LogisticRegressionCV(Cs=array([ 0.1       ,  0.10476158,  0.10974988,  0.1149757 ,  0.12045035,\n",
       "        0.12618569,  0.13219411,  0.13848864,  0.14508288,  0.15199111,\n",
       "        0.15922828,  0.16681005,  0.17475284,  0.18307383,  0.19179103,\n",
       "        0.2009233 ,  0.21049041,  0.22051307,  0.23101297,  0.24201283,\n",
       "        0.25353645,  0.26560878,  0.27825594,  0.29150531,  0.30538555,\n",
       "        0.31992671,  0.33516027,  0.35111917,  0.36783798,  0.3853528...\n",
       "        5.21400829,  5.46227722,  5.72236766,  5.9948425 ,  6.28029144,\n",
       "        6.57933225,  6.8926121 ,  7.22080902,  7.56463328,  7.92482898,\n",
       "        8.30217568,  8.69749003,  9.11162756,  9.54548457, 10.        ]),\n",
       "                     class_weight='balanced', cv=5, dual=False,\n",
       "                     fit_intercept=True, intercept_scaling=1.0, l1_ratios=None,\n",
       "                     max_iter=10000, multi_class='warn', n_jobs=-1,\n",
       "                     penalty='l1', random_state=None, refit=True, scoring=None,\n",
       "                     solver='saga', tol=0.0001, verbose=0)"
      ]
     },
     "execution_count": 64,
     "metadata": {},
     "output_type": "execute_result"
    },
    {
     "data": {
      "text/plain": [
       "LogisticRegressionCV(Cs=array([ 0.1       ,  0.10476158,  0.10974988,  0.1149757 ,  0.12045035,\n",
       "        0.12618569,  0.13219411,  0.13848864,  0.14508288,  0.15199111,\n",
       "        0.15922828,  0.16681005,  0.17475284,  0.18307383,  0.19179103,\n",
       "        0.2009233 ,  0.21049041,  0.22051307,  0.23101297,  0.24201283,\n",
       "        0.25353645,  0.26560878,  0.27825594,  0.29150531,  0.30538555,\n",
       "        0.31992671,  0.33516027,  0.35111917,  0.36783798,  0.3853528...\n",
       "        5.21400829,  5.46227722,  5.72236766,  5.9948425 ,  6.28029144,\n",
       "        6.57933225,  6.8926121 ,  7.22080902,  7.56463328,  7.92482898,\n",
       "        8.30217568,  8.69749003,  9.11162756,  9.54548457, 10.        ]),\n",
       "                     class_weight='balanced', cv=5, dual=False,\n",
       "                     fit_intercept=True, intercept_scaling=1.0, l1_ratios=None,\n",
       "                     max_iter=10000, multi_class='warn', n_jobs=-1,\n",
       "                     penalty='l1', random_state=None, refit=True, scoring=None,\n",
       "                     solver='saga', tol=0.0001, verbose=0)"
      ]
     },
     "execution_count": 64,
     "metadata": {},
     "output_type": "execute_result"
    },
    {
     "data": {
      "text/plain": [
       "LogisticRegressionCV(Cs=array([ 0.1       ,  0.10476158,  0.10974988,  0.1149757 ,  0.12045035,\n",
       "        0.12618569,  0.13219411,  0.13848864,  0.14508288,  0.15199111,\n",
       "        0.15922828,  0.16681005,  0.17475284,  0.18307383,  0.19179103,\n",
       "        0.2009233 ,  0.21049041,  0.22051307,  0.23101297,  0.24201283,\n",
       "        0.25353645,  0.26560878,  0.27825594,  0.29150531,  0.30538555,\n",
       "        0.31992671,  0.33516027,  0.35111917,  0.36783798,  0.3853528...\n",
       "        5.21400829,  5.46227722,  5.72236766,  5.9948425 ,  6.28029144,\n",
       "        6.57933225,  6.8926121 ,  7.22080902,  7.56463328,  7.92482898,\n",
       "        8.30217568,  8.69749003,  9.11162756,  9.54548457, 10.        ]),\n",
       "                     class_weight='balanced', cv=5, dual=False,\n",
       "                     fit_intercept=True, intercept_scaling=1.0, l1_ratios=None,\n",
       "                     max_iter=10000, multi_class='warn', n_jobs=-1,\n",
       "                     penalty='l1', random_state=None, refit=True, scoring=None,\n",
       "                     solver='saga', tol=0.0001, verbose=0)"
      ]
     },
     "execution_count": 64,
     "metadata": {},
     "output_type": "execute_result"
    },
    {
     "data": {
      "text/plain": [
       "LogisticRegressionCV(Cs=array([ 0.1       ,  0.10476158,  0.10974988,  0.1149757 ,  0.12045035,\n",
       "        0.12618569,  0.13219411,  0.13848864,  0.14508288,  0.15199111,\n",
       "        0.15922828,  0.16681005,  0.17475284,  0.18307383,  0.19179103,\n",
       "        0.2009233 ,  0.21049041,  0.22051307,  0.23101297,  0.24201283,\n",
       "        0.25353645,  0.26560878,  0.27825594,  0.29150531,  0.30538555,\n",
       "        0.31992671,  0.33516027,  0.35111917,  0.36783798,  0.3853528...\n",
       "        5.21400829,  5.46227722,  5.72236766,  5.9948425 ,  6.28029144,\n",
       "        6.57933225,  6.8926121 ,  7.22080902,  7.56463328,  7.92482898,\n",
       "        8.30217568,  8.69749003,  9.11162756,  9.54548457, 10.        ]),\n",
       "                     class_weight='balanced', cv=5, dual=False,\n",
       "                     fit_intercept=True, intercept_scaling=1.0, l1_ratios=None,\n",
       "                     max_iter=10000, multi_class='warn', n_jobs=-1,\n",
       "                     penalty='l1', random_state=None, refit=True, scoring=None,\n",
       "                     solver='saga', tol=0.0001, verbose=0)"
      ]
     },
     "execution_count": 64,
     "metadata": {},
     "output_type": "execute_result"
    },
    {
     "data": {
      "text/plain": [
       "LogisticRegressionCV(Cs=array([ 0.1       ,  0.10476158,  0.10974988,  0.1149757 ,  0.12045035,\n",
       "        0.12618569,  0.13219411,  0.13848864,  0.14508288,  0.15199111,\n",
       "        0.15922828,  0.16681005,  0.17475284,  0.18307383,  0.19179103,\n",
       "        0.2009233 ,  0.21049041,  0.22051307,  0.23101297,  0.24201283,\n",
       "        0.25353645,  0.26560878,  0.27825594,  0.29150531,  0.30538555,\n",
       "        0.31992671,  0.33516027,  0.35111917,  0.36783798,  0.3853528...\n",
       "        5.21400829,  5.46227722,  5.72236766,  5.9948425 ,  6.28029144,\n",
       "        6.57933225,  6.8926121 ,  7.22080902,  7.56463328,  7.92482898,\n",
       "        8.30217568,  8.69749003,  9.11162756,  9.54548457, 10.        ]),\n",
       "                     class_weight='balanced', cv=5, dual=False,\n",
       "                     fit_intercept=True, intercept_scaling=1.0, l1_ratios=None,\n",
       "                     max_iter=10000, multi_class='warn', n_jobs=-1,\n",
       "                     penalty='l1', random_state=None, refit=True, scoring=None,\n",
       "                     solver='saga', tol=0.0001, verbose=0)"
      ]
     },
     "execution_count": 64,
     "metadata": {},
     "output_type": "execute_result"
    },
    {
     "data": {
      "text/plain": [
       "LogisticRegressionCV(Cs=array([ 0.1       ,  0.10476158,  0.10974988,  0.1149757 ,  0.12045035,\n",
       "        0.12618569,  0.13219411,  0.13848864,  0.14508288,  0.15199111,\n",
       "        0.15922828,  0.16681005,  0.17475284,  0.18307383,  0.19179103,\n",
       "        0.2009233 ,  0.21049041,  0.22051307,  0.23101297,  0.24201283,\n",
       "        0.25353645,  0.26560878,  0.27825594,  0.29150531,  0.30538555,\n",
       "        0.31992671,  0.33516027,  0.35111917,  0.36783798,  0.3853528...\n",
       "        5.21400829,  5.46227722,  5.72236766,  5.9948425 ,  6.28029144,\n",
       "        6.57933225,  6.8926121 ,  7.22080902,  7.56463328,  7.92482898,\n",
       "        8.30217568,  8.69749003,  9.11162756,  9.54548457, 10.        ]),\n",
       "                     class_weight='balanced', cv=5, dual=False,\n",
       "                     fit_intercept=True, intercept_scaling=1.0, l1_ratios=None,\n",
       "                     max_iter=10000, multi_class='warn', n_jobs=-1,\n",
       "                     penalty='l1', random_state=None, refit=True, scoring=None,\n",
       "                     solver='saga', tol=0.0001, verbose=0)"
      ]
     },
     "execution_count": 64,
     "metadata": {},
     "output_type": "execute_result"
    },
    {
     "data": {
      "text/plain": [
       "LogisticRegressionCV(Cs=array([ 0.1       ,  0.10476158,  0.10974988,  0.1149757 ,  0.12045035,\n",
       "        0.12618569,  0.13219411,  0.13848864,  0.14508288,  0.15199111,\n",
       "        0.15922828,  0.16681005,  0.17475284,  0.18307383,  0.19179103,\n",
       "        0.2009233 ,  0.21049041,  0.22051307,  0.23101297,  0.24201283,\n",
       "        0.25353645,  0.26560878,  0.27825594,  0.29150531,  0.30538555,\n",
       "        0.31992671,  0.33516027,  0.35111917,  0.36783798,  0.3853528...\n",
       "        5.21400829,  5.46227722,  5.72236766,  5.9948425 ,  6.28029144,\n",
       "        6.57933225,  6.8926121 ,  7.22080902,  7.56463328,  7.92482898,\n",
       "        8.30217568,  8.69749003,  9.11162756,  9.54548457, 10.        ]),\n",
       "                     class_weight='balanced', cv=5, dual=False,\n",
       "                     fit_intercept=True, intercept_scaling=1.0, l1_ratios=None,\n",
       "                     max_iter=10000, multi_class='warn', n_jobs=-1,\n",
       "                     penalty='l1', random_state=None, refit=True, scoring=None,\n",
       "                     solver='saga', tol=0.0001, verbose=0)"
      ]
     },
     "execution_count": 64,
     "metadata": {},
     "output_type": "execute_result"
    }
   ],
   "source": [
    "# (e) i. L1-Penalized Logistic Regression\n",
    "from sklearn.linear_model import LogisticRegressionCV\n",
    "\n",
    "best_C = [] # Get the 20 Cs selected for l ranging from 1 to 20\n",
    "best_cv_score = [] # Get the 20 cv-scores corresponding to the best C selected for l ranging from 1 to 20\n",
    "for l in range(1,21):\n",
    "    X_train, y_train = get_sliced_time_series(l) # Get the sliced time series\n",
    "    logregcv = LogisticRegressionCV(Cs=np.logspace(-1, 1, 100), # 100 candidates for C instead of the default 10\n",
    "                                    cv=5,\n",
    "                                    penalty='l1', \n",
    "                                    solver='saga', # Compatible with L1 regularization\n",
    "                                    n_jobs=-1,\n",
    "                                    class_weight='balanced', # Deal with class inbalance\n",
    "                                    max_iter=10000)\n",
    "    logregcv.fit(X_train, y_train)\n",
    "    C_index = np.where(logregcv.Cs_ == logregcv.C_)[0][0]\n",
    "    best_C.append(logregcv.C_[0])\n",
    "    best_cv_score.append(np.mean(list(zip(*logregcv.scores_[1]))[C_index]))"
   ]
  },
  {
   "cell_type": "code",
   "execution_count": 65,
   "metadata": {
    "ExecuteTime": {
     "end_time": "2019-10-14T16:06:57.270659Z",
     "start_time": "2019-10-14T16:06:57.229171Z"
    }
   },
   "outputs": [
    {
     "data": {
      "text/plain": [
       "[0.9714285714285715,\n",
       " 0.9714285714285715,\n",
       " 0.9714285714285715,\n",
       " 0.9571428571428573,\n",
       " 0.9428571428571428,\n",
       " 0.9714285714285715,\n",
       " 0.9714285714285715,\n",
       " 0.9560439560439562,\n",
       " 0.9428571428571428,\n",
       " 0.9428571428571428,\n",
       " 0.9571428571428571,\n",
       " 0.9285714285714286,\n",
       " 0.9571428571428571,\n",
       " 0.9714285714285715,\n",
       " 0.9131868131868132,\n",
       " 0.9274725274725275,\n",
       " 0.9428571428571428,\n",
       " 0.9571428571428571,\n",
       " 0.9571428571428573,\n",
       " 0.9571428571428573]"
      ]
     },
     "execution_count": 65,
     "metadata": {},
     "output_type": "execute_result"
    },
    {
     "data": {
      "text/plain": [
       "[0.22051307399030456,\n",
       " 0.22051307399030456,\n",
       " 0.9770099572992254,\n",
       " 3.5938136638046276,\n",
       " 0.6734150657750824,\n",
       " 0.464158883361278,\n",
       " 0.40370172585965547,\n",
       " 0.464158883361278,\n",
       " 0.5094138014816381,\n",
       " 0.4862601580065355,\n",
       " 0.4229242874389499,\n",
       " 4.328761281083059,\n",
       " 0.6135907273413174,\n",
       " 0.22051307399030456,\n",
       " 0.5094138014816381,\n",
       " 0.38535285937105296,\n",
       " 0.33516026509388425,\n",
       " 0.35111917342151316,\n",
       " 0.2104904144512021,\n",
       " 0.2104904144512021]"
      ]
     },
     "execution_count": 65,
     "metadata": {},
     "output_type": "execute_result"
    }
   ],
   "source": [
    "best_cv_score # Seems like l = 1 is a good fit\n",
    "best_C # The corresponding C is 2.420128264794382"
   ]
  },
  {
   "cell_type": "markdown",
   "metadata": {},
   "source": [
    "The best (l, C) is found to be (1, 0.22051307399030456)"
   ]
  },
  {
   "cell_type": "code",
   "execution_count": 66,
   "metadata": {
    "ExecuteTime": {
     "end_time": "2019-10-14T16:06:58.771601Z",
     "start_time": "2019-10-14T16:06:57.272522Z"
    }
   },
   "outputs": [
    {
     "data": {
      "text/plain": [
       "LogisticRegression(C=0.22051307399030456, class_weight='balanced', dual=False,\n",
       "                   fit_intercept=True, intercept_scaling=1, l1_ratio=None,\n",
       "                   max_iter=10000, multi_class='warn', n_jobs=-1, penalty='l1',\n",
       "                   random_state=None, solver='saga', tol=0.0001, verbose=0,\n",
       "                   warm_start=False)"
      ]
     },
     "execution_count": 66,
     "metadata": {},
     "output_type": "execute_result"
    }
   ],
   "source": [
    "# (e) ii. comparison between two variable selection methods\n",
    "# refit the model using the best params\n",
    "\n",
    "X_train, y_train, X_test, y_test = get_sliced_time_series(1, train_only=False) \n",
    "logreg_l1 = LogisticRegression(C=0.22051307399030456, \n",
    "                               penalty='l1', \n",
    "                               solver='saga',\n",
    "                               class_weight='balanced',\n",
    "                               n_jobs=-1,\n",
    "                               max_iter=10000)\n",
    "logreg_l1.fit(X_train, y_train)"
   ]
  },
  {
   "cell_type": "code",
   "execution_count": 67,
   "metadata": {
    "ExecuteTime": {
     "end_time": "2019-10-14T16:06:58.822606Z",
     "start_time": "2019-10-14T16:06:58.773634Z"
    }
   },
   "outputs": [
    {
     "data": {
      "text/plain": [
       "1.0"
      ]
     },
     "execution_count": 67,
     "metadata": {},
     "output_type": "execute_result"
    },
    {
     "data": {
      "text/plain": [
       "(15, 0, 0, 4)"
      ]
     },
     "execution_count": 67,
     "metadata": {},
     "output_type": "execute_result"
    }
   ],
   "source": [
    "# Get accuracy score and confusion matrix\n",
    "\n",
    "logreg_l1.score(X_test, y_test)\n",
    "\n",
    "tn, fp, fn, tp = confusion_matrix(y_test, logreg_l1.predict(X_test)).ravel() # Flatten the matrix\n",
    "confusion_matrix_flatten = (tn, fp, fn, tp)\n",
    "confusion_matrix_flatten"
   ]
  },
  {
   "cell_type": "markdown",
   "metadata": {},
   "source": [
    "P-values have not been used to perform variable selection. However, we can very much **treat as if our backward selection used p-values as variables-in and variable-out criteria.**\n",
    "\n",
    "We have a perfect accuracy score in L1-regularized logistic regression, which is higher than 0.8947, the score obtained through variable selection using p-values. However, **a perfect score is achievable using case-control sampling as well.**\n",
    "\n",
    "In terms of implementation, the **regularized regression is easier**, the **computation is lighter** because regularized regression undergoes a fixed number of cv given the fixed parameter grid of lambdas (although convergence time increases substantially with increasing features too). In contrast, backward selection with lots of features becomes very time consuming."
   ]
  },
  {
   "cell_type": "code",
   "execution_count": 68,
   "metadata": {
    "ExecuteTime": {
     "end_time": "2019-10-14T18:53:03.088142Z",
     "start_time": "2019-10-14T16:06:58.834112Z"
    },
    "scrolled": true
   },
   "outputs": [
    {
     "data": {
      "text/plain": [
       "LogisticRegressionCV(Cs=array([ 0.1       ,  0.10476158,  0.10974988,  0.1149757 ,  0.12045035,\n",
       "        0.12618569,  0.13219411,  0.13848864,  0.14508288,  0.15199111,\n",
       "        0.15922828,  0.16681005,  0.17475284,  0.18307383,  0.19179103,\n",
       "        0.2009233 ,  0.21049041,  0.22051307,  0.23101297,  0.24201283,\n",
       "        0.25353645,  0.26560878,  0.27825594,  0.29150531,  0.30538555,\n",
       "        0.31992671,  0.33516027,  0.35111917,  0.36783798,  0.3853528...\n",
       "        5.21400829,  5.46227722,  5.72236766,  5.9948425 ,  6.28029144,\n",
       "        6.57933225,  6.8926121 ,  7.22080902,  7.56463328,  7.92482898,\n",
       "        8.30217568,  8.69749003,  9.11162756,  9.54548457, 10.        ]),\n",
       "                     class_weight=None, cv=5, dual=False, fit_intercept=True,\n",
       "                     intercept_scaling=1.0, l1_ratios=None, max_iter=10000,\n",
       "                     multi_class='auto', n_jobs=-1, penalty='l1',\n",
       "                     random_state=None, refit=True, scoring=None, solver='saga',\n",
       "                     tol=0.0001, verbose=0)"
      ]
     },
     "execution_count": 68,
     "metadata": {},
     "output_type": "execute_result"
    },
    {
     "data": {
      "text/plain": [
       "LogisticRegressionCV(Cs=array([ 0.1       ,  0.10476158,  0.10974988,  0.1149757 ,  0.12045035,\n",
       "        0.12618569,  0.13219411,  0.13848864,  0.14508288,  0.15199111,\n",
       "        0.15922828,  0.16681005,  0.17475284,  0.18307383,  0.19179103,\n",
       "        0.2009233 ,  0.21049041,  0.22051307,  0.23101297,  0.24201283,\n",
       "        0.25353645,  0.26560878,  0.27825594,  0.29150531,  0.30538555,\n",
       "        0.31992671,  0.33516027,  0.35111917,  0.36783798,  0.3853528...\n",
       "        5.21400829,  5.46227722,  5.72236766,  5.9948425 ,  6.28029144,\n",
       "        6.57933225,  6.8926121 ,  7.22080902,  7.56463328,  7.92482898,\n",
       "        8.30217568,  8.69749003,  9.11162756,  9.54548457, 10.        ]),\n",
       "                     class_weight=None, cv=5, dual=False, fit_intercept=True,\n",
       "                     intercept_scaling=1.0, l1_ratios=None, max_iter=10000,\n",
       "                     multi_class='auto', n_jobs=-1, penalty='l1',\n",
       "                     random_state=None, refit=True, scoring=None, solver='saga',\n",
       "                     tol=0.0001, verbose=0)"
      ]
     },
     "execution_count": 68,
     "metadata": {},
     "output_type": "execute_result"
    },
    {
     "data": {
      "text/plain": [
       "LogisticRegressionCV(Cs=array([ 0.1       ,  0.10476158,  0.10974988,  0.1149757 ,  0.12045035,\n",
       "        0.12618569,  0.13219411,  0.13848864,  0.14508288,  0.15199111,\n",
       "        0.15922828,  0.16681005,  0.17475284,  0.18307383,  0.19179103,\n",
       "        0.2009233 ,  0.21049041,  0.22051307,  0.23101297,  0.24201283,\n",
       "        0.25353645,  0.26560878,  0.27825594,  0.29150531,  0.30538555,\n",
       "        0.31992671,  0.33516027,  0.35111917,  0.36783798,  0.3853528...\n",
       "        5.21400829,  5.46227722,  5.72236766,  5.9948425 ,  6.28029144,\n",
       "        6.57933225,  6.8926121 ,  7.22080902,  7.56463328,  7.92482898,\n",
       "        8.30217568,  8.69749003,  9.11162756,  9.54548457, 10.        ]),\n",
       "                     class_weight=None, cv=5, dual=False, fit_intercept=True,\n",
       "                     intercept_scaling=1.0, l1_ratios=None, max_iter=10000,\n",
       "                     multi_class='auto', n_jobs=-1, penalty='l1',\n",
       "                     random_state=None, refit=True, scoring=None, solver='saga',\n",
       "                     tol=0.0001, verbose=0)"
      ]
     },
     "execution_count": 68,
     "metadata": {},
     "output_type": "execute_result"
    },
    {
     "data": {
      "text/plain": [
       "LogisticRegressionCV(Cs=array([ 0.1       ,  0.10476158,  0.10974988,  0.1149757 ,  0.12045035,\n",
       "        0.12618569,  0.13219411,  0.13848864,  0.14508288,  0.15199111,\n",
       "        0.15922828,  0.16681005,  0.17475284,  0.18307383,  0.19179103,\n",
       "        0.2009233 ,  0.21049041,  0.22051307,  0.23101297,  0.24201283,\n",
       "        0.25353645,  0.26560878,  0.27825594,  0.29150531,  0.30538555,\n",
       "        0.31992671,  0.33516027,  0.35111917,  0.36783798,  0.3853528...\n",
       "        5.21400829,  5.46227722,  5.72236766,  5.9948425 ,  6.28029144,\n",
       "        6.57933225,  6.8926121 ,  7.22080902,  7.56463328,  7.92482898,\n",
       "        8.30217568,  8.69749003,  9.11162756,  9.54548457, 10.        ]),\n",
       "                     class_weight=None, cv=5, dual=False, fit_intercept=True,\n",
       "                     intercept_scaling=1.0, l1_ratios=None, max_iter=10000,\n",
       "                     multi_class='auto', n_jobs=-1, penalty='l1',\n",
       "                     random_state=None, refit=True, scoring=None, solver='saga',\n",
       "                     tol=0.0001, verbose=0)"
      ]
     },
     "execution_count": 68,
     "metadata": {},
     "output_type": "execute_result"
    },
    {
     "data": {
      "text/plain": [
       "LogisticRegressionCV(Cs=array([ 0.1       ,  0.10476158,  0.10974988,  0.1149757 ,  0.12045035,\n",
       "        0.12618569,  0.13219411,  0.13848864,  0.14508288,  0.15199111,\n",
       "        0.15922828,  0.16681005,  0.17475284,  0.18307383,  0.19179103,\n",
       "        0.2009233 ,  0.21049041,  0.22051307,  0.23101297,  0.24201283,\n",
       "        0.25353645,  0.26560878,  0.27825594,  0.29150531,  0.30538555,\n",
       "        0.31992671,  0.33516027,  0.35111917,  0.36783798,  0.3853528...\n",
       "        5.21400829,  5.46227722,  5.72236766,  5.9948425 ,  6.28029144,\n",
       "        6.57933225,  6.8926121 ,  7.22080902,  7.56463328,  7.92482898,\n",
       "        8.30217568,  8.69749003,  9.11162756,  9.54548457, 10.        ]),\n",
       "                     class_weight=None, cv=5, dual=False, fit_intercept=True,\n",
       "                     intercept_scaling=1.0, l1_ratios=None, max_iter=10000,\n",
       "                     multi_class='auto', n_jobs=-1, penalty='l1',\n",
       "                     random_state=None, refit=True, scoring=None, solver='saga',\n",
       "                     tol=0.0001, verbose=0)"
      ]
     },
     "execution_count": 68,
     "metadata": {},
     "output_type": "execute_result"
    },
    {
     "data": {
      "text/plain": [
       "LogisticRegressionCV(Cs=array([ 0.1       ,  0.10476158,  0.10974988,  0.1149757 ,  0.12045035,\n",
       "        0.12618569,  0.13219411,  0.13848864,  0.14508288,  0.15199111,\n",
       "        0.15922828,  0.16681005,  0.17475284,  0.18307383,  0.19179103,\n",
       "        0.2009233 ,  0.21049041,  0.22051307,  0.23101297,  0.24201283,\n",
       "        0.25353645,  0.26560878,  0.27825594,  0.29150531,  0.30538555,\n",
       "        0.31992671,  0.33516027,  0.35111917,  0.36783798,  0.3853528...\n",
       "        5.21400829,  5.46227722,  5.72236766,  5.9948425 ,  6.28029144,\n",
       "        6.57933225,  6.8926121 ,  7.22080902,  7.56463328,  7.92482898,\n",
       "        8.30217568,  8.69749003,  9.11162756,  9.54548457, 10.        ]),\n",
       "                     class_weight=None, cv=5, dual=False, fit_intercept=True,\n",
       "                     intercept_scaling=1.0, l1_ratios=None, max_iter=10000,\n",
       "                     multi_class='auto', n_jobs=-1, penalty='l1',\n",
       "                     random_state=None, refit=True, scoring=None, solver='saga',\n",
       "                     tol=0.0001, verbose=0)"
      ]
     },
     "execution_count": 68,
     "metadata": {},
     "output_type": "execute_result"
    },
    {
     "data": {
      "text/plain": [
       "LogisticRegressionCV(Cs=array([ 0.1       ,  0.10476158,  0.10974988,  0.1149757 ,  0.12045035,\n",
       "        0.12618569,  0.13219411,  0.13848864,  0.14508288,  0.15199111,\n",
       "        0.15922828,  0.16681005,  0.17475284,  0.18307383,  0.19179103,\n",
       "        0.2009233 ,  0.21049041,  0.22051307,  0.23101297,  0.24201283,\n",
       "        0.25353645,  0.26560878,  0.27825594,  0.29150531,  0.30538555,\n",
       "        0.31992671,  0.33516027,  0.35111917,  0.36783798,  0.3853528...\n",
       "        5.21400829,  5.46227722,  5.72236766,  5.9948425 ,  6.28029144,\n",
       "        6.57933225,  6.8926121 ,  7.22080902,  7.56463328,  7.92482898,\n",
       "        8.30217568,  8.69749003,  9.11162756,  9.54548457, 10.        ]),\n",
       "                     class_weight=None, cv=5, dual=False, fit_intercept=True,\n",
       "                     intercept_scaling=1.0, l1_ratios=None, max_iter=10000,\n",
       "                     multi_class='auto', n_jobs=-1, penalty='l1',\n",
       "                     random_state=None, refit=True, scoring=None, solver='saga',\n",
       "                     tol=0.0001, verbose=0)"
      ]
     },
     "execution_count": 68,
     "metadata": {},
     "output_type": "execute_result"
    },
    {
     "data": {
      "text/plain": [
       "LogisticRegressionCV(Cs=array([ 0.1       ,  0.10476158,  0.10974988,  0.1149757 ,  0.12045035,\n",
       "        0.12618569,  0.13219411,  0.13848864,  0.14508288,  0.15199111,\n",
       "        0.15922828,  0.16681005,  0.17475284,  0.18307383,  0.19179103,\n",
       "        0.2009233 ,  0.21049041,  0.22051307,  0.23101297,  0.24201283,\n",
       "        0.25353645,  0.26560878,  0.27825594,  0.29150531,  0.30538555,\n",
       "        0.31992671,  0.33516027,  0.35111917,  0.36783798,  0.3853528...\n",
       "        5.21400829,  5.46227722,  5.72236766,  5.9948425 ,  6.28029144,\n",
       "        6.57933225,  6.8926121 ,  7.22080902,  7.56463328,  7.92482898,\n",
       "        8.30217568,  8.69749003,  9.11162756,  9.54548457, 10.        ]),\n",
       "                     class_weight=None, cv=5, dual=False, fit_intercept=True,\n",
       "                     intercept_scaling=1.0, l1_ratios=None, max_iter=10000,\n",
       "                     multi_class='auto', n_jobs=-1, penalty='l1',\n",
       "                     random_state=None, refit=True, scoring=None, solver='saga',\n",
       "                     tol=0.0001, verbose=0)"
      ]
     },
     "execution_count": 68,
     "metadata": {},
     "output_type": "execute_result"
    },
    {
     "data": {
      "text/plain": [
       "LogisticRegressionCV(Cs=array([ 0.1       ,  0.10476158,  0.10974988,  0.1149757 ,  0.12045035,\n",
       "        0.12618569,  0.13219411,  0.13848864,  0.14508288,  0.15199111,\n",
       "        0.15922828,  0.16681005,  0.17475284,  0.18307383,  0.19179103,\n",
       "        0.2009233 ,  0.21049041,  0.22051307,  0.23101297,  0.24201283,\n",
       "        0.25353645,  0.26560878,  0.27825594,  0.29150531,  0.30538555,\n",
       "        0.31992671,  0.33516027,  0.35111917,  0.36783798,  0.3853528...\n",
       "        5.21400829,  5.46227722,  5.72236766,  5.9948425 ,  6.28029144,\n",
       "        6.57933225,  6.8926121 ,  7.22080902,  7.56463328,  7.92482898,\n",
       "        8.30217568,  8.69749003,  9.11162756,  9.54548457, 10.        ]),\n",
       "                     class_weight=None, cv=5, dual=False, fit_intercept=True,\n",
       "                     intercept_scaling=1.0, l1_ratios=None, max_iter=10000,\n",
       "                     multi_class='auto', n_jobs=-1, penalty='l1',\n",
       "                     random_state=None, refit=True, scoring=None, solver='saga',\n",
       "                     tol=0.0001, verbose=0)"
      ]
     },
     "execution_count": 68,
     "metadata": {},
     "output_type": "execute_result"
    },
    {
     "data": {
      "text/plain": [
       "LogisticRegressionCV(Cs=array([ 0.1       ,  0.10476158,  0.10974988,  0.1149757 ,  0.12045035,\n",
       "        0.12618569,  0.13219411,  0.13848864,  0.14508288,  0.15199111,\n",
       "        0.15922828,  0.16681005,  0.17475284,  0.18307383,  0.19179103,\n",
       "        0.2009233 ,  0.21049041,  0.22051307,  0.23101297,  0.24201283,\n",
       "        0.25353645,  0.26560878,  0.27825594,  0.29150531,  0.30538555,\n",
       "        0.31992671,  0.33516027,  0.35111917,  0.36783798,  0.3853528...\n",
       "        5.21400829,  5.46227722,  5.72236766,  5.9948425 ,  6.28029144,\n",
       "        6.57933225,  6.8926121 ,  7.22080902,  7.56463328,  7.92482898,\n",
       "        8.30217568,  8.69749003,  9.11162756,  9.54548457, 10.        ]),\n",
       "                     class_weight=None, cv=5, dual=False, fit_intercept=True,\n",
       "                     intercept_scaling=1.0, l1_ratios=None, max_iter=10000,\n",
       "                     multi_class='auto', n_jobs=-1, penalty='l1',\n",
       "                     random_state=None, refit=True, scoring=None, solver='saga',\n",
       "                     tol=0.0001, verbose=0)"
      ]
     },
     "execution_count": 68,
     "metadata": {},
     "output_type": "execute_result"
    },
    {
     "data": {
      "text/plain": [
       "LogisticRegressionCV(Cs=array([ 0.1       ,  0.10476158,  0.10974988,  0.1149757 ,  0.12045035,\n",
       "        0.12618569,  0.13219411,  0.13848864,  0.14508288,  0.15199111,\n",
       "        0.15922828,  0.16681005,  0.17475284,  0.18307383,  0.19179103,\n",
       "        0.2009233 ,  0.21049041,  0.22051307,  0.23101297,  0.24201283,\n",
       "        0.25353645,  0.26560878,  0.27825594,  0.29150531,  0.30538555,\n",
       "        0.31992671,  0.33516027,  0.35111917,  0.36783798,  0.3853528...\n",
       "        5.21400829,  5.46227722,  5.72236766,  5.9948425 ,  6.28029144,\n",
       "        6.57933225,  6.8926121 ,  7.22080902,  7.56463328,  7.92482898,\n",
       "        8.30217568,  8.69749003,  9.11162756,  9.54548457, 10.        ]),\n",
       "                     class_weight=None, cv=5, dual=False, fit_intercept=True,\n",
       "                     intercept_scaling=1.0, l1_ratios=None, max_iter=10000,\n",
       "                     multi_class='auto', n_jobs=-1, penalty='l1',\n",
       "                     random_state=None, refit=True, scoring=None, solver='saga',\n",
       "                     tol=0.0001, verbose=0)"
      ]
     },
     "execution_count": 68,
     "metadata": {},
     "output_type": "execute_result"
    },
    {
     "data": {
      "text/plain": [
       "LogisticRegressionCV(Cs=array([ 0.1       ,  0.10476158,  0.10974988,  0.1149757 ,  0.12045035,\n",
       "        0.12618569,  0.13219411,  0.13848864,  0.14508288,  0.15199111,\n",
       "        0.15922828,  0.16681005,  0.17475284,  0.18307383,  0.19179103,\n",
       "        0.2009233 ,  0.21049041,  0.22051307,  0.23101297,  0.24201283,\n",
       "        0.25353645,  0.26560878,  0.27825594,  0.29150531,  0.30538555,\n",
       "        0.31992671,  0.33516027,  0.35111917,  0.36783798,  0.3853528...\n",
       "        5.21400829,  5.46227722,  5.72236766,  5.9948425 ,  6.28029144,\n",
       "        6.57933225,  6.8926121 ,  7.22080902,  7.56463328,  7.92482898,\n",
       "        8.30217568,  8.69749003,  9.11162756,  9.54548457, 10.        ]),\n",
       "                     class_weight=None, cv=5, dual=False, fit_intercept=True,\n",
       "                     intercept_scaling=1.0, l1_ratios=None, max_iter=10000,\n",
       "                     multi_class='auto', n_jobs=-1, penalty='l1',\n",
       "                     random_state=None, refit=True, scoring=None, solver='saga',\n",
       "                     tol=0.0001, verbose=0)"
      ]
     },
     "execution_count": 68,
     "metadata": {},
     "output_type": "execute_result"
    },
    {
     "data": {
      "text/plain": [
       "LogisticRegressionCV(Cs=array([ 0.1       ,  0.10476158,  0.10974988,  0.1149757 ,  0.12045035,\n",
       "        0.12618569,  0.13219411,  0.13848864,  0.14508288,  0.15199111,\n",
       "        0.15922828,  0.16681005,  0.17475284,  0.18307383,  0.19179103,\n",
       "        0.2009233 ,  0.21049041,  0.22051307,  0.23101297,  0.24201283,\n",
       "        0.25353645,  0.26560878,  0.27825594,  0.29150531,  0.30538555,\n",
       "        0.31992671,  0.33516027,  0.35111917,  0.36783798,  0.3853528...\n",
       "        5.21400829,  5.46227722,  5.72236766,  5.9948425 ,  6.28029144,\n",
       "        6.57933225,  6.8926121 ,  7.22080902,  7.56463328,  7.92482898,\n",
       "        8.30217568,  8.69749003,  9.11162756,  9.54548457, 10.        ]),\n",
       "                     class_weight=None, cv=5, dual=False, fit_intercept=True,\n",
       "                     intercept_scaling=1.0, l1_ratios=None, max_iter=10000,\n",
       "                     multi_class='auto', n_jobs=-1, penalty='l1',\n",
       "                     random_state=None, refit=True, scoring=None, solver='saga',\n",
       "                     tol=0.0001, verbose=0)"
      ]
     },
     "execution_count": 68,
     "metadata": {},
     "output_type": "execute_result"
    },
    {
     "data": {
      "text/plain": [
       "LogisticRegressionCV(Cs=array([ 0.1       ,  0.10476158,  0.10974988,  0.1149757 ,  0.12045035,\n",
       "        0.12618569,  0.13219411,  0.13848864,  0.14508288,  0.15199111,\n",
       "        0.15922828,  0.16681005,  0.17475284,  0.18307383,  0.19179103,\n",
       "        0.2009233 ,  0.21049041,  0.22051307,  0.23101297,  0.24201283,\n",
       "        0.25353645,  0.26560878,  0.27825594,  0.29150531,  0.30538555,\n",
       "        0.31992671,  0.33516027,  0.35111917,  0.36783798,  0.3853528...\n",
       "        5.21400829,  5.46227722,  5.72236766,  5.9948425 ,  6.28029144,\n",
       "        6.57933225,  6.8926121 ,  7.22080902,  7.56463328,  7.92482898,\n",
       "        8.30217568,  8.69749003,  9.11162756,  9.54548457, 10.        ]),\n",
       "                     class_weight=None, cv=5, dual=False, fit_intercept=True,\n",
       "                     intercept_scaling=1.0, l1_ratios=None, max_iter=10000,\n",
       "                     multi_class='auto', n_jobs=-1, penalty='l1',\n",
       "                     random_state=None, refit=True, scoring=None, solver='saga',\n",
       "                     tol=0.0001, verbose=0)"
      ]
     },
     "execution_count": 68,
     "metadata": {},
     "output_type": "execute_result"
    },
    {
     "data": {
      "text/plain": [
       "LogisticRegressionCV(Cs=array([ 0.1       ,  0.10476158,  0.10974988,  0.1149757 ,  0.12045035,\n",
       "        0.12618569,  0.13219411,  0.13848864,  0.14508288,  0.15199111,\n",
       "        0.15922828,  0.16681005,  0.17475284,  0.18307383,  0.19179103,\n",
       "        0.2009233 ,  0.21049041,  0.22051307,  0.23101297,  0.24201283,\n",
       "        0.25353645,  0.26560878,  0.27825594,  0.29150531,  0.30538555,\n",
       "        0.31992671,  0.33516027,  0.35111917,  0.36783798,  0.3853528...\n",
       "        5.21400829,  5.46227722,  5.72236766,  5.9948425 ,  6.28029144,\n",
       "        6.57933225,  6.8926121 ,  7.22080902,  7.56463328,  7.92482898,\n",
       "        8.30217568,  8.69749003,  9.11162756,  9.54548457, 10.        ]),\n",
       "                     class_weight=None, cv=5, dual=False, fit_intercept=True,\n",
       "                     intercept_scaling=1.0, l1_ratios=None, max_iter=10000,\n",
       "                     multi_class='auto', n_jobs=-1, penalty='l1',\n",
       "                     random_state=None, refit=True, scoring=None, solver='saga',\n",
       "                     tol=0.0001, verbose=0)"
      ]
     },
     "execution_count": 68,
     "metadata": {},
     "output_type": "execute_result"
    },
    {
     "data": {
      "text/plain": [
       "LogisticRegressionCV(Cs=array([ 0.1       ,  0.10476158,  0.10974988,  0.1149757 ,  0.12045035,\n",
       "        0.12618569,  0.13219411,  0.13848864,  0.14508288,  0.15199111,\n",
       "        0.15922828,  0.16681005,  0.17475284,  0.18307383,  0.19179103,\n",
       "        0.2009233 ,  0.21049041,  0.22051307,  0.23101297,  0.24201283,\n",
       "        0.25353645,  0.26560878,  0.27825594,  0.29150531,  0.30538555,\n",
       "        0.31992671,  0.33516027,  0.35111917,  0.36783798,  0.3853528...\n",
       "        5.21400829,  5.46227722,  5.72236766,  5.9948425 ,  6.28029144,\n",
       "        6.57933225,  6.8926121 ,  7.22080902,  7.56463328,  7.92482898,\n",
       "        8.30217568,  8.69749003,  9.11162756,  9.54548457, 10.        ]),\n",
       "                     class_weight=None, cv=5, dual=False, fit_intercept=True,\n",
       "                     intercept_scaling=1.0, l1_ratios=None, max_iter=10000,\n",
       "                     multi_class='auto', n_jobs=-1, penalty='l1',\n",
       "                     random_state=None, refit=True, scoring=None, solver='saga',\n",
       "                     tol=0.0001, verbose=0)"
      ]
     },
     "execution_count": 68,
     "metadata": {},
     "output_type": "execute_result"
    },
    {
     "data": {
      "text/plain": [
       "LogisticRegressionCV(Cs=array([ 0.1       ,  0.10476158,  0.10974988,  0.1149757 ,  0.12045035,\n",
       "        0.12618569,  0.13219411,  0.13848864,  0.14508288,  0.15199111,\n",
       "        0.15922828,  0.16681005,  0.17475284,  0.18307383,  0.19179103,\n",
       "        0.2009233 ,  0.21049041,  0.22051307,  0.23101297,  0.24201283,\n",
       "        0.25353645,  0.26560878,  0.27825594,  0.29150531,  0.30538555,\n",
       "        0.31992671,  0.33516027,  0.35111917,  0.36783798,  0.3853528...\n",
       "        5.21400829,  5.46227722,  5.72236766,  5.9948425 ,  6.28029144,\n",
       "        6.57933225,  6.8926121 ,  7.22080902,  7.56463328,  7.92482898,\n",
       "        8.30217568,  8.69749003,  9.11162756,  9.54548457, 10.        ]),\n",
       "                     class_weight=None, cv=5, dual=False, fit_intercept=True,\n",
       "                     intercept_scaling=1.0, l1_ratios=None, max_iter=10000,\n",
       "                     multi_class='auto', n_jobs=-1, penalty='l1',\n",
       "                     random_state=None, refit=True, scoring=None, solver='saga',\n",
       "                     tol=0.0001, verbose=0)"
      ]
     },
     "execution_count": 68,
     "metadata": {},
     "output_type": "execute_result"
    },
    {
     "data": {
      "text/plain": [
       "LogisticRegressionCV(Cs=array([ 0.1       ,  0.10476158,  0.10974988,  0.1149757 ,  0.12045035,\n",
       "        0.12618569,  0.13219411,  0.13848864,  0.14508288,  0.15199111,\n",
       "        0.15922828,  0.16681005,  0.17475284,  0.18307383,  0.19179103,\n",
       "        0.2009233 ,  0.21049041,  0.22051307,  0.23101297,  0.24201283,\n",
       "        0.25353645,  0.26560878,  0.27825594,  0.29150531,  0.30538555,\n",
       "        0.31992671,  0.33516027,  0.35111917,  0.36783798,  0.3853528...\n",
       "        5.21400829,  5.46227722,  5.72236766,  5.9948425 ,  6.28029144,\n",
       "        6.57933225,  6.8926121 ,  7.22080902,  7.56463328,  7.92482898,\n",
       "        8.30217568,  8.69749003,  9.11162756,  9.54548457, 10.        ]),\n",
       "                     class_weight=None, cv=5, dual=False, fit_intercept=True,\n",
       "                     intercept_scaling=1.0, l1_ratios=None, max_iter=10000,\n",
       "                     multi_class='auto', n_jobs=-1, penalty='l1',\n",
       "                     random_state=None, refit=True, scoring=None, solver='saga',\n",
       "                     tol=0.0001, verbose=0)"
      ]
     },
     "execution_count": 68,
     "metadata": {},
     "output_type": "execute_result"
    },
    {
     "data": {
      "text/plain": [
       "LogisticRegressionCV(Cs=array([ 0.1       ,  0.10476158,  0.10974988,  0.1149757 ,  0.12045035,\n",
       "        0.12618569,  0.13219411,  0.13848864,  0.14508288,  0.15199111,\n",
       "        0.15922828,  0.16681005,  0.17475284,  0.18307383,  0.19179103,\n",
       "        0.2009233 ,  0.21049041,  0.22051307,  0.23101297,  0.24201283,\n",
       "        0.25353645,  0.26560878,  0.27825594,  0.29150531,  0.30538555,\n",
       "        0.31992671,  0.33516027,  0.35111917,  0.36783798,  0.3853528...\n",
       "        5.21400829,  5.46227722,  5.72236766,  5.9948425 ,  6.28029144,\n",
       "        6.57933225,  6.8926121 ,  7.22080902,  7.56463328,  7.92482898,\n",
       "        8.30217568,  8.69749003,  9.11162756,  9.54548457, 10.        ]),\n",
       "                     class_weight=None, cv=5, dual=False, fit_intercept=True,\n",
       "                     intercept_scaling=1.0, l1_ratios=None, max_iter=10000,\n",
       "                     multi_class='auto', n_jobs=-1, penalty='l1',\n",
       "                     random_state=None, refit=True, scoring=None, solver='saga',\n",
       "                     tol=0.0001, verbose=0)"
      ]
     },
     "execution_count": 68,
     "metadata": {},
     "output_type": "execute_result"
    },
    {
     "data": {
      "text/plain": [
       "LogisticRegressionCV(Cs=array([ 0.1       ,  0.10476158,  0.10974988,  0.1149757 ,  0.12045035,\n",
       "        0.12618569,  0.13219411,  0.13848864,  0.14508288,  0.15199111,\n",
       "        0.15922828,  0.16681005,  0.17475284,  0.18307383,  0.19179103,\n",
       "        0.2009233 ,  0.21049041,  0.22051307,  0.23101297,  0.24201283,\n",
       "        0.25353645,  0.26560878,  0.27825594,  0.29150531,  0.30538555,\n",
       "        0.31992671,  0.33516027,  0.35111917,  0.36783798,  0.3853528...\n",
       "        5.21400829,  5.46227722,  5.72236766,  5.9948425 ,  6.28029144,\n",
       "        6.57933225,  6.8926121 ,  7.22080902,  7.56463328,  7.92482898,\n",
       "        8.30217568,  8.69749003,  9.11162756,  9.54548457, 10.        ]),\n",
       "                     class_weight=None, cv=5, dual=False, fit_intercept=True,\n",
       "                     intercept_scaling=1.0, l1_ratios=None, max_iter=10000,\n",
       "                     multi_class='auto', n_jobs=-1, penalty='l1',\n",
       "                     random_state=None, refit=True, scoring=None, solver='saga',\n",
       "                     tol=0.0001, verbose=0)"
      ]
     },
     "execution_count": 68,
     "metadata": {},
     "output_type": "execute_result"
    }
   ],
   "source": [
    "# (f) i. Multiclass classification\n",
    "\n",
    "best_C = []\n",
    "best_cv_score = []\n",
    "for l in range(1, 21):\n",
    "    X_train, y_train = get_sliced_time_series(l, binary=False)\n",
    "    logregcv_mc = LogisticRegressionCV(Cs=np.logspace(-1, 1, 100), \n",
    "                                       cv=5,\n",
    "                                       penalty='l1', \n",
    "                                       solver='saga', \n",
    "                                       multi_class='auto', # Multiclass classification\n",
    "                                       n_jobs=-1,\n",
    "                                       max_iter=10000)\n",
    "    logregcv_mc.fit(X_train, y_train)\n",
    "    C_index = np.where(logregcv_mc.Cs_ == logregcv_mc.C_[0])[0][0]\n",
    "    best_C.append(logregcv_mc.C_[0])\n",
    "    best_cv_score.append(np.mean(list(zip(*logregcv_mc.scores_[1]))[C_index]))"
   ]
  },
  {
   "cell_type": "code",
   "execution_count": 69,
   "metadata": {
    "ExecuteTime": {
     "end_time": "2019-10-14T18:53:03.234451Z",
     "start_time": "2019-10-14T18:53:03.103539Z"
    }
   },
   "outputs": [
    {
     "data": {
      "text/plain": [
       "[0.9098039215686274,\n",
       " 0.9264705882352942,\n",
       " 0.8749554367201424,\n",
       " 0.8196078431372549,\n",
       " 0.8499108734402853,\n",
       " 0.8680926916221035,\n",
       " 0.8396613190730837,\n",
       " 0.7994652406417113,\n",
       " 0.8278966131907307,\n",
       " 0.8014260249554367,\n",
       " 0.7832442067736185,\n",
       " 0.7999108734402853,\n",
       " 0.7763814616755794,\n",
       " 0.7896613190730839,\n",
       " 0.7601604278074866,\n",
       " 0.7945632798573976,\n",
       " 0.7960784313725491,\n",
       " 0.8196078431372549,\n",
       " 0.7960784313725491,\n",
       " 0.8063279857397504]"
      ]
     },
     "execution_count": 69,
     "metadata": {},
     "output_type": "execute_result"
    },
    {
     "data": {
      "text/plain": [
       "[6.892612104349698,\n",
       " 9.111627561154895,\n",
       " 0.6135907273413174,\n",
       " 1.4174741629268055,\n",
       " 5.462277217684343,\n",
       " 0.8902150854450388,\n",
       " 6.5793322465756825,\n",
       " 3.764935806792469,\n",
       " 3.5938136638046276,\n",
       " 0.6428073117284322,\n",
       " 1.4174741629268055,\n",
       " 6.892612104349698,\n",
       " 5.462277217684343,\n",
       " 1.484968262254465,\n",
       " 0.9770099572992254,\n",
       " 2.1544346900318843,\n",
       " 0.8497534359086445,\n",
       " 1.2328467394420666,\n",
       " 0.7054802310718644,\n",
       " 5.214008287999687]"
      ]
     },
     "execution_count": 69,
     "metadata": {},
     "output_type": "execute_result"
    }
   ],
   "source": [
    "best_cv_score # Seems like l = 2 is a good fit\n",
    "best_C # The corresponding C is 9.111627561154895"
   ]
  },
  {
   "cell_type": "code",
   "execution_count": 70,
   "metadata": {
    "ExecuteTime": {
     "end_time": "2019-10-14T18:53:13.766789Z",
     "start_time": "2019-10-14T18:53:03.240070Z"
    }
   },
   "outputs": [
    {
     "data": {
      "text/plain": [
       "LogisticRegression(C=9.111627561154895, class_weight=None, dual=False,\n",
       "                   fit_intercept=True, intercept_scaling=1, l1_ratio=None,\n",
       "                   max_iter=10000, multi_class='auto', n_jobs=-1, penalty='l1',\n",
       "                   random_state=None, solver='saga', tol=0.0001, verbose=0,\n",
       "                   warm_start=False)"
      ]
     },
     "execution_count": 70,
     "metadata": {},
     "output_type": "execute_result"
    }
   ],
   "source": [
    "# refit using the best params\n",
    "\n",
    "X_train, y_train, X_test, y_test = get_sliced_time_series(2, train_only=False, binary=False) \n",
    "logregmc_l1 = LogisticRegression(C=9.111627561154895, \n",
    "                                 penalty='l1', \n",
    "                                 solver='saga', \n",
    "                                 multi_class='auto',\n",
    "                                 n_jobs=-1,\n",
    "                                 max_iter=10000)\n",
    "logregmc_l1.fit(X_train, y_train)"
   ]
  },
  {
   "cell_type": "code",
   "execution_count": 71,
   "metadata": {
    "ExecuteTime": {
     "end_time": "2019-10-14T18:53:13.908702Z",
     "start_time": "2019-10-14T18:53:13.771908Z"
    }
   },
   "outputs": [
    {
     "data": {
      "text/plain": [
       "0.7368421052631579"
      ]
     },
     "execution_count": 71,
     "metadata": {},
     "output_type": "execute_result"
    },
    {
     "data": {
      "text/plain": [
       "0.26315789473684215"
      ]
     },
     "execution_count": 71,
     "metadata": {},
     "output_type": "execute_result"
    }
   ],
   "source": [
    "# Get the accuracy score and the corresponding test error\n",
    "\n",
    "logregmc_l1.score(X_test, y_test)\n",
    "1 - logregmc_l1.score(X_test, y_test)"
   ]
  },
  {
   "cell_type": "markdown",
   "metadata": {},
   "source": [
    "The accuracy score is 0.737 and the test error is 0.263"
   ]
  },
  {
   "cell_type": "code",
   "execution_count": 72,
   "metadata": {
    "ExecuteTime": {
     "end_time": "2019-10-14T18:53:14.035649Z",
     "start_time": "2019-10-14T18:53:13.914566Z"
    }
   },
   "outputs": [
    {
     "data": {
      "text/plain": [
       "array([[3, 0, 0, 1, 0, 0],\n",
       "       [0, 3, 0, 0, 0, 0],\n",
       "       [0, 0, 3, 0, 0, 0],\n",
       "       [1, 0, 0, 0, 2, 0],\n",
       "       [0, 0, 0, 1, 2, 0],\n",
       "       [0, 0, 0, 0, 0, 3]])"
      ]
     },
     "execution_count": 72,
     "metadata": {},
     "output_type": "execute_result"
    }
   ],
   "source": [
    "# Get the confusion matrix\n",
    "\n",
    "y_pred = logregmc_l1.predict(X_test)\n",
    "confusion_matrix(y_test, y_pred)"
   ]
  },
  {
   "cell_type": "code",
   "execution_count": 73,
   "metadata": {
    "ExecuteTime": {
     "end_time": "2019-10-14T18:53:14.155972Z",
     "start_time": "2019-10-14T18:53:14.041862Z"
    }
   },
   "outputs": [],
   "source": [
    "y_test_r = y_test.values"
   ]
  },
  {
   "cell_type": "markdown",
   "metadata": {},
   "source": [
    "The **diagonal entries represent correct predictions**, while the off-diagonal ones represent otherwise.\n",
    "\n",
    "In the above example, we can see that none of the three class 3 samples (lying) is correctly classified. One of them is classified as class 0 (bending), while the remaining two are classified as class 4 (sitting)."
   ]
  },
  {
   "cell_type": "code",
   "execution_count": 74,
   "metadata": {
    "ExecuteTime": {
     "end_time": "2019-10-14T18:53:14.348773Z",
     "start_time": "2019-10-14T18:53:14.161768Z"
    }
   },
   "outputs": [
    {
     "data": {
      "text/plain": [
       "\n",
       "Call:\n",
       "multiclass.roc.default(response = y_test_r, predictor = y_pred)\n",
       "\n",
       "Data: y_pred with 6 levels of y_test_r: 0, 1, 2, 3, 4, 5.\n",
       "Multi-class area under the curve: 0.8759\n"
      ]
     },
     "metadata": {},
     "output_type": "display_data"
    }
   ],
   "source": [
    "%%R -i y_pred,y_test_r\n",
    "\n",
    "# Get the multiclass AUC\n",
    "multiclass.roc(y_test_r, y_pred)"
   ]
  },
  {
   "cell_type": "markdown",
   "metadata": {},
   "source": [
    "**A multiclass AUC is a mean of several AUC**, which is obtained through a **one-vs-rest** approach through binarization of our target variable (analogous to bending-vs-non_bending).\n",
    "\n",
    "We obtain a multi-class AUC of 0.8759, not bad."
   ]
  },
  {
   "cell_type": "code",
   "execution_count": 75,
   "metadata": {
    "ExecuteTime": {
     "end_time": "2019-10-14T19:16:42.815332Z",
     "start_time": "2019-10-14T18:53:14.354439Z"
    }
   },
   "outputs": [],
   "source": [
    "# (f) ii. Gaussian Naive Bayes\n",
    "from sklearn.naive_bayes import GaussianNB, MultinomialNB\n",
    "from sklearn.model_selection import cross_val_score\n",
    "\n",
    "score = []\n",
    "for l in range(1, 21):\n",
    "    X_train, y_train = get_sliced_time_series(l, binary=False)\n",
    "    gnb = GaussianNB()\n",
    "    score.append(cross_val_score(gnb, X_train, y_train, cv=5, n_jobs=-1)) # Get 5-fold cross-validation score"
   ]
  },
  {
   "cell_type": "code",
   "execution_count": 76,
   "metadata": {
    "ExecuteTime": {
     "end_time": "2019-10-14T19:16:42.956732Z",
     "start_time": "2019-10-14T19:16:42.821383Z"
    }
   },
   "outputs": [
    {
     "data": {
      "text/plain": [
       "[0.8680926916221035,\n",
       " 0.8278966131907308,\n",
       " 0.7710338680926916,\n",
       " 0.739572192513369,\n",
       " 0.7793226381461675,\n",
       " 0.7190730837789662,\n",
       " 0.7710338680926916,\n",
       " 0.781283422459893,\n",
       " 0.6993761140819965,\n",
       " 0.6993761140819965,\n",
       " 0.7528520499108734,\n",
       " 0.624331550802139,\n",
       " 0.7062388591800357,\n",
       " 0.6072192513368984,\n",
       " 0.5689839572192513,\n",
       " 0.6228163992869875,\n",
       " 0.6130124777183601,\n",
       " 0.5375222816399287,\n",
       " 0.5929590017825312,\n",
       " 0.5758467023172905]"
      ]
     },
     "execution_count": 76,
     "metadata": {},
     "output_type": "execute_result"
    }
   ],
   "source": [
    "list(map(np.mean, score)) # Seems like l = 1 is the best"
   ]
  },
  {
   "cell_type": "markdown",
   "metadata": {},
   "source": [
    "The best *l* is found to be 1."
   ]
  },
  {
   "cell_type": "code",
   "execution_count": 77,
   "metadata": {
    "ExecuteTime": {
     "end_time": "2019-10-14T19:16:48.327442Z",
     "start_time": "2019-10-14T19:16:42.963273Z"
    }
   },
   "outputs": [
    {
     "data": {
      "text/plain": [
       "GaussianNB(priors=None, var_smoothing=1e-09)"
      ]
     },
     "execution_count": 77,
     "metadata": {},
     "output_type": "execute_result"
    },
    {
     "data": {
      "text/plain": [
       "0.8947368421052632"
      ]
     },
     "execution_count": 77,
     "metadata": {},
     "output_type": "execute_result"
    }
   ],
   "source": [
    "# Refit GNB\n",
    "\n",
    "X_train, y_train, X_test, y_test = get_sliced_time_series(1, binary=False, train_only=False)\n",
    "gnb = GaussianNB()\n",
    "gnb.fit(X_train, y_train)\n",
    "gnb.score(X_test, y_test)"
   ]
  },
  {
   "cell_type": "markdown",
   "metadata": {},
   "source": [
    "GNB produces a test accuracy score of 0.8947"
   ]
  },
  {
   "cell_type": "code",
   "execution_count": 78,
   "metadata": {
    "ExecuteTime": {
     "end_time": "2019-10-14T19:25:10.388270Z",
     "start_time": "2019-10-14T19:16:48.333079Z"
    }
   },
   "outputs": [
    {
     "data": {
      "text/plain": [
       "GridSearchCV(cv=5, error_score='raise-deprecating',\n",
       "             estimator=MultinomialNB(alpha=1.0, class_prior=None,\n",
       "                                     fit_prior=True),\n",
       "             iid=False, n_jobs=-1,\n",
       "             param_grid={'alpha': array([1.00000000e-02, 1.09749877e-02, 1.20450354e-02, 1.32194115e-02,\n",
       "       1.45082878e-02, 1.59228279e-02, 1.74752840e-02, 1.91791026e-02,\n",
       "       2.10490414e-02, 2.31012970e-02, 2.53536449e-02, 2.78255940e-02,\n",
       "       3.0538...\n",
       "       1.70735265e+01, 1.87381742e+01, 2.05651231e+01, 2.25701972e+01,\n",
       "       2.47707636e+01, 2.71858824e+01, 2.98364724e+01, 3.27454916e+01,\n",
       "       3.59381366e+01, 3.94420606e+01, 4.32876128e+01, 4.75081016e+01,\n",
       "       5.21400829e+01, 5.72236766e+01, 6.28029144e+01, 6.89261210e+01,\n",
       "       7.56463328e+01, 8.30217568e+01, 9.11162756e+01, 1.00000000e+02])},\n",
       "             pre_dispatch='2*n_jobs', refit=True, return_train_score=False,\n",
       "             scoring=None, verbose=0)"
      ]
     },
     "execution_count": 78,
     "metadata": {},
     "output_type": "execute_result"
    },
    {
     "data": {
      "text/plain": [
       "GridSearchCV(cv=5, error_score='raise-deprecating',\n",
       "             estimator=MultinomialNB(alpha=1.0, class_prior=None,\n",
       "                                     fit_prior=True),\n",
       "             iid=False, n_jobs=-1,\n",
       "             param_grid={'alpha': array([1.00000000e-02, 1.09749877e-02, 1.20450354e-02, 1.32194115e-02,\n",
       "       1.45082878e-02, 1.59228279e-02, 1.74752840e-02, 1.91791026e-02,\n",
       "       2.10490414e-02, 2.31012970e-02, 2.53536449e-02, 2.78255940e-02,\n",
       "       3.0538...\n",
       "       1.70735265e+01, 1.87381742e+01, 2.05651231e+01, 2.25701972e+01,\n",
       "       2.47707636e+01, 2.71858824e+01, 2.98364724e+01, 3.27454916e+01,\n",
       "       3.59381366e+01, 3.94420606e+01, 4.32876128e+01, 4.75081016e+01,\n",
       "       5.21400829e+01, 5.72236766e+01, 6.28029144e+01, 6.89261210e+01,\n",
       "       7.56463328e+01, 8.30217568e+01, 9.11162756e+01, 1.00000000e+02])},\n",
       "             pre_dispatch='2*n_jobs', refit=True, return_train_score=False,\n",
       "             scoring=None, verbose=0)"
      ]
     },
     "execution_count": 78,
     "metadata": {},
     "output_type": "execute_result"
    },
    {
     "data": {
      "text/plain": [
       "GridSearchCV(cv=5, error_score='raise-deprecating',\n",
       "             estimator=MultinomialNB(alpha=1.0, class_prior=None,\n",
       "                                     fit_prior=True),\n",
       "             iid=False, n_jobs=-1,\n",
       "             param_grid={'alpha': array([1.00000000e-02, 1.09749877e-02, 1.20450354e-02, 1.32194115e-02,\n",
       "       1.45082878e-02, 1.59228279e-02, 1.74752840e-02, 1.91791026e-02,\n",
       "       2.10490414e-02, 2.31012970e-02, 2.53536449e-02, 2.78255940e-02,\n",
       "       3.0538...\n",
       "       1.70735265e+01, 1.87381742e+01, 2.05651231e+01, 2.25701972e+01,\n",
       "       2.47707636e+01, 2.71858824e+01, 2.98364724e+01, 3.27454916e+01,\n",
       "       3.59381366e+01, 3.94420606e+01, 4.32876128e+01, 4.75081016e+01,\n",
       "       5.21400829e+01, 5.72236766e+01, 6.28029144e+01, 6.89261210e+01,\n",
       "       7.56463328e+01, 8.30217568e+01, 9.11162756e+01, 1.00000000e+02])},\n",
       "             pre_dispatch='2*n_jobs', refit=True, return_train_score=False,\n",
       "             scoring=None, verbose=0)"
      ]
     },
     "execution_count": 78,
     "metadata": {},
     "output_type": "execute_result"
    },
    {
     "data": {
      "text/plain": [
       "GridSearchCV(cv=5, error_score='raise-deprecating',\n",
       "             estimator=MultinomialNB(alpha=1.0, class_prior=None,\n",
       "                                     fit_prior=True),\n",
       "             iid=False, n_jobs=-1,\n",
       "             param_grid={'alpha': array([1.00000000e-02, 1.09749877e-02, 1.20450354e-02, 1.32194115e-02,\n",
       "       1.45082878e-02, 1.59228279e-02, 1.74752840e-02, 1.91791026e-02,\n",
       "       2.10490414e-02, 2.31012970e-02, 2.53536449e-02, 2.78255940e-02,\n",
       "       3.0538...\n",
       "       1.70735265e+01, 1.87381742e+01, 2.05651231e+01, 2.25701972e+01,\n",
       "       2.47707636e+01, 2.71858824e+01, 2.98364724e+01, 3.27454916e+01,\n",
       "       3.59381366e+01, 3.94420606e+01, 4.32876128e+01, 4.75081016e+01,\n",
       "       5.21400829e+01, 5.72236766e+01, 6.28029144e+01, 6.89261210e+01,\n",
       "       7.56463328e+01, 8.30217568e+01, 9.11162756e+01, 1.00000000e+02])},\n",
       "             pre_dispatch='2*n_jobs', refit=True, return_train_score=False,\n",
       "             scoring=None, verbose=0)"
      ]
     },
     "execution_count": 78,
     "metadata": {},
     "output_type": "execute_result"
    },
    {
     "data": {
      "text/plain": [
       "GridSearchCV(cv=5, error_score='raise-deprecating',\n",
       "             estimator=MultinomialNB(alpha=1.0, class_prior=None,\n",
       "                                     fit_prior=True),\n",
       "             iid=False, n_jobs=-1,\n",
       "             param_grid={'alpha': array([1.00000000e-02, 1.09749877e-02, 1.20450354e-02, 1.32194115e-02,\n",
       "       1.45082878e-02, 1.59228279e-02, 1.74752840e-02, 1.91791026e-02,\n",
       "       2.10490414e-02, 2.31012970e-02, 2.53536449e-02, 2.78255940e-02,\n",
       "       3.0538...\n",
       "       1.70735265e+01, 1.87381742e+01, 2.05651231e+01, 2.25701972e+01,\n",
       "       2.47707636e+01, 2.71858824e+01, 2.98364724e+01, 3.27454916e+01,\n",
       "       3.59381366e+01, 3.94420606e+01, 4.32876128e+01, 4.75081016e+01,\n",
       "       5.21400829e+01, 5.72236766e+01, 6.28029144e+01, 6.89261210e+01,\n",
       "       7.56463328e+01, 8.30217568e+01, 9.11162756e+01, 1.00000000e+02])},\n",
       "             pre_dispatch='2*n_jobs', refit=True, return_train_score=False,\n",
       "             scoring=None, verbose=0)"
      ]
     },
     "execution_count": 78,
     "metadata": {},
     "output_type": "execute_result"
    },
    {
     "data": {
      "text/plain": [
       "GridSearchCV(cv=5, error_score='raise-deprecating',\n",
       "             estimator=MultinomialNB(alpha=1.0, class_prior=None,\n",
       "                                     fit_prior=True),\n",
       "             iid=False, n_jobs=-1,\n",
       "             param_grid={'alpha': array([1.00000000e-02, 1.09749877e-02, 1.20450354e-02, 1.32194115e-02,\n",
       "       1.45082878e-02, 1.59228279e-02, 1.74752840e-02, 1.91791026e-02,\n",
       "       2.10490414e-02, 2.31012970e-02, 2.53536449e-02, 2.78255940e-02,\n",
       "       3.0538...\n",
       "       1.70735265e+01, 1.87381742e+01, 2.05651231e+01, 2.25701972e+01,\n",
       "       2.47707636e+01, 2.71858824e+01, 2.98364724e+01, 3.27454916e+01,\n",
       "       3.59381366e+01, 3.94420606e+01, 4.32876128e+01, 4.75081016e+01,\n",
       "       5.21400829e+01, 5.72236766e+01, 6.28029144e+01, 6.89261210e+01,\n",
       "       7.56463328e+01, 8.30217568e+01, 9.11162756e+01, 1.00000000e+02])},\n",
       "             pre_dispatch='2*n_jobs', refit=True, return_train_score=False,\n",
       "             scoring=None, verbose=0)"
      ]
     },
     "execution_count": 78,
     "metadata": {},
     "output_type": "execute_result"
    },
    {
     "data": {
      "text/plain": [
       "GridSearchCV(cv=5, error_score='raise-deprecating',\n",
       "             estimator=MultinomialNB(alpha=1.0, class_prior=None,\n",
       "                                     fit_prior=True),\n",
       "             iid=False, n_jobs=-1,\n",
       "             param_grid={'alpha': array([1.00000000e-02, 1.09749877e-02, 1.20450354e-02, 1.32194115e-02,\n",
       "       1.45082878e-02, 1.59228279e-02, 1.74752840e-02, 1.91791026e-02,\n",
       "       2.10490414e-02, 2.31012970e-02, 2.53536449e-02, 2.78255940e-02,\n",
       "       3.0538...\n",
       "       1.70735265e+01, 1.87381742e+01, 2.05651231e+01, 2.25701972e+01,\n",
       "       2.47707636e+01, 2.71858824e+01, 2.98364724e+01, 3.27454916e+01,\n",
       "       3.59381366e+01, 3.94420606e+01, 4.32876128e+01, 4.75081016e+01,\n",
       "       5.21400829e+01, 5.72236766e+01, 6.28029144e+01, 6.89261210e+01,\n",
       "       7.56463328e+01, 8.30217568e+01, 9.11162756e+01, 1.00000000e+02])},\n",
       "             pre_dispatch='2*n_jobs', refit=True, return_train_score=False,\n",
       "             scoring=None, verbose=0)"
      ]
     },
     "execution_count": 78,
     "metadata": {},
     "output_type": "execute_result"
    },
    {
     "data": {
      "text/plain": [
       "GridSearchCV(cv=5, error_score='raise-deprecating',\n",
       "             estimator=MultinomialNB(alpha=1.0, class_prior=None,\n",
       "                                     fit_prior=True),\n",
       "             iid=False, n_jobs=-1,\n",
       "             param_grid={'alpha': array([1.00000000e-02, 1.09749877e-02, 1.20450354e-02, 1.32194115e-02,\n",
       "       1.45082878e-02, 1.59228279e-02, 1.74752840e-02, 1.91791026e-02,\n",
       "       2.10490414e-02, 2.31012970e-02, 2.53536449e-02, 2.78255940e-02,\n",
       "       3.0538...\n",
       "       1.70735265e+01, 1.87381742e+01, 2.05651231e+01, 2.25701972e+01,\n",
       "       2.47707636e+01, 2.71858824e+01, 2.98364724e+01, 3.27454916e+01,\n",
       "       3.59381366e+01, 3.94420606e+01, 4.32876128e+01, 4.75081016e+01,\n",
       "       5.21400829e+01, 5.72236766e+01, 6.28029144e+01, 6.89261210e+01,\n",
       "       7.56463328e+01, 8.30217568e+01, 9.11162756e+01, 1.00000000e+02])},\n",
       "             pre_dispatch='2*n_jobs', refit=True, return_train_score=False,\n",
       "             scoring=None, verbose=0)"
      ]
     },
     "execution_count": 78,
     "metadata": {},
     "output_type": "execute_result"
    },
    {
     "data": {
      "text/plain": [
       "GridSearchCV(cv=5, error_score='raise-deprecating',\n",
       "             estimator=MultinomialNB(alpha=1.0, class_prior=None,\n",
       "                                     fit_prior=True),\n",
       "             iid=False, n_jobs=-1,\n",
       "             param_grid={'alpha': array([1.00000000e-02, 1.09749877e-02, 1.20450354e-02, 1.32194115e-02,\n",
       "       1.45082878e-02, 1.59228279e-02, 1.74752840e-02, 1.91791026e-02,\n",
       "       2.10490414e-02, 2.31012970e-02, 2.53536449e-02, 2.78255940e-02,\n",
       "       3.0538...\n",
       "       1.70735265e+01, 1.87381742e+01, 2.05651231e+01, 2.25701972e+01,\n",
       "       2.47707636e+01, 2.71858824e+01, 2.98364724e+01, 3.27454916e+01,\n",
       "       3.59381366e+01, 3.94420606e+01, 4.32876128e+01, 4.75081016e+01,\n",
       "       5.21400829e+01, 5.72236766e+01, 6.28029144e+01, 6.89261210e+01,\n",
       "       7.56463328e+01, 8.30217568e+01, 9.11162756e+01, 1.00000000e+02])},\n",
       "             pre_dispatch='2*n_jobs', refit=True, return_train_score=False,\n",
       "             scoring=None, verbose=0)"
      ]
     },
     "execution_count": 78,
     "metadata": {},
     "output_type": "execute_result"
    },
    {
     "data": {
      "text/plain": [
       "GridSearchCV(cv=5, error_score='raise-deprecating',\n",
       "             estimator=MultinomialNB(alpha=1.0, class_prior=None,\n",
       "                                     fit_prior=True),\n",
       "             iid=False, n_jobs=-1,\n",
       "             param_grid={'alpha': array([1.00000000e-02, 1.09749877e-02, 1.20450354e-02, 1.32194115e-02,\n",
       "       1.45082878e-02, 1.59228279e-02, 1.74752840e-02, 1.91791026e-02,\n",
       "       2.10490414e-02, 2.31012970e-02, 2.53536449e-02, 2.78255940e-02,\n",
       "       3.0538...\n",
       "       1.70735265e+01, 1.87381742e+01, 2.05651231e+01, 2.25701972e+01,\n",
       "       2.47707636e+01, 2.71858824e+01, 2.98364724e+01, 3.27454916e+01,\n",
       "       3.59381366e+01, 3.94420606e+01, 4.32876128e+01, 4.75081016e+01,\n",
       "       5.21400829e+01, 5.72236766e+01, 6.28029144e+01, 6.89261210e+01,\n",
       "       7.56463328e+01, 8.30217568e+01, 9.11162756e+01, 1.00000000e+02])},\n",
       "             pre_dispatch='2*n_jobs', refit=True, return_train_score=False,\n",
       "             scoring=None, verbose=0)"
      ]
     },
     "execution_count": 78,
     "metadata": {},
     "output_type": "execute_result"
    },
    {
     "data": {
      "text/plain": [
       "GridSearchCV(cv=5, error_score='raise-deprecating',\n",
       "             estimator=MultinomialNB(alpha=1.0, class_prior=None,\n",
       "                                     fit_prior=True),\n",
       "             iid=False, n_jobs=-1,\n",
       "             param_grid={'alpha': array([1.00000000e-02, 1.09749877e-02, 1.20450354e-02, 1.32194115e-02,\n",
       "       1.45082878e-02, 1.59228279e-02, 1.74752840e-02, 1.91791026e-02,\n",
       "       2.10490414e-02, 2.31012970e-02, 2.53536449e-02, 2.78255940e-02,\n",
       "       3.0538...\n",
       "       1.70735265e+01, 1.87381742e+01, 2.05651231e+01, 2.25701972e+01,\n",
       "       2.47707636e+01, 2.71858824e+01, 2.98364724e+01, 3.27454916e+01,\n",
       "       3.59381366e+01, 3.94420606e+01, 4.32876128e+01, 4.75081016e+01,\n",
       "       5.21400829e+01, 5.72236766e+01, 6.28029144e+01, 6.89261210e+01,\n",
       "       7.56463328e+01, 8.30217568e+01, 9.11162756e+01, 1.00000000e+02])},\n",
       "             pre_dispatch='2*n_jobs', refit=True, return_train_score=False,\n",
       "             scoring=None, verbose=0)"
      ]
     },
     "execution_count": 78,
     "metadata": {},
     "output_type": "execute_result"
    },
    {
     "data": {
      "text/plain": [
       "GridSearchCV(cv=5, error_score='raise-deprecating',\n",
       "             estimator=MultinomialNB(alpha=1.0, class_prior=None,\n",
       "                                     fit_prior=True),\n",
       "             iid=False, n_jobs=-1,\n",
       "             param_grid={'alpha': array([1.00000000e-02, 1.09749877e-02, 1.20450354e-02, 1.32194115e-02,\n",
       "       1.45082878e-02, 1.59228279e-02, 1.74752840e-02, 1.91791026e-02,\n",
       "       2.10490414e-02, 2.31012970e-02, 2.53536449e-02, 2.78255940e-02,\n",
       "       3.0538...\n",
       "       1.70735265e+01, 1.87381742e+01, 2.05651231e+01, 2.25701972e+01,\n",
       "       2.47707636e+01, 2.71858824e+01, 2.98364724e+01, 3.27454916e+01,\n",
       "       3.59381366e+01, 3.94420606e+01, 4.32876128e+01, 4.75081016e+01,\n",
       "       5.21400829e+01, 5.72236766e+01, 6.28029144e+01, 6.89261210e+01,\n",
       "       7.56463328e+01, 8.30217568e+01, 9.11162756e+01, 1.00000000e+02])},\n",
       "             pre_dispatch='2*n_jobs', refit=True, return_train_score=False,\n",
       "             scoring=None, verbose=0)"
      ]
     },
     "execution_count": 78,
     "metadata": {},
     "output_type": "execute_result"
    },
    {
     "data": {
      "text/plain": [
       "GridSearchCV(cv=5, error_score='raise-deprecating',\n",
       "             estimator=MultinomialNB(alpha=1.0, class_prior=None,\n",
       "                                     fit_prior=True),\n",
       "             iid=False, n_jobs=-1,\n",
       "             param_grid={'alpha': array([1.00000000e-02, 1.09749877e-02, 1.20450354e-02, 1.32194115e-02,\n",
       "       1.45082878e-02, 1.59228279e-02, 1.74752840e-02, 1.91791026e-02,\n",
       "       2.10490414e-02, 2.31012970e-02, 2.53536449e-02, 2.78255940e-02,\n",
       "       3.0538...\n",
       "       1.70735265e+01, 1.87381742e+01, 2.05651231e+01, 2.25701972e+01,\n",
       "       2.47707636e+01, 2.71858824e+01, 2.98364724e+01, 3.27454916e+01,\n",
       "       3.59381366e+01, 3.94420606e+01, 4.32876128e+01, 4.75081016e+01,\n",
       "       5.21400829e+01, 5.72236766e+01, 6.28029144e+01, 6.89261210e+01,\n",
       "       7.56463328e+01, 8.30217568e+01, 9.11162756e+01, 1.00000000e+02])},\n",
       "             pre_dispatch='2*n_jobs', refit=True, return_train_score=False,\n",
       "             scoring=None, verbose=0)"
      ]
     },
     "execution_count": 78,
     "metadata": {},
     "output_type": "execute_result"
    },
    {
     "data": {
      "text/plain": [
       "GridSearchCV(cv=5, error_score='raise-deprecating',\n",
       "             estimator=MultinomialNB(alpha=1.0, class_prior=None,\n",
       "                                     fit_prior=True),\n",
       "             iid=False, n_jobs=-1,\n",
       "             param_grid={'alpha': array([1.00000000e-02, 1.09749877e-02, 1.20450354e-02, 1.32194115e-02,\n",
       "       1.45082878e-02, 1.59228279e-02, 1.74752840e-02, 1.91791026e-02,\n",
       "       2.10490414e-02, 2.31012970e-02, 2.53536449e-02, 2.78255940e-02,\n",
       "       3.0538...\n",
       "       1.70735265e+01, 1.87381742e+01, 2.05651231e+01, 2.25701972e+01,\n",
       "       2.47707636e+01, 2.71858824e+01, 2.98364724e+01, 3.27454916e+01,\n",
       "       3.59381366e+01, 3.94420606e+01, 4.32876128e+01, 4.75081016e+01,\n",
       "       5.21400829e+01, 5.72236766e+01, 6.28029144e+01, 6.89261210e+01,\n",
       "       7.56463328e+01, 8.30217568e+01, 9.11162756e+01, 1.00000000e+02])},\n",
       "             pre_dispatch='2*n_jobs', refit=True, return_train_score=False,\n",
       "             scoring=None, verbose=0)"
      ]
     },
     "execution_count": 78,
     "metadata": {},
     "output_type": "execute_result"
    },
    {
     "data": {
      "text/plain": [
       "GridSearchCV(cv=5, error_score='raise-deprecating',\n",
       "             estimator=MultinomialNB(alpha=1.0, class_prior=None,\n",
       "                                     fit_prior=True),\n",
       "             iid=False, n_jobs=-1,\n",
       "             param_grid={'alpha': array([1.00000000e-02, 1.09749877e-02, 1.20450354e-02, 1.32194115e-02,\n",
       "       1.45082878e-02, 1.59228279e-02, 1.74752840e-02, 1.91791026e-02,\n",
       "       2.10490414e-02, 2.31012970e-02, 2.53536449e-02, 2.78255940e-02,\n",
       "       3.0538...\n",
       "       1.70735265e+01, 1.87381742e+01, 2.05651231e+01, 2.25701972e+01,\n",
       "       2.47707636e+01, 2.71858824e+01, 2.98364724e+01, 3.27454916e+01,\n",
       "       3.59381366e+01, 3.94420606e+01, 4.32876128e+01, 4.75081016e+01,\n",
       "       5.21400829e+01, 5.72236766e+01, 6.28029144e+01, 6.89261210e+01,\n",
       "       7.56463328e+01, 8.30217568e+01, 9.11162756e+01, 1.00000000e+02])},\n",
       "             pre_dispatch='2*n_jobs', refit=True, return_train_score=False,\n",
       "             scoring=None, verbose=0)"
      ]
     },
     "execution_count": 78,
     "metadata": {},
     "output_type": "execute_result"
    },
    {
     "data": {
      "text/plain": [
       "GridSearchCV(cv=5, error_score='raise-deprecating',\n",
       "             estimator=MultinomialNB(alpha=1.0, class_prior=None,\n",
       "                                     fit_prior=True),\n",
       "             iid=False, n_jobs=-1,\n",
       "             param_grid={'alpha': array([1.00000000e-02, 1.09749877e-02, 1.20450354e-02, 1.32194115e-02,\n",
       "       1.45082878e-02, 1.59228279e-02, 1.74752840e-02, 1.91791026e-02,\n",
       "       2.10490414e-02, 2.31012970e-02, 2.53536449e-02, 2.78255940e-02,\n",
       "       3.0538...\n",
       "       1.70735265e+01, 1.87381742e+01, 2.05651231e+01, 2.25701972e+01,\n",
       "       2.47707636e+01, 2.71858824e+01, 2.98364724e+01, 3.27454916e+01,\n",
       "       3.59381366e+01, 3.94420606e+01, 4.32876128e+01, 4.75081016e+01,\n",
       "       5.21400829e+01, 5.72236766e+01, 6.28029144e+01, 6.89261210e+01,\n",
       "       7.56463328e+01, 8.30217568e+01, 9.11162756e+01, 1.00000000e+02])},\n",
       "             pre_dispatch='2*n_jobs', refit=True, return_train_score=False,\n",
       "             scoring=None, verbose=0)"
      ]
     },
     "execution_count": 78,
     "metadata": {},
     "output_type": "execute_result"
    },
    {
     "data": {
      "text/plain": [
       "GridSearchCV(cv=5, error_score='raise-deprecating',\n",
       "             estimator=MultinomialNB(alpha=1.0, class_prior=None,\n",
       "                                     fit_prior=True),\n",
       "             iid=False, n_jobs=-1,\n",
       "             param_grid={'alpha': array([1.00000000e-02, 1.09749877e-02, 1.20450354e-02, 1.32194115e-02,\n",
       "       1.45082878e-02, 1.59228279e-02, 1.74752840e-02, 1.91791026e-02,\n",
       "       2.10490414e-02, 2.31012970e-02, 2.53536449e-02, 2.78255940e-02,\n",
       "       3.0538...\n",
       "       1.70735265e+01, 1.87381742e+01, 2.05651231e+01, 2.25701972e+01,\n",
       "       2.47707636e+01, 2.71858824e+01, 2.98364724e+01, 3.27454916e+01,\n",
       "       3.59381366e+01, 3.94420606e+01, 4.32876128e+01, 4.75081016e+01,\n",
       "       5.21400829e+01, 5.72236766e+01, 6.28029144e+01, 6.89261210e+01,\n",
       "       7.56463328e+01, 8.30217568e+01, 9.11162756e+01, 1.00000000e+02])},\n",
       "             pre_dispatch='2*n_jobs', refit=True, return_train_score=False,\n",
       "             scoring=None, verbose=0)"
      ]
     },
     "execution_count": 78,
     "metadata": {},
     "output_type": "execute_result"
    },
    {
     "data": {
      "text/plain": [
       "GridSearchCV(cv=5, error_score='raise-deprecating',\n",
       "             estimator=MultinomialNB(alpha=1.0, class_prior=None,\n",
       "                                     fit_prior=True),\n",
       "             iid=False, n_jobs=-1,\n",
       "             param_grid={'alpha': array([1.00000000e-02, 1.09749877e-02, 1.20450354e-02, 1.32194115e-02,\n",
       "       1.45082878e-02, 1.59228279e-02, 1.74752840e-02, 1.91791026e-02,\n",
       "       2.10490414e-02, 2.31012970e-02, 2.53536449e-02, 2.78255940e-02,\n",
       "       3.0538...\n",
       "       1.70735265e+01, 1.87381742e+01, 2.05651231e+01, 2.25701972e+01,\n",
       "       2.47707636e+01, 2.71858824e+01, 2.98364724e+01, 3.27454916e+01,\n",
       "       3.59381366e+01, 3.94420606e+01, 4.32876128e+01, 4.75081016e+01,\n",
       "       5.21400829e+01, 5.72236766e+01, 6.28029144e+01, 6.89261210e+01,\n",
       "       7.56463328e+01, 8.30217568e+01, 9.11162756e+01, 1.00000000e+02])},\n",
       "             pre_dispatch='2*n_jobs', refit=True, return_train_score=False,\n",
       "             scoring=None, verbose=0)"
      ]
     },
     "execution_count": 78,
     "metadata": {},
     "output_type": "execute_result"
    },
    {
     "data": {
      "text/plain": [
       "GridSearchCV(cv=5, error_score='raise-deprecating',\n",
       "             estimator=MultinomialNB(alpha=1.0, class_prior=None,\n",
       "                                     fit_prior=True),\n",
       "             iid=False, n_jobs=-1,\n",
       "             param_grid={'alpha': array([1.00000000e-02, 1.09749877e-02, 1.20450354e-02, 1.32194115e-02,\n",
       "       1.45082878e-02, 1.59228279e-02, 1.74752840e-02, 1.91791026e-02,\n",
       "       2.10490414e-02, 2.31012970e-02, 2.53536449e-02, 2.78255940e-02,\n",
       "       3.0538...\n",
       "       1.70735265e+01, 1.87381742e+01, 2.05651231e+01, 2.25701972e+01,\n",
       "       2.47707636e+01, 2.71858824e+01, 2.98364724e+01, 3.27454916e+01,\n",
       "       3.59381366e+01, 3.94420606e+01, 4.32876128e+01, 4.75081016e+01,\n",
       "       5.21400829e+01, 5.72236766e+01, 6.28029144e+01, 6.89261210e+01,\n",
       "       7.56463328e+01, 8.30217568e+01, 9.11162756e+01, 1.00000000e+02])},\n",
       "             pre_dispatch='2*n_jobs', refit=True, return_train_score=False,\n",
       "             scoring=None, verbose=0)"
      ]
     },
     "execution_count": 78,
     "metadata": {},
     "output_type": "execute_result"
    },
    {
     "data": {
      "text/plain": [
       "GridSearchCV(cv=5, error_score='raise-deprecating',\n",
       "             estimator=MultinomialNB(alpha=1.0, class_prior=None,\n",
       "                                     fit_prior=True),\n",
       "             iid=False, n_jobs=-1,\n",
       "             param_grid={'alpha': array([1.00000000e-02, 1.09749877e-02, 1.20450354e-02, 1.32194115e-02,\n",
       "       1.45082878e-02, 1.59228279e-02, 1.74752840e-02, 1.91791026e-02,\n",
       "       2.10490414e-02, 2.31012970e-02, 2.53536449e-02, 2.78255940e-02,\n",
       "       3.0538...\n",
       "       1.70735265e+01, 1.87381742e+01, 2.05651231e+01, 2.25701972e+01,\n",
       "       2.47707636e+01, 2.71858824e+01, 2.98364724e+01, 3.27454916e+01,\n",
       "       3.59381366e+01, 3.94420606e+01, 4.32876128e+01, 4.75081016e+01,\n",
       "       5.21400829e+01, 5.72236766e+01, 6.28029144e+01, 6.89261210e+01,\n",
       "       7.56463328e+01, 8.30217568e+01, 9.11162756e+01, 1.00000000e+02])},\n",
       "             pre_dispatch='2*n_jobs', refit=True, return_train_score=False,\n",
       "             scoring=None, verbose=0)"
      ]
     },
     "execution_count": 78,
     "metadata": {},
     "output_type": "execute_result"
    }
   ],
   "source": [
    "# Multinomial Naive Bayes\n",
    "from sklearn.model_selection import GridSearchCV\n",
    "\n",
    "# Hyperparameters to tune\n",
    "params = {'alpha': np.logspace(-2, 2, 100)}\n",
    "\n",
    "# Instantiate the classifier\n",
    "best_score = []\n",
    "best_param = []\n",
    "for l in range(1, 21):\n",
    "    X_train, y_train = get_sliced_time_series(l, binary=False)\n",
    "    mnb = MultinomialNB()\n",
    "    mnb_cv = GridSearchCV(estimator=mnb,\n",
    "                          param_grid=params,\n",
    "                          cv=5, n_jobs=-1, iid=False) # Again, get 5-fold cv\n",
    "    mnb_cv.fit(X_train, y_train)\n",
    "    best_score.append(mnb_cv.best_score_)\n",
    "    best_param.append(mnb_cv.best_params_)"
   ]
  },
  {
   "cell_type": "code",
   "execution_count": 79,
   "metadata": {
    "ExecuteTime": {
     "end_time": "2019-10-14T19:25:10.435059Z",
     "start_time": "2019-10-14T19:25:10.390057Z"
    }
   },
   "outputs": [
    {
     "data": {
      "text/plain": [
       "[0.7581996434937611,\n",
       " 0.7631016042780748,\n",
       " 0.7327094474153298,\n",
       " 0.6993761140819965,\n",
       " 0.7744206773618539,\n",
       " 0.7744206773618539,\n",
       " 0.7744206773618539,\n",
       " 0.7680035650623885,\n",
       " 0.7744206773618539,\n",
       " 0.7646167557932265,\n",
       " 0.7631016042780748,\n",
       " 0.7528520499108735,\n",
       " 0.769964349376114,\n",
       " 0.7729055258467025,\n",
       " 0.7581996434937611,\n",
       " 0.739572192513369,\n",
       " 0.7684491978609624,\n",
       " 0.7577540106951872,\n",
       " 0.7680035650623885,\n",
       " 0.7597147950089127]"
      ]
     },
     "execution_count": 79,
     "metadata": {},
     "output_type": "execute_result"
    },
    {
     "data": {
      "text/plain": [
       "[{'alpha': 0.8697490026177834},\n",
       " {'alpha': 0.7924828983539177},\n",
       " {'alpha': 4.229242874389499},\n",
       " {'alpha': 4.229242874389499},\n",
       " {'alpha': 3.5111917342151346},\n",
       " {'alpha': 1.6681005372000592},\n",
       " {'alpha': 0.8697490026177834},\n",
       " {'alpha': 0.012045035402587823},\n",
       " {'alpha': 2.2051307399030455},\n",
       " {'alpha': 0.08497534359086446},\n",
       " {'alpha': 0.01},\n",
       " {'alpha': 0.1484968262254465},\n",
       " {'alpha': 0.01},\n",
       " {'alpha': 1.5199110829529348},\n",
       " {'alpha': 0.01},\n",
       " {'alpha': 1.261856883066021},\n",
       " {'alpha': 0.01},\n",
       " {'alpha': 0.49770235643321115},\n",
       " {'alpha': 0.37649358067924693},\n",
       " {'alpha': 0.010974987654930561}]"
      ]
     },
     "execution_count": 79,
     "metadata": {},
     "output_type": "execute_result"
    }
   ],
   "source": [
    "best_score # We'll use l = 5\n",
    "best_param # the corresponding alpha is 3.5111917342151346"
   ]
  },
  {
   "cell_type": "markdown",
   "metadata": {},
   "source": [
    "The best (*l*, $\\alpha$) is found to be (5, 3.5111917342151346)."
   ]
  },
  {
   "cell_type": "code",
   "execution_count": 80,
   "metadata": {
    "ExecuteTime": {
     "end_time": "2019-10-14T19:25:14.979452Z",
     "start_time": "2019-10-14T19:25:10.437248Z"
    }
   },
   "outputs": [
    {
     "data": {
      "text/plain": [
       "MultinomialNB(alpha=3.5111917342151346, class_prior=None, fit_prior=True)"
      ]
     },
     "execution_count": 80,
     "metadata": {},
     "output_type": "execute_result"
    },
    {
     "data": {
      "text/plain": [
       "0.8421052631578947"
      ]
     },
     "execution_count": 80,
     "metadata": {},
     "output_type": "execute_result"
    }
   ],
   "source": [
    "# Refit MNB\n",
    "\n",
    "X_train, y_train, X_test, y_test = get_sliced_time_series(5, binary=False, train_only=False)\n",
    "mnb = MultinomialNB(alpha=3.5111917342151346)\n",
    "mnb.fit(X_train, y_train)\n",
    "mnb.score(X_test, y_test)"
   ]
  },
  {
   "cell_type": "markdown",
   "metadata": {},
   "source": [
    "MNB produces a test accuracy score of 0.8421, a slightly worse accuracy score compared to what we have got for GNB.\n",
    "\n",
    "It is natural that GNB performs better because **we have continuous variables here, which is a natural target for GNB.** Whereas MNB usually deals with discrete variables (such as word counts)."
   ]
  },
  {
   "cell_type": "code",
   "execution_count": 81,
   "metadata": {
    "ExecuteTime": {
     "end_time": "2019-10-14T19:25:15.017046Z",
     "start_time": "2019-10-14T19:25:14.981203Z"
    }
   },
   "outputs": [],
   "source": [
    "# (f) iii. Comparison of Logistic Regression, Gaussian NB and Multinomial NB"
   ]
  },
  {
   "cell_type": "markdown",
   "metadata": {},
   "source": [
    "Test accuracies of the classifiers are as follows:\n",
    "* Logistic Regression: 0.7368\n",
    "* Multinomial Naive Bayes: 0.8421\n",
    "* Gaussian Naive Bayes: **0.8947**\n",
    "\n",
    "From the test **accuracy** perspective, **Gaussian Naive Bayes is the winner.** It makes sense to use GNB because the variables are continuous, although **it's a bit dangerous to assume our time-domain features have zero conditional correlation with each other.**\n",
    "\n",
    "From the **computation** perspective, the **Naive Bayes approach is better than Regularized Logistic Regression**. Firstly, **Regularized Logistic Regression suffers from our small sample size** (69 instances in training set), with the situation exacerbated as *l* gets larger. Naive Bayes on the other hand handles this situation well, again because of the fact that we assume zero conditional correlation among features. Secondly, the **computation time of Multinomial Naive Bayes is three times less than that of Logistic Regression**, given the fact that both undergoes a grid search space of 20 (l) $\\times$ 100 (hyper-parameter) $\\times$ 5 (cv) = 10000."
   ]
  },
  {
   "cell_type": "code",
   "execution_count": 82,
   "metadata": {
    "ExecuteTime": {
     "end_time": "2019-10-14T19:25:15.055356Z",
     "start_time": "2019-10-14T19:25:15.018621Z"
    }
   },
   "outputs": [],
   "source": [
    "# 2. ISLR 3.7.4"
   ]
  },
  {
   "cell_type": "markdown",
   "metadata": {},
   "source": [
    "(a) Even though the underlying relationship between X and Y is linear, I would expect a lower training RSS for the cubic regression. This is because adding variables in linear regression could only produce better (or at least the same) results in terms of **train error**.\n",
    "\n",
    "(b) Because the underlying relationship is linear, the cubic regression will likely overfits and therefore generalizes poorly on the test set, and hence having a higher test RSS.\n",
    "\n",
    "(c) I would expect a lower training RSS for the cubic regression. The rationale is similar to part a, a more flexible model will only results in a lower training RSS.\n",
    "\n",
    "(d) We don't have enough information to tell because **we don't know how far the true relationship is from linear**. If it is closer to linear than cubic, then linear regression might perform better, vice versa. It's **bias-variance trade off.**"
   ]
  },
  {
   "cell_type": "code",
   "execution_count": 83,
   "metadata": {
    "ExecuteTime": {
     "end_time": "2019-10-14T22:45:05.738153Z",
     "start_time": "2019-10-14T22:45:05.596510Z"
    }
   },
   "outputs": [],
   "source": [
    "# 3 & 4. ISLR 4.7.3, ISLR 4.7.7"
   ]
  },
  {
   "cell_type": "code",
   "execution_count": 84,
   "metadata": {
    "ExecuteTime": {
     "end_time": "2019-10-14T23:25:26.936174Z",
     "start_time": "2019-10-14T23:25:26.802930Z"
    }
   },
   "outputs": [
    {
     "data": {
      "image/jpeg": "[encoded data removed]",
      "text/plain": [
       "<IPython.core.display.Image object>"
      ]
     },
     "execution_count": 84,
     "metadata": {},
     "output_type": "execute_result"
    }
   ],
   "source": [
    "Image('./HW3_image/islr.jpg')"
   ]
  }
 ],
 "metadata": {
  "hide_input": false,
  "kernelspec": {
   "display_name": "Python 3",
   "language": "python",
   "name": "python3"
  },
  "language_info": {
   "codemirror_mode": {
    "name": "ipython",
    "version": 3
   },
   "file_extension": ".py",
   "mimetype": "text/x-python",
   "name": "python",
   "nbconvert_exporter": "python",
   "pygments_lexer": "ipython3",
   "version": "3.7.4"
  },
  "toc": {
   "base_numbering": 1,
   "nav_menu": {},
   "number_sections": false,
   "sideBar": true,
   "skip_h1_title": false,
   "title_cell": "Table of Contents",
   "title_sidebar": "Contents",
   "toc_cell": false,
   "toc_position": {},
   "toc_section_display": true,
   "toc_window_display": false
  },
  "varInspector": {
   "cols": {
    "lenName": 16,
    "lenType": 16,
    "lenVar": 40
   },
   "kernels_config": {
    "python": {
     "delete_cmd_postfix": "",
     "delete_cmd_prefix": "del ",
     "library": "var_list.py",
     "varRefreshCmd": "print(var_dic_list())"
    },
    "r": {
     "delete_cmd_postfix": ") ",
     "delete_cmd_prefix": "rm(",
     "library": "var_list.r",
     "varRefreshCmd": "cat(var_dic_list()) "
    }
   },
   "position": {
    "height": "763.892px",
    "left": "1378.1px",
    "right": "20px",
    "top": "120px",
    "width": "347.358px"
   },
   "types_to_exclude": [
    "module",
    "function",
    "builtin_function_or_method",
    "instance",
    "_Feature"
   ],
   "window_display": false
  }
 },
 "nbformat": 4,
 "nbformat_minor": 2
}
