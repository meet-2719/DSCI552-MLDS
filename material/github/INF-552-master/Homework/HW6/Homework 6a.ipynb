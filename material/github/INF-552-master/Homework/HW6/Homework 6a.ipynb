{
 "cells": [
  {
   "cell_type": "code",
   "execution_count": 1,
   "metadata": {
    "ExecuteTime": {
     "end_time": "2019-11-17T23:19:32.067885Z",
     "start_time": "2019-11-17T23:19:30.448761Z"
    }
   },
   "outputs": [
    {
     "data": {
      "text/html": [
       "        <script type=\"text/javascript\">\n",
       "        window.PlotlyConfig = {MathJaxConfig: 'local'};\n",
       "        if (window.MathJax) {MathJax.Hub.Config({SVG: {font: \"STIX-Web\"}});}\n",
       "        if (typeof require !== 'undefined') {\n",
       "        require.undef(\"plotly\");\n",
       "        requirejs.config({\n",
       "            paths: {\n",
       "                'plotly': ['https://cdn.plot.ly/plotly-latest.min']\n",
       "            }\n",
       "        });\n",
       "        require(['plotly'], function(Plotly) {\n",
       "            window._Plotly = Plotly;\n",
       "        });\n",
       "        }\n",
       "        </script>\n",
       "        "
      ]
     },
     "metadata": {},
     "output_type": "display_data"
    }
   ],
   "source": [
    "# Data manipulation\n",
    "import pandas as pd\n",
    "import numpy as np\n",
    "\n",
    "# Options for pandas\n",
    "pd.options.display.max_columns = 50\n",
    "pd.options.display.max_rows = 50\n",
    "pd.set_option('display.float_format', lambda x: '{:.3f}'.format(x))\n",
    "\n",
    "# Display all cell outputs\n",
    "from IPython.core.interactiveshell import InteractiveShell\n",
    "InteractiveShell.ast_node_interactivity = 'all'\n",
    "\n",
    "from IPython.display import Image\n",
    "from IPython import get_ipython\n",
    "ipython = get_ipython()\n",
    "\n",
    "# Autoreload extension\n",
    "if 'autoreload' not in ipython.extension_manager.loaded:\n",
    "    %load_ext autoreload\n",
    "\n",
    "%autoreload 2\n",
    "\n",
    "# Ignore exceptions\n",
    "import expectexception\n",
    "\n",
    "import os\n",
    "os.environ['KMP_DUPLICATE_LIB_OK']='True'\n",
    "\n",
    "# Visualizations\n",
    "import chart_studio.plotly as py\n",
    "import plotly.graph_objs as go\n",
    "from plotly.offline import iplot, init_notebook_mode\n",
    "init_notebook_mode(connected=True)\n",
    "\n",
    "import matplotlib.pyplot as plt\n",
    "plt.style.use('ggplot')\n",
    "%matplotlib inline\n",
    "\n",
    "# Activate the automatic conversion for pandas\n",
    "from rpy2.robjects import pandas2ri\n",
    "pandas2ri.activate()\n",
    "\n",
    "# Load the needed extension for the %%R cell magic\n",
    "%load_ext rpy2.ipython\n",
    "\n",
    "# Suppress rpy2 runtime warnings\n",
    "import warnings\n",
    "from rpy2.rinterface import RRuntimeWarning\n",
    "warnings.filterwarnings(\"ignore\", category=RRuntimeWarning)\n",
    "\n",
    "# Load ipywidgets module\n",
    "import ipywidgets as widgets\n",
    "from ipywidgets import interact, interact_manual"
   ]
  },
  {
   "cell_type": "code",
   "execution_count": 3,
   "metadata": {
    "ExecuteTime": {
     "end_time": "2019-11-17T23:19:41.161530Z",
     "start_time": "2019-11-17T23:19:41.112528Z"
    }
   },
   "outputs": [],
   "source": [
    "%%R\n",
    "\n",
    "# Visualization\n",
    "library(ggplot2)\n",
    "library(ggalt)\n",
    "library(ggExtra)\n",
    "library(ggcorrplot)\n",
    "library(ggthemes)\n",
    "library(ggdendro)\n",
    "library(GGally)\n",
    "library(ggrepel)\n",
    "theme_set(theme_light())\n",
    "\n",
    "# Tidyverse library\n",
    "library(scales)\n",
    "library(dplyr)\n",
    "library(tidyr)\n",
    "library(forcats)\n",
    "library(readr)\n",
    "library(purrr)\n",
    "\n",
    "# String manipulations\n",
    "library(tools)\n",
    "library(lubridate)\n",
    "\n",
    "# Machine Learning Related\n",
    "library(car)\n",
    "library(caTools)\n",
    "library(pROC)\n",
    "\n",
    "# Misc\n",
    "library(psych)\n",
    "library(mice)"
   ]
  },
  {
   "cell_type": "code",
   "execution_count": 4,
   "metadata": {
    "ExecuteTime": {
     "end_time": "2019-11-17T23:19:41.209879Z",
     "start_time": "2019-11-17T23:19:41.164348Z"
    }
   },
   "outputs": [],
   "source": [
    "# 1(a). Import dataset and train-test split \n",
    "\n",
    "cancer = pd.read_csv('../../Homework Data/Homework 6 Data/wdbc.csv', header=None)\n",
    "cancer.drop(0, axis=1, inplace=True)"
   ]
  },
  {
   "cell_type": "code",
   "execution_count": 5,
   "metadata": {
    "ExecuteTime": {
     "end_time": "2019-11-17T23:19:41.260023Z",
     "start_time": "2019-11-17T23:19:41.212975Z"
    }
   },
   "outputs": [
    {
     "data": {
      "text/plain": [
       "B    357\n",
       "M    212\n",
       "Name: class, dtype: int64"
      ]
     },
     "execution_count": 5,
     "metadata": {},
     "output_type": "execute_result"
    }
   ],
   "source": [
    "cancer.rename(columns={1: 'class'}, inplace=True)\n",
    "cancer['class'].value_counts()"
   ]
  },
  {
   "cell_type": "markdown",
   "metadata": {},
   "source": [
    "We have 357 benign cases and 212 malignant cases."
   ]
  },
  {
   "cell_type": "code",
   "execution_count": 6,
   "metadata": {
    "ExecuteTime": {
     "end_time": "2019-11-17T23:19:41.305480Z",
     "start_time": "2019-11-17T23:19:41.262926Z"
    }
   },
   "outputs": [],
   "source": [
    "benign = cancer.loc[cancer['class']=='B']\n",
    "malignant = cancer.loc[cancer['class']=='M']"
   ]
  },
  {
   "cell_type": "code",
   "execution_count": 7,
   "metadata": {
    "ExecuteTime": {
     "end_time": "2019-11-17T23:19:41.351117Z",
     "start_time": "2019-11-17T23:19:41.307890Z"
    }
   },
   "outputs": [],
   "source": [
    "# Extract top 20% of the data as test set\n",
    "\n",
    "train = pd.concat([benign.iloc[71:], malignant.iloc[42:]], axis=0)\n",
    "test = pd.concat([benign.iloc[:71], malignant.iloc[:42]], axis=0)"
   ]
  },
  {
   "cell_type": "code",
   "execution_count": 8,
   "metadata": {
    "ExecuteTime": {
     "end_time": "2019-11-17T23:19:41.393367Z",
     "start_time": "2019-11-17T23:19:41.353382Z"
    }
   },
   "outputs": [],
   "source": [
    "X_train, y_train = train.drop('class', axis=1), train['class']\n",
    "X_test, y_test = test.drop('class', axis=1), test['class']"
   ]
  },
  {
   "cell_type": "markdown",
   "metadata": {},
   "source": [
    "# Supervised Learning"
   ]
  },
  {
   "cell_type": "code",
   "execution_count": 9,
   "metadata": {
    "ExecuteTime": {
     "end_time": "2019-11-17T23:19:42.028179Z",
     "start_time": "2019-11-17T23:19:41.395704Z"
    }
   },
   "outputs": [],
   "source": [
    "# 1(b) i. Supervised Learning\n",
    "\n",
    "# Standardize the data\n",
    "\n",
    "from sklearn.preprocessing import MinMaxScaler\n",
    "mms = MinMaxScaler()\n",
    "X_train = mms.fit_transform(X_train)\n",
    "X_test = mms.transform(X_test)\n",
    "\n",
    "# Label encode the target\n",
    "\n",
    "from sklearn.preprocessing import LabelEncoder\n",
    "lbl = LabelEncoder()\n",
    "y_train = lbl.fit_transform(y_train)\n",
    "y_test = lbl.transform(y_test)"
   ]
  },
  {
   "cell_type": "code",
   "execution_count": 10,
   "metadata": {
    "ExecuteTime": {
     "end_time": "2019-11-17T23:19:42.440644Z",
     "start_time": "2019-11-17T23:19:42.034989Z"
    }
   },
   "outputs": [],
   "source": [
    "# L1-penalized SVM\n",
    "\n",
    "from hyperopt import fmin, tpe, hp, STATUS_OK, Trials\n",
    "from sklearn.svm import SVC\n",
    "from sklearn.model_selection import cross_val_score\n",
    "from sklearn.linear_model import SGDClassifier\n",
    "\n",
    "def bayes_opt():\n",
    "    # Set up space dictionary with specified hyperparameters\n",
    "    space = {'alpha' : hp.loguniform('alpha', -10, 0)}\n",
    "\n",
    "    # Set up objective function\n",
    "    def objective(params):\n",
    "        params = {'alpha' : params['alpha']}\n",
    "        \n",
    "        lin_svc = SGDClassifier(**params, penalty='l1', # Specify L1-penalty\n",
    "                                max_iter=30000,\n",
    "                                learning_rate='optimal', early_stopping=True) # Hinge Loss is used by default\n",
    "        \n",
    "        best_score = cross_val_score(lin_svc, X_train, y_train, cv=5, \n",
    "                                     scoring='accuracy', n_jobs=-1).mean() # 5-fold cv\n",
    "        \n",
    "        loss = 1 - best_score\n",
    "        return loss\n",
    "\n",
    "    # Run the algorithm\n",
    "    best = fmin(fn=objective,\n",
    "                space=space, \n",
    "                max_evals=500, # Control how many evaluations to take\n",
    "                rstate=np.random.RandomState(408),\n",
    "                algo=tpe.suggest)\n",
    "\n",
    "    return best\n",
    "\n",
    "\n",
    "def svc():\n",
    "    best_param = bayes_opt() # Get best parameters from Bayesian Optimization\n",
    "    lin_svc = SGDClassifier(**best_param, penalty='l1', \n",
    "                            max_iter=30000,\n",
    "                            learning_rate='optimal', early_stopping=True)\n",
    "    lin_svc.fit(X_train, y_train)\n",
    "    return best_param, lin_svc.predict(X_train), lin_svc.predict(X_test),\\\n",
    "           lin_svc.decision_function(X_train), lin_svc.decision_function(X_test)"
   ]
  },
  {
   "cell_type": "code",
   "execution_count": 11,
   "metadata": {
    "ExecuteTime": {
     "end_time": "2019-11-17T23:19:57.046520Z",
     "start_time": "2019-11-17T23:19:42.445153Z"
    }
   },
   "outputs": [
    {
     "name": "stdout",
     "output_type": "stream",
     "text": [
      "100%|██████████| 500/500 [00:14<00:00, 34.44it/s, best loss: 0.01975633062589588] \n"
     ]
    },
    {
     "data": {
      "text/plain": [
       "{'alpha': 0.0007988416667574656}"
      ]
     },
     "execution_count": 11,
     "metadata": {},
     "output_type": "execute_result"
    }
   ],
   "source": [
    "best_param, y_pred_train, y_pred_test, y_pred_train_dist, y_pred_test_dist = svc()\n",
    "best_param"
   ]
  },
  {
   "cell_type": "code",
   "execution_count": 12,
   "metadata": {
    "ExecuteTime": {
     "end_time": "2019-11-17T23:19:57.124349Z",
     "start_time": "2019-11-17T23:19:57.049181Z"
    }
   },
   "outputs": [
    {
     "name": "stdout",
     "output_type": "stream",
     "text": [
      "The train accuracy is 0.976.\n",
      "The average train precision, recall, f1-score and AUC are 0.976, 0.976, 0.976 and 0.995 respectively.\n"
     ]
    }
   ],
   "source": [
    "# Metrics for training set\n",
    "\n",
    "from sklearn.metrics import confusion_matrix, roc_auc_score, roc_curve, classification_report\n",
    "\n",
    "train_report = classification_report(y_train, y_pred_train, output_dict=True)\n",
    "train_weighted_avg = train_report['weighted avg']\n",
    "auc_train = roc_auc_score(y_train, y_pred_train_dist)\n",
    "\n",
    "print('The train accuracy is {:.3}.'.format(train_report['accuracy']))\n",
    "print('The average train precision, recall, f1-score and AUC are {:.3}, {:.3}, {:.3} and {:.3} respectively.'.format(\n",
    "       train_weighted_avg['precision'], train_weighted_avg['recall'], train_weighted_avg['f1-score'], auc_train))"
   ]
  },
  {
   "cell_type": "code",
   "execution_count": 13,
   "metadata": {
    "ExecuteTime": {
     "end_time": "2019-11-17T23:19:57.180773Z",
     "start_time": "2019-11-17T23:19:57.126506Z"
    }
   },
   "outputs": [],
   "source": [
    "# ROC curve for training set\n",
    "\n",
    "fpr, tpr, _ = roc_curve(y_train, y_pred_train_dist)\n",
    "\n",
    "roc_curve_train_supervised = pd.DataFrame(np.column_stack([tpr, fpr]),\n",
    "                                          columns=['tpr', 'fpr'])"
   ]
  },
  {
   "cell_type": "code",
   "execution_count": 14,
   "metadata": {
    "ExecuteTime": {
     "end_time": "2019-11-17T23:19:57.531434Z",
     "start_time": "2019-11-17T23:19:57.183437Z"
    }
   },
   "outputs": [],
   "source": [
    "%%R -i roc_curve_train_supervised\n",
    "\n",
    "gg = ggplot(roc_curve_train_supervised, aes(fpr, tpr)) +\n",
    "        geom_line() +\n",
    "        geom_abline(slope=1, intercept=0, linetype='dashed', col='tomato2') +\n",
    "        labs(title='ROC Curve on Train Data (Superivsed)',\n",
    "             x='False Positive Rate',\n",
    "             y='True Positive Rate')\n",
    "\n",
    "png(file='./HW6_image/roc_train_supervised.png', width=500, height=500)\n",
    "gg"
   ]
  },
  {
   "cell_type": "code",
   "execution_count": 15,
   "metadata": {
    "ExecuteTime": {
     "end_time": "2019-11-17T23:19:57.583835Z",
     "start_time": "2019-11-17T23:19:57.533501Z"
    }
   },
   "outputs": [
    {
     "data": {
      "image/png": "[encoded data removed]",
      "text/plain": [
       "<IPython.core.display.Image object>"
      ]
     },
     "execution_count": 15,
     "metadata": {},
     "output_type": "execute_result"
    }
   ],
   "source": [
    "Image('./HW6_image/roc_train_supervised.png')"
   ]
  },
  {
   "cell_type": "code",
   "execution_count": 16,
   "metadata": {
    "ExecuteTime": {
     "end_time": "2019-11-17T23:19:57.643691Z",
     "start_time": "2019-11-17T23:19:57.585946Z"
    }
   },
   "outputs": [
    {
     "name": "stdout",
     "output_type": "stream",
     "text": [
      "The test accuracy is 0.973.\n",
      "The average test precision, recall, f1-score and AUC are 0.973, 0.973, 0.973 and 0.993 respectively.\n"
     ]
    }
   ],
   "source": [
    "# Metrics for testing set\n",
    "\n",
    "test_report = classification_report(y_test, y_pred_test, output_dict=True)\n",
    "test_weighted_avg = test_report['weighted avg']\n",
    "auc_test = roc_auc_score(y_test, y_pred_test_dist)\n",
    "\n",
    "print('The test accuracy is {:.3}.'.format(test_report['accuracy']))\n",
    "print('The average test precision, recall, f1-score and AUC are {:.3}, {:.3}, {:.3} and {:.3} respectively.'.format(\n",
    "       test_weighted_avg['precision'], test_weighted_avg['recall'], test_weighted_avg['f1-score'], auc_test))"
   ]
  },
  {
   "cell_type": "code",
   "execution_count": 17,
   "metadata": {
    "ExecuteTime": {
     "end_time": "2019-11-17T23:19:57.700760Z",
     "start_time": "2019-11-17T23:19:57.646101Z"
    }
   },
   "outputs": [],
   "source": [
    "# ROC curve for testing set\n",
    "\n",
    "fpr, tpr, _ = roc_curve(y_test, y_pred_test_dist)\n",
    "\n",
    "roc_curve_test_supervised = pd.DataFrame(np.column_stack([tpr, fpr]),\n",
    "                                          columns=['tpr', 'fpr'])"
   ]
  },
  {
   "cell_type": "code",
   "execution_count": 18,
   "metadata": {
    "ExecuteTime": {
     "end_time": "2019-11-17T23:19:58.107879Z",
     "start_time": "2019-11-17T23:19:57.703205Z"
    }
   },
   "outputs": [],
   "source": [
    "%%R -i roc_curve_test_supervised\n",
    "\n",
    "gg = ggplot(roc_curve_test_supervised, aes(fpr, tpr)) +\n",
    "        geom_line() +\n",
    "        geom_abline(slope=1, intercept=0, linetype='dashed', col='tomato2') +\n",
    "        labs(title='ROC Curve on Test Data (Superivsed)',\n",
    "             x='False Positive Rate',\n",
    "             y='True Positive Rate')\n",
    "\n",
    "png(file='./HW6_image/roc_test_supervised.png', width=500, height=500)\n",
    "gg"
   ]
  },
  {
   "cell_type": "code",
   "execution_count": 19,
   "metadata": {
    "ExecuteTime": {
     "end_time": "2019-11-17T23:19:58.160266Z",
     "start_time": "2019-11-17T23:19:58.110001Z"
    }
   },
   "outputs": [
    {
     "data": {
      "image/png": "[encoded data removed]",
      "text/plain": [
       "<IPython.core.display.Image object>"
      ]
     },
     "execution_count": 19,
     "metadata": {},
     "output_type": "execute_result"
    }
   ],
   "source": [
    "Image('./HW6_image/roc_test_supervised.png')"
   ]
  },
  {
   "cell_type": "code",
   "execution_count": 20,
   "metadata": {
    "ExecuteTime": {
     "end_time": "2019-11-17T23:19:58.216521Z",
     "start_time": "2019-11-17T23:19:58.162686Z"
    }
   },
   "outputs": [],
   "source": [
    "# Monte-Carlo Simulation for Supervised Learning\n",
    "\n",
    "X = cancer.iloc[:, 1:]\n",
    "y = cancer.iloc[:, 0]"
   ]
  },
  {
   "cell_type": "code",
   "execution_count": 21,
   "metadata": {
    "ExecuteTime": {
     "end_time": "2019-11-17T23:25:02.927843Z",
     "start_time": "2019-11-17T23:19:58.219546Z"
    }
   },
   "outputs": [
    {
     "name": "stdout",
     "output_type": "stream",
     "text": [
      "5 iterations done!\n",
      "10 iterations done!\n",
      "15 iterations done!\n",
      "20 iterations done!\n",
      "25 iterations done!\n",
      "30 iterations done!\n"
     ]
    }
   ],
   "source": [
    "from sklearn.model_selection import train_test_split\n",
    "\n",
    "train_accuracy = []\n",
    "train_precision = []\n",
    "train_recall = []\n",
    "train_f_score = []\n",
    "train_auc = []\n",
    "\n",
    "test_accuracy = []\n",
    "test_precision = []\n",
    "test_recall = []\n",
    "test_f_score = []\n",
    "test_auc = []\n",
    "\n",
    "# Run for 30 rounds\n",
    "for num in range(1, 31):\n",
    "    # Split the data set randomly, in a stratified manner\n",
    "    rand_int = np.random.randint(1e9)\n",
    "    X_train, X_test, y_train, y_test = train_test_split(X, y, test_size=0.20, stratify=y, random_state=rand_int)\n",
    "    \n",
    "    # Transform the data accordingly\n",
    "    mms = MinMaxScaler()\n",
    "    X_train = mms.fit_transform(X_train)\n",
    "    X_test = mms.transform(X_test)\n",
    "    \n",
    "    lbl = LabelEncoder()\n",
    "    y_train = lbl.fit_transform(y_train)\n",
    "    y_test = lbl.transform(y_test)\n",
    "\n",
    "    # Get optimized hyperparameters for each round\n",
    "    def bayes_opt():\n",
    "        # Set up space dictionary with specified hyperparameters\n",
    "        space = {'alpha' : hp.loguniform('alpha', -10, 0)}\n",
    "\n",
    "        # Set up objective function\n",
    "        def objective(params):\n",
    "            params = {'alpha' : params['alpha']}\n",
    "            lin_svc = SGDClassifier(**params, penalty='l1', # Specify L1-penalty\n",
    "                                    max_iter=30000,\n",
    "                                    learning_rate='optimal', early_stopping=True) # Hinge Loss is used by default\n",
    "            best_score = cross_val_score(lin_svc, X_train, y_train, cv=5, \n",
    "                                         scoring='accuracy', n_jobs=-1).mean() # 5-fold cv\n",
    "            loss = 1 - best_score\n",
    "            return loss\n",
    "\n",
    "        # Run the algorithm\n",
    "        best = fmin(fn=objective,\n",
    "                    space=space, \n",
    "                    max_evals=500, # Control how many evaluations to take\n",
    "                    rstate=np.random.RandomState(408),\n",
    "                    algo=tpe.suggest,\n",
    "                    show_progressbar=False) # Suppress progress bar\n",
    "        return best\n",
    "\n",
    "\n",
    "    def svc():\n",
    "        best_param = bayes_opt() # Get best parameters from Bayesian Optimization\n",
    "        lin_svc = SGDClassifier(**best_param, penalty='l1', \n",
    "                                max_iter=30000,\n",
    "                                learning_rate='optimal', early_stopping=True)\n",
    "        lin_svc.fit(X_train, y_train)\n",
    "        return best_param, lin_svc.predict(X_train), lin_svc.predict(X_test),\\\n",
    "               lin_svc.decision_function(X_train), lin_svc.decision_function(X_test)\n",
    "    \n",
    "    # Extract predictions and distance to decision hyperplane for both train and test sets\n",
    "    best_param, y_pred_train, y_pred_test, y_pred_train_dist, y_pred_test_dist = svc()\n",
    "    \n",
    "    # Append the results accordingly\n",
    "    train_report = classification_report(y_train, y_pred_train, output_dict=True)\n",
    "    train_weighted_avg = train_report['weighted avg']\n",
    "    auc_train = roc_auc_score(y_train, y_pred_train_dist)\n",
    "    train_accuracy.append(train_report['accuracy'])\n",
    "    train_precision.append(train_weighted_avg['precision'])\n",
    "    train_recall.append(train_weighted_avg['recall'])\n",
    "    train_f_score.append(train_weighted_avg['f1-score'])\n",
    "    train_auc.append(auc_train)\n",
    "    \n",
    "    test_report = classification_report(y_test, y_pred_test, output_dict=True)\n",
    "    test_weighted_avg = test_report['weighted avg']\n",
    "    auc_test = roc_auc_score(y_test, y_pred_test_dist)\n",
    "    test_accuracy.append(test_report['accuracy'])\n",
    "    test_precision.append(test_weighted_avg['precision'])\n",
    "    test_recall.append(test_weighted_avg['recall'])\n",
    "    test_f_score.append(test_weighted_avg['f1-score'])\n",
    "    test_auc.append(auc_test)\n",
    "    \n",
    "    # Keep track of iterations\n",
    "    if num%5 == 0:\n",
    "        print('{} iterations done!'.format(num))"
   ]
  },
  {
   "cell_type": "code",
   "execution_count": 22,
   "metadata": {
    "ExecuteTime": {
     "end_time": "2019-11-17T23:25:02.990647Z",
     "start_time": "2019-11-17T23:25:02.929849Z"
    }
   },
   "outputs": [
    {
     "name": "stdout",
     "output_type": "stream",
     "text": [
      "The averaged train accuracy, precision, recall, f1-score and AUC are 0.97, 0.971, 0.97, 0.97 and 0.996 respectively. \n",
      "\n",
      "The averaged test accuracy, precision, recall, f1-score and AUC are 0.962, 0.964, 0.962, 0.962 and 0.994 respectively.\n"
     ]
    }
   ],
   "source": [
    "print('The averaged train accuracy, precision, recall, f1-score and AUC are {:.3}, {:.3}, {:.3}, {:.3} and {:.3} respectively. \\n'.format(\n",
    "       np.mean(train_accuracy), np.mean(train_precision), np.mean(train_recall), \n",
    "       np.mean(train_f_score), np.mean(train_auc)))\n",
    "\n",
    "print('The averaged test accuracy, precision, recall, f1-score and AUC are {:.3}, {:.3}, {:.3}, {:.3} and {:.3} respectively.'.format(\n",
    "       np.mean(test_accuracy), np.mean(test_precision), np.mean(test_recall), \n",
    "       np.mean(test_f_score), np.mean(test_auc)))"
   ]
  },
  {
   "cell_type": "markdown",
   "metadata": {},
   "source": [
    "# Semi-supervised Learning"
   ]
  },
  {
   "cell_type": "code",
   "execution_count": 23,
   "metadata": {
    "ExecuteTime": {
     "end_time": "2019-11-17T23:25:03.046250Z",
     "start_time": "2019-11-17T23:25:02.992767Z"
    }
   },
   "outputs": [],
   "source": [
    "train_benign = train.loc[train['class']=='B']\n",
    "train_malignant = train.loc[train['class']=='M']"
   ]
  },
  {
   "cell_type": "code",
   "execution_count": 24,
   "metadata": {
    "ExecuteTime": {
     "end_time": "2019-11-17T23:25:03.109232Z",
     "start_time": "2019-11-17T23:25:03.048999Z"
    }
   },
   "outputs": [],
   "source": [
    "# Split the data accordingly\n",
    "\n",
    "benign_labelled = train_benign.sample(frac=0.5, random_state=408)\n",
    "malignant_labelled = train_malignant.sample(frac=0.5, random_state=408)\n",
    "\n",
    "benign_unlabelled = train_benign.loc[~train_benign.index.isin(benign_labelled.index), :].drop('class', axis=1)\n",
    "malignant_unlabelled = train_malignant.loc[\n",
    "    ~train_malignant.index.isin(malignant_labelled.index), :].drop('class', axis=1)"
   ]
  },
  {
   "cell_type": "code",
   "execution_count": 25,
   "metadata": {
    "ExecuteTime": {
     "end_time": "2019-11-17T23:25:03.173444Z",
     "start_time": "2019-11-17T23:25:03.116823Z"
    }
   },
   "outputs": [],
   "source": [
    "labelled = pd.concat([benign_labelled, malignant_labelled], axis=0)\n",
    "unlabelled = pd.concat([benign_unlabelled, malignant_unlabelled], axis=0)"
   ]
  },
  {
   "cell_type": "code",
   "execution_count": 26,
   "metadata": {
    "ExecuteTime": {
     "end_time": "2019-11-17T23:25:03.240046Z",
     "start_time": "2019-11-17T23:25:03.178799Z"
    }
   },
   "outputs": [],
   "source": [
    "# Preprocess data accordingly\n",
    "\n",
    "X_train, y_train = labelled.drop('class', axis=1), labelled['class']\n",
    "X_test, y_test = test.drop('class', axis=1), test['class']\n",
    "\n",
    "X_train = mms.fit_transform(X_train)\n",
    "X_test = mms.transform(X_test)\n",
    "unlabelled = mms.transform(unlabelled)\n",
    "\n",
    "y_train = lbl.fit_transform(y_train)\n",
    "y_test = lbl.transform(y_test)"
   ]
  },
  {
   "cell_type": "code",
   "execution_count": 27,
   "metadata": {
    "ExecuteTime": {
     "end_time": "2019-11-17T23:25:03.307195Z",
     "start_time": "2019-11-17T23:25:03.242320Z"
    }
   },
   "outputs": [],
   "source": [
    "def bayes_opt():\n",
    "    # Set up space dictionary with specified hyperparameters\n",
    "    space = {'alpha' : hp.loguniform('alpha', -12, 0)}\n",
    "\n",
    "    # Set up objective function\n",
    "    def objective(params):\n",
    "        params = {'alpha' : params['alpha']}\n",
    "        \n",
    "        lin_svc = SGDClassifier(**params, penalty='l1', # Specify L1-penalty\n",
    "                                max_iter=30000,\n",
    "                                learning_rate='optimal', early_stopping=True) # Hinge Loss is used by default\n",
    "        \n",
    "        best_score = cross_val_score(lin_svc, X_train, y_train, cv=5, \n",
    "                                     scoring='accuracy', n_jobs=-1).mean() # 5-fold cv\n",
    "        \n",
    "        loss = 1 - best_score\n",
    "        return loss\n",
    "\n",
    "    # Run the algorithm\n",
    "    best = fmin(fn=objective,\n",
    "                space=space, \n",
    "                max_evals=500, # Control how many evaluations to take\n",
    "                rstate=np.random.RandomState(408),\n",
    "                algo=tpe.suggest)\n",
    "\n",
    "    return best\n",
    "\n",
    "\n",
    "def svc2(X_train, y_train, unlabelled):\n",
    "    \n",
    "    best_param = bayes_opt() # Get best parameters from Bayesian Optimization\n",
    "    lin_svc = SGDClassifier(**best_param, penalty='l1', \n",
    "                            max_iter=30000,\n",
    "                            learning_rate='optimal', early_stopping=True)\n",
    "    \n",
    "    unlabelled_size = unlabelled.shape[0]\n",
    "    \n",
    "    while unlabelled_size > 0: # continue self-training until all the unlabelled data are used\n",
    "        # Re-train the SVM iteratively\n",
    "        lin_svc.fit(X_train, y_train)\n",
    "        \n",
    "        # Get distance to hyperplanes for unlabelled data\n",
    "        hyperplane_dist = lin_svc.decision_function(unlabelled)\n",
    "       \n",
    "        # Get index corresponds to the point that is farthest to the hyperplane\n",
    "        desired_index = np.where(np.abs(hyperplane_dist) == np.max(np.abs(hyperplane_dist)))\n",
    "        \n",
    "        # Assign new y to 1 if the distance to the hyperplane is positive, vice versa\n",
    "        new_X = unlabelled[desired_index]\n",
    "        new_y = np.where(hyperplane_dist[desired_index] >= 0, 1, 0)\n",
    "       \n",
    "        # Append the self-training point to train data\n",
    "        X_train = np.append(X_train, new_X, axis=0)\n",
    "        y_train = np.append(y_train, new_y)\n",
    "        \n",
    "        # Delete the corresponding array from unlabelled data\n",
    "        unlabelled = np.delete(unlabelled, desired_index, axis=0)\n",
    "\n",
    "        unlabelled_size -= 1\n",
    "            \n",
    "    return best_param, lin_svc.predict(X_train), lin_svc.predict(X_test),\\\n",
    "           lin_svc.decision_function(X_train), lin_svc.decision_function(X_test), y_train"
   ]
  },
  {
   "cell_type": "code",
   "execution_count": 28,
   "metadata": {
    "ExecuteTime": {
     "end_time": "2019-11-17T23:25:13.812845Z",
     "start_time": "2019-11-17T23:25:03.309416Z"
    }
   },
   "outputs": [
    {
     "name": "stdout",
     "output_type": "stream",
     "text": [
      "100%|██████████| 500/500 [00:09<00:00, 51.78it/s, best loss: 0.02608695652173909]\n"
     ]
    },
    {
     "data": {
      "text/plain": [
       "{'alpha': 0.0011511417972171832}"
      ]
     },
     "execution_count": 28,
     "metadata": {},
     "output_type": "execute_result"
    }
   ],
   "source": [
    "best_param, y_pred_train, y_pred_test, y_pred_train_dist,\\\n",
    "y_pred_test_dist, new_y_train = svc2(X_train, y_train, unlabelled)\n",
    "\n",
    "best_param"
   ]
  },
  {
   "cell_type": "code",
   "execution_count": 29,
   "metadata": {
    "ExecuteTime": {
     "end_time": "2019-11-17T23:25:13.878413Z",
     "start_time": "2019-11-17T23:25:13.815217Z"
    }
   },
   "outputs": [
    {
     "name": "stdout",
     "output_type": "stream",
     "text": [
      "The train accuracy is 0.98.\n",
      "The average train precision, recall, f1-score and AUC are 0.98, 0.98, 0.98 and 0.999 respectively.\n"
     ]
    }
   ],
   "source": [
    "# Metrics for training set\n",
    "\n",
    "train_report = classification_report(new_y_train, y_pred_train, output_dict=True)\n",
    "train_weighted_avg = train_report['weighted avg']\n",
    "auc_train = roc_auc_score(new_y_train, y_pred_train_dist)\n",
    "\n",
    "print('The train accuracy is {:.3}.'.format(train_report['accuracy']))\n",
    "print('The average train precision, recall, f1-score and AUC are {:.3}, {:.3}, {:.3} and {:.3} respectively.'.format(\n",
    "       train_weighted_avg['precision'], train_weighted_avg['recall'], train_weighted_avg['f1-score'], auc_train))"
   ]
  },
  {
   "cell_type": "code",
   "execution_count": 30,
   "metadata": {
    "ExecuteTime": {
     "end_time": "2019-11-17T23:25:13.932938Z",
     "start_time": "2019-11-17T23:25:13.880715Z"
    }
   },
   "outputs": [],
   "source": [
    "# ROC curve for training set\n",
    "\n",
    "fpr, tpr, _ = roc_curve(new_y_train, y_pred_train_dist)\n",
    "\n",
    "roc_curve_train_semi_supervised = pd.DataFrame(np.column_stack([tpr, fpr]),\n",
    "                                          columns=['tpr', 'fpr'])"
   ]
  },
  {
   "cell_type": "code",
   "execution_count": 31,
   "metadata": {
    "ExecuteTime": {
     "end_time": "2019-11-17T23:25:14.207378Z",
     "start_time": "2019-11-17T23:25:13.935565Z"
    }
   },
   "outputs": [],
   "source": [
    "%%R -i roc_curve_train_semi_supervised\n",
    "\n",
    "gg = ggplot(roc_curve_train_semi_supervised, aes(fpr, tpr)) +\n",
    "        geom_line() +\n",
    "        geom_abline(slope=1, intercept=0, linetype='dashed', col='tomato2') +\n",
    "        labs(title='ROC Curve on Train Data (Semi-superivsed)',\n",
    "             x='False Positive Rate',\n",
    "             y='True Positive Rate')\n",
    "\n",
    "png(file='./HW6_image/roc_train_semi_supervised.png', width=500, height=500)\n",
    "gg"
   ]
  },
  {
   "cell_type": "code",
   "execution_count": 32,
   "metadata": {
    "ExecuteTime": {
     "end_time": "2019-11-17T23:25:14.261388Z",
     "start_time": "2019-11-17T23:25:14.209828Z"
    }
   },
   "outputs": [
    {
     "data": {
      "image/png": "[encoded data removed]",
      "text/plain": [
       "<IPython.core.display.Image object>"
      ]
     },
     "execution_count": 32,
     "metadata": {},
     "output_type": "execute_result"
    }
   ],
   "source": [
    "Image('./HW6_image/roc_train_semi_supervised.png')"
   ]
  },
  {
   "cell_type": "code",
   "execution_count": 33,
   "metadata": {
    "ExecuteTime": {
     "end_time": "2019-11-17T23:25:14.325160Z",
     "start_time": "2019-11-17T23:25:14.263545Z"
    }
   },
   "outputs": [
    {
     "name": "stdout",
     "output_type": "stream",
     "text": [
      "The test accuracy is 0.956.\n",
      "The average test precision, recall, f1-score and AUC are 0.956, 0.956, 0.956 and 0.989 respectively.\n"
     ]
    }
   ],
   "source": [
    "# Metrics for testing set\n",
    "\n",
    "test_report = classification_report(y_test, y_pred_test, output_dict=True)\n",
    "test_weighted_avg = test_report['weighted avg']\n",
    "auc_test = roc_auc_score(y_test, y_pred_test_dist)\n",
    "\n",
    "print('The test accuracy is {:.3}.'.format(test_report['accuracy']))\n",
    "print('The average test precision, recall, f1-score and AUC are {:.3}, {:.3}, {:.3} and {:.3} respectively.'.format(\n",
    "       test_weighted_avg['precision'], test_weighted_avg['recall'], test_weighted_avg['f1-score'], auc_test))"
   ]
  },
  {
   "cell_type": "code",
   "execution_count": 34,
   "metadata": {
    "ExecuteTime": {
     "end_time": "2019-11-17T23:25:14.384964Z",
     "start_time": "2019-11-17T23:25:14.327349Z"
    }
   },
   "outputs": [],
   "source": [
    "# ROC curve for testing set\n",
    "\n",
    "fpr, tpr, _ = roc_curve(y_test, y_pred_test_dist)\n",
    "\n",
    "roc_curve_test_semi_supervised = pd.DataFrame(np.column_stack([tpr, fpr]),\n",
    "                                          columns=['tpr', 'fpr'])"
   ]
  },
  {
   "cell_type": "code",
   "execution_count": 35,
   "metadata": {
    "ExecuteTime": {
     "end_time": "2019-11-17T23:25:14.713315Z",
     "start_time": "2019-11-17T23:25:14.387782Z"
    }
   },
   "outputs": [],
   "source": [
    "%%R -i roc_curve_test_semi_supervised\n",
    "\n",
    "gg = ggplot(roc_curve_test_semi_supervised, aes(fpr, tpr)) +\n",
    "        geom_line() +\n",
    "        geom_abline(slope=1, intercept=0, linetype='dashed', col='tomato2') +\n",
    "        labs(title='ROC Curve on Test Data (Semi-superivsed)',\n",
    "             x='False Positive Rate',\n",
    "             y='True Positive Rate')\n",
    "\n",
    "png(file='./HW6_image/roc_test_semi_supervised.png', width=500, height=500)\n",
    "gg"
   ]
  },
  {
   "cell_type": "code",
   "execution_count": 36,
   "metadata": {
    "ExecuteTime": {
     "end_time": "2019-11-17T23:25:14.771498Z",
     "start_time": "2019-11-17T23:25:14.715570Z"
    }
   },
   "outputs": [
    {
     "data": {
      "image/png": "[encoded data removed]",
      "text/plain": [
       "<IPython.core.display.Image object>"
      ]
     },
     "execution_count": 36,
     "metadata": {},
     "output_type": "execute_result"
    }
   ],
   "source": [
    "Image('./HW6_image/roc_test_semi_supervised.png')"
   ]
  },
  {
   "cell_type": "code",
   "execution_count": 37,
   "metadata": {
    "ExecuteTime": {
     "end_time": "2019-11-17T23:30:16.980706Z",
     "start_time": "2019-11-17T23:25:14.774303Z"
    }
   },
   "outputs": [
    {
     "name": "stdout",
     "output_type": "stream",
     "text": [
      "5 iterations done!\n",
      "10 iterations done!\n",
      "15 iterations done!\n",
      "20 iterations done!\n",
      "25 iterations done!\n",
      "30 iterations done!\n"
     ]
    }
   ],
   "source": [
    "# Monte-Carlo simulation for semi-supervised learning\n",
    "\n",
    "train_accuracy = []\n",
    "train_precision = []\n",
    "train_recall = []\n",
    "train_f_score = []\n",
    "train_auc = []\n",
    "\n",
    "test_accuracy = []\n",
    "test_precision = []\n",
    "test_recall = []\n",
    "test_f_score = []\n",
    "test_auc = []\n",
    "\n",
    "for num in range(1, 31):\n",
    "    # Split the data set randomly, in a stratified manner\n",
    "    rand_int = np.random.randint(1e9)\n",
    "    X_train, X_test, y_train, y_test = train_test_split(X, y, test_size=0.20, \n",
    "                                                        stratify=y, random_state=rand_int)\n",
    "    \n",
    "    # Randomly mask half of the training set\n",
    "    X_train, unlabelled, y_train, _ = train_test_split(X_train, y_train, test_size=0.50, \n",
    "                                                       stratify=y_train, random_state=rand_int)\n",
    "    \n",
    "    # Transform the data accordingly\n",
    "    mms = MinMaxScaler()\n",
    "    X_train = mms.fit_transform(X_train)\n",
    "    X_test = mms.transform(X_test)\n",
    "    unlabelled = mms.transform(unlabelled)\n",
    "\n",
    "    lbl = LabelEncoder()\n",
    "    y_train = lbl.fit_transform(y_train)\n",
    "    y_test = lbl.transform(y_test)\n",
    "\n",
    "    # Get optimized hyperparameters for each round\n",
    "    def bayes_opt():\n",
    "        # Set up space dictionary with specified hyperparameters\n",
    "        space = {'alpha' : hp.loguniform('alpha', -12, 0)}\n",
    "\n",
    "        # Set up objective function\n",
    "        def objective(params):\n",
    "            params = {'alpha' : params['alpha']}\n",
    "\n",
    "            lin_svc = SGDClassifier(**params, penalty='l1', # Specify L1-penalty\n",
    "                                    max_iter=30000,\n",
    "                                    learning_rate='optimal', early_stopping=True) # Hinge Loss is used by default\n",
    "\n",
    "            best_score = cross_val_score(lin_svc, X_train, y_train, cv=5, \n",
    "                                         scoring='accuracy', n_jobs=-1).mean() # 5-fold cv\n",
    "\n",
    "            loss = 1 - best_score\n",
    "            return loss\n",
    "\n",
    "        # Run the algorithm\n",
    "        best = fmin(fn=objective,\n",
    "                    space=space, \n",
    "                    max_evals=500, # Control how many evaluations to take\n",
    "                    rstate=np.random.RandomState(408),\n",
    "                    algo=tpe.suggest,\n",
    "                    show_progressbar=False) # Suppress progress bar\n",
    "\n",
    "        return best\n",
    "\n",
    "    \n",
    "    def svc2(X_train, y_train, unlabelled):\n",
    "\n",
    "        best_param = bayes_opt() # Get best parameters from Bayesian Optimization\n",
    "        lin_svc = SGDClassifier(**best_param, penalty='l1', \n",
    "                                max_iter=30000,\n",
    "                                learning_rate='optimal', early_stopping=True)\n",
    "\n",
    "        unlabelled_size = unlabelled.shape[0]\n",
    "\n",
    "        while unlabelled_size > 0: # continue self-training until all the unlabelled data are used\n",
    "            # Re-train the SVM iteratively\n",
    "            lin_svc.fit(X_train, y_train)\n",
    "\n",
    "            # Get distance to hyperplanes for unlabelled data\n",
    "            hyperplane_dist = lin_svc.decision_function(unlabelled)\n",
    "\n",
    "            # Get index corresponds to the point that is farthest to the hyperplane\n",
    "            desired_index = np.where(np.abs(hyperplane_dist) == np.max(np.abs(hyperplane_dist)))\n",
    "\n",
    "            # Assign new y to 1 if the distance to the hyperplane is positive, vice versa\n",
    "            new_X = unlabelled[desired_index]\n",
    "            new_y = np.where(hyperplane_dist[desired_index] >= 0, 1, 0)\n",
    "\n",
    "            # Append the self-training point to train data\n",
    "            X_train = np.append(X_train, new_X, axis=0)\n",
    "            y_train = np.append(y_train, new_y)\n",
    "\n",
    "            # Delete the corresponding array from unlabelled data\n",
    "            unlabelled = np.delete(unlabelled, desired_index, axis=0)\n",
    "\n",
    "            unlabelled_size -= 1\n",
    "\n",
    "        return best_param, lin_svc.predict(X_train), lin_svc.predict(X_test),\\\n",
    "               lin_svc.decision_function(X_train), lin_svc.decision_function(X_test), y_train\n",
    "\n",
    "    \n",
    "    # Extract predictions and distance to decision hyperplane for both train and test sets\n",
    "    best_param, y_pred_train, y_pred_test, y_pred_train_dist,\\\n",
    "    y_pred_test_dist, new_y_train = svc2(X_train, y_train, unlabelled)\n",
    "    \n",
    "    # Append the results accordingly\n",
    "    train_report = classification_report(new_y_train, y_pred_train, output_dict=True)\n",
    "    train_weighted_avg = train_report['weighted avg']\n",
    "    auc_train = roc_auc_score(new_y_train, y_pred_train_dist)\n",
    "    train_accuracy.append(train_report['accuracy'])\n",
    "    train_precision.append(train_weighted_avg['precision'])\n",
    "    train_recall.append(train_weighted_avg['recall'])\n",
    "    train_f_score.append(train_weighted_avg['f1-score'])\n",
    "    train_auc.append(auc_train)\n",
    "    \n",
    "    test_report = classification_report(y_test, y_pred_test, output_dict=True)\n",
    "    test_weighted_avg = test_report['weighted avg']\n",
    "    auc_test = roc_auc_score(y_test, y_pred_test_dist)\n",
    "    test_accuracy.append(test_report['accuracy'])\n",
    "    test_precision.append(test_weighted_avg['precision'])\n",
    "    test_recall.append(test_weighted_avg['recall'])\n",
    "    test_f_score.append(test_weighted_avg['f1-score'])\n",
    "    test_auc.append(auc_test)\n",
    "    \n",
    "    # Keep track of iterations\n",
    "    if num%5 == 0:\n",
    "        print('{} iterations done!'.format(num))"
   ]
  },
  {
   "cell_type": "code",
   "execution_count": 38,
   "metadata": {
    "ExecuteTime": {
     "end_time": "2019-11-17T23:30:17.041131Z",
     "start_time": "2019-11-17T23:30:16.983073Z"
    }
   },
   "outputs": [
    {
     "name": "stdout",
     "output_type": "stream",
     "text": [
      "The averaged train accuracy, precision, recall, f1-score and AUC are 0.977, 0.978, 0.977, 0.977 and 0.998 respectively. \n",
      "\n",
      "The averaged test accuracy, precision, recall, f1-score and AUC are 0.963, 0.965, 0.963, 0.963 and 0.995 respectively.\n"
     ]
    }
   ],
   "source": [
    "print('The averaged train accuracy, precision, recall, f1-score and AUC are {:.3}, {:.3}, {:.3}, {:.3} and {:.3} respectively. \\n'.format(\n",
    "       np.mean(train_accuracy), np.mean(train_precision), np.mean(train_recall), \n",
    "       np.mean(train_f_score), np.mean(train_auc)))\n",
    "\n",
    "print('The averaged test accuracy, precision, recall, f1-score and AUC are {:.3}, {:.3}, {:.3}, {:.3} and {:.3} respectively.'.format(\n",
    "       np.mean(test_accuracy), np.mean(test_precision), np.mean(test_recall), \n",
    "       np.mean(test_f_score), np.mean(test_auc)))"
   ]
  },
  {
   "cell_type": "markdown",
   "metadata": {},
   "source": [
    "# Unsupervised Learning"
   ]
  },
  {
   "cell_type": "code",
   "execution_count": 112,
   "metadata": {
    "ExecuteTime": {
     "end_time": "2019-11-19T21:56:10.569795Z",
     "start_time": "2019-11-19T21:56:10.510284Z"
    },
    "scrolled": true
   },
   "outputs": [],
   "source": [
    "# Split the data accordingly\n",
    "\n",
    "X_train, X_test, y_train, y_test = train_test_split(X, y, test_size=0.20, \n",
    "                                                    stratify=y, random_state=408)\n",
    "\n",
    "# Preprocess the data accordingly\n",
    "\n",
    "X_train = mms.fit_transform(X_train)\n",
    "X_test = mms.transform(X_test)\n",
    "\n",
    "y_train = lbl.fit_transform(y_train)\n",
    "y_test = lbl.transform(y_test)"
   ]
  },
  {
   "cell_type": "code",
   "execution_count": 113,
   "metadata": {
    "ExecuteTime": {
     "end_time": "2019-11-19T21:56:10.791060Z",
     "start_time": "2019-11-19T21:56:10.572408Z"
    }
   },
   "outputs": [],
   "source": [
    "# K-means clustering\n",
    "\n",
    "from sklearn.cluster import MiniBatchKMeans\n",
    "\n",
    "kmeans = MiniBatchKMeans(n_clusters=2, \n",
    "                         batch_size=50,\n",
    "                         n_init=200,\n",
    "                         random_state=408)\n",
    "cluster_label_train = kmeans.fit_predict(X_train)\n",
    "cluster_label_test = kmeans.predict(X_test)\n",
    "dist_to_center = kmeans.transform(X_train)"
   ]
  },
  {
   "cell_type": "markdown",
   "metadata": {},
   "source": [
    "We can avoid achieving bad local minimum by setting n_init to a higher number, the initialization with the lowest inertia would be used."
   ]
  },
  {
   "cell_type": "code",
   "execution_count": 114,
   "metadata": {
    "ExecuteTime": {
     "end_time": "2019-11-19T21:56:10.854363Z",
     "start_time": "2019-11-19T21:56:10.794261Z"
    }
   },
   "outputs": [],
   "source": [
    "# Extract corresponding indices of the cloest 30 datapoints to each cluster\n",
    "\n",
    "s = list(enumerate(dist_to_center))\n",
    "\n",
    "close_to_0 = sorted(s, key = lambda x: x[1][0])[:30]\n",
    "close_to_1 = sorted(s, key = lambda x: x[1][1])[:30]\n",
    "\n",
    "indices_0 = [x[0] for x in close_to_0]\n",
    "indices_1 = [x[0] for x in close_to_1]"
   ]
  },
  {
   "cell_type": "code",
   "execution_count": 115,
   "metadata": {
    "ExecuteTime": {
     "end_time": "2019-11-19T21:56:10.914523Z",
     "start_time": "2019-11-19T21:56:10.856905Z"
    }
   },
   "outputs": [],
   "source": [
    "# Slice the true labels and label accordingly\n",
    "\n",
    "from statistics import mode\n",
    "\n",
    "mode_0 = mode(y_train[indices_0])\n",
    "mode_1 = mode(y_train[indices_1])\n",
    "\n",
    "cluster_label_train = np.where(cluster_label_train==0, mode_0, mode_1)\n",
    "cluster_label_test = np.where(cluster_label_test==0, mode_0, mode_1)"
   ]
  },
  {
   "cell_type": "code",
   "execution_count": 116,
   "metadata": {
    "ExecuteTime": {
     "end_time": "2019-11-19T21:56:10.977869Z",
     "start_time": "2019-11-19T21:56:10.917121Z"
    }
   },
   "outputs": [
    {
     "name": "stdout",
     "output_type": "stream",
     "text": [
      "The train accuracy is 0.919.\n",
      "The average train precision, recall and f1-score are 0.92, 0.919 and 0.918 respectively.\n"
     ]
    }
   ],
   "source": [
    "# Metrics for training set\n",
    "\n",
    "train_report = classification_report(y_train, cluster_label_train, output_dict=True)\n",
    "train_weighted_avg = train_report['weighted avg']\n",
    "\n",
    "print('The train accuracy is {:.3}.'.format(train_report['accuracy']))\n",
    "print('The average train precision, recall and f1-score are {:.3}, {:.3} and {:.3} respectively.'.format(\n",
    "       train_weighted_avg['precision'], train_weighted_avg['recall'], train_weighted_avg['f1-score']))"
   ]
  },
  {
   "cell_type": "code",
   "execution_count": 117,
   "metadata": {
    "ExecuteTime": {
     "end_time": "2019-11-19T21:56:11.038641Z",
     "start_time": "2019-11-19T21:56:10.980066Z"
    }
   },
   "outputs": [
    {
     "name": "stdout",
     "output_type": "stream",
     "text": [
      "The test accuracy is 0.921.\n",
      "The average test precision, recall and f1-score are 0.921, 0.921 and 0.921 respectively.\n"
     ]
    }
   ],
   "source": [
    "# Metrics for testing set\n",
    "\n",
    "test_report = classification_report(y_test, cluster_label_test, output_dict=True)\n",
    "test_weighted_avg = test_report['weighted avg']\n",
    "\n",
    "print('The test accuracy is {:.3}.'.format(test_report['accuracy']))\n",
    "print('The average test precision, recall and f1-score are {:.3}, {:.3} and {:.3} respectively.'.format(\n",
    "       test_weighted_avg['precision'], test_weighted_avg['recall'], test_weighted_avg['f1-score']))"
   ]
  },
  {
   "cell_type": "code",
   "execution_count": 118,
   "metadata": {
    "ExecuteTime": {
     "end_time": "2019-11-19T21:56:19.908338Z",
     "start_time": "2019-11-19T21:56:11.042422Z"
    }
   },
   "outputs": [],
   "source": [
    "# Monte-Carlo simulation for unsupervised learning\n",
    "\n",
    "train_accuracy = []\n",
    "train_precision = []\n",
    "train_recall = []\n",
    "train_f_score = []\n",
    "\n",
    "test_accuracy = []\n",
    "test_precision = []\n",
    "test_recall = []\n",
    "test_f_score = []\n",
    "\n",
    "for _ in range(30):\n",
    "    \n",
    "    rand_int = np.random.randint(1e9)\n",
    "    X_train, X_test, y_train, y_test = train_test_split(X, y, test_size=0.20, \n",
    "                                                        stratify=y, random_state=rand_int)\n",
    "    X_train = mms.fit_transform(X_train)\n",
    "    X_test = mms.transform(X_test)\n",
    "    y_train = lbl.fit_transform(y_train)\n",
    "    y_test = lbl.transform(y_test)\n",
    "    \n",
    "    kmeans = MiniBatchKMeans(n_clusters=2, \n",
    "                             batch_size=50,\n",
    "                             n_init=200,\n",
    "                             random_state=rand_int)\n",
    "    cluster_label_train = kmeans.fit_predict(X_train)\n",
    "    cluster_label_test = kmeans.predict(X_test)\n",
    "    dist_to_center = kmeans.transform(X_train)\n",
    "    \n",
    "    s = list(enumerate(dist_to_center))\n",
    "    close_to_0 = sorted(s, key = lambda x: x[1][0])[:30]\n",
    "    close_to_1 = sorted(s, key = lambda x: x[1][1])[:30]\n",
    "    indices_0 = [x[0] for x in close_to_0]\n",
    "    indices_1 = [x[0] for x in close_to_1]\n",
    "    mode_0 = mode(y_train[indices_0])\n",
    "    mode_1 = mode(y_train[indices_1])\n",
    "    \n",
    "    cluster_label_train = np.where(cluster_label_train==0, mode_0, mode_1)\n",
    "    cluster_label_test = np.where(cluster_label_test==0, mode_0, mode_1)\n",
    "    \n",
    "    train_report = classification_report(y_train, cluster_label_train, output_dict=True)\n",
    "    train_weighted_avg = train_report['weighted avg']\n",
    "    train_accuracy.append(train_report['accuracy'])\n",
    "    train_precision.append(train_weighted_avg['precision'])\n",
    "    train_recall.append(train_weighted_avg['recall'])\n",
    "    train_f_score.append(train_weighted_avg['f1-score'])\n",
    "    \n",
    "    test_report = classification_report(y_test, cluster_label_test, output_dict=True)\n",
    "    test_weighted_avg = test_report['weighted avg']\n",
    "    test_accuracy.append(test_report['accuracy'])\n",
    "    test_precision.append(test_weighted_avg['precision'])\n",
    "    test_recall.append(test_weighted_avg['recall'])\n",
    "    test_f_score.append(test_weighted_avg['f1-score'])"
   ]
  },
  {
   "cell_type": "code",
   "execution_count": 119,
   "metadata": {
    "ExecuteTime": {
     "end_time": "2019-11-19T21:56:19.967610Z",
     "start_time": "2019-11-19T21:56:19.911025Z"
    }
   },
   "outputs": [
    {
     "name": "stdout",
     "output_type": "stream",
     "text": [
      "The averaged train accuracy, precision, recall and f1-score are 0.93, 0.932, 0.93 and 0.929 respectively. \n",
      "\n",
      "The averaged test accuracy, precision, recall and f1-score are 0.915, 0.918, 0.915 and 0.913 respectively.\n"
     ]
    }
   ],
   "source": [
    "print('The averaged train accuracy, precision, recall and f1-score are {:.3}, {:.3}, {:.3} and {:.3} respectively. \\n'.format(\n",
    "       np.mean(train_accuracy), np.mean(train_precision), np.mean(train_recall), np.mean(train_f_score)))\n",
    "\n",
    "print('The averaged test accuracy, precision, recall and f1-score are {:.3}, {:.3}, {:.3} and {:.3} respectively.'.format(\n",
    "       np.mean(test_accuracy), np.mean(test_precision), np.mean(test_recall), np.mean(test_f_score)))"
   ]
  },
  {
   "cell_type": "markdown",
   "metadata": {},
   "source": [
    "# Spectral Clustering"
   ]
  },
  {
   "cell_type": "code",
   "execution_count": 151,
   "metadata": {
    "ExecuteTime": {
     "end_time": "2019-11-19T22:49:31.858346Z",
     "start_time": "2019-11-19T22:49:31.799795Z"
    }
   },
   "outputs": [],
   "source": [
    "# Split the data accordingly\n",
    "\n",
    "X_train, X_test, y_train, y_test = train_test_split(X, y, test_size=0.20, \n",
    "                                                    stratify=y, random_state=408)\n",
    "\n",
    "# Preprocess the data accordingly\n",
    "\n",
    "X_train = mms.fit_transform(X_train)\n",
    "X_test = mms.transform(X_test)\n",
    "\n",
    "y_train = lbl.fit_transform(y_train)\n",
    "y_test = lbl.transform(y_test)"
   ]
  },
  {
   "cell_type": "code",
   "execution_count": 152,
   "metadata": {
    "ExecuteTime": {
     "end_time": "2019-11-19T22:49:32.481997Z",
     "start_time": "2019-11-19T22:49:31.860598Z"
    }
   },
   "outputs": [],
   "source": [
    "from sklearn.cluster import SpectralClustering\n",
    "\n",
    "spec_clust = SpectralClustering(n_clusters=2,\n",
    "                                n_init=100,\n",
    "                                random_state=408,\n",
    "                                n_jobs=-1)\n",
    "\n",
    "cluster_label_train = spec_clust.fit_predict(X_train)\n",
    "cluster_label_test = spec_clust.fit_predict(X_test)"
   ]
  },
  {
   "cell_type": "code",
   "execution_count": 153,
   "metadata": {
    "ExecuteTime": {
     "end_time": "2019-11-19T22:49:32.550618Z",
     "start_time": "2019-11-19T22:49:32.485107Z"
    }
   },
   "outputs": [],
   "source": [
    "indices_0 = np.where(cluster_label_train==0)\n",
    "indices_1 = np.where(cluster_label_train==1)"
   ]
  },
  {
   "cell_type": "code",
   "execution_count": 154,
   "metadata": {
    "ExecuteTime": {
     "end_time": "2019-11-19T22:49:32.616603Z",
     "start_time": "2019-11-19T22:49:32.554543Z"
    }
   },
   "outputs": [],
   "source": [
    "mode_0 = mode(y_train[indices_0])\n",
    "mode_1 = mode(y_train[indices_1])\n",
    "\n",
    "cluster_label_train = np.where(cluster_label_train==0, mode_0, mode_1)\n",
    "cluster_label_test = np.where(cluster_label_test==0, mode_0, mode_1)"
   ]
  },
  {
   "cell_type": "code",
   "execution_count": 155,
   "metadata": {
    "ExecuteTime": {
     "end_time": "2019-11-19T22:49:32.680423Z",
     "start_time": "2019-11-19T22:49:32.619554Z"
    }
   },
   "outputs": [
    {
     "name": "stdout",
     "output_type": "stream",
     "text": [
      "The train accuracy is 0.877.\n",
      "The average train precision, recall and f1-score are 0.893, 0.877 and 0.871 respectively.\n"
     ]
    }
   ],
   "source": [
    "# Metrics for training set\n",
    "\n",
    "train_report = classification_report(y_train, cluster_label_train, output_dict=True)\n",
    "train_weighted_avg = train_report['weighted avg']\n",
    "\n",
    "print('The train accuracy is {:.3}.'.format(train_report['accuracy']))\n",
    "print('The average train precision, recall and f1-score are {:.3}, {:.3} and {:.3} respectively.'.format(\n",
    "       train_weighted_avg['precision'], train_weighted_avg['recall'], train_weighted_avg['f1-score']))"
   ]
  },
  {
   "cell_type": "code",
   "execution_count": 156,
   "metadata": {
    "ExecuteTime": {
     "end_time": "2019-11-19T22:49:32.746363Z",
     "start_time": "2019-11-19T22:49:32.682748Z"
    }
   },
   "outputs": [
    {
     "name": "stdout",
     "output_type": "stream",
     "text": [
      "The test accuracy is 0.719.\n",
      "The average test precision, recall and f1-score are 0.806, 0.719 and 0.658 respectively.\n"
     ]
    }
   ],
   "source": [
    "# Metrics for testing set\n",
    "\n",
    "test_report = classification_report(y_test, cluster_label_test, output_dict=True)\n",
    "test_weighted_avg = test_report['weighted avg']\n",
    "\n",
    "print('The test accuracy is {:.3}.'.format(test_report['accuracy']))\n",
    "print('The average test precision, recall and f1-score are {:.3}, {:.3} and {:.3} respectively.'.format(\n",
    "       test_weighted_avg['precision'], test_weighted_avg['recall'], test_weighted_avg['f1-score']))"
   ]
  },
  {
   "cell_type": "code",
   "execution_count": 157,
   "metadata": {
    "ExecuteTime": {
     "end_time": "2019-11-19T22:49:45.436810Z",
     "start_time": "2019-11-19T22:49:32.750857Z"
    }
   },
   "outputs": [],
   "source": [
    "# Monte-Carlo simulation for Spectral Clustering\n",
    "\n",
    "train_accuracy = []\n",
    "train_precision = []\n",
    "train_recall = []\n",
    "train_f_score = []\n",
    "\n",
    "test_accuracy = []\n",
    "test_precision = []\n",
    "test_recall = []\n",
    "test_f_score = []\n",
    "\n",
    "for _ in range(30):\n",
    "    \n",
    "    rand_int = np.random.randint(1e9)\n",
    "    X_train, X_test, y_train, y_test = train_test_split(X, y, test_size=0.20, \n",
    "                                                        stratify=y, random_state=rand_int)\n",
    "    X_train = mms.fit_transform(X_train)\n",
    "    X_test = mms.transform(X_test)\n",
    "    y_train = lbl.fit_transform(y_train)\n",
    "    y_test = lbl.transform(y_test)\n",
    "    \n",
    "    spec_clust = SpectralClustering(n_clusters=2,\n",
    "                                n_init=100,\n",
    "                                random_state=rand_int,\n",
    "                                n_jobs=-1)\n",
    "    cluster_label_train = spec_clust.fit_predict(X_train)\n",
    "    cluster_label_test = spec_clust.fit_predict(X_test)\n",
    "    \n",
    "    indices_0 = np.where(cluster_label_train==0)\n",
    "    indices_1 = np.where(cluster_label_train==1)\n",
    "    mode_0 = mode(y_train[indices_0])\n",
    "    mode_1 = mode(y_train[indices_1])\n",
    "    cluster_label_train = np.where(cluster_label_train==0, mode_0, mode_1)\n",
    "    cluster_label_test = np.where(cluster_label_test==0, mode_0, mode_1)\n",
    "    \n",
    "    train_report = classification_report(y_train, cluster_label_train, output_dict=True)\n",
    "    train_weighted_avg = train_report['weighted avg']\n",
    "    train_accuracy.append(train_report['accuracy'])\n",
    "    train_precision.append(train_weighted_avg['precision'])\n",
    "    train_recall.append(train_weighted_avg['recall'])\n",
    "    train_f_score.append(train_weighted_avg['f1-score'])\n",
    "    \n",
    "    test_report = classification_report(y_test, cluster_label_test, output_dict=True)\n",
    "    test_weighted_avg = test_report['weighted avg']\n",
    "    test_accuracy.append(test_report['accuracy'])\n",
    "    test_precision.append(test_weighted_avg['precision'])\n",
    "    test_recall.append(test_weighted_avg['recall'])\n",
    "    test_f_score.append(test_weighted_avg['f1-score'])"
   ]
  },
  {
   "cell_type": "code",
   "execution_count": 158,
   "metadata": {
    "ExecuteTime": {
     "end_time": "2019-11-19T22:49:45.497408Z",
     "start_time": "2019-11-19T22:49:45.439954Z"
    }
   },
   "outputs": [
    {
     "name": "stdout",
     "output_type": "stream",
     "text": [
      "The averaged train accuracy, precision, recall and f1-score are 0.854, 0.878, 0.854 and 0.844 respectively. \n",
      "\n",
      "The averaged test accuracy, precision, recall and f1-score are 0.532, 0.531, 0.532 and 0.495 respectively.\n"
     ]
    }
   ],
   "source": [
    "print('The averaged train accuracy, precision, recall and f1-score are {:.3}, {:.3}, {:.3} and {:.3} respectively. \\n'.format(\n",
    "       np.mean(train_accuracy), np.mean(train_precision), np.mean(train_recall), np.mean(train_f_score)))\n",
    "\n",
    "print('The averaged test accuracy, precision, recall and f1-score are {:.3}, {:.3}, {:.3} and {:.3} respectively.'.format(\n",
    "       np.mean(test_accuracy), np.mean(test_precision), np.mean(test_recall), np.mean(test_f_score)))"
   ]
  },
  {
   "cell_type": "markdown",
   "metadata": {},
   "source": [
    "# Comparison Between 4 Classifiers"
   ]
  },
  {
   "cell_type": "markdown",
   "metadata": {},
   "source": [
    "- It is observed that the *supervised learning on the full data set* **performs similarly** to the *semi-supervised learning with half of the data set labeled*. **Theoretically, the former is supposed to work better than the later one.** However, this could happen by chance because the number of Monte-Carlo Simulations for each classifiers is only performed a relatively small time.\n",
    "\n",
    "- The unsupervised learnings under-performs compared to their supervised learning counterparts, which is expected."
   ]
  }
 ],
 "metadata": {
  "kernelspec": {
   "display_name": "Python 3",
   "language": "python",
   "name": "python3"
  },
  "language_info": {
   "codemirror_mode": {
    "name": "ipython",
    "version": 3
   },
   "file_extension": ".py",
   "mimetype": "text/x-python",
   "name": "python",
   "nbconvert_exporter": "python",
   "pygments_lexer": "ipython3",
   "version": "3.7.4"
  },
  "toc": {
   "base_numbering": 1,
   "nav_menu": {},
   "number_sections": true,
   "sideBar": true,
   "skip_h1_title": false,
   "title_cell": "Table of Contents",
   "title_sidebar": "Contents",
   "toc_cell": false,
   "toc_position": {},
   "toc_section_display": true,
   "toc_window_display": false
  },
  "varInspector": {
   "cols": {
    "lenName": 16,
    "lenType": 16,
    "lenVar": 40
   },
   "kernels_config": {
    "python": {
     "delete_cmd_postfix": "",
     "delete_cmd_prefix": "del ",
     "library": "var_list.py",
     "varRefreshCmd": "print(var_dic_list())"
    },
    "r": {
     "delete_cmd_postfix": ") ",
     "delete_cmd_prefix": "rm(",
     "library": "var_list.r",
     "varRefreshCmd": "cat(var_dic_list()) "
    }
   },
   "types_to_exclude": [
    "module",
    "function",
    "builtin_function_or_method",
    "instance",
    "_Feature"
   ],
   "window_display": false
  }
 },
 "nbformat": 4,
 "nbformat_minor": 2
}
