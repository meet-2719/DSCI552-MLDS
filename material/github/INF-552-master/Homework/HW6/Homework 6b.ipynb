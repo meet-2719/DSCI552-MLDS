{
 "cells": [
  {
   "cell_type": "code",
   "execution_count": 1,
   "metadata": {
    "ExecuteTime": {
     "end_time": "2019-11-20T03:03:06.544387Z",
     "start_time": "2019-11-20T03:03:04.873246Z"
    }
   },
   "outputs": [
    {
     "data": {
      "text/html": [
       "        <script type=\"text/javascript\">\n",
       "        window.PlotlyConfig = {MathJaxConfig: 'local'};\n",
       "        if (window.MathJax) {MathJax.Hub.Config({SVG: {font: \"STIX-Web\"}});}\n",
       "        if (typeof require !== 'undefined') {\n",
       "        require.undef(\"plotly\");\n",
       "        requirejs.config({\n",
       "            paths: {\n",
       "                'plotly': ['https://cdn.plot.ly/plotly-latest.min']\n",
       "            }\n",
       "        });\n",
       "        require(['plotly'], function(Plotly) {\n",
       "            window._Plotly = Plotly;\n",
       "        });\n",
       "        }\n",
       "        </script>\n",
       "        "
      ]
     },
     "metadata": {},
     "output_type": "display_data"
    }
   ],
   "source": [
    "# Data manipulation\n",
    "import pandas as pd\n",
    "import numpy as np\n",
    "\n",
    "# Options for pandas\n",
    "pd.options.display.max_columns = 50\n",
    "pd.options.display.max_rows = 50\n",
    "pd.set_option('display.float_format', lambda x: '{:.3f}'.format(x))\n",
    "\n",
    "# Display all cell outputs\n",
    "from IPython.core.interactiveshell import InteractiveShell\n",
    "InteractiveShell.ast_node_interactivity = 'all'\n",
    "\n",
    "from IPython.display import Image\n",
    "from IPython import get_ipython\n",
    "ipython = get_ipython()\n",
    "\n",
    "# Autoreload extension\n",
    "if 'autoreload' not in ipython.extension_manager.loaded:\n",
    "    %load_ext autoreload\n",
    "\n",
    "%autoreload 2\n",
    "\n",
    "# Ignore exceptions\n",
    "import expectexception\n",
    "\n",
    "import os\n",
    "os.environ['KMP_DUPLICATE_LIB_OK']='True'\n",
    "\n",
    "# Visualizations\n",
    "import chart_studio.plotly as py\n",
    "import plotly.graph_objs as go\n",
    "from plotly.offline import iplot, init_notebook_mode\n",
    "init_notebook_mode(connected=True)\n",
    "\n",
    "import matplotlib.pyplot as plt\n",
    "plt.style.use('ggplot')\n",
    "%matplotlib inline\n",
    "\n",
    "# Activate the automatic conversion for pandas\n",
    "from rpy2.robjects import pandas2ri\n",
    "pandas2ri.activate()\n",
    "\n",
    "# Load the needed extension for the %%R cell magic\n",
    "%load_ext rpy2.ipython\n",
    "\n",
    "# Suppress rpy2 runtime warnings\n",
    "import warnings\n",
    "from rpy2.rinterface import RRuntimeWarning\n",
    "warnings.filterwarnings(\"ignore\", category=RRuntimeWarning)\n",
    "\n",
    "# Load ipywidgets module\n",
    "import ipywidgets as widgets\n",
    "from ipywidgets import interact, interact_manual"
   ]
  },
  {
   "cell_type": "code",
   "execution_count": 110,
   "metadata": {
    "ExecuteTime": {
     "end_time": "2019-11-20T06:17:13.214112Z",
     "start_time": "2019-11-20T06:17:13.149759Z"
    }
   },
   "outputs": [],
   "source": [
    "%%R\n",
    "\n",
    "# Visualization\n",
    "library(ggplot2)\n",
    "library(ggalt)\n",
    "library(ggExtra)\n",
    "library(ggcorrplot)\n",
    "library(ggthemes)\n",
    "library(ggdendro)\n",
    "library(GGally)\n",
    "library(ggrepel)\n",
    "theme_set(theme_light())\n",
    "\n",
    "# Tidyverse library\n",
    "library(scales)\n",
    "library(dplyr)\n",
    "library(tidyr)\n",
    "library(forcats)\n",
    "library(readr)\n",
    "library(purrr)\n",
    "\n",
    "# String manipulations\n",
    "library(tools)\n",
    "library(lubridate)\n",
    "\n",
    "# Machine Learning Related\n",
    "library(car)\n",
    "library(caTools)\n",
    "library(pROC)\n",
    "\n",
    "# Misc\n",
    "library(psych)\n",
    "library(mice)"
   ]
  },
  {
   "cell_type": "code",
   "execution_count": 4,
   "metadata": {
    "ExecuteTime": {
     "end_time": "2019-11-20T03:03:12.455602Z",
     "start_time": "2019-11-20T03:03:12.415113Z"
    }
   },
   "outputs": [],
   "source": [
    "bank = pd.read_csv('../../Homework Data/Homework 6 Data/data_banknote_authentication.csv', header=None)"
   ]
  },
  {
   "cell_type": "code",
   "execution_count": 5,
   "metadata": {
    "ExecuteTime": {
     "end_time": "2019-11-20T03:03:12.495971Z",
     "start_time": "2019-11-20T03:03:12.458464Z"
    }
   },
   "outputs": [],
   "source": [
    "X = bank.drop(4, axis=1)\n",
    "y = bank[4]"
   ]
  },
  {
   "cell_type": "code",
   "execution_count": 6,
   "metadata": {
    "ExecuteTime": {
     "end_time": "2019-11-20T03:03:13.446076Z",
     "start_time": "2019-11-20T03:03:12.498831Z"
    }
   },
   "outputs": [],
   "source": [
    "from hyperopt import fmin, tpe, hp, STATUS_OK, Trials\n",
    "from sklearn.svm import SVC\n",
    "from sklearn.model_selection import cross_val_score\n",
    "from sklearn.linear_model import SGDClassifier\n",
    "\n",
    "def bayes_opt():\n",
    "    # Set up space dictionary with specified hyperparameters\n",
    "    space = {'alpha' : hp.loguniform('alpha', -8, 3)}\n",
    "\n",
    "    # Set up objective function\n",
    "    def objective(params):\n",
    "        params = {'alpha' : params['alpha']}\n",
    "        \n",
    "        lin_svc = SGDClassifier(**params, penalty='l1', # Specify L1-penalty\n",
    "                                max_iter=30000,\n",
    "                                learning_rate='optimal', early_stopping=True) # Hinge Loss is used by default\n",
    "        \n",
    "        best_score = cross_val_score(lin_svc, X_train, y_train, cv=5, \n",
    "                                     scoring='accuracy', n_jobs=-1).mean() # 5-fold cv\n",
    "        \n",
    "        loss = 1 - best_score\n",
    "        return loss\n",
    "\n",
    "    # Run the algorithm\n",
    "    best = fmin(fn=objective,\n",
    "                space=space, \n",
    "                max_evals=100, # Control how many evaluations to take\n",
    "                rstate=np.random.RandomState(408),\n",
    "                algo=tpe.suggest,\n",
    "                show_progressbar=False)\n",
    "\n",
    "    return best\n",
    "\n",
    "\n",
    "def svc():\n",
    "    best_param = bayes_opt() # Get best parameters from Bayesian Optimization\n",
    "    lin_svc = SGDClassifier(**best_param, penalty='l1', \n",
    "                            max_iter=30000,\n",
    "                            learning_rate='optimal', early_stopping=True)\n",
    "    lin_svc.fit(X_train, y_train)\n",
    "    return (1 - lin_svc.score(X_test, y_test)) # Return test error"
   ]
  },
  {
   "cell_type": "code",
   "execution_count": 10,
   "metadata": {
    "ExecuteTime": {
     "end_time": "2019-11-20T03:10:18.629968Z",
     "start_time": "2019-11-20T03:10:18.573694Z"
    }
   },
   "outputs": [],
   "source": [
    "# Specify minimum sample in train data\n",
    "\n",
    "end_indices = list(range(40, 901, 20))\n",
    "test_size = 472/1372"
   ]
  },
  {
   "cell_type": "markdown",
   "metadata": {},
   "source": [
    "Note that 40 instead of 10 samples are selected within the initial training set to prevent from cross-validation error. **It makes no sense to perform 5-fold stratified CV with only 10 samples.**"
   ]
  },
  {
   "cell_type": "markdown",
   "metadata": {},
   "source": [
    "# Passive Learning"
   ]
  },
  {
   "cell_type": "code",
   "execution_count": 12,
   "metadata": {
    "ExecuteTime": {
     "end_time": "2019-11-20T03:54:26.165109Z",
     "start_time": "2019-11-20T03:10:48.157539Z"
    }
   },
   "outputs": [
    {
     "name": "stdout",
     "output_type": "stream",
     "text": [
      "5 iterations done!\n",
      "10 iterations done!\n",
      "15 iterations done!\n",
      "20 iterations done!\n",
      "25 iterations done!\n"
     ]
    }
   ],
   "source": [
    "from sklearn.model_selection import train_test_split\n",
    "\n",
    "big_error_array = []\n",
    "\n",
    "# Perform 25 Monte-Carlo Simulations\n",
    "for num in range(1, 26):\n",
    "    \n",
    "    # Perform train-test split randomly in a stratified manner\n",
    "    rand_int = np.random.randint(1e9)\n",
    "    X_train_whole, X_test, y_train_whole, y_test = train_test_split(X, y, test_size=test_size, \n",
    "                                                                    stratify=y, random_state=rand_int)\n",
    "    error_array = []\n",
    "    \n",
    "    # Get test error for different training sizes\n",
    "    for x in end_indices:\n",
    "        X_train = X_train_whole.iloc[:x]\n",
    "        y_train = y_train_whole.iloc[:x]\n",
    "        error = svc()\n",
    "        error_array.append(error)\n",
    "        \n",
    "    big_error_array.append(error_array)\n",
    "    \n",
    "    # Keep track of iteration status\n",
    "    if num%5 == 0:\n",
    "        print('{} iterations done!'.format(num))"
   ]
  },
  {
   "cell_type": "markdown",
   "metadata": {},
   "source": [
    "Only 25 Simulations are performed for the sake of time."
   ]
  },
  {
   "cell_type": "code",
   "execution_count": 15,
   "metadata": {
    "ExecuteTime": {
     "end_time": "2019-11-20T04:03:30.667289Z",
     "start_time": "2019-11-20T04:03:30.613193Z"
    }
   },
   "outputs": [],
   "source": [
    "big_error_array = np.array(big_error_array)"
   ]
  },
  {
   "cell_type": "code",
   "execution_count": 16,
   "metadata": {
    "ExecuteTime": {
     "end_time": "2019-11-20T04:06:55.976929Z",
     "start_time": "2019-11-20T04:06:55.921044Z"
    }
   },
   "outputs": [],
   "source": [
    "passive_error = np.mean(big_error_array, axis=0)"
   ]
  },
  {
   "cell_type": "markdown",
   "metadata": {},
   "source": [
    "# Active Learning"
   ]
  },
  {
   "cell_type": "code",
   "execution_count": 91,
   "metadata": {
    "ExecuteTime": {
     "end_time": "2019-11-20T05:35:07.609351Z",
     "start_time": "2019-11-20T05:35:07.497306Z"
    }
   },
   "outputs": [],
   "source": [
    "def svc2():\n",
    "    best_param = bayes_opt() # Get best parameters from Bayesian Optimization\n",
    "    lin_svc = SGDClassifier(**best_param, penalty='l1', \n",
    "                            max_iter=30000,\n",
    "                            learning_rate='optimal', early_stopping=True)\n",
    "    lin_svc.fit(X_train, y_train)\n",
    "    # Return test error and distance to hyperplane\n",
    "    return (1 - lin_svc.score(X_test, y_test), lin_svc.decision_function(X_remaining))"
   ]
  },
  {
   "cell_type": "code",
   "execution_count": 92,
   "metadata": {
    "ExecuteTime": {
     "end_time": "2019-11-20T06:05:24.615766Z",
     "start_time": "2019-11-20T05:35:07.612061Z"
    }
   },
   "outputs": [
    {
     "name": "stdout",
     "output_type": "stream",
     "text": [
      "5 iterations done!\n",
      "10 iterations done!\n",
      "15 iterations done!\n",
      "20 iterations done!\n",
      "25 iterations done!\n"
     ]
    }
   ],
   "source": [
    "big_error_array2 = []\n",
    "\n",
    "# Perform 25 Monte-Carlo Simulations\n",
    "for num in range(1, 26):\n",
    "    \n",
    "    # Perform train-test split randomly in a stratified manner\n",
    "    rand_int = np.random.randint(1e9)\n",
    "    X_train_whole, X_test, y_train_whole, y_test = train_test_split(X, y, test_size=test_size, \n",
    "                                                                    stratify=y, random_state=rand_int)\n",
    "    \n",
    "    X_train, X_remaining, y_train, y_remaining = train_test_split(X_train_whole, y_train_whole,\n",
    "                                                                  test_size=860/900, stratify=y_train_whole,\n",
    "                                                                  random_state=408)\n",
    "    # Convert the data to numpy arrays\n",
    "    X_train, X_remaining, y_train, y_remaining = X_train.values, X_remaining.values,\\\n",
    "                                                 y_train.values, y_remaining.values\n",
    "    \n",
    "    error_array = []\n",
    "    \n",
    "    # Get test error for different training size\n",
    "    remaining_size = 860\n",
    "    \n",
    "    while remaining_size > 0:\n",
    "        # retrieve test error and distance to hyperplane\n",
    "        error, hyperplane_dist = svc2()\n",
    "        error_array.append(error)\n",
    "        \n",
    "        # Get the closest 20 points to the hyperplanes and add to train data accordingly\n",
    "        s = list(enumerate(np.abs(hyperplane_dist)))\n",
    "        closest_20_pts = sorted(s, key = lambda x: x[1])[:20]\n",
    "        desired_indices = [x[0] for x in closest_20_pts]\n",
    "        new_X = X_remaining[desired_indices]\n",
    "        new_y = y_remaining[desired_indices]\n",
    "        X_train = np.append(X_train, new_X, axis=0)\n",
    "        y_train = np.append(y_train, new_y)\n",
    "        \n",
    "        # Remove the added points accordingly\n",
    "        X_remaining = np.delete(X_remaining, desired_indices, axis=0)\n",
    "        y_remaining = np.delete(y_remaining, desired_indices)\n",
    "        \n",
    "        remaining_size -= 20\n",
    "    \n",
    "    big_error_array2.append(error_array)\n",
    "    \n",
    "    # Keep track of iteration status\n",
    "    if num%5 == 0:\n",
    "        print('{} iterations done!'.format(num))"
   ]
  },
  {
   "cell_type": "code",
   "execution_count": 93,
   "metadata": {
    "ExecuteTime": {
     "end_time": "2019-11-20T06:05:24.769297Z",
     "start_time": "2019-11-20T06:05:24.618581Z"
    }
   },
   "outputs": [],
   "source": [
    "big_error_array2 = np.array(big_error_array2)"
   ]
  },
  {
   "cell_type": "code",
   "execution_count": 94,
   "metadata": {
    "ExecuteTime": {
     "end_time": "2019-11-20T06:05:24.820469Z",
     "start_time": "2019-11-20T06:05:24.771518Z"
    }
   },
   "outputs": [],
   "source": [
    "active_error = np.mean(big_error_array2, axis=0)"
   ]
  },
  {
   "cell_type": "markdown",
   "metadata": {},
   "source": [
    "# Learning Curve"
   ]
  },
  {
   "cell_type": "code",
   "execution_count": 125,
   "metadata": {
    "ExecuteTime": {
     "end_time": "2019-11-20T06:23:23.703373Z",
     "start_time": "2019-11-20T06:23:23.649230Z"
    }
   },
   "outputs": [],
   "source": [
    "learning_curve = pd.DataFrame(np.column_stack([end_indices[2:], active_error, passive_error[2:]]),\n",
    "                              columns=['sample_size', 'active', 'passive'])"
   ]
  },
  {
   "cell_type": "code",
   "execution_count": 126,
   "metadata": {
    "ExecuteTime": {
     "end_time": "2019-11-20T06:23:24.083027Z",
     "start_time": "2019-11-20T06:23:23.705836Z"
    }
   },
   "outputs": [],
   "source": [
    "%%R -i learning_curve\n",
    "\n",
    "error = ggplot(learning_curve, aes(x=sample_size)) +\n",
    "    geom_line(aes(y=active, col='red'), alpha=0.8) +\n",
    "    geom_line(aes(y=passive, col='blue'), alpha=0.8) +\n",
    "    scale_x_continuous(breaks=seq(100,900,100)) +\n",
    "    labs(title='Active Learning VS Passive Learning',\n",
    "         x='Training Data Size',\n",
    "         y='Error Rate') +\n",
    "    scale_colour_manual(values=c('blue'='blue','red'='red'), \n",
    "                        labels=c('Passive','Active'),\n",
    "                        name=NULL)\n",
    "\n",
    "png(file='./HW6_image/learning_curve.png', width=750, height=500)\n",
    "error"
   ]
  },
  {
   "cell_type": "code",
   "execution_count": 127,
   "metadata": {
    "ExecuteTime": {
     "end_time": "2019-11-20T06:23:24.140498Z",
     "start_time": "2019-11-20T06:23:24.085822Z"
    }
   },
   "outputs": [
    {
     "data": {
      "image/png": "[encoded data removed]",
      "text/plain": [
       "<IPython.core.display.Image object>"
      ]
     },
     "execution_count": 127,
     "metadata": {},
     "output_type": "execute_result"
    }
   ],
   "source": [
    "Image('./HW6_image/learning_curve.png')"
   ]
  },
  {
   "cell_type": "markdown",
   "metadata": {},
   "source": [
    "The following observations can be seen from the graph:\n",
    "- **As training data size increases, the test error decreases on average**.\n",
    "- **Active learning performs better** because highly influential points, the closest points to the hyperplanes (i.e. the likely support vectors) are iteratively selected as training data. Whereas random points are chosen for passive learning.\n",
    "- We can see a **big gap in performance between active learning and passive learning** when training data is relatively small.\n",
    "- The gap reduces as training data increases. We can **expect the same performance** as the training data get asymptotically large. Here, passive learning actually outperforms active learning towards the end.\n"
   ]
  }
 ],
 "metadata": {
  "kernelspec": {
   "display_name": "Python 3",
   "language": "python",
   "name": "python3"
  },
  "language_info": {
   "codemirror_mode": {
    "name": "ipython",
    "version": 3
   },
   "file_extension": ".py",
   "mimetype": "text/x-python",
   "name": "python",
   "nbconvert_exporter": "python",
   "pygments_lexer": "ipython3",
   "version": "3.7.4"
  },
  "toc": {
   "base_numbering": 1,
   "nav_menu": {},
   "number_sections": true,
   "sideBar": true,
   "skip_h1_title": false,
   "title_cell": "Table of Contents",
   "title_sidebar": "Contents",
   "toc_cell": false,
   "toc_position": {},
   "toc_section_display": true,
   "toc_window_display": false
  },
  "varInspector": {
   "cols": {
    "lenName": 16,
    "lenType": 16,
    "lenVar": 40
   },
   "kernels_config": {
    "python": {
     "delete_cmd_postfix": "",
     "delete_cmd_prefix": "del ",
     "library": "var_list.py",
     "varRefreshCmd": "print(var_dic_list())"
    },
    "r": {
     "delete_cmd_postfix": ") ",
     "delete_cmd_prefix": "rm(",
     "library": "var_list.r",
     "varRefreshCmd": "cat(var_dic_list()) "
    }
   },
   "types_to_exclude": [
    "module",
    "function",
    "builtin_function_or_method",
    "instance",
    "_Feature"
   ],
   "window_display": false
  }
 },
 "nbformat": 4,
 "nbformat_minor": 2
}
