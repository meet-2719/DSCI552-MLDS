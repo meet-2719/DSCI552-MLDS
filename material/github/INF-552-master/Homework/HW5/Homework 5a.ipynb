{
 "cells": [
  {
   "cell_type": "code",
   "execution_count": 1,
   "metadata": {
    "ExecuteTime": {
     "end_time": "2019-11-02T23:05:10.378442Z",
     "start_time": "2019-11-02T23:05:08.826727Z"
    }
   },
   "outputs": [
    {
     "data": {
      "text/html": [
       "        <script type=\"text/javascript\">\n",
       "        window.PlotlyConfig = {MathJaxConfig: 'local'};\n",
       "        if (window.MathJax) {MathJax.Hub.Config({SVG: {font: \"STIX-Web\"}});}\n",
       "        if (typeof require !== 'undefined') {\n",
       "        require.undef(\"plotly\");\n",
       "        requirejs.config({\n",
       "            paths: {\n",
       "                'plotly': ['https://cdn.plot.ly/plotly-latest.min']\n",
       "            }\n",
       "        });\n",
       "        require(['plotly'], function(Plotly) {\n",
       "            window._Plotly = Plotly;\n",
       "        });\n",
       "        }\n",
       "        </script>\n",
       "        "
      ]
     },
     "metadata": {},
     "output_type": "display_data"
    }
   ],
   "source": [
    "# Data manipulation\n",
    "import pandas as pd\n",
    "import numpy as np\n",
    "\n",
    "# Options for pandas\n",
    "pd.options.display.max_columns = 50\n",
    "pd.options.display.max_rows = 50\n",
    "pd.set_option('display.float_format', lambda x: '{:.3f}'.format(x))\n",
    "\n",
    "# Display all cell outputs\n",
    "from IPython.core.interactiveshell import InteractiveShell\n",
    "InteractiveShell.ast_node_interactivity = 'all'\n",
    "\n",
    "from IPython.display import Image\n",
    "from IPython import get_ipython\n",
    "ipython = get_ipython()\n",
    "\n",
    "# Autoreload extension\n",
    "if 'autoreload' not in ipython.extension_manager.loaded:\n",
    "    %load_ext autoreload\n",
    "\n",
    "%autoreload 2\n",
    "\n",
    "# Ignore exceptions\n",
    "import expectexception\n",
    "\n",
    "import os\n",
    "os.environ['KMP_DUPLICATE_LIB_OK']='True'\n",
    "\n",
    "# Visualizations\n",
    "import chart_studio.plotly as py\n",
    "import plotly.graph_objs as go\n",
    "from plotly.offline import iplot, init_notebook_mode\n",
    "init_notebook_mode(connected=True)\n",
    "\n",
    "import matplotlib.pyplot as plt\n",
    "plt.style.use('ggplot')\n",
    "%matplotlib inline\n",
    "\n",
    "# Activate the automatic conversion for pandas\n",
    "from rpy2.robjects import pandas2ri\n",
    "pandas2ri.activate()\n",
    "\n",
    "# Load the needed extension for the %%R cell magic\n",
    "%load_ext rpy2.ipython\n",
    "\n",
    "# Suppress rpy2 runtime warnings\n",
    "import warnings\n",
    "from rpy2.rinterface import RRuntimeWarning\n",
    "warnings.filterwarnings(\"ignore\", category=RRuntimeWarning)\n",
    "\n",
    "# Load ipywidgets module\n",
    "import ipywidgets as widgets\n",
    "from ipywidgets import interact, interact_manual"
   ]
  },
  {
   "cell_type": "code",
   "execution_count": 3,
   "metadata": {
    "ExecuteTime": {
     "end_time": "2019-11-02T23:05:32.762411Z",
     "start_time": "2019-11-02T23:05:32.713844Z"
    }
   },
   "outputs": [],
   "source": [
    "%%R\n",
    "\n",
    "# Visualization\n",
    "library(ggplot2)\n",
    "library(ggalt)\n",
    "library(ggExtra)\n",
    "library(ggcorrplot)\n",
    "library(ggthemes)\n",
    "library(ggdendro)\n",
    "library(GGally)\n",
    "library(ggrepel)\n",
    "theme_set(theme_light())\n",
    "\n",
    "# Tidyverse library\n",
    "library(scales)\n",
    "library(dplyr)\n",
    "library(tidyr)\n",
    "library(forcats)\n",
    "library(readr)\n",
    "library(purrr)\n",
    "\n",
    "# String manipulations\n",
    "library(tools)\n",
    "library(lubridate)\n",
    "\n",
    "# Machine Learning Related\n",
    "library(car)\n",
    "library(caTools)\n",
    "library(pROC)\n",
    "\n",
    "# Misc\n",
    "library(psych)\n",
    "library(mice)"
   ]
  },
  {
   "cell_type": "code",
   "execution_count": 4,
   "metadata": {
    "ExecuteTime": {
     "end_time": "2019-11-02T23:05:35.468237Z",
     "start_time": "2019-11-02T23:05:34.778751Z"
    }
   },
   "outputs": [],
   "source": [
    "# 1a. Import data and train test split\n",
    "\n",
    "from sklearn.model_selection import train_test_split\n",
    "from sklearn.preprocessing import LabelEncoder, StandardScaler\n",
    "\n",
    "calls = pd.read_csv('../../Homework Data/Homework 5 Data/Anuran Calls (MFCCs)/Frogs_MFCCs.csv')\n",
    "X = calls.iloc[:, :22]\n",
    "y = calls.iloc[:, 22:25]"
   ]
  },
  {
   "cell_type": "code",
   "execution_count": 5,
   "metadata": {
    "ExecuteTime": {
     "end_time": "2019-11-02T23:05:36.546937Z",
     "start_time": "2019-11-02T23:05:36.496545Z"
    }
   },
   "outputs": [],
   "source": [
    "def split(label):\n",
    "    '''\n",
    "    Create a stratifed train test split according to the specified label\n",
    "    '''\n",
    "    X_train, X_test, y_train, y_test = train_test_split(\n",
    "        X, y, test_size=0.3, random_state=408, stratify=y)\n",
    "    y_train_label = y_train.loc[:, label]\n",
    "    y_test_label = y_test.loc[:, label]\n",
    "    \n",
    "    # Standardize the features\n",
    "    std = StandardScaler()\n",
    "    X_train = std.fit_transform(X_train)\n",
    "    X_test = std.transform(X_test)\n",
    "    \n",
    "    # Label Encode the targets\n",
    "    lbl = LabelEncoder()\n",
    "    y_train_label = lbl.fit_transform(y_train_label)\n",
    "    y_test_label = lbl.transform(y_test_label)\n",
    "    \n",
    "    return X_train, X_test, y_train_label, y_test_label"
   ]
  },
  {
   "cell_type": "code",
   "execution_count": 6,
   "metadata": {
    "ExecuteTime": {
     "end_time": "2019-11-02T23:05:38.503421Z",
     "start_time": "2019-11-02T23:05:38.275606Z"
    }
   },
   "outputs": [],
   "source": [
    "X_train, X_test, y_train_family, y_test_family = split('Family')\n",
    "_, _, y_train_genus, y_test_genus = split('Genus')\n",
    "_, _, y_train_species, y_test_species = split('Species')"
   ]
  },
  {
   "cell_type": "code",
   "execution_count": 7,
   "metadata": {
    "ExecuteTime": {
     "end_time": "2019-11-02T23:05:39.814748Z",
     "start_time": "2019-11-02T23:05:39.767753Z"
    }
   },
   "outputs": [],
   "source": [
    "# 1bi. Exact Match and Hamming Score"
   ]
  },
  {
   "cell_type": "markdown",
   "metadata": {},
   "source": [
    "**Exact Match** requires every label to be classified correctly for a record to be classified correct.\\\n",
    "**Hamming Score** accounts for the fact of partially correctly classified labels."
   ]
  },
  {
   "cell_type": "code",
   "execution_count": 8,
   "metadata": {
    "ExecuteTime": {
     "end_time": "2019-11-02T23:05:42.872485Z",
     "start_time": "2019-11-02T23:05:42.537200Z"
    }
   },
   "outputs": [],
   "source": [
    "# 1bii. SVM\n",
    "\n",
    "# Let's use Bayesian Optimization to search for the best set of C and gamma\n",
    "from hyperopt import fmin, tpe, hp, STATUS_OK, Trials\n",
    "from sklearn.svm import SVC\n",
    "from sklearn.model_selection import cross_val_score\n",
    "\n",
    "\n",
    "def bayes_opt(y_train):\n",
    "    # Set up space dictionary with specified hyperparameters\n",
    "    space = {'C'     : hp.loguniform('C', -4, 3),\n",
    "             'gamma' : hp.loguniform('gamma', -9, 0)}\n",
    "\n",
    "    # Set up objective function\n",
    "    def objective(params):\n",
    "        params = {'C'    : params['C'],\n",
    "                  'gamma': params['gamma']}\n",
    "\n",
    "        svc = SVC(**params) # Dictionary unpacking\n",
    "        best_score = cross_val_score(svc, X_train, y_train, cv=10, \n",
    "                                     scoring='accuracy', n_jobs=-1).mean() # 10-fold cv\n",
    "        loss = 1 - best_score\n",
    "        return loss\n",
    "\n",
    "    # Run the algorithm\n",
    "    best = fmin(fn=objective,\n",
    "                space=space, \n",
    "                max_evals=100, # Control how many evaluations to take\n",
    "                rstate=np.random.RandomState(408),\n",
    "                algo=tpe.suggest)\n",
    "\n",
    "    return best\n",
    "\n",
    "\n",
    "def svc(y_train):\n",
    "    best_param = bayes_opt(y_train) # Get best parameters from Bayesian Optimization\n",
    "    svc = SVC(**best_param) # Dictionary Unpacking\n",
    "    svc.fit(X_train, y_train)\n",
    "    return best_param, svc.predict(X_test) # Get best parameters and predictions"
   ]
  },
  {
   "cell_type": "markdown",
   "metadata": {},
   "source": [
    "**C** controls for the SVM penalty, *larger C tends to overfit.*\\\n",
    "While **gamma** controls for the width of the Gaussian Kernel, *bigger gamma tends to overfit.*"
   ]
  },
  {
   "cell_type": "code",
   "execution_count": 9,
   "metadata": {
    "ExecuteTime": {
     "end_time": "2019-11-02T23:07:42.210196Z",
     "start_time": "2019-11-02T23:06:02.736676Z"
    }
   },
   "outputs": [
    {
     "name": "stdout",
     "output_type": "stream",
     "text": [
      "100%|██████████| 100/100 [01:39<00:00,  1.01it/s, best loss: 0.006351609162889127]\n"
     ]
    },
    {
     "data": {
      "text/plain": [
       "{'C': 6.81837089718689, 'gamma': 0.0549696314164752}"
      ]
     },
     "execution_count": 9,
     "metadata": {},
     "output_type": "execute_result"
    }
   ],
   "source": [
    "family_param, y_pred_family = svc(y_train_family)\n",
    "family_param"
   ]
  },
  {
   "cell_type": "markdown",
   "metadata": {},
   "source": [
    "The above dictionary represents the best parameter set for the **family** label."
   ]
  },
  {
   "cell_type": "code",
   "execution_count": 10,
   "metadata": {
    "ExecuteTime": {
     "end_time": "2019-11-02T23:09:42.743095Z",
     "start_time": "2019-11-02T23:07:42.677839Z"
    }
   },
   "outputs": [
    {
     "name": "stdout",
     "output_type": "stream",
     "text": [
      "100%|██████████| 100/100 [01:59<00:00,  1.20s/it, best loss: 0.00952634711287248]\n"
     ]
    },
    {
     "data": {
      "text/plain": [
       "{'C': 4.01055152682592, 'gamma': 0.062134977013934}"
      ]
     },
     "execution_count": 10,
     "metadata": {},
     "output_type": "execute_result"
    }
   ],
   "source": [
    "genus_param, y_pred_genus = svc(y_train_genus)\n",
    "genus_param"
   ]
  },
  {
   "cell_type": "markdown",
   "metadata": {},
   "source": [
    "The above dictionary represents the best parameter set for the **genus** label."
   ]
  },
  {
   "cell_type": "code",
   "execution_count": 11,
   "metadata": {
    "ExecuteTime": {
     "end_time": "2019-11-02T23:11:37.942393Z",
     "start_time": "2019-11-02T23:09:43.221287Z"
    }
   },
   "outputs": [
    {
     "name": "stdout",
     "output_type": "stream",
     "text": [
      "100%|██████████| 100/100 [01:54<00:00,  1.14s/it, best loss: 0.00952280161576291]\n"
     ]
    },
    {
     "data": {
      "text/plain": [
       "{'C': 4.696022937441232, 'gamma': 0.04838100736907537}"
      ]
     },
     "execution_count": 11,
     "metadata": {},
     "output_type": "execute_result"
    }
   ],
   "source": [
    "species_param, y_pred_species = svc(y_train_species)\n",
    "species_param"
   ]
  },
  {
   "cell_type": "markdown",
   "metadata": {},
   "source": [
    "The above dictionary represents the best parameter set for the **species** label."
   ]
  },
  {
   "cell_type": "code",
   "execution_count": 43,
   "metadata": {
    "ExecuteTime": {
     "end_time": "2019-11-02T23:42:12.775997Z",
     "start_time": "2019-11-02T23:42:12.721490Z"
    }
   },
   "outputs": [],
   "source": [
    "# Get Exact match accuracy and Hamming score\n",
    "\n",
    "y_test = np.column_stack((y_test_family, y_test_genus, y_test_species))\n",
    "y_pred = np.column_stack((y_pred_family, y_pred_genus, y_pred_species))"
   ]
  },
  {
   "cell_type": "code",
   "execution_count": 44,
   "metadata": {
    "ExecuteTime": {
     "end_time": "2019-11-02T23:42:14.472981Z",
     "start_time": "2019-11-02T23:42:14.417753Z"
    }
   },
   "outputs": [],
   "source": [
    "def accuracy_score(y_test, y_pred):\n",
    "    return np.sum(np.all(np.equal(y_test, y_pred), axis=1)) / y_test.shape[0]\n",
    "\n",
    "def hamming_score(y_test, y_pred):\n",
    "    return np.mean((np.sum((np.equal(y_test, y_pred)), axis=1) / y_test.shape[1]))"
   ]
  },
  {
   "cell_type": "code",
   "execution_count": 45,
   "metadata": {
    "ExecuteTime": {
     "end_time": "2019-11-02T23:42:35.361906Z",
     "start_time": "2019-11-02T23:42:35.301898Z"
    }
   },
   "outputs": [
    {
     "data": {
      "text/plain": [
       "0.984251968503937"
      ]
     },
     "execution_count": 45,
     "metadata": {},
     "output_type": "execute_result"
    },
    {
     "data": {
      "text/plain": [
       "0.9895013123359578"
      ]
     },
     "execution_count": 45,
     "metadata": {},
     "output_type": "execute_result"
    }
   ],
   "source": [
    "accuracy_score(y_test, y_pred)\n",
    "hamming_score(y_test, y_pred)"
   ]
  },
  {
   "cell_type": "markdown",
   "metadata": {},
   "source": [
    "The accuracy score (exact match) is 0.984 and the Hamming score is 0.990. **This is quite impressive!**"
   ]
  },
  {
   "cell_type": "code",
   "execution_count": 71,
   "metadata": {
    "ExecuteTime": {
     "end_time": "2019-11-03T00:34:47.836561Z",
     "start_time": "2019-11-03T00:34:47.777648Z"
    }
   },
   "outputs": [],
   "source": [
    "# 1biii. L1-penalized Linear SVM\n",
    "\n",
    "from sklearn.linear_model import SGDClassifier # Much more efficient than LinearSVC,\n",
    "                                               # requires less memory, allows incremental (online) learning\n",
    "    \n",
    "def bayes_opt2(y_train):\n",
    "    # Set up space dictionary with specified hyperparameters\n",
    "    space = {'alpha' : hp.loguniform('alpha', -10, 3)}\n",
    "\n",
    "    # Set up objective function\n",
    "    def objective(params):\n",
    "        params = {'alpha' : params['alpha']}\n",
    "\n",
    "        lin_svc = SGDClassifier(**params, penalty='l1', # Specify L1-penalty\n",
    "                                max_iter=30000,\n",
    "                                learning_rate='optimal', early_stopping=True) # Hinge Loss is used by default\n",
    "        best_score = cross_val_score(lin_svc, X_train, y_train, cv=10, \n",
    "                                     scoring='accuracy', n_jobs=-1).mean() # 10-fold cv\n",
    "        loss = 1 - best_score\n",
    "        return loss\n",
    "\n",
    "    # Run the algorithm\n",
    "    best = fmin(fn=objective,\n",
    "                space=space, \n",
    "                max_evals=200, # Control how many evaluations to take\n",
    "                rstate=np.random.RandomState(408),\n",
    "                algo=tpe.suggest)\n",
    "\n",
    "    return best\n",
    "\n",
    "\n",
    "def svc2(y_train):\n",
    "    best_param = bayes_opt2(y_train) # Get best parameters from Bayesian Optimization\n",
    "    lin_svc = SGDClassifier(**best_param, penalty='l1', \n",
    "                            max_iter=30000,\n",
    "                            learning_rate='optimal', early_stopping=True)\n",
    "    lin_svc.fit(X_train, y_train)\n",
    "    return best_param, lin_svc.predict(X_test) # Get best parameters and predictions"
   ]
  },
  {
   "cell_type": "code",
   "execution_count": 72,
   "metadata": {
    "ExecuteTime": {
     "end_time": "2019-11-03T00:35:21.956619Z",
     "start_time": "2019-11-03T00:34:50.822855Z"
    }
   },
   "outputs": [
    {
     "name": "stdout",
     "output_type": "stream",
     "text": [
      "100%|██████████| 200/200 [00:31<00:00,  6.45it/s, best loss: 0.06036949220218868]\n"
     ]
    },
    {
     "data": {
      "text/plain": [
       "{'alpha': 0.0004162382758552744}"
      ]
     },
     "execution_count": 72,
     "metadata": {},
     "output_type": "execute_result"
    }
   ],
   "source": [
    "family_param, y_pred_family = svc2(y_train_family)\n",
    "family_param"
   ]
  },
  {
   "cell_type": "markdown",
   "metadata": {
    "ExecuteTime": {
     "end_time": "2019-11-03T00:29:56.359411Z",
     "start_time": "2019-11-03T00:16:28.803Z"
    }
   },
   "source": [
    "The above dictionary represents the best parameter set for the **family** label."
   ]
  },
  {
   "cell_type": "code",
   "execution_count": 73,
   "metadata": {
    "ExecuteTime": {
     "end_time": "2019-11-03T00:36:19.966207Z",
     "start_time": "2019-11-03T00:35:24.894377Z"
    }
   },
   "outputs": [
    {
     "name": "stdout",
     "output_type": "stream",
     "text": [
      "100%|██████████| 200/200 [00:54<00:00,  3.64it/s, best loss: 0.051631442547194206]\n"
     ]
    },
    {
     "data": {
      "text/plain": [
       "{'alpha': 7.985691909245828e-05}"
      ]
     },
     "execution_count": 73,
     "metadata": {},
     "output_type": "execute_result"
    }
   ],
   "source": [
    "genus_param, y_pred_genus = svc2(y_train_genus)\n",
    "genus_param"
   ]
  },
  {
   "cell_type": "markdown",
   "metadata": {},
   "source": [
    "The above dictionary represents the best parameter set for the **genus** label."
   ]
  },
  {
   "cell_type": "code",
   "execution_count": 74,
   "metadata": {
    "ExecuteTime": {
     "end_time": "2019-11-03T00:37:25.020651Z",
     "start_time": "2019-11-03T00:36:20.436230Z"
    }
   },
   "outputs": [
    {
     "name": "stdout",
     "output_type": "stream",
     "text": [
      "100%|██████████| 200/200 [01:04<00:00,  3.10it/s, best loss: 0.03990385640192218]\n"
     ]
    },
    {
     "data": {
      "text/plain": [
       "{'alpha': 0.00015048561935824306}"
      ]
     },
     "execution_count": 74,
     "metadata": {},
     "output_type": "execute_result"
    }
   ],
   "source": [
    "species_param, y_pred_species = svc2(y_train_species)\n",
    "species_param"
   ]
  },
  {
   "cell_type": "markdown",
   "metadata": {},
   "source": [
    "The above dictionary represents the best parameter set for the **species** label."
   ]
  },
  {
   "cell_type": "code",
   "execution_count": 75,
   "metadata": {
    "ExecuteTime": {
     "end_time": "2019-11-03T00:38:17.967720Z",
     "start_time": "2019-11-03T00:38:17.912127Z"
    }
   },
   "outputs": [],
   "source": [
    "# Get Exact match accuracy and Hamming score\n",
    "\n",
    "y_test = np.column_stack((y_test_family, y_test_genus, y_test_species))\n",
    "y_pred = np.column_stack((y_pred_family, y_pred_genus, y_pred_species))"
   ]
  },
  {
   "cell_type": "code",
   "execution_count": 76,
   "metadata": {
    "ExecuteTime": {
     "end_time": "2019-11-03T00:38:19.960319Z",
     "start_time": "2019-11-03T00:38:19.902148Z"
    }
   },
   "outputs": [
    {
     "data": {
      "text/plain": [
       "0.8994905048633627"
      ]
     },
     "execution_count": 76,
     "metadata": {},
     "output_type": "execute_result"
    },
    {
     "data": {
      "text/plain": [
       "0.9413308630538829"
      ]
     },
     "execution_count": 76,
     "metadata": {},
     "output_type": "execute_result"
    }
   ],
   "source": [
    "accuracy_score(y_test, y_pred)\n",
    "hamming_score(y_test, y_pred)"
   ]
  },
  {
   "cell_type": "markdown",
   "metadata": {},
   "source": [
    "The accuracy score (exact match) is 0.900 and the Hamming score is 0.941.\\\n",
    "The **performace is worse** than the SVM with Guassian kernel."
   ]
  },
  {
   "cell_type": "code",
   "execution_count": 89,
   "metadata": {
    "ExecuteTime": {
     "end_time": "2019-11-03T00:59:56.482195Z",
     "start_time": "2019-11-03T00:59:56.419269Z"
    }
   },
   "outputs": [],
   "source": [
    "# 1biv. L1-penalized Linear SVM with resampling\n",
    "    \n",
    "def bayes_opt3(X_train, y_train):\n",
    "    # Set up space dictionary with specified hyperparameters\n",
    "    space = {'alpha' : hp.loguniform('alpha', -12, -4)}\n",
    "\n",
    "    # Set up objective function\n",
    "    def objective(params):\n",
    "        params = {'alpha' : params['alpha']}\n",
    "\n",
    "        lin_svc = SGDClassifier(**params, penalty='l1', # Specify L1-penalty\n",
    "                                max_iter=30000,\n",
    "                                learning_rate='optimal', early_stopping=True) # Hinge Loss is used by default\n",
    "        best_score = cross_val_score(lin_svc, X_train, y_train, cv=10, \n",
    "                                     scoring='accuracy', n_jobs=-1).mean() # 10-fold cv\n",
    "        loss = 1 - best_score\n",
    "        return loss\n",
    "\n",
    "    # Run the algorithm\n",
    "    best = fmin(fn=objective,\n",
    "                space=space, \n",
    "                max_evals=150, # Control how many evaluations to take\n",
    "                rstate=np.random.RandomState(408),\n",
    "                algo=tpe.suggest)\n",
    "\n",
    "    return best\n",
    "\n",
    "\n",
    "def svc3(X_train, y_train):\n",
    "    best_param = bayes_opt3(X_train, y_train) # Get best parameters from Bayesian Optimization\n",
    "    lin_svc = SGDClassifier(**best_param, penalty='l1', \n",
    "                            max_iter=30000,\n",
    "                            learning_rate='optimal', early_stopping=True)\n",
    "    lin_svc.fit(X_train, y_train)\n",
    "    return best_param, lin_svc.predict(X_test) # Get best parameters and predictions"
   ]
  },
  {
   "cell_type": "code",
   "execution_count": 90,
   "metadata": {
    "ExecuteTime": {
     "end_time": "2019-11-03T00:59:59.224794Z",
     "start_time": "2019-11-03T00:59:58.745229Z"
    }
   },
   "outputs": [],
   "source": [
    "from imblearn.over_sampling import SMOTE\n",
    "\n",
    "sm = SMOTE(random_state=408)\n",
    "X_train_family_res, y_train_family_res = sm.fit_resample(X_train, y_train_family)\n",
    "X_train_genus_res, y_train_genus_res = sm.fit_resample(X_train, y_train_genus)\n",
    "X_train_species_res, y_train_species_res = sm.fit_resample(X_train, y_train_species)"
   ]
  },
  {
   "cell_type": "code",
   "execution_count": 91,
   "metadata": {
    "ExecuteTime": {
     "end_time": "2019-11-03T01:00:49.679512Z",
     "start_time": "2019-11-03T01:00:02.086289Z"
    }
   },
   "outputs": [
    {
     "name": "stdout",
     "output_type": "stream",
     "text": [
      "100%|██████████| 150/150 [00:47<00:00,  3.16it/s, best loss: 0.05341684935797064]\n"
     ]
    },
    {
     "data": {
      "text/plain": [
       "{'alpha': 1.0587163720405958e-05}"
      ]
     },
     "execution_count": 91,
     "metadata": {},
     "output_type": "execute_result"
    }
   ],
   "source": [
    "family_param, y_pred_family = svc3(X_train_family_res, y_train_family_res)\n",
    "family_param"
   ]
  },
  {
   "cell_type": "markdown",
   "metadata": {
    "ExecuteTime": {
     "end_time": "2019-11-03T00:29:56.359411Z",
     "start_time": "2019-11-03T00:16:28.803Z"
    }
   },
   "source": [
    "The above dictionary represents the best parameter set for the **family** label."
   ]
  },
  {
   "cell_type": "code",
   "execution_count": 92,
   "metadata": {
    "ExecuteTime": {
     "end_time": "2019-11-03T01:03:35.391771Z",
     "start_time": "2019-11-03T01:00:50.173888Z"
    }
   },
   "outputs": [
    {
     "name": "stdout",
     "output_type": "stream",
     "text": [
      "100%|██████████| 150/150 [02:44<00:00,  1.10s/it, best loss: 0.05043992179168144]\n"
     ]
    },
    {
     "data": {
      "text/plain": [
       "{'alpha': 6.3404696329266766e-06}"
      ]
     },
     "execution_count": 92,
     "metadata": {},
     "output_type": "execute_result"
    }
   ],
   "source": [
    "genus_param, y_pred_genus = svc3(X_train_genus_res, y_train_genus_res)\n",
    "genus_param"
   ]
  },
  {
   "cell_type": "markdown",
   "metadata": {},
   "source": [
    "The above dictionary represents the best parameter set for the **genus** label."
   ]
  },
  {
   "cell_type": "code",
   "execution_count": 93,
   "metadata": {
    "ExecuteTime": {
     "end_time": "2019-11-03T01:07:12.979013Z",
     "start_time": "2019-11-03T01:03:35.878892Z"
    }
   },
   "outputs": [
    {
     "name": "stdout",
     "output_type": "stream",
     "text": [
      "100%|██████████| 150/150 [03:36<00:00,  1.44s/it, best loss: 0.044074748701342537]\n"
     ]
    },
    {
     "data": {
      "text/plain": [
       "{'alpha': 0.0003350144587853562}"
      ]
     },
     "execution_count": 93,
     "metadata": {},
     "output_type": "execute_result"
    }
   ],
   "source": [
    "species_param, y_pred_species = svc3(X_train_species_res, y_train_species_res)\n",
    "species_param"
   ]
  },
  {
   "cell_type": "markdown",
   "metadata": {},
   "source": [
    "The above dictionary represents the best parameter set for the **species** label."
   ]
  },
  {
   "cell_type": "code",
   "execution_count": 94,
   "metadata": {
    "ExecuteTime": {
     "end_time": "2019-11-03T01:08:16.336724Z",
     "start_time": "2019-11-03T01:08:16.270985Z"
    }
   },
   "outputs": [],
   "source": [
    "# Get Exact match accuracy and Hamming score\n",
    "\n",
    "y_test = np.column_stack((y_test_family, y_test_genus, y_test_species))\n",
    "y_pred = np.column_stack((y_pred_family, y_pred_genus, y_pred_species))"
   ]
  },
  {
   "cell_type": "code",
   "execution_count": 95,
   "metadata": {
    "ExecuteTime": {
     "end_time": "2019-11-03T01:08:18.333967Z",
     "start_time": "2019-11-03T01:08:18.274209Z"
    }
   },
   "outputs": [
    {
     "data": {
      "text/plain": [
       "0.8462251042149143"
      ]
     },
     "execution_count": 95,
     "metadata": {},
     "output_type": "execute_result"
    },
    {
     "data": {
      "text/plain": [
       "0.9223405897792187"
      ]
     },
     "execution_count": 95,
     "metadata": {},
     "output_type": "execute_result"
    }
   ],
   "source": [
    "accuracy_score(y_test, y_pred)\n",
    "hamming_score(y_test, y_pred)"
   ]
  },
  {
   "cell_type": "markdown",
   "metadata": {},
   "source": [
    "The accuracy score (exact match) is 0.846 and the Hamming score is 0.922.\\\n",
    "The **performace is even worse** than the original dataset without applying SMOTE."
   ]
  },
  {
   "cell_type": "markdown",
   "metadata": {},
   "source": [
    "Refer to Homework 5b for the next part!"
   ]
  }
 ],
 "metadata": {
  "kernelspec": {
   "display_name": "Python 3",
   "language": "python",
   "name": "python3"
  },
  "language_info": {
   "codemirror_mode": {
    "name": "ipython",
    "version": 3
   },
   "file_extension": ".py",
   "mimetype": "text/x-python",
   "name": "python",
   "nbconvert_exporter": "python",
   "pygments_lexer": "ipython3",
   "version": "3.7.4"
  },
  "toc": {
   "base_numbering": 1,
   "nav_menu": {},
   "number_sections": true,
   "sideBar": true,
   "skip_h1_title": false,
   "title_cell": "Table of Contents",
   "title_sidebar": "Contents",
   "toc_cell": false,
   "toc_position": {},
   "toc_section_display": true,
   "toc_window_display": false
  },
  "varInspector": {
   "cols": {
    "lenName": 16,
    "lenType": 16,
    "lenVar": 40
   },
   "kernels_config": {
    "python": {
     "delete_cmd_postfix": "",
     "delete_cmd_prefix": "del ",
     "library": "var_list.py",
     "varRefreshCmd": "print(var_dic_list())"
    },
    "r": {
     "delete_cmd_postfix": ") ",
     "delete_cmd_prefix": "rm(",
     "library": "var_list.r",
     "varRefreshCmd": "cat(var_dic_list()) "
    }
   },
   "types_to_exclude": [
    "module",
    "function",
    "builtin_function_or_method",
    "instance",
    "_Feature"
   ],
   "window_display": false
  }
 },
 "nbformat": 4,
 "nbformat_minor": 2
}
